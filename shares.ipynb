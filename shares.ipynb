{
 "cells": [
  {
   "cell_type": "code",
   "execution_count": 1,
   "metadata": {},
   "outputs": [],
   "source": [
    "import requests as req\n",
    "from bs4 import BeautifulSoup\n",
    "import traceback\n",
    "import re "
   ]
  },
  {
   "cell_type": "code",
   "execution_count": null,
   "metadata": {},
   "outputs": [
    {
     "name": "stderr",
     "output_type": "stream",
     "text": [
      "Traceback (most recent call last):\n",
      "  File \"<ipython-input-2-5ed5d1f021a8>\", line 34, in getStockInfo\n",
      "    name = stockInfo.find_all(attrs={'class':'bets-name'})[0]\n",
      "AttributeError: 'NoneType' object has no attribute 'find_all'\n",
      "Traceback (most recent call last):\n",
      "  File \"<ipython-input-2-5ed5d1f021a8>\", line 34, in getStockInfo\n",
      "    name = stockInfo.find_all(attrs={'class':'bets-name'})[0]\n",
      "AttributeError: 'NoneType' object has no attribute 'find_all'\n",
      "Traceback (most recent call last):\n",
      "  File \"<ipython-input-2-5ed5d1f021a8>\", line 34, in getStockInfo\n",
      "    name = stockInfo.find_all(attrs={'class':'bets-name'})[0]\n",
      "AttributeError: 'NoneType' object has no attribute 'find_all'\n",
      "Traceback (most recent call last):\n",
      "  File \"<ipython-input-2-5ed5d1f021a8>\", line 34, in getStockInfo\n",
      "    name = stockInfo.find_all(attrs={'class':'bets-name'})[0]\n",
      "AttributeError: 'NoneType' object has no attribute 'find_all'\n",
      "Traceback (most recent call last):\n",
      "  File \"<ipython-input-2-5ed5d1f021a8>\", line 34, in getStockInfo\n",
      "    name = stockInfo.find_all(attrs={'class':'bets-name'})[0]\n",
      "AttributeError: 'NoneType' object has no attribute 'find_all'\n"
     ]
    },
    {
     "name": "stdout",
     "output_type": "stream",
     "text": [
      "\n"
     ]
    },
    {
     "name": "stderr",
     "output_type": "stream",
     "text": [
      "Traceback (most recent call last):\n",
      "  File \"<ipython-input-2-5ed5d1f021a8>\", line 31, in getStockInfo\n",
      "    soup = BeautifulSoup(html,'html.parser')\n",
      "  File \"C:\\anaconda\\lib\\site-packages\\bs4\\__init__.py\", line 245, in __init__\n",
      "    elif len(markup) <= 256 and (\n",
      "TypeError: object of type 'NoneType' has no len()\n",
      "Traceback (most recent call last):\n",
      "  File \"<ipython-input-2-5ed5d1f021a8>\", line 34, in getStockInfo\n",
      "    name = stockInfo.find_all(attrs={'class':'bets-name'})[0]\n",
      "AttributeError: 'NoneType' object has no attribute 'find_all'\n",
      "Traceback (most recent call last):\n",
      "  File \"<ipython-input-2-5ed5d1f021a8>\", line 34, in getStockInfo\n",
      "    name = stockInfo.find_all(attrs={'class':'bets-name'})[0]\n",
      "AttributeError: 'NoneType' object has no attribute 'find_all'\n",
      "Traceback (most recent call last):\n",
      "  File \"<ipython-input-2-5ed5d1f021a8>\", line 34, in getStockInfo\n",
      "    name = stockInfo.find_all(attrs={'class':'bets-name'})[0]\n",
      "AttributeError: 'NoneType' object has no attribute 'find_all'\n",
      "Traceback (most recent call last):\n",
      "  File \"<ipython-input-2-5ed5d1f021a8>\", line 34, in getStockInfo\n",
      "    name = stockInfo.find_all(attrs={'class':'bets-name'})[0]\n",
      "AttributeError: 'NoneType' object has no attribute 'find_all'\n"
     ]
    },
    {
     "name": "stdout",
     "output_type": "stream",
     "text": [
      "\n"
     ]
    },
    {
     "name": "stderr",
     "output_type": "stream",
     "text": [
      "Traceback (most recent call last):\n",
      "  File \"<ipython-input-2-5ed5d1f021a8>\", line 31, in getStockInfo\n",
      "    soup = BeautifulSoup(html,'html.parser')\n",
      "  File \"C:\\anaconda\\lib\\site-packages\\bs4\\__init__.py\", line 245, in __init__\n",
      "    elif len(markup) <= 256 and (\n",
      "TypeError: object of type 'NoneType' has no len()\n",
      "Traceback (most recent call last):\n",
      "  File \"<ipython-input-2-5ed5d1f021a8>\", line 34, in getStockInfo\n",
      "    name = stockInfo.find_all(attrs={'class':'bets-name'})[0]\n",
      "AttributeError: 'NoneType' object has no attribute 'find_all'\n",
      "Traceback (most recent call last):\n",
      "  File \"<ipython-input-2-5ed5d1f021a8>\", line 34, in getStockInfo\n",
      "    name = stockInfo.find_all(attrs={'class':'bets-name'})[0]\n",
      "AttributeError: 'NoneType' object has no attribute 'find_all'\n",
      "Traceback (most recent call last):\n",
      "  File \"<ipython-input-2-5ed5d1f021a8>\", line 34, in getStockInfo\n",
      "    name = stockInfo.find_all(attrs={'class':'bets-name'})[0]\n",
      "AttributeError: 'NoneType' object has no attribute 'find_all'\n"
     ]
    },
    {
     "name": "stdout",
     "output_type": "stream",
     "text": [
      "\n"
     ]
    },
    {
     "name": "stderr",
     "output_type": "stream",
     "text": [
      "Traceback (most recent call last):\n",
      "  File \"<ipython-input-2-5ed5d1f021a8>\", line 31, in getStockInfo\n",
      "    soup = BeautifulSoup(html,'html.parser')\n",
      "  File \"C:\\anaconda\\lib\\site-packages\\bs4\\__init__.py\", line 245, in __init__\n",
      "    elif len(markup) <= 256 and (\n",
      "TypeError: object of type 'NoneType' has no len()\n",
      "Traceback (most recent call last):\n",
      "  File \"<ipython-input-2-5ed5d1f021a8>\", line 34, in getStockInfo\n",
      "    name = stockInfo.find_all(attrs={'class':'bets-name'})[0]\n",
      "AttributeError: 'NoneType' object has no attribute 'find_all'\n",
      "Traceback (most recent call last):\n",
      "  File \"<ipython-input-2-5ed5d1f021a8>\", line 34, in getStockInfo\n",
      "    name = stockInfo.find_all(attrs={'class':'bets-name'})[0]\n",
      "AttributeError: 'NoneType' object has no attribute 'find_all'\n",
      "Traceback (most recent call last):\n",
      "  File \"<ipython-input-2-5ed5d1f021a8>\", line 34, in getStockInfo\n",
      "    name = stockInfo.find_all(attrs={'class':'bets-name'})[0]\n",
      "AttributeError: 'NoneType' object has no attribute 'find_all'\n"
     ]
    },
    {
     "name": "stdout",
     "output_type": "stream",
     "text": [
      "\n"
     ]
    },
    {
     "name": "stderr",
     "output_type": "stream",
     "text": [
      "Traceback (most recent call last):\n",
      "  File \"<ipython-input-2-5ed5d1f021a8>\", line 31, in getStockInfo\n",
      "    soup = BeautifulSoup(html,'html.parser')\n",
      "  File \"C:\\anaconda\\lib\\site-packages\\bs4\\__init__.py\", line 245, in __init__\n",
      "    elif len(markup) <= 256 and (\n",
      "TypeError: object of type 'NoneType' has no len()\n"
     ]
    },
    {
     "name": "stdout",
     "output_type": "stream",
     "text": [
      "\n"
     ]
    },
    {
     "name": "stderr",
     "output_type": "stream",
     "text": [
      "Traceback (most recent call last):\n",
      "  File \"<ipython-input-2-5ed5d1f021a8>\", line 31, in getStockInfo\n",
      "    soup = BeautifulSoup(html,'html.parser')\n",
      "  File \"C:\\anaconda\\lib\\site-packages\\bs4\\__init__.py\", line 245, in __init__\n",
      "    elif len(markup) <= 256 and (\n",
      "TypeError: object of type 'NoneType' has no len()\n"
     ]
    },
    {
     "name": "stdout",
     "output_type": "stream",
     "text": [
      "\n"
     ]
    },
    {
     "name": "stderr",
     "output_type": "stream",
     "text": [
      "Traceback (most recent call last):\n",
      "  File \"<ipython-input-2-5ed5d1f021a8>\", line 31, in getStockInfo\n",
      "    soup = BeautifulSoup(html,'html.parser')\n",
      "  File \"C:\\anaconda\\lib\\site-packages\\bs4\\__init__.py\", line 245, in __init__\n",
      "    elif len(markup) <= 256 and (\n",
      "TypeError: object of type 'NoneType' has no len()\n"
     ]
    },
    {
     "name": "stdout",
     "output_type": "stream",
     "text": [
      "\n"
     ]
    },
    {
     "name": "stderr",
     "output_type": "stream",
     "text": [
      "Traceback (most recent call last):\n",
      "  File \"<ipython-input-2-5ed5d1f021a8>\", line 31, in getStockInfo\n",
      "    soup = BeautifulSoup(html,'html.parser')\n",
      "  File \"C:\\anaconda\\lib\\site-packages\\bs4\\__init__.py\", line 245, in __init__\n",
      "    elif len(markup) <= 256 and (\n",
      "TypeError: object of type 'NoneType' has no len()\n"
     ]
    },
    {
     "name": "stdout",
     "output_type": "stream",
     "text": [
      "\n"
     ]
    },
    {
     "name": "stderr",
     "output_type": "stream",
     "text": [
      "Traceback (most recent call last):\n",
      "  File \"<ipython-input-2-5ed5d1f021a8>\", line 31, in getStockInfo\n",
      "    soup = BeautifulSoup(html,'html.parser')\n",
      "  File \"C:\\anaconda\\lib\\site-packages\\bs4\\__init__.py\", line 245, in __init__\n",
      "    elif len(markup) <= 256 and (\n",
      "TypeError: object of type 'NoneType' has no len()\n",
      "Traceback (most recent call last):\n",
      "  File \"<ipython-input-2-5ed5d1f021a8>\", line 34, in getStockInfo\n",
      "    name = stockInfo.find_all(attrs={'class':'bets-name'})[0]\n",
      "AttributeError: 'NoneType' object has no attribute 'find_all'\n"
     ]
    },
    {
     "name": "stdout",
     "output_type": "stream",
     "text": [
      "\n"
     ]
    },
    {
     "name": "stderr",
     "output_type": "stream",
     "text": [
      "Traceback (most recent call last):\n",
      "  File \"<ipython-input-2-5ed5d1f021a8>\", line 31, in getStockInfo\n",
      "    soup = BeautifulSoup(html,'html.parser')\n",
      "  File \"C:\\anaconda\\lib\\site-packages\\bs4\\__init__.py\", line 245, in __init__\n",
      "    elif len(markup) <= 256 and (\n",
      "TypeError: object of type 'NoneType' has no len()\n",
      "Traceback (most recent call last):\n",
      "  File \"<ipython-input-2-5ed5d1f021a8>\", line 34, in getStockInfo\n",
      "    name = stockInfo.find_all(attrs={'class':'bets-name'})[0]\n",
      "AttributeError: 'NoneType' object has no attribute 'find_all'\n"
     ]
    },
    {
     "name": "stdout",
     "output_type": "stream",
     "text": [
      "\n"
     ]
    },
    {
     "name": "stderr",
     "output_type": "stream",
     "text": [
      "Traceback (most recent call last):\n",
      "  File \"<ipython-input-2-5ed5d1f021a8>\", line 31, in getStockInfo\n",
      "    soup = BeautifulSoup(html,'html.parser')\n",
      "  File \"C:\\anaconda\\lib\\site-packages\\bs4\\__init__.py\", line 245, in __init__\n",
      "    elif len(markup) <= 256 and (\n",
      "TypeError: object of type 'NoneType' has no len()\n"
     ]
    },
    {
     "name": "stdout",
     "output_type": "stream",
     "text": [
      "\n"
     ]
    },
    {
     "name": "stderr",
     "output_type": "stream",
     "text": [
      "Traceback (most recent call last):\n",
      "  File \"<ipython-input-2-5ed5d1f021a8>\", line 31, in getStockInfo\n",
      "    soup = BeautifulSoup(html,'html.parser')\n",
      "  File \"C:\\anaconda\\lib\\site-packages\\bs4\\__init__.py\", line 245, in __init__\n",
      "    elif len(markup) <= 256 and (\n",
      "TypeError: object of type 'NoneType' has no len()\n"
     ]
    },
    {
     "name": "stdout",
     "output_type": "stream",
     "text": [
      "\n"
     ]
    },
    {
     "name": "stderr",
     "output_type": "stream",
     "text": [
      "Traceback (most recent call last):\n",
      "  File \"<ipython-input-2-5ed5d1f021a8>\", line 31, in getStockInfo\n",
      "    soup = BeautifulSoup(html,'html.parser')\n",
      "  File \"C:\\anaconda\\lib\\site-packages\\bs4\\__init__.py\", line 245, in __init__\n",
      "    elif len(markup) <= 256 and (\n",
      "TypeError: object of type 'NoneType' has no len()\n"
     ]
    },
    {
     "name": "stdout",
     "output_type": "stream",
     "text": [
      "\n"
     ]
    },
    {
     "name": "stderr",
     "output_type": "stream",
     "text": [
      "Traceback (most recent call last):\n",
      "  File \"<ipython-input-2-5ed5d1f021a8>\", line 31, in getStockInfo\n",
      "    soup = BeautifulSoup(html,'html.parser')\n",
      "  File \"C:\\anaconda\\lib\\site-packages\\bs4\\__init__.py\", line 245, in __init__\n",
      "    elif len(markup) <= 256 and (\n",
      "TypeError: object of type 'NoneType' has no len()\n"
     ]
    },
    {
     "name": "stdout",
     "output_type": "stream",
     "text": [
      "\n"
     ]
    },
    {
     "name": "stderr",
     "output_type": "stream",
     "text": [
      "Traceback (most recent call last):\n",
      "  File \"<ipython-input-2-5ed5d1f021a8>\", line 31, in getStockInfo\n",
      "    soup = BeautifulSoup(html,'html.parser')\n",
      "  File \"C:\\anaconda\\lib\\site-packages\\bs4\\__init__.py\", line 245, in __init__\n",
      "    elif len(markup) <= 256 and (\n",
      "TypeError: object of type 'NoneType' has no len()\n"
     ]
    },
    {
     "name": "stdout",
     "output_type": "stream",
     "text": [
      "\n"
     ]
    },
    {
     "name": "stderr",
     "output_type": "stream",
     "text": [
      "Traceback (most recent call last):\n",
      "  File \"<ipython-input-2-5ed5d1f021a8>\", line 31, in getStockInfo\n",
      "    soup = BeautifulSoup(html,'html.parser')\n",
      "  File \"C:\\anaconda\\lib\\site-packages\\bs4\\__init__.py\", line 245, in __init__\n",
      "    elif len(markup) <= 256 and (\n",
      "TypeError: object of type 'NoneType' has no len()\n"
     ]
    },
    {
     "name": "stdout",
     "output_type": "stream",
     "text": [
      "\n"
     ]
    },
    {
     "name": "stderr",
     "output_type": "stream",
     "text": [
      "Traceback (most recent call last):\n",
      "  File \"<ipython-input-2-5ed5d1f021a8>\", line 31, in getStockInfo\n",
      "    soup = BeautifulSoup(html,'html.parser')\n",
      "  File \"C:\\anaconda\\lib\\site-packages\\bs4\\__init__.py\", line 245, in __init__\n",
      "    elif len(markup) <= 256 and (\n",
      "TypeError: object of type 'NoneType' has no len()\n"
     ]
    },
    {
     "name": "stdout",
     "output_type": "stream",
     "text": [
      "\n"
     ]
    },
    {
     "name": "stderr",
     "output_type": "stream",
     "text": [
      "Traceback (most recent call last):\n",
      "  File \"<ipython-input-2-5ed5d1f021a8>\", line 31, in getStockInfo\n",
      "    soup = BeautifulSoup(html,'html.parser')\n",
      "  File \"C:\\anaconda\\lib\\site-packages\\bs4\\__init__.py\", line 245, in __init__\n",
      "    elif len(markup) <= 256 and (\n",
      "TypeError: object of type 'NoneType' has no len()\n"
     ]
    },
    {
     "name": "stdout",
     "output_type": "stream",
     "text": [
      "\n"
     ]
    },
    {
     "name": "stderr",
     "output_type": "stream",
     "text": [
      "Traceback (most recent call last):\n",
      "  File \"<ipython-input-2-5ed5d1f021a8>\", line 31, in getStockInfo\n",
      "    soup = BeautifulSoup(html,'html.parser')\n",
      "  File \"C:\\anaconda\\lib\\site-packages\\bs4\\__init__.py\", line 245, in __init__\n",
      "    elif len(markup) <= 256 and (\n",
      "TypeError: object of type 'NoneType' has no len()\n"
     ]
    },
    {
     "name": "stdout",
     "output_type": "stream",
     "text": [
      "\n"
     ]
    },
    {
     "name": "stderr",
     "output_type": "stream",
     "text": [
      "Traceback (most recent call last):\n",
      "  File \"<ipython-input-2-5ed5d1f021a8>\", line 31, in getStockInfo\n",
      "    soup = BeautifulSoup(html,'html.parser')\n",
      "  File \"C:\\anaconda\\lib\\site-packages\\bs4\\__init__.py\", line 245, in __init__\n",
      "    elif len(markup) <= 256 and (\n",
      "TypeError: object of type 'NoneType' has no len()\n"
     ]
    },
    {
     "name": "stdout",
     "output_type": "stream",
     "text": [
      "\n"
     ]
    },
    {
     "name": "stderr",
     "output_type": "stream",
     "text": [
      "Traceback (most recent call last):\n",
      "  File \"<ipython-input-2-5ed5d1f021a8>\", line 31, in getStockInfo\n",
      "    soup = BeautifulSoup(html,'html.parser')\n",
      "  File \"C:\\anaconda\\lib\\site-packages\\bs4\\__init__.py\", line 245, in __init__\n",
      "    elif len(markup) <= 256 and (\n",
      "TypeError: object of type 'NoneType' has no len()\n",
      "Traceback (most recent call last):\n",
      "  File \"<ipython-input-2-5ed5d1f021a8>\", line 34, in getStockInfo\n",
      "    name = stockInfo.find_all(attrs={'class':'bets-name'})[0]\n",
      "AttributeError: 'NoneType' object has no attribute 'find_all'\n"
     ]
    },
    {
     "name": "stdout",
     "output_type": "stream",
     "text": [
      "\n"
     ]
    },
    {
     "name": "stderr",
     "output_type": "stream",
     "text": [
      "Traceback (most recent call last):\n",
      "  File \"<ipython-input-2-5ed5d1f021a8>\", line 31, in getStockInfo\n",
      "    soup = BeautifulSoup(html,'html.parser')\n",
      "  File \"C:\\anaconda\\lib\\site-packages\\bs4\\__init__.py\", line 245, in __init__\n",
      "    elif len(markup) <= 256 and (\n",
      "TypeError: object of type 'NoneType' has no len()\n"
     ]
    },
    {
     "name": "stdout",
     "output_type": "stream",
     "text": [
      "\n"
     ]
    },
    {
     "name": "stderr",
     "output_type": "stream",
     "text": [
      "Traceback (most recent call last):\n",
      "  File \"<ipython-input-2-5ed5d1f021a8>\", line 31, in getStockInfo\n",
      "    soup = BeautifulSoup(html,'html.parser')\n",
      "  File \"C:\\anaconda\\lib\\site-packages\\bs4\\__init__.py\", line 245, in __init__\n",
      "    elif len(markup) <= 256 and (\n",
      "TypeError: object of type 'NoneType' has no len()\n"
     ]
    },
    {
     "name": "stdout",
     "output_type": "stream",
     "text": [
      "\n"
     ]
    },
    {
     "name": "stderr",
     "output_type": "stream",
     "text": [
      "Traceback (most recent call last):\n",
      "  File \"<ipython-input-2-5ed5d1f021a8>\", line 31, in getStockInfo\n",
      "    soup = BeautifulSoup(html,'html.parser')\n",
      "  File \"C:\\anaconda\\lib\\site-packages\\bs4\\__init__.py\", line 245, in __init__\n",
      "    elif len(markup) <= 256 and (\n",
      "TypeError: object of type 'NoneType' has no len()\n"
     ]
    },
    {
     "name": "stdout",
     "output_type": "stream",
     "text": [
      "\n"
     ]
    },
    {
     "name": "stderr",
     "output_type": "stream",
     "text": [
      "Traceback (most recent call last):\n",
      "  File \"<ipython-input-2-5ed5d1f021a8>\", line 31, in getStockInfo\n",
      "    soup = BeautifulSoup(html,'html.parser')\n",
      "  File \"C:\\anaconda\\lib\\site-packages\\bs4\\__init__.py\", line 245, in __init__\n",
      "    elif len(markup) <= 256 and (\n",
      "TypeError: object of type 'NoneType' has no len()\n"
     ]
    },
    {
     "name": "stdout",
     "output_type": "stream",
     "text": [
      "\n"
     ]
    },
    {
     "name": "stderr",
     "output_type": "stream",
     "text": [
      "Traceback (most recent call last):\n",
      "  File \"<ipython-input-2-5ed5d1f021a8>\", line 31, in getStockInfo\n",
      "    soup = BeautifulSoup(html,'html.parser')\n",
      "  File \"C:\\anaconda\\lib\\site-packages\\bs4\\__init__.py\", line 245, in __init__\n",
      "    elif len(markup) <= 256 and (\n",
      "TypeError: object of type 'NoneType' has no len()\n"
     ]
    },
    {
     "name": "stdout",
     "output_type": "stream",
     "text": [
      "\n"
     ]
    },
    {
     "name": "stderr",
     "output_type": "stream",
     "text": [
      "Traceback (most recent call last):\n",
      "  File \"<ipython-input-2-5ed5d1f021a8>\", line 31, in getStockInfo\n",
      "    soup = BeautifulSoup(html,'html.parser')\n",
      "  File \"C:\\anaconda\\lib\\site-packages\\bs4\\__init__.py\", line 245, in __init__\n",
      "    elif len(markup) <= 256 and (\n",
      "TypeError: object of type 'NoneType' has no len()\n",
      "Traceback (most recent call last):\n",
      "  File \"<ipython-input-2-5ed5d1f021a8>\", line 34, in getStockInfo\n",
      "    name = stockInfo.find_all(attrs={'class':'bets-name'})[0]\n",
      "AttributeError: 'NoneType' object has no attribute 'find_all'\n"
     ]
    },
    {
     "name": "stdout",
     "output_type": "stream",
     "text": [
      "\n"
     ]
    },
    {
     "name": "stderr",
     "output_type": "stream",
     "text": [
      "Traceback (most recent call last):\n",
      "  File \"<ipython-input-2-5ed5d1f021a8>\", line 31, in getStockInfo\n",
      "    soup = BeautifulSoup(html,'html.parser')\n",
      "  File \"C:\\anaconda\\lib\\site-packages\\bs4\\__init__.py\", line 245, in __init__\n",
      "    elif len(markup) <= 256 and (\n",
      "TypeError: object of type 'NoneType' has no len()\n"
     ]
    },
    {
     "name": "stdout",
     "output_type": "stream",
     "text": [
      "\n"
     ]
    },
    {
     "name": "stderr",
     "output_type": "stream",
     "text": [
      "Traceback (most recent call last):\n",
      "  File \"<ipython-input-2-5ed5d1f021a8>\", line 31, in getStockInfo\n",
      "    soup = BeautifulSoup(html,'html.parser')\n",
      "  File \"C:\\anaconda\\lib\\site-packages\\bs4\\__init__.py\", line 245, in __init__\n",
      "    elif len(markup) <= 256 and (\n",
      "TypeError: object of type 'NoneType' has no len()\n"
     ]
    },
    {
     "name": "stdout",
     "output_type": "stream",
     "text": [
      "\n"
     ]
    },
    {
     "name": "stderr",
     "output_type": "stream",
     "text": [
      "Traceback (most recent call last):\n",
      "  File \"<ipython-input-2-5ed5d1f021a8>\", line 31, in getStockInfo\n",
      "    soup = BeautifulSoup(html,'html.parser')\n",
      "  File \"C:\\anaconda\\lib\\site-packages\\bs4\\__init__.py\", line 245, in __init__\n",
      "    elif len(markup) <= 256 and (\n",
      "TypeError: object of type 'NoneType' has no len()\n"
     ]
    },
    {
     "name": "stdout",
     "output_type": "stream",
     "text": [
      "\n"
     ]
    },
    {
     "name": "stderr",
     "output_type": "stream",
     "text": [
      "Traceback (most recent call last):\n",
      "  File \"<ipython-input-2-5ed5d1f021a8>\", line 31, in getStockInfo\n",
      "    soup = BeautifulSoup(html,'html.parser')\n",
      "  File \"C:\\anaconda\\lib\\site-packages\\bs4\\__init__.py\", line 245, in __init__\n",
      "    elif len(markup) <= 256 and (\n",
      "TypeError: object of type 'NoneType' has no len()\n"
     ]
    },
    {
     "name": "stdout",
     "output_type": "stream",
     "text": [
      "\n"
     ]
    },
    {
     "name": "stderr",
     "output_type": "stream",
     "text": [
      "Traceback (most recent call last):\n",
      "  File \"<ipython-input-2-5ed5d1f021a8>\", line 31, in getStockInfo\n",
      "    soup = BeautifulSoup(html,'html.parser')\n",
      "  File \"C:\\anaconda\\lib\\site-packages\\bs4\\__init__.py\", line 245, in __init__\n",
      "    elif len(markup) <= 256 and (\n",
      "TypeError: object of type 'NoneType' has no len()\n"
     ]
    },
    {
     "name": "stdout",
     "output_type": "stream",
     "text": [
      "\n"
     ]
    },
    {
     "name": "stderr",
     "output_type": "stream",
     "text": [
      "Traceback (most recent call last):\n",
      "  File \"<ipython-input-2-5ed5d1f021a8>\", line 31, in getStockInfo\n",
      "    soup = BeautifulSoup(html,'html.parser')\n",
      "  File \"C:\\anaconda\\lib\\site-packages\\bs4\\__init__.py\", line 245, in __init__\n",
      "    elif len(markup) <= 256 and (\n",
      "TypeError: object of type 'NoneType' has no len()\n"
     ]
    },
    {
     "name": "stdout",
     "output_type": "stream",
     "text": [
      "\n"
     ]
    },
    {
     "name": "stderr",
     "output_type": "stream",
     "text": [
      "Traceback (most recent call last):\n",
      "  File \"<ipython-input-2-5ed5d1f021a8>\", line 31, in getStockInfo\n",
      "    soup = BeautifulSoup(html,'html.parser')\n",
      "  File \"C:\\anaconda\\lib\\site-packages\\bs4\\__init__.py\", line 245, in __init__\n",
      "    elif len(markup) <= 256 and (\n",
      "TypeError: object of type 'NoneType' has no len()\n"
     ]
    },
    {
     "name": "stdout",
     "output_type": "stream",
     "text": [
      "\n"
     ]
    },
    {
     "name": "stderr",
     "output_type": "stream",
     "text": [
      "Traceback (most recent call last):\n",
      "  File \"<ipython-input-2-5ed5d1f021a8>\", line 31, in getStockInfo\n",
      "    soup = BeautifulSoup(html,'html.parser')\n",
      "  File \"C:\\anaconda\\lib\\site-packages\\bs4\\__init__.py\", line 245, in __init__\n",
      "    elif len(markup) <= 256 and (\n",
      "TypeError: object of type 'NoneType' has no len()\n"
     ]
    },
    {
     "name": "stdout",
     "output_type": "stream",
     "text": [
      "\n"
     ]
    },
    {
     "name": "stderr",
     "output_type": "stream",
     "text": [
      "Traceback (most recent call last):\n",
      "  File \"<ipython-input-2-5ed5d1f021a8>\", line 31, in getStockInfo\n",
      "    soup = BeautifulSoup(html,'html.parser')\n",
      "  File \"C:\\anaconda\\lib\\site-packages\\bs4\\__init__.py\", line 245, in __init__\n",
      "    elif len(markup) <= 256 and (\n",
      "TypeError: object of type 'NoneType' has no len()\n"
     ]
    },
    {
     "name": "stdout",
     "output_type": "stream",
     "text": [
      "\n"
     ]
    },
    {
     "name": "stderr",
     "output_type": "stream",
     "text": [
      "Traceback (most recent call last):\n",
      "  File \"<ipython-input-2-5ed5d1f021a8>\", line 31, in getStockInfo\n",
      "    soup = BeautifulSoup(html,'html.parser')\n",
      "  File \"C:\\anaconda\\lib\\site-packages\\bs4\\__init__.py\", line 245, in __init__\n",
      "    elif len(markup) <= 256 and (\n",
      "TypeError: object of type 'NoneType' has no len()\n",
      "Traceback (most recent call last):\n",
      "  File \"<ipython-input-2-5ed5d1f021a8>\", line 34, in getStockInfo\n",
      "    name = stockInfo.find_all(attrs={'class':'bets-name'})[0]\n",
      "AttributeError: 'NoneType' object has no attribute 'find_all'\n"
     ]
    },
    {
     "name": "stdout",
     "output_type": "stream",
     "text": [
      "\n"
     ]
    },
    {
     "name": "stderr",
     "output_type": "stream",
     "text": [
      "Traceback (most recent call last):\n",
      "  File \"<ipython-input-2-5ed5d1f021a8>\", line 31, in getStockInfo\n",
      "    soup = BeautifulSoup(html,'html.parser')\n",
      "  File \"C:\\anaconda\\lib\\site-packages\\bs4\\__init__.py\", line 245, in __init__\n",
      "    elif len(markup) <= 256 and (\n",
      "TypeError: object of type 'NoneType' has no len()\n"
     ]
    },
    {
     "name": "stdout",
     "output_type": "stream",
     "text": [
      "\n"
     ]
    },
    {
     "name": "stderr",
     "output_type": "stream",
     "text": [
      "Traceback (most recent call last):\n",
      "  File \"<ipython-input-2-5ed5d1f021a8>\", line 31, in getStockInfo\n",
      "    soup = BeautifulSoup(html,'html.parser')\n",
      "  File \"C:\\anaconda\\lib\\site-packages\\bs4\\__init__.py\", line 245, in __init__\n",
      "    elif len(markup) <= 256 and (\n",
      "TypeError: object of type 'NoneType' has no len()\n"
     ]
    },
    {
     "name": "stdout",
     "output_type": "stream",
     "text": [
      "\n"
     ]
    },
    {
     "name": "stderr",
     "output_type": "stream",
     "text": [
      "Traceback (most recent call last):\n",
      "  File \"<ipython-input-2-5ed5d1f021a8>\", line 31, in getStockInfo\n",
      "    soup = BeautifulSoup(html,'html.parser')\n",
      "  File \"C:\\anaconda\\lib\\site-packages\\bs4\\__init__.py\", line 245, in __init__\n",
      "    elif len(markup) <= 256 and (\n",
      "TypeError: object of type 'NoneType' has no len()\n"
     ]
    },
    {
     "name": "stdout",
     "output_type": "stream",
     "text": [
      "\n"
     ]
    },
    {
     "name": "stderr",
     "output_type": "stream",
     "text": [
      "Traceback (most recent call last):\n",
      "  File \"<ipython-input-2-5ed5d1f021a8>\", line 31, in getStockInfo\n",
      "    soup = BeautifulSoup(html,'html.parser')\n",
      "  File \"C:\\anaconda\\lib\\site-packages\\bs4\\__init__.py\", line 245, in __init__\n",
      "    elif len(markup) <= 256 and (\n",
      "TypeError: object of type 'NoneType' has no len()\n"
     ]
    },
    {
     "name": "stdout",
     "output_type": "stream",
     "text": [
      "\n"
     ]
    },
    {
     "name": "stderr",
     "output_type": "stream",
     "text": [
      "Traceback (most recent call last):\n",
      "  File \"<ipython-input-2-5ed5d1f021a8>\", line 31, in getStockInfo\n",
      "    soup = BeautifulSoup(html,'html.parser')\n",
      "  File \"C:\\anaconda\\lib\\site-packages\\bs4\\__init__.py\", line 245, in __init__\n",
      "    elif len(markup) <= 256 and (\n",
      "TypeError: object of type 'NoneType' has no len()\n",
      "Traceback (most recent call last):\n",
      "  File \"<ipython-input-2-5ed5d1f021a8>\", line 34, in getStockInfo\n",
      "    name = stockInfo.find_all(attrs={'class':'bets-name'})[0]\n",
      "AttributeError: 'NoneType' object has no attribute 'find_all'\n"
     ]
    },
    {
     "name": "stdout",
     "output_type": "stream",
     "text": [
      "\n"
     ]
    },
    {
     "name": "stderr",
     "output_type": "stream",
     "text": [
      "Traceback (most recent call last):\n",
      "  File \"<ipython-input-2-5ed5d1f021a8>\", line 31, in getStockInfo\n",
      "    soup = BeautifulSoup(html,'html.parser')\n",
      "  File \"C:\\anaconda\\lib\\site-packages\\bs4\\__init__.py\", line 245, in __init__\n",
      "    elif len(markup) <= 256 and (\n",
      "TypeError: object of type 'NoneType' has no len()\n"
     ]
    },
    {
     "name": "stdout",
     "output_type": "stream",
     "text": [
      "\n"
     ]
    },
    {
     "name": "stderr",
     "output_type": "stream",
     "text": [
      "Traceback (most recent call last):\n",
      "  File \"<ipython-input-2-5ed5d1f021a8>\", line 31, in getStockInfo\n",
      "    soup = BeautifulSoup(html,'html.parser')\n",
      "  File \"C:\\anaconda\\lib\\site-packages\\bs4\\__init__.py\", line 245, in __init__\n",
      "    elif len(markup) <= 256 and (\n",
      "TypeError: object of type 'NoneType' has no len()\n"
     ]
    },
    {
     "name": "stdout",
     "output_type": "stream",
     "text": [
      "\n"
     ]
    },
    {
     "name": "stderr",
     "output_type": "stream",
     "text": [
      "Traceback (most recent call last):\n",
      "  File \"<ipython-input-2-5ed5d1f021a8>\", line 31, in getStockInfo\n",
      "    soup = BeautifulSoup(html,'html.parser')\n",
      "  File \"C:\\anaconda\\lib\\site-packages\\bs4\\__init__.py\", line 245, in __init__\n",
      "    elif len(markup) <= 256 and (\n",
      "TypeError: object of type 'NoneType' has no len()\n"
     ]
    },
    {
     "name": "stdout",
     "output_type": "stream",
     "text": [
      "\n"
     ]
    },
    {
     "name": "stderr",
     "output_type": "stream",
     "text": [
      "Traceback (most recent call last):\n",
      "  File \"<ipython-input-2-5ed5d1f021a8>\", line 31, in getStockInfo\n",
      "    soup = BeautifulSoup(html,'html.parser')\n",
      "  File \"C:\\anaconda\\lib\\site-packages\\bs4\\__init__.py\", line 245, in __init__\n",
      "    elif len(markup) <= 256 and (\n",
      "TypeError: object of type 'NoneType' has no len()\n"
     ]
    },
    {
     "name": "stdout",
     "output_type": "stream",
     "text": [
      "\n"
     ]
    },
    {
     "name": "stderr",
     "output_type": "stream",
     "text": [
      "Traceback (most recent call last):\n",
      "  File \"<ipython-input-2-5ed5d1f021a8>\", line 31, in getStockInfo\n",
      "    soup = BeautifulSoup(html,'html.parser')\n",
      "  File \"C:\\anaconda\\lib\\site-packages\\bs4\\__init__.py\", line 245, in __init__\n",
      "    elif len(markup) <= 256 and (\n",
      "TypeError: object of type 'NoneType' has no len()\n",
      "Traceback (most recent call last):\n",
      "  File \"<ipython-input-2-5ed5d1f021a8>\", line 34, in getStockInfo\n",
      "    name = stockInfo.find_all(attrs={'class':'bets-name'})[0]\n",
      "AttributeError: 'NoneType' object has no attribute 'find_all'\n",
      "Traceback (most recent call last):\n",
      "  File \"<ipython-input-2-5ed5d1f021a8>\", line 34, in getStockInfo\n",
      "    name = stockInfo.find_all(attrs={'class':'bets-name'})[0]\n",
      "AttributeError: 'NoneType' object has no attribute 'find_all'\n",
      "Traceback (most recent call last):\n",
      "  File \"<ipython-input-2-5ed5d1f021a8>\", line 34, in getStockInfo\n",
      "    name = stockInfo.find_all(attrs={'class':'bets-name'})[0]\n",
      "AttributeError: 'NoneType' object has no attribute 'find_all'\n",
      "Traceback (most recent call last):\n",
      "  File \"<ipython-input-2-5ed5d1f021a8>\", line 34, in getStockInfo\n",
      "    name = stockInfo.find_all(attrs={'class':'bets-name'})[0]\n",
      "AttributeError: 'NoneType' object has no attribute 'find_all'\n",
      "Traceback (most recent call last):\n",
      "  File \"<ipython-input-2-5ed5d1f021a8>\", line 34, in getStockInfo\n",
      "    name = stockInfo.find_all(attrs={'class':'bets-name'})[0]\n",
      "AttributeError: 'NoneType' object has no attribute 'find_all'\n"
     ]
    },
    {
     "name": "stdout",
     "output_type": "stream",
     "text": [
      "\n"
     ]
    },
    {
     "name": "stderr",
     "output_type": "stream",
     "text": [
      "Traceback (most recent call last):\n",
      "  File \"<ipython-input-2-5ed5d1f021a8>\", line 31, in getStockInfo\n",
      "    soup = BeautifulSoup(html,'html.parser')\n",
      "  File \"C:\\anaconda\\lib\\site-packages\\bs4\\__init__.py\", line 245, in __init__\n",
      "    elif len(markup) <= 256 and (\n",
      "TypeError: object of type 'NoneType' has no len()\n",
      "Traceback (most recent call last):\n",
      "  File \"<ipython-input-2-5ed5d1f021a8>\", line 34, in getStockInfo\n",
      "    name = stockInfo.find_all(attrs={'class':'bets-name'})[0]\n",
      "AttributeError: 'NoneType' object has no attribute 'find_all'\n",
      "Traceback (most recent call last):\n",
      "  File \"<ipython-input-2-5ed5d1f021a8>\", line 34, in getStockInfo\n",
      "    name = stockInfo.find_all(attrs={'class':'bets-name'})[0]\n",
      "AttributeError: 'NoneType' object has no attribute 'find_all'\n",
      "Traceback (most recent call last):\n",
      "  File \"<ipython-input-2-5ed5d1f021a8>\", line 34, in getStockInfo\n",
      "    name = stockInfo.find_all(attrs={'class':'bets-name'})[0]\n",
      "AttributeError: 'NoneType' object has no attribute 'find_all'\n",
      "Traceback (most recent call last):\n",
      "  File \"<ipython-input-2-5ed5d1f021a8>\", line 34, in getStockInfo\n",
      "    name = stockInfo.find_all(attrs={'class':'bets-name'})[0]\n",
      "AttributeError: 'NoneType' object has no attribute 'find_all'\n",
      "Traceback (most recent call last):\n",
      "  File \"<ipython-input-2-5ed5d1f021a8>\", line 34, in getStockInfo\n",
      "    name = stockInfo.find_all(attrs={'class':'bets-name'})[0]\n",
      "AttributeError: 'NoneType' object has no attribute 'find_all'\n",
      "Traceback (most recent call last):\n",
      "  File \"<ipython-input-2-5ed5d1f021a8>\", line 34, in getStockInfo\n",
      "    name = stockInfo.find_all(attrs={'class':'bets-name'})[0]\n",
      "AttributeError: 'NoneType' object has no attribute 'find_all'\n",
      "Traceback (most recent call last):\n",
      "  File \"<ipython-input-2-5ed5d1f021a8>\", line 34, in getStockInfo\n",
      "    name = stockInfo.find_all(attrs={'class':'bets-name'})[0]\n",
      "AttributeError: 'NoneType' object has no attribute 'find_all'\n",
      "Traceback (most recent call last):\n",
      "  File \"<ipython-input-2-5ed5d1f021a8>\", line 34, in getStockInfo\n",
      "    name = stockInfo.find_all(attrs={'class':'bets-name'})[0]\n",
      "AttributeError: 'NoneType' object has no attribute 'find_all'\n",
      "Traceback (most recent call last):\n",
      "  File \"<ipython-input-2-5ed5d1f021a8>\", line 34, in getStockInfo\n",
      "    name = stockInfo.find_all(attrs={'class':'bets-name'})[0]\n",
      "AttributeError: 'NoneType' object has no attribute 'find_all'\n",
      "Traceback (most recent call last):\n",
      "  File \"<ipython-input-2-5ed5d1f021a8>\", line 34, in getStockInfo\n",
      "    name = stockInfo.find_all(attrs={'class':'bets-name'})[0]\n",
      "AttributeError: 'NoneType' object has no attribute 'find_all'\n"
     ]
    },
    {
     "name": "stdout",
     "output_type": "stream",
     "text": [
      "\n"
     ]
    },
    {
     "name": "stderr",
     "output_type": "stream",
     "text": [
      "Traceback (most recent call last):\n",
      "  File \"<ipython-input-2-5ed5d1f021a8>\", line 31, in getStockInfo\n",
      "    soup = BeautifulSoup(html,'html.parser')\n",
      "  File \"C:\\anaconda\\lib\\site-packages\\bs4\\__init__.py\", line 245, in __init__\n",
      "    elif len(markup) <= 256 and (\n",
      "TypeError: object of type 'NoneType' has no len()\n"
     ]
    },
    {
     "name": "stdout",
     "output_type": "stream",
     "text": [
      "\n"
     ]
    },
    {
     "name": "stderr",
     "output_type": "stream",
     "text": [
      "Traceback (most recent call last):\n",
      "  File \"<ipython-input-2-5ed5d1f021a8>\", line 31, in getStockInfo\n",
      "    soup = BeautifulSoup(html,'html.parser')\n",
      "  File \"C:\\anaconda\\lib\\site-packages\\bs4\\__init__.py\", line 245, in __init__\n",
      "    elif len(markup) <= 256 and (\n",
      "TypeError: object of type 'NoneType' has no len()\n"
     ]
    },
    {
     "name": "stdout",
     "output_type": "stream",
     "text": [
      "\n"
     ]
    },
    {
     "name": "stderr",
     "output_type": "stream",
     "text": [
      "Traceback (most recent call last):\n",
      "  File \"<ipython-input-2-5ed5d1f021a8>\", line 31, in getStockInfo\n",
      "    soup = BeautifulSoup(html,'html.parser')\n",
      "  File \"C:\\anaconda\\lib\\site-packages\\bs4\\__init__.py\", line 245, in __init__\n",
      "    elif len(markup) <= 256 and (\n",
      "TypeError: object of type 'NoneType' has no len()\n"
     ]
    },
    {
     "name": "stdout",
     "output_type": "stream",
     "text": [
      "\n"
     ]
    },
    {
     "name": "stderr",
     "output_type": "stream",
     "text": [
      "Traceback (most recent call last):\n",
      "  File \"<ipython-input-2-5ed5d1f021a8>\", line 31, in getStockInfo\n",
      "    soup = BeautifulSoup(html,'html.parser')\n",
      "  File \"C:\\anaconda\\lib\\site-packages\\bs4\\__init__.py\", line 245, in __init__\n",
      "    elif len(markup) <= 256 and (\n",
      "TypeError: object of type 'NoneType' has no len()\n"
     ]
    },
    {
     "name": "stdout",
     "output_type": "stream",
     "text": [
      "\n"
     ]
    },
    {
     "name": "stderr",
     "output_type": "stream",
     "text": [
      "Traceback (most recent call last):\n",
      "  File \"<ipython-input-2-5ed5d1f021a8>\", line 31, in getStockInfo\n",
      "    soup = BeautifulSoup(html,'html.parser')\n",
      "  File \"C:\\anaconda\\lib\\site-packages\\bs4\\__init__.py\", line 245, in __init__\n",
      "    elif len(markup) <= 256 and (\n",
      "TypeError: object of type 'NoneType' has no len()\n"
     ]
    },
    {
     "name": "stdout",
     "output_type": "stream",
     "text": [
      "\n"
     ]
    },
    {
     "name": "stderr",
     "output_type": "stream",
     "text": [
      "Traceback (most recent call last):\n",
      "  File \"<ipython-input-2-5ed5d1f021a8>\", line 31, in getStockInfo\n",
      "    soup = BeautifulSoup(html,'html.parser')\n",
      "  File \"C:\\anaconda\\lib\\site-packages\\bs4\\__init__.py\", line 245, in __init__\n",
      "    elif len(markup) <= 256 and (\n",
      "TypeError: object of type 'NoneType' has no len()\n",
      "Traceback (most recent call last):\n",
      "  File \"<ipython-input-2-5ed5d1f021a8>\", line 34, in getStockInfo\n",
      "    name = stockInfo.find_all(attrs={'class':'bets-name'})[0]\n",
      "AttributeError: 'NoneType' object has no attribute 'find_all'\n"
     ]
    },
    {
     "name": "stdout",
     "output_type": "stream",
     "text": [
      "\n"
     ]
    },
    {
     "name": "stderr",
     "output_type": "stream",
     "text": [
      "Traceback (most recent call last):\n",
      "  File \"<ipython-input-2-5ed5d1f021a8>\", line 31, in getStockInfo\n",
      "    soup = BeautifulSoup(html,'html.parser')\n",
      "  File \"C:\\anaconda\\lib\\site-packages\\bs4\\__init__.py\", line 245, in __init__\n",
      "    elif len(markup) <= 256 and (\n",
      "TypeError: object of type 'NoneType' has no len()\n"
     ]
    },
    {
     "name": "stdout",
     "output_type": "stream",
     "text": [
      "\n"
     ]
    },
    {
     "name": "stderr",
     "output_type": "stream",
     "text": [
      "Traceback (most recent call last):\n",
      "  File \"<ipython-input-2-5ed5d1f021a8>\", line 31, in getStockInfo\n",
      "    soup = BeautifulSoup(html,'html.parser')\n",
      "  File \"C:\\anaconda\\lib\\site-packages\\bs4\\__init__.py\", line 245, in __init__\n",
      "    elif len(markup) <= 256 and (\n",
      "TypeError: object of type 'NoneType' has no len()\n"
     ]
    },
    {
     "name": "stdout",
     "output_type": "stream",
     "text": [
      "\n"
     ]
    },
    {
     "name": "stderr",
     "output_type": "stream",
     "text": [
      "Traceback (most recent call last):\n",
      "  File \"<ipython-input-2-5ed5d1f021a8>\", line 31, in getStockInfo\n",
      "    soup = BeautifulSoup(html,'html.parser')\n",
      "  File \"C:\\anaconda\\lib\\site-packages\\bs4\\__init__.py\", line 245, in __init__\n",
      "    elif len(markup) <= 256 and (\n",
      "TypeError: object of type 'NoneType' has no len()\n"
     ]
    },
    {
     "name": "stdout",
     "output_type": "stream",
     "text": [
      "\n"
     ]
    },
    {
     "name": "stderr",
     "output_type": "stream",
     "text": [
      "Traceback (most recent call last):\n",
      "  File \"<ipython-input-2-5ed5d1f021a8>\", line 31, in getStockInfo\n",
      "    soup = BeautifulSoup(html,'html.parser')\n",
      "  File \"C:\\anaconda\\lib\\site-packages\\bs4\\__init__.py\", line 245, in __init__\n",
      "    elif len(markup) <= 256 and (\n",
      "TypeError: object of type 'NoneType' has no len()\n",
      "Traceback (most recent call last):\n",
      "  File \"<ipython-input-2-5ed5d1f021a8>\", line 34, in getStockInfo\n",
      "    name = stockInfo.find_all(attrs={'class':'bets-name'})[0]\n",
      "AttributeError: 'NoneType' object has no attribute 'find_all'\n"
     ]
    },
    {
     "name": "stdout",
     "output_type": "stream",
     "text": [
      "\n"
     ]
    },
    {
     "name": "stderr",
     "output_type": "stream",
     "text": [
      "Traceback (most recent call last):\n",
      "  File \"<ipython-input-2-5ed5d1f021a8>\", line 31, in getStockInfo\n",
      "    soup = BeautifulSoup(html,'html.parser')\n",
      "  File \"C:\\anaconda\\lib\\site-packages\\bs4\\__init__.py\", line 245, in __init__\n",
      "    elif len(markup) <= 256 and (\n",
      "TypeError: object of type 'NoneType' has no len()\n",
      "Traceback (most recent call last):\n",
      "  File \"<ipython-input-2-5ed5d1f021a8>\", line 34, in getStockInfo\n",
      "    name = stockInfo.find_all(attrs={'class':'bets-name'})[0]\n",
      "AttributeError: 'NoneType' object has no attribute 'find_all'\n"
     ]
    },
    {
     "name": "stdout",
     "output_type": "stream",
     "text": [
      "\n"
     ]
    },
    {
     "name": "stderr",
     "output_type": "stream",
     "text": [
      "Traceback (most recent call last):\n",
      "  File \"<ipython-input-2-5ed5d1f021a8>\", line 31, in getStockInfo\n",
      "    soup = BeautifulSoup(html,'html.parser')\n",
      "  File \"C:\\anaconda\\lib\\site-packages\\bs4\\__init__.py\", line 245, in __init__\n",
      "    elif len(markup) <= 256 and (\n",
      "TypeError: object of type 'NoneType' has no len()\n"
     ]
    },
    {
     "name": "stdout",
     "output_type": "stream",
     "text": [
      "\n"
     ]
    },
    {
     "name": "stderr",
     "output_type": "stream",
     "text": [
      "Traceback (most recent call last):\n",
      "  File \"<ipython-input-2-5ed5d1f021a8>\", line 31, in getStockInfo\n",
      "    soup = BeautifulSoup(html,'html.parser')\n",
      "  File \"C:\\anaconda\\lib\\site-packages\\bs4\\__init__.py\", line 245, in __init__\n",
      "    elif len(markup) <= 256 and (\n",
      "TypeError: object of type 'NoneType' has no len()\n",
      "Traceback (most recent call last):\n",
      "  File \"<ipython-input-2-5ed5d1f021a8>\", line 34, in getStockInfo\n",
      "    name = stockInfo.find_all(attrs={'class':'bets-name'})[0]\n",
      "AttributeError: 'NoneType' object has no attribute 'find_all'\n",
      "Traceback (most recent call last):\n",
      "  File \"<ipython-input-2-5ed5d1f021a8>\", line 34, in getStockInfo\n",
      "    name = stockInfo.find_all(attrs={'class':'bets-name'})[0]\n",
      "AttributeError: 'NoneType' object has no attribute 'find_all'\n"
     ]
    },
    {
     "name": "stdout",
     "output_type": "stream",
     "text": [
      "\n"
     ]
    },
    {
     "name": "stderr",
     "output_type": "stream",
     "text": [
      "Traceback (most recent call last):\n",
      "  File \"<ipython-input-2-5ed5d1f021a8>\", line 31, in getStockInfo\n",
      "    soup = BeautifulSoup(html,'html.parser')\n",
      "  File \"C:\\anaconda\\lib\\site-packages\\bs4\\__init__.py\", line 245, in __init__\n",
      "    elif len(markup) <= 256 and (\n",
      "TypeError: object of type 'NoneType' has no len()\n"
     ]
    },
    {
     "name": "stdout",
     "output_type": "stream",
     "text": [
      "\n"
     ]
    },
    {
     "name": "stderr",
     "output_type": "stream",
     "text": [
      "Traceback (most recent call last):\n",
      "  File \"<ipython-input-2-5ed5d1f021a8>\", line 31, in getStockInfo\n",
      "    soup = BeautifulSoup(html,'html.parser')\n",
      "  File \"C:\\anaconda\\lib\\site-packages\\bs4\\__init__.py\", line 245, in __init__\n",
      "    elif len(markup) <= 256 and (\n",
      "TypeError: object of type 'NoneType' has no len()\n",
      "Traceback (most recent call last):\n",
      "  File \"<ipython-input-2-5ed5d1f021a8>\", line 34, in getStockInfo\n",
      "    name = stockInfo.find_all(attrs={'class':'bets-name'})[0]\n",
      "AttributeError: 'NoneType' object has no attribute 'find_all'\n"
     ]
    },
    {
     "name": "stdout",
     "output_type": "stream",
     "text": [
      "\n"
     ]
    },
    {
     "name": "stderr",
     "output_type": "stream",
     "text": [
      "Traceback (most recent call last):\n",
      "  File \"<ipython-input-2-5ed5d1f021a8>\", line 31, in getStockInfo\n",
      "    soup = BeautifulSoup(html,'html.parser')\n",
      "  File \"C:\\anaconda\\lib\\site-packages\\bs4\\__init__.py\", line 245, in __init__\n",
      "    elif len(markup) <= 256 and (\n",
      "TypeError: object of type 'NoneType' has no len()\n"
     ]
    },
    {
     "name": "stdout",
     "output_type": "stream",
     "text": [
      "\n"
     ]
    },
    {
     "name": "stderr",
     "output_type": "stream",
     "text": [
      "Traceback (most recent call last):\n",
      "  File \"<ipython-input-2-5ed5d1f021a8>\", line 31, in getStockInfo\n",
      "    soup = BeautifulSoup(html,'html.parser')\n",
      "  File \"C:\\anaconda\\lib\\site-packages\\bs4\\__init__.py\", line 245, in __init__\n",
      "    elif len(markup) <= 256 and (\n",
      "TypeError: object of type 'NoneType' has no len()\n"
     ]
    },
    {
     "name": "stdout",
     "output_type": "stream",
     "text": [
      "\n"
     ]
    },
    {
     "name": "stderr",
     "output_type": "stream",
     "text": [
      "Traceback (most recent call last):\n",
      "  File \"<ipython-input-2-5ed5d1f021a8>\", line 31, in getStockInfo\n",
      "    soup = BeautifulSoup(html,'html.parser')\n",
      "  File \"C:\\anaconda\\lib\\site-packages\\bs4\\__init__.py\", line 245, in __init__\n",
      "    elif len(markup) <= 256 and (\n",
      "TypeError: object of type 'NoneType' has no len()\n"
     ]
    },
    {
     "name": "stdout",
     "output_type": "stream",
     "text": [
      "\n"
     ]
    },
    {
     "name": "stderr",
     "output_type": "stream",
     "text": [
      "Traceback (most recent call last):\n",
      "  File \"<ipython-input-2-5ed5d1f021a8>\", line 31, in getStockInfo\n",
      "    soup = BeautifulSoup(html,'html.parser')\n",
      "  File \"C:\\anaconda\\lib\\site-packages\\bs4\\__init__.py\", line 245, in __init__\n",
      "    elif len(markup) <= 256 and (\n",
      "TypeError: object of type 'NoneType' has no len()\n"
     ]
    },
    {
     "name": "stdout",
     "output_type": "stream",
     "text": [
      "\n"
     ]
    },
    {
     "name": "stderr",
     "output_type": "stream",
     "text": [
      "Traceback (most recent call last):\n",
      "  File \"<ipython-input-2-5ed5d1f021a8>\", line 31, in getStockInfo\n",
      "    soup = BeautifulSoup(html,'html.parser')\n",
      "  File \"C:\\anaconda\\lib\\site-packages\\bs4\\__init__.py\", line 245, in __init__\n",
      "    elif len(markup) <= 256 and (\n",
      "TypeError: object of type 'NoneType' has no len()\n"
     ]
    },
    {
     "name": "stdout",
     "output_type": "stream",
     "text": [
      "\n"
     ]
    },
    {
     "name": "stderr",
     "output_type": "stream",
     "text": [
      "Traceback (most recent call last):\n",
      "  File \"<ipython-input-2-5ed5d1f021a8>\", line 31, in getStockInfo\n",
      "    soup = BeautifulSoup(html,'html.parser')\n",
      "  File \"C:\\anaconda\\lib\\site-packages\\bs4\\__init__.py\", line 245, in __init__\n",
      "    elif len(markup) <= 256 and (\n",
      "TypeError: object of type 'NoneType' has no len()\n"
     ]
    },
    {
     "name": "stdout",
     "output_type": "stream",
     "text": [
      "\n"
     ]
    },
    {
     "name": "stderr",
     "output_type": "stream",
     "text": [
      "Traceback (most recent call last):\n",
      "  File \"<ipython-input-2-5ed5d1f021a8>\", line 31, in getStockInfo\n",
      "    soup = BeautifulSoup(html,'html.parser')\n",
      "  File \"C:\\anaconda\\lib\\site-packages\\bs4\\__init__.py\", line 245, in __init__\n",
      "    elif len(markup) <= 256 and (\n",
      "TypeError: object of type 'NoneType' has no len()\n"
     ]
    },
    {
     "name": "stdout",
     "output_type": "stream",
     "text": [
      "\n"
     ]
    },
    {
     "name": "stderr",
     "output_type": "stream",
     "text": [
      "Traceback (most recent call last):\n",
      "  File \"<ipython-input-2-5ed5d1f021a8>\", line 31, in getStockInfo\n",
      "    soup = BeautifulSoup(html,'html.parser')\n",
      "  File \"C:\\anaconda\\lib\\site-packages\\bs4\\__init__.py\", line 245, in __init__\n",
      "    elif len(markup) <= 256 and (\n",
      "TypeError: object of type 'NoneType' has no len()\n"
     ]
    },
    {
     "name": "stdout",
     "output_type": "stream",
     "text": [
      "\n"
     ]
    },
    {
     "name": "stderr",
     "output_type": "stream",
     "text": [
      "Traceback (most recent call last):\n",
      "  File \"<ipython-input-2-5ed5d1f021a8>\", line 31, in getStockInfo\n",
      "    soup = BeautifulSoup(html,'html.parser')\n",
      "  File \"C:\\anaconda\\lib\\site-packages\\bs4\\__init__.py\", line 245, in __init__\n",
      "    elif len(markup) <= 256 and (\n",
      "TypeError: object of type 'NoneType' has no len()\n"
     ]
    },
    {
     "name": "stdout",
     "output_type": "stream",
     "text": [
      "\n"
     ]
    },
    {
     "name": "stderr",
     "output_type": "stream",
     "text": [
      "Traceback (most recent call last):\n",
      "  File \"<ipython-input-2-5ed5d1f021a8>\", line 31, in getStockInfo\n",
      "    soup = BeautifulSoup(html,'html.parser')\n",
      "  File \"C:\\anaconda\\lib\\site-packages\\bs4\\__init__.py\", line 245, in __init__\n",
      "    elif len(markup) <= 256 and (\n",
      "TypeError: object of type 'NoneType' has no len()\n"
     ]
    },
    {
     "name": "stdout",
     "output_type": "stream",
     "text": [
      "\n"
     ]
    },
    {
     "name": "stderr",
     "output_type": "stream",
     "text": [
      "Traceback (most recent call last):\n",
      "  File \"<ipython-input-2-5ed5d1f021a8>\", line 31, in getStockInfo\n",
      "    soup = BeautifulSoup(html,'html.parser')\n",
      "  File \"C:\\anaconda\\lib\\site-packages\\bs4\\__init__.py\", line 245, in __init__\n",
      "    elif len(markup) <= 256 and (\n",
      "TypeError: object of type 'NoneType' has no len()\n"
     ]
    },
    {
     "name": "stdout",
     "output_type": "stream",
     "text": [
      "\n"
     ]
    },
    {
     "name": "stderr",
     "output_type": "stream",
     "text": [
      "Traceback (most recent call last):\n",
      "  File \"<ipython-input-2-5ed5d1f021a8>\", line 31, in getStockInfo\n",
      "    soup = BeautifulSoup(html,'html.parser')\n",
      "  File \"C:\\anaconda\\lib\\site-packages\\bs4\\__init__.py\", line 245, in __init__\n",
      "    elif len(markup) <= 256 and (\n",
      "TypeError: object of type 'NoneType' has no len()\n"
     ]
    },
    {
     "name": "stdout",
     "output_type": "stream",
     "text": [
      "\n"
     ]
    },
    {
     "name": "stderr",
     "output_type": "stream",
     "text": [
      "Traceback (most recent call last):\n",
      "  File \"<ipython-input-2-5ed5d1f021a8>\", line 31, in getStockInfo\n",
      "    soup = BeautifulSoup(html,'html.parser')\n",
      "  File \"C:\\anaconda\\lib\\site-packages\\bs4\\__init__.py\", line 245, in __init__\n",
      "    elif len(markup) <= 256 and (\n",
      "TypeError: object of type 'NoneType' has no len()\n"
     ]
    },
    {
     "name": "stdout",
     "output_type": "stream",
     "text": [
      "\n"
     ]
    },
    {
     "name": "stderr",
     "output_type": "stream",
     "text": [
      "Traceback (most recent call last):\n",
      "  File \"<ipython-input-2-5ed5d1f021a8>\", line 31, in getStockInfo\n",
      "    soup = BeautifulSoup(html,'html.parser')\n",
      "  File \"C:\\anaconda\\lib\\site-packages\\bs4\\__init__.py\", line 245, in __init__\n",
      "    elif len(markup) <= 256 and (\n",
      "TypeError: object of type 'NoneType' has no len()\n"
     ]
    },
    {
     "name": "stdout",
     "output_type": "stream",
     "text": [
      "\n"
     ]
    },
    {
     "name": "stderr",
     "output_type": "stream",
     "text": [
      "Traceback (most recent call last):\n",
      "  File \"<ipython-input-2-5ed5d1f021a8>\", line 31, in getStockInfo\n",
      "    soup = BeautifulSoup(html,'html.parser')\n",
      "  File \"C:\\anaconda\\lib\\site-packages\\bs4\\__init__.py\", line 245, in __init__\n",
      "    elif len(markup) <= 256 and (\n",
      "TypeError: object of type 'NoneType' has no len()\n",
      "Traceback (most recent call last):\n",
      "  File \"<ipython-input-2-5ed5d1f021a8>\", line 34, in getStockInfo\n",
      "    name = stockInfo.find_all(attrs={'class':'bets-name'})[0]\n",
      "AttributeError: 'NoneType' object has no attribute 'find_all'\n"
     ]
    },
    {
     "name": "stdout",
     "output_type": "stream",
     "text": [
      "\n"
     ]
    },
    {
     "name": "stderr",
     "output_type": "stream",
     "text": [
      "Traceback (most recent call last):\n",
      "  File \"<ipython-input-2-5ed5d1f021a8>\", line 31, in getStockInfo\n",
      "    soup = BeautifulSoup(html,'html.parser')\n",
      "  File \"C:\\anaconda\\lib\\site-packages\\bs4\\__init__.py\", line 245, in __init__\n",
      "    elif len(markup) <= 256 and (\n",
      "TypeError: object of type 'NoneType' has no len()\n"
     ]
    },
    {
     "name": "stdout",
     "output_type": "stream",
     "text": [
      "\n"
     ]
    },
    {
     "name": "stderr",
     "output_type": "stream",
     "text": [
      "Traceback (most recent call last):\n",
      "  File \"<ipython-input-2-5ed5d1f021a8>\", line 31, in getStockInfo\n",
      "    soup = BeautifulSoup(html,'html.parser')\n",
      "  File \"C:\\anaconda\\lib\\site-packages\\bs4\\__init__.py\", line 245, in __init__\n",
      "    elif len(markup) <= 256 and (\n",
      "TypeError: object of type 'NoneType' has no len()\n"
     ]
    },
    {
     "name": "stdout",
     "output_type": "stream",
     "text": [
      "\n"
     ]
    },
    {
     "name": "stderr",
     "output_type": "stream",
     "text": [
      "Traceback (most recent call last):\n",
      "  File \"<ipython-input-2-5ed5d1f021a8>\", line 31, in getStockInfo\n",
      "    soup = BeautifulSoup(html,'html.parser')\n",
      "  File \"C:\\anaconda\\lib\\site-packages\\bs4\\__init__.py\", line 245, in __init__\n",
      "    elif len(markup) <= 256 and (\n",
      "TypeError: object of type 'NoneType' has no len()\n"
     ]
    },
    {
     "name": "stdout",
     "output_type": "stream",
     "text": [
      "\n"
     ]
    },
    {
     "name": "stderr",
     "output_type": "stream",
     "text": [
      "Traceback (most recent call last):\n",
      "  File \"<ipython-input-2-5ed5d1f021a8>\", line 31, in getStockInfo\n",
      "    soup = BeautifulSoup(html,'html.parser')\n",
      "  File \"C:\\anaconda\\lib\\site-packages\\bs4\\__init__.py\", line 245, in __init__\n",
      "    elif len(markup) <= 256 and (\n",
      "TypeError: object of type 'NoneType' has no len()\n"
     ]
    },
    {
     "name": "stdout",
     "output_type": "stream",
     "text": [
      "\n"
     ]
    },
    {
     "name": "stderr",
     "output_type": "stream",
     "text": [
      "Traceback (most recent call last):\n",
      "  File \"<ipython-input-2-5ed5d1f021a8>\", line 31, in getStockInfo\n",
      "    soup = BeautifulSoup(html,'html.parser')\n",
      "  File \"C:\\anaconda\\lib\\site-packages\\bs4\\__init__.py\", line 245, in __init__\n",
      "    elif len(markup) <= 256 and (\n",
      "TypeError: object of type 'NoneType' has no len()\n"
     ]
    },
    {
     "name": "stdout",
     "output_type": "stream",
     "text": [
      "\n"
     ]
    },
    {
     "name": "stderr",
     "output_type": "stream",
     "text": [
      "Traceback (most recent call last):\n",
      "  File \"<ipython-input-2-5ed5d1f021a8>\", line 31, in getStockInfo\n",
      "    soup = BeautifulSoup(html,'html.parser')\n",
      "  File \"C:\\anaconda\\lib\\site-packages\\bs4\\__init__.py\", line 245, in __init__\n",
      "    elif len(markup) <= 256 and (\n",
      "TypeError: object of type 'NoneType' has no len()\n"
     ]
    },
    {
     "name": "stdout",
     "output_type": "stream",
     "text": [
      "\n"
     ]
    },
    {
     "name": "stderr",
     "output_type": "stream",
     "text": [
      "Traceback (most recent call last):\n",
      "  File \"<ipython-input-2-5ed5d1f021a8>\", line 31, in getStockInfo\n",
      "    soup = BeautifulSoup(html,'html.parser')\n",
      "  File \"C:\\anaconda\\lib\\site-packages\\bs4\\__init__.py\", line 245, in __init__\n",
      "    elif len(markup) <= 256 and (\n",
      "TypeError: object of type 'NoneType' has no len()\n"
     ]
    },
    {
     "name": "stdout",
     "output_type": "stream",
     "text": [
      "\n"
     ]
    },
    {
     "name": "stderr",
     "output_type": "stream",
     "text": [
      "Traceback (most recent call last):\n",
      "  File \"<ipython-input-2-5ed5d1f021a8>\", line 31, in getStockInfo\n",
      "    soup = BeautifulSoup(html,'html.parser')\n",
      "  File \"C:\\anaconda\\lib\\site-packages\\bs4\\__init__.py\", line 245, in __init__\n",
      "    elif len(markup) <= 256 and (\n",
      "TypeError: object of type 'NoneType' has no len()\n"
     ]
    },
    {
     "name": "stdout",
     "output_type": "stream",
     "text": [
      "\n"
     ]
    },
    {
     "name": "stderr",
     "output_type": "stream",
     "text": [
      "Traceback (most recent call last):\n",
      "  File \"<ipython-input-2-5ed5d1f021a8>\", line 31, in getStockInfo\n",
      "    soup = BeautifulSoup(html,'html.parser')\n",
      "  File \"C:\\anaconda\\lib\\site-packages\\bs4\\__init__.py\", line 245, in __init__\n",
      "    elif len(markup) <= 256 and (\n",
      "TypeError: object of type 'NoneType' has no len()\n",
      "Traceback (most recent call last):\n",
      "  File \"<ipython-input-2-5ed5d1f021a8>\", line 34, in getStockInfo\n",
      "    name = stockInfo.find_all(attrs={'class':'bets-name'})[0]\n",
      "AttributeError: 'NoneType' object has no attribute 'find_all'\n"
     ]
    },
    {
     "name": "stdout",
     "output_type": "stream",
     "text": [
      "\n"
     ]
    },
    {
     "name": "stderr",
     "output_type": "stream",
     "text": [
      "Traceback (most recent call last):\n",
      "  File \"<ipython-input-2-5ed5d1f021a8>\", line 31, in getStockInfo\n",
      "    soup = BeautifulSoup(html,'html.parser')\n",
      "  File \"C:\\anaconda\\lib\\site-packages\\bs4\\__init__.py\", line 245, in __init__\n",
      "    elif len(markup) <= 256 and (\n",
      "TypeError: object of type 'NoneType' has no len()\n"
     ]
    },
    {
     "name": "stdout",
     "output_type": "stream",
     "text": [
      "\n"
     ]
    },
    {
     "name": "stderr",
     "output_type": "stream",
     "text": [
      "Traceback (most recent call last):\n",
      "  File \"<ipython-input-2-5ed5d1f021a8>\", line 31, in getStockInfo\n",
      "    soup = BeautifulSoup(html,'html.parser')\n",
      "  File \"C:\\anaconda\\lib\\site-packages\\bs4\\__init__.py\", line 245, in __init__\n",
      "    elif len(markup) <= 256 and (\n",
      "TypeError: object of type 'NoneType' has no len()\n"
     ]
    },
    {
     "name": "stdout",
     "output_type": "stream",
     "text": [
      "\n"
     ]
    },
    {
     "name": "stderr",
     "output_type": "stream",
     "text": [
      "Traceback (most recent call last):\n",
      "  File \"<ipython-input-2-5ed5d1f021a8>\", line 31, in getStockInfo\n",
      "    soup = BeautifulSoup(html,'html.parser')\n",
      "  File \"C:\\anaconda\\lib\\site-packages\\bs4\\__init__.py\", line 245, in __init__\n",
      "    elif len(markup) <= 256 and (\n",
      "TypeError: object of type 'NoneType' has no len()\n"
     ]
    },
    {
     "name": "stdout",
     "output_type": "stream",
     "text": [
      "\n"
     ]
    },
    {
     "name": "stderr",
     "output_type": "stream",
     "text": [
      "Traceback (most recent call last):\n",
      "  File \"<ipython-input-2-5ed5d1f021a8>\", line 31, in getStockInfo\n",
      "    soup = BeautifulSoup(html,'html.parser')\n",
      "  File \"C:\\anaconda\\lib\\site-packages\\bs4\\__init__.py\", line 245, in __init__\n",
      "    elif len(markup) <= 256 and (\n",
      "TypeError: object of type 'NoneType' has no len()\n"
     ]
    },
    {
     "name": "stdout",
     "output_type": "stream",
     "text": [
      "\n"
     ]
    },
    {
     "name": "stderr",
     "output_type": "stream",
     "text": [
      "Traceback (most recent call last):\n",
      "  File \"<ipython-input-2-5ed5d1f021a8>\", line 31, in getStockInfo\n",
      "    soup = BeautifulSoup(html,'html.parser')\n",
      "  File \"C:\\anaconda\\lib\\site-packages\\bs4\\__init__.py\", line 245, in __init__\n",
      "    elif len(markup) <= 256 and (\n",
      "TypeError: object of type 'NoneType' has no len()\n"
     ]
    },
    {
     "name": "stdout",
     "output_type": "stream",
     "text": [
      "\n"
     ]
    },
    {
     "name": "stderr",
     "output_type": "stream",
     "text": [
      "Traceback (most recent call last):\n",
      "  File \"<ipython-input-2-5ed5d1f021a8>\", line 31, in getStockInfo\n",
      "    soup = BeautifulSoup(html,'html.parser')\n",
      "  File \"C:\\anaconda\\lib\\site-packages\\bs4\\__init__.py\", line 245, in __init__\n",
      "    elif len(markup) <= 256 and (\n",
      "TypeError: object of type 'NoneType' has no len()\n"
     ]
    },
    {
     "name": "stdout",
     "output_type": "stream",
     "text": [
      "\n"
     ]
    },
    {
     "name": "stderr",
     "output_type": "stream",
     "text": [
      "Traceback (most recent call last):\n",
      "  File \"<ipython-input-2-5ed5d1f021a8>\", line 31, in getStockInfo\n",
      "    soup = BeautifulSoup(html,'html.parser')\n",
      "  File \"C:\\anaconda\\lib\\site-packages\\bs4\\__init__.py\", line 245, in __init__\n",
      "    elif len(markup) <= 256 and (\n",
      "TypeError: object of type 'NoneType' has no len()\n"
     ]
    },
    {
     "name": "stdout",
     "output_type": "stream",
     "text": [
      "\n"
     ]
    },
    {
     "name": "stderr",
     "output_type": "stream",
     "text": [
      "Traceback (most recent call last):\n",
      "  File \"<ipython-input-2-5ed5d1f021a8>\", line 31, in getStockInfo\n",
      "    soup = BeautifulSoup(html,'html.parser')\n",
      "  File \"C:\\anaconda\\lib\\site-packages\\bs4\\__init__.py\", line 245, in __init__\n",
      "    elif len(markup) <= 256 and (\n",
      "TypeError: object of type 'NoneType' has no len()\n"
     ]
    },
    {
     "name": "stdout",
     "output_type": "stream",
     "text": [
      "\n"
     ]
    },
    {
     "name": "stderr",
     "output_type": "stream",
     "text": [
      "Traceback (most recent call last):\n",
      "  File \"<ipython-input-2-5ed5d1f021a8>\", line 31, in getStockInfo\n",
      "    soup = BeautifulSoup(html,'html.parser')\n",
      "  File \"C:\\anaconda\\lib\\site-packages\\bs4\\__init__.py\", line 245, in __init__\n",
      "    elif len(markup) <= 256 and (\n",
      "TypeError: object of type 'NoneType' has no len()\n"
     ]
    },
    {
     "name": "stdout",
     "output_type": "stream",
     "text": [
      "\n"
     ]
    },
    {
     "name": "stderr",
     "output_type": "stream",
     "text": [
      "Traceback (most recent call last):\n",
      "  File \"<ipython-input-2-5ed5d1f021a8>\", line 31, in getStockInfo\n",
      "    soup = BeautifulSoup(html,'html.parser')\n",
      "  File \"C:\\anaconda\\lib\\site-packages\\bs4\\__init__.py\", line 245, in __init__\n",
      "    elif len(markup) <= 256 and (\n",
      "TypeError: object of type 'NoneType' has no len()\n",
      "Traceback (most recent call last):\n",
      "  File \"<ipython-input-2-5ed5d1f021a8>\", line 34, in getStockInfo\n",
      "    name = stockInfo.find_all(attrs={'class':'bets-name'})[0]\n",
      "AttributeError: 'NoneType' object has no attribute 'find_all'\n",
      "Traceback (most recent call last):\n",
      "  File \"<ipython-input-2-5ed5d1f021a8>\", line 34, in getStockInfo\n",
      "    name = stockInfo.find_all(attrs={'class':'bets-name'})[0]\n",
      "AttributeError: 'NoneType' object has no attribute 'find_all'\n"
     ]
    },
    {
     "name": "stdout",
     "output_type": "stream",
     "text": [
      "\n"
     ]
    },
    {
     "name": "stderr",
     "output_type": "stream",
     "text": [
      "Traceback (most recent call last):\n",
      "  File \"<ipython-input-2-5ed5d1f021a8>\", line 31, in getStockInfo\n",
      "    soup = BeautifulSoup(html,'html.parser')\n",
      "  File \"C:\\anaconda\\lib\\site-packages\\bs4\\__init__.py\", line 245, in __init__\n",
      "    elif len(markup) <= 256 and (\n",
      "TypeError: object of type 'NoneType' has no len()\n"
     ]
    },
    {
     "name": "stdout",
     "output_type": "stream",
     "text": [
      "\n"
     ]
    },
    {
     "name": "stderr",
     "output_type": "stream",
     "text": [
      "Traceback (most recent call last):\n",
      "  File \"<ipython-input-2-5ed5d1f021a8>\", line 31, in getStockInfo\n",
      "    soup = BeautifulSoup(html,'html.parser')\n",
      "  File \"C:\\anaconda\\lib\\site-packages\\bs4\\__init__.py\", line 245, in __init__\n",
      "    elif len(markup) <= 256 and (\n",
      "TypeError: object of type 'NoneType' has no len()\n"
     ]
    },
    {
     "name": "stdout",
     "output_type": "stream",
     "text": [
      "\n"
     ]
    },
    {
     "name": "stderr",
     "output_type": "stream",
     "text": [
      "Traceback (most recent call last):\n",
      "  File \"<ipython-input-2-5ed5d1f021a8>\", line 31, in getStockInfo\n",
      "    soup = BeautifulSoup(html,'html.parser')\n",
      "  File \"C:\\anaconda\\lib\\site-packages\\bs4\\__init__.py\", line 245, in __init__\n",
      "    elif len(markup) <= 256 and (\n",
      "TypeError: object of type 'NoneType' has no len()\n"
     ]
    },
    {
     "name": "stdout",
     "output_type": "stream",
     "text": [
      "\n"
     ]
    },
    {
     "name": "stderr",
     "output_type": "stream",
     "text": [
      "Traceback (most recent call last):\n",
      "  File \"<ipython-input-2-5ed5d1f021a8>\", line 31, in getStockInfo\n",
      "    soup = BeautifulSoup(html,'html.parser')\n",
      "  File \"C:\\anaconda\\lib\\site-packages\\bs4\\__init__.py\", line 245, in __init__\n",
      "    elif len(markup) <= 256 and (\n",
      "TypeError: object of type 'NoneType' has no len()\n",
      "Traceback (most recent call last):\n",
      "  File \"<ipython-input-2-5ed5d1f021a8>\", line 34, in getStockInfo\n",
      "    name = stockInfo.find_all(attrs={'class':'bets-name'})[0]\n",
      "AttributeError: 'NoneType' object has no attribute 'find_all'\n"
     ]
    },
    {
     "name": "stdout",
     "output_type": "stream",
     "text": [
      "\n"
     ]
    },
    {
     "name": "stderr",
     "output_type": "stream",
     "text": [
      "Traceback (most recent call last):\n",
      "  File \"<ipython-input-2-5ed5d1f021a8>\", line 31, in getStockInfo\n",
      "    soup = BeautifulSoup(html,'html.parser')\n",
      "  File \"C:\\anaconda\\lib\\site-packages\\bs4\\__init__.py\", line 245, in __init__\n",
      "    elif len(markup) <= 256 and (\n",
      "TypeError: object of type 'NoneType' has no len()\n"
     ]
    },
    {
     "name": "stdout",
     "output_type": "stream",
     "text": [
      "\n"
     ]
    },
    {
     "name": "stderr",
     "output_type": "stream",
     "text": [
      "Traceback (most recent call last):\n",
      "  File \"<ipython-input-2-5ed5d1f021a8>\", line 31, in getStockInfo\n",
      "    soup = BeautifulSoup(html,'html.parser')\n",
      "  File \"C:\\anaconda\\lib\\site-packages\\bs4\\__init__.py\", line 245, in __init__\n",
      "    elif len(markup) <= 256 and (\n",
      "TypeError: object of type 'NoneType' has no len()\n"
     ]
    },
    {
     "name": "stdout",
     "output_type": "stream",
     "text": [
      "\n"
     ]
    },
    {
     "name": "stderr",
     "output_type": "stream",
     "text": [
      "Traceback (most recent call last):\n",
      "  File \"<ipython-input-2-5ed5d1f021a8>\", line 31, in getStockInfo\n",
      "    soup = BeautifulSoup(html,'html.parser')\n",
      "  File \"C:\\anaconda\\lib\\site-packages\\bs4\\__init__.py\", line 245, in __init__\n",
      "    elif len(markup) <= 256 and (\n",
      "TypeError: object of type 'NoneType' has no len()\n"
     ]
    },
    {
     "name": "stdout",
     "output_type": "stream",
     "text": [
      "\n"
     ]
    },
    {
     "name": "stderr",
     "output_type": "stream",
     "text": [
      "Traceback (most recent call last):\n",
      "  File \"<ipython-input-2-5ed5d1f021a8>\", line 31, in getStockInfo\n",
      "    soup = BeautifulSoup(html,'html.parser')\n",
      "  File \"C:\\anaconda\\lib\\site-packages\\bs4\\__init__.py\", line 245, in __init__\n",
      "    elif len(markup) <= 256 and (\n",
      "TypeError: object of type 'NoneType' has no len()\n",
      "Traceback (most recent call last):\n",
      "  File \"<ipython-input-2-5ed5d1f021a8>\", line 34, in getStockInfo\n",
      "    name = stockInfo.find_all(attrs={'class':'bets-name'})[0]\n",
      "AttributeError: 'NoneType' object has no attribute 'find_all'\n"
     ]
    },
    {
     "name": "stdout",
     "output_type": "stream",
     "text": [
      "\n"
     ]
    },
    {
     "name": "stderr",
     "output_type": "stream",
     "text": [
      "Traceback (most recent call last):\n",
      "  File \"<ipython-input-2-5ed5d1f021a8>\", line 31, in getStockInfo\n",
      "    soup = BeautifulSoup(html,'html.parser')\n",
      "  File \"C:\\anaconda\\lib\\site-packages\\bs4\\__init__.py\", line 245, in __init__\n",
      "    elif len(markup) <= 256 and (\n",
      "TypeError: object of type 'NoneType' has no len()\n"
     ]
    },
    {
     "name": "stdout",
     "output_type": "stream",
     "text": [
      "\n"
     ]
    },
    {
     "name": "stderr",
     "output_type": "stream",
     "text": [
      "Traceback (most recent call last):\n",
      "  File \"<ipython-input-2-5ed5d1f021a8>\", line 31, in getStockInfo\n",
      "    soup = BeautifulSoup(html,'html.parser')\n",
      "  File \"C:\\anaconda\\lib\\site-packages\\bs4\\__init__.py\", line 245, in __init__\n",
      "    elif len(markup) <= 256 and (\n",
      "TypeError: object of type 'NoneType' has no len()\n"
     ]
    },
    {
     "name": "stdout",
     "output_type": "stream",
     "text": [
      "\n"
     ]
    },
    {
     "name": "stderr",
     "output_type": "stream",
     "text": [
      "Traceback (most recent call last):\n",
      "  File \"<ipython-input-2-5ed5d1f021a8>\", line 31, in getStockInfo\n",
      "    soup = BeautifulSoup(html,'html.parser')\n",
      "  File \"C:\\anaconda\\lib\\site-packages\\bs4\\__init__.py\", line 245, in __init__\n",
      "    elif len(markup) <= 256 and (\n",
      "TypeError: object of type 'NoneType' has no len()\n"
     ]
    },
    {
     "name": "stdout",
     "output_type": "stream",
     "text": [
      "\n"
     ]
    },
    {
     "name": "stderr",
     "output_type": "stream",
     "text": [
      "Traceback (most recent call last):\n",
      "  File \"<ipython-input-2-5ed5d1f021a8>\", line 31, in getStockInfo\n",
      "    soup = BeautifulSoup(html,'html.parser')\n",
      "  File \"C:\\anaconda\\lib\\site-packages\\bs4\\__init__.py\", line 245, in __init__\n",
      "    elif len(markup) <= 256 and (\n",
      "TypeError: object of type 'NoneType' has no len()\n"
     ]
    },
    {
     "name": "stdout",
     "output_type": "stream",
     "text": [
      "\n"
     ]
    },
    {
     "name": "stderr",
     "output_type": "stream",
     "text": [
      "Traceback (most recent call last):\n",
      "  File \"<ipython-input-2-5ed5d1f021a8>\", line 31, in getStockInfo\n",
      "    soup = BeautifulSoup(html,'html.parser')\n",
      "  File \"C:\\anaconda\\lib\\site-packages\\bs4\\__init__.py\", line 245, in __init__\n",
      "    elif len(markup) <= 256 and (\n",
      "TypeError: object of type 'NoneType' has no len()\n"
     ]
    },
    {
     "name": "stdout",
     "output_type": "stream",
     "text": [
      "\n"
     ]
    },
    {
     "name": "stderr",
     "output_type": "stream",
     "text": [
      "Traceback (most recent call last):\n",
      "  File \"<ipython-input-2-5ed5d1f021a8>\", line 31, in getStockInfo\n",
      "    soup = BeautifulSoup(html,'html.parser')\n",
      "  File \"C:\\anaconda\\lib\\site-packages\\bs4\\__init__.py\", line 245, in __init__\n",
      "    elif len(markup) <= 256 and (\n",
      "TypeError: object of type 'NoneType' has no len()\n",
      "Traceback (most recent call last):\n",
      "  File \"<ipython-input-2-5ed5d1f021a8>\", line 34, in getStockInfo\n",
      "    name = stockInfo.find_all(attrs={'class':'bets-name'})[0]\n",
      "AttributeError: 'NoneType' object has no attribute 'find_all'\n"
     ]
    },
    {
     "name": "stdout",
     "output_type": "stream",
     "text": [
      "\n"
     ]
    },
    {
     "name": "stderr",
     "output_type": "stream",
     "text": [
      "Traceback (most recent call last):\n",
      "  File \"<ipython-input-2-5ed5d1f021a8>\", line 31, in getStockInfo\n",
      "    soup = BeautifulSoup(html,'html.parser')\n",
      "  File \"C:\\anaconda\\lib\\site-packages\\bs4\\__init__.py\", line 245, in __init__\n",
      "    elif len(markup) <= 256 and (\n",
      "TypeError: object of type 'NoneType' has no len()\n"
     ]
    },
    {
     "name": "stdout",
     "output_type": "stream",
     "text": [
      "\n"
     ]
    },
    {
     "name": "stderr",
     "output_type": "stream",
     "text": [
      "Traceback (most recent call last):\n",
      "  File \"<ipython-input-2-5ed5d1f021a8>\", line 31, in getStockInfo\n",
      "    soup = BeautifulSoup(html,'html.parser')\n",
      "  File \"C:\\anaconda\\lib\\site-packages\\bs4\\__init__.py\", line 245, in __init__\n",
      "    elif len(markup) <= 256 and (\n",
      "TypeError: object of type 'NoneType' has no len()\n",
      "Traceback (most recent call last):\n",
      "  File \"<ipython-input-2-5ed5d1f021a8>\", line 34, in getStockInfo\n",
      "    name = stockInfo.find_all(attrs={'class':'bets-name'})[0]\n",
      "AttributeError: 'NoneType' object has no attribute 'find_all'\n"
     ]
    },
    {
     "name": "stdout",
     "output_type": "stream",
     "text": [
      "\n"
     ]
    },
    {
     "name": "stderr",
     "output_type": "stream",
     "text": [
      "Traceback (most recent call last):\n",
      "  File \"<ipython-input-2-5ed5d1f021a8>\", line 31, in getStockInfo\n",
      "    soup = BeautifulSoup(html,'html.parser')\n",
      "  File \"C:\\anaconda\\lib\\site-packages\\bs4\\__init__.py\", line 245, in __init__\n",
      "    elif len(markup) <= 256 and (\n",
      "TypeError: object of type 'NoneType' has no len()\n"
     ]
    },
    {
     "name": "stdout",
     "output_type": "stream",
     "text": [
      "\n"
     ]
    },
    {
     "name": "stderr",
     "output_type": "stream",
     "text": [
      "Traceback (most recent call last):\n",
      "  File \"<ipython-input-2-5ed5d1f021a8>\", line 31, in getStockInfo\n",
      "    soup = BeautifulSoup(html,'html.parser')\n",
      "  File \"C:\\anaconda\\lib\\site-packages\\bs4\\__init__.py\", line 245, in __init__\n",
      "    elif len(markup) <= 256 and (\n",
      "TypeError: object of type 'NoneType' has no len()\n",
      "Traceback (most recent call last):\n",
      "  File \"<ipython-input-2-5ed5d1f021a8>\", line 34, in getStockInfo\n",
      "    name = stockInfo.find_all(attrs={'class':'bets-name'})[0]\n",
      "AttributeError: 'NoneType' object has no attribute 'find_all'\n"
     ]
    },
    {
     "name": "stdout",
     "output_type": "stream",
     "text": [
      "\n"
     ]
    },
    {
     "name": "stderr",
     "output_type": "stream",
     "text": [
      "Traceback (most recent call last):\n",
      "  File \"<ipython-input-2-5ed5d1f021a8>\", line 31, in getStockInfo\n",
      "    soup = BeautifulSoup(html,'html.parser')\n",
      "  File \"C:\\anaconda\\lib\\site-packages\\bs4\\__init__.py\", line 245, in __init__\n",
      "    elif len(markup) <= 256 and (\n",
      "TypeError: object of type 'NoneType' has no len()\n"
     ]
    },
    {
     "name": "stdout",
     "output_type": "stream",
     "text": [
      "\n"
     ]
    },
    {
     "name": "stderr",
     "output_type": "stream",
     "text": [
      "Traceback (most recent call last):\n",
      "  File \"<ipython-input-2-5ed5d1f021a8>\", line 31, in getStockInfo\n",
      "    soup = BeautifulSoup(html,'html.parser')\n",
      "  File \"C:\\anaconda\\lib\\site-packages\\bs4\\__init__.py\", line 245, in __init__\n",
      "    elif len(markup) <= 256 and (\n",
      "TypeError: object of type 'NoneType' has no len()\n"
     ]
    },
    {
     "name": "stdout",
     "output_type": "stream",
     "text": [
      "\n"
     ]
    },
    {
     "name": "stderr",
     "output_type": "stream",
     "text": [
      "Traceback (most recent call last):\n",
      "  File \"<ipython-input-2-5ed5d1f021a8>\", line 31, in getStockInfo\n",
      "    soup = BeautifulSoup(html,'html.parser')\n",
      "  File \"C:\\anaconda\\lib\\site-packages\\bs4\\__init__.py\", line 245, in __init__\n",
      "    elif len(markup) <= 256 and (\n",
      "TypeError: object of type 'NoneType' has no len()\n",
      "Traceback (most recent call last):\n",
      "  File \"<ipython-input-2-5ed5d1f021a8>\", line 34, in getStockInfo\n",
      "    name = stockInfo.find_all(attrs={'class':'bets-name'})[0]\n",
      "AttributeError: 'NoneType' object has no attribute 'find_all'\n"
     ]
    },
    {
     "name": "stdout",
     "output_type": "stream",
     "text": [
      "\n"
     ]
    },
    {
     "name": "stderr",
     "output_type": "stream",
     "text": [
      "Traceback (most recent call last):\n",
      "  File \"<ipython-input-2-5ed5d1f021a8>\", line 31, in getStockInfo\n",
      "    soup = BeautifulSoup(html,'html.parser')\n",
      "  File \"C:\\anaconda\\lib\\site-packages\\bs4\\__init__.py\", line 245, in __init__\n",
      "    elif len(markup) <= 256 and (\n",
      "TypeError: object of type 'NoneType' has no len()\n"
     ]
    },
    {
     "name": "stdout",
     "output_type": "stream",
     "text": [
      "\n"
     ]
    },
    {
     "name": "stderr",
     "output_type": "stream",
     "text": [
      "Traceback (most recent call last):\n",
      "  File \"<ipython-input-2-5ed5d1f021a8>\", line 31, in getStockInfo\n",
      "    soup = BeautifulSoup(html,'html.parser')\n",
      "  File \"C:\\anaconda\\lib\\site-packages\\bs4\\__init__.py\", line 245, in __init__\n",
      "    elif len(markup) <= 256 and (\n",
      "TypeError: object of type 'NoneType' has no len()\n"
     ]
    },
    {
     "name": "stdout",
     "output_type": "stream",
     "text": [
      "\n"
     ]
    },
    {
     "name": "stderr",
     "output_type": "stream",
     "text": [
      "Traceback (most recent call last):\n",
      "  File \"<ipython-input-2-5ed5d1f021a8>\", line 31, in getStockInfo\n",
      "    soup = BeautifulSoup(html,'html.parser')\n",
      "  File \"C:\\anaconda\\lib\\site-packages\\bs4\\__init__.py\", line 245, in __init__\n",
      "    elif len(markup) <= 256 and (\n",
      "TypeError: object of type 'NoneType' has no len()\n"
     ]
    },
    {
     "name": "stdout",
     "output_type": "stream",
     "text": [
      "\n"
     ]
    },
    {
     "name": "stderr",
     "output_type": "stream",
     "text": [
      "Traceback (most recent call last):\n",
      "  File \"<ipython-input-2-5ed5d1f021a8>\", line 31, in getStockInfo\n",
      "    soup = BeautifulSoup(html,'html.parser')\n",
      "  File \"C:\\anaconda\\lib\\site-packages\\bs4\\__init__.py\", line 245, in __init__\n",
      "    elif len(markup) <= 256 and (\n",
      "TypeError: object of type 'NoneType' has no len()\n"
     ]
    },
    {
     "name": "stdout",
     "output_type": "stream",
     "text": [
      "\n"
     ]
    },
    {
     "name": "stderr",
     "output_type": "stream",
     "text": [
      "Traceback (most recent call last):\n",
      "  File \"<ipython-input-2-5ed5d1f021a8>\", line 31, in getStockInfo\n",
      "    soup = BeautifulSoup(html,'html.parser')\n",
      "  File \"C:\\anaconda\\lib\\site-packages\\bs4\\__init__.py\", line 245, in __init__\n",
      "    elif len(markup) <= 256 and (\n",
      "TypeError: object of type 'NoneType' has no len()\n",
      "Traceback (most recent call last):\n",
      "  File \"<ipython-input-2-5ed5d1f021a8>\", line 34, in getStockInfo\n",
      "    name = stockInfo.find_all(attrs={'class':'bets-name'})[0]\n",
      "AttributeError: 'NoneType' object has no attribute 'find_all'\n",
      "Traceback (most recent call last):\n",
      "  File \"<ipython-input-2-5ed5d1f021a8>\", line 34, in getStockInfo\n",
      "    name = stockInfo.find_all(attrs={'class':'bets-name'})[0]\n",
      "AttributeError: 'NoneType' object has no attribute 'find_all'\n",
      "Traceback (most recent call last):\n",
      "  File \"<ipython-input-2-5ed5d1f021a8>\", line 34, in getStockInfo\n",
      "    name = stockInfo.find_all(attrs={'class':'bets-name'})[0]\n",
      "AttributeError: 'NoneType' object has no attribute 'find_all'\n",
      "Traceback (most recent call last):\n",
      "  File \"<ipython-input-2-5ed5d1f021a8>\", line 34, in getStockInfo\n",
      "    name = stockInfo.find_all(attrs={'class':'bets-name'})[0]\n",
      "AttributeError: 'NoneType' object has no attribute 'find_all'\n"
     ]
    },
    {
     "name": "stdout",
     "output_type": "stream",
     "text": [
      "\n"
     ]
    },
    {
     "name": "stderr",
     "output_type": "stream",
     "text": [
      "Traceback (most recent call last):\n",
      "  File \"<ipython-input-2-5ed5d1f021a8>\", line 31, in getStockInfo\n",
      "    soup = BeautifulSoup(html,'html.parser')\n",
      "  File \"C:\\anaconda\\lib\\site-packages\\bs4\\__init__.py\", line 245, in __init__\n",
      "    elif len(markup) <= 256 and (\n",
      "TypeError: object of type 'NoneType' has no len()\n"
     ]
    },
    {
     "name": "stdout",
     "output_type": "stream",
     "text": [
      "\n"
     ]
    },
    {
     "name": "stderr",
     "output_type": "stream",
     "text": [
      "Traceback (most recent call last):\n",
      "  File \"<ipython-input-2-5ed5d1f021a8>\", line 31, in getStockInfo\n",
      "    soup = BeautifulSoup(html,'html.parser')\n",
      "  File \"C:\\anaconda\\lib\\site-packages\\bs4\\__init__.py\", line 245, in __init__\n",
      "    elif len(markup) <= 256 and (\n",
      "TypeError: object of type 'NoneType' has no len()\n"
     ]
    },
    {
     "name": "stdout",
     "output_type": "stream",
     "text": [
      "\n"
     ]
    },
    {
     "name": "stderr",
     "output_type": "stream",
     "text": [
      "Traceback (most recent call last):\n",
      "  File \"<ipython-input-2-5ed5d1f021a8>\", line 31, in getStockInfo\n",
      "    soup = BeautifulSoup(html,'html.parser')\n",
      "  File \"C:\\anaconda\\lib\\site-packages\\bs4\\__init__.py\", line 245, in __init__\n",
      "    elif len(markup) <= 256 and (\n",
      "TypeError: object of type 'NoneType' has no len()\n"
     ]
    },
    {
     "name": "stdout",
     "output_type": "stream",
     "text": [
      "\n"
     ]
    },
    {
     "name": "stderr",
     "output_type": "stream",
     "text": [
      "Traceback (most recent call last):\n",
      "  File \"<ipython-input-2-5ed5d1f021a8>\", line 31, in getStockInfo\n",
      "    soup = BeautifulSoup(html,'html.parser')\n",
      "  File \"C:\\anaconda\\lib\\site-packages\\bs4\\__init__.py\", line 245, in __init__\n",
      "    elif len(markup) <= 256 and (\n",
      "TypeError: object of type 'NoneType' has no len()\n"
     ]
    },
    {
     "name": "stdout",
     "output_type": "stream",
     "text": [
      "\n"
     ]
    },
    {
     "name": "stderr",
     "output_type": "stream",
     "text": [
      "Traceback (most recent call last):\n",
      "  File \"<ipython-input-2-5ed5d1f021a8>\", line 31, in getStockInfo\n",
      "    soup = BeautifulSoup(html,'html.parser')\n",
      "  File \"C:\\anaconda\\lib\\site-packages\\bs4\\__init__.py\", line 245, in __init__\n",
      "    elif len(markup) <= 256 and (\n",
      "TypeError: object of type 'NoneType' has no len()\n"
     ]
    },
    {
     "name": "stdout",
     "output_type": "stream",
     "text": [
      "\n"
     ]
    },
    {
     "name": "stderr",
     "output_type": "stream",
     "text": [
      "Traceback (most recent call last):\n",
      "  File \"<ipython-input-2-5ed5d1f021a8>\", line 31, in getStockInfo\n",
      "    soup = BeautifulSoup(html,'html.parser')\n",
      "  File \"C:\\anaconda\\lib\\site-packages\\bs4\\__init__.py\", line 245, in __init__\n",
      "    elif len(markup) <= 256 and (\n",
      "TypeError: object of type 'NoneType' has no len()\n"
     ]
    },
    {
     "name": "stdout",
     "output_type": "stream",
     "text": [
      "\n"
     ]
    },
    {
     "name": "stderr",
     "output_type": "stream",
     "text": [
      "Traceback (most recent call last):\n",
      "  File \"<ipython-input-2-5ed5d1f021a8>\", line 31, in getStockInfo\n",
      "    soup = BeautifulSoup(html,'html.parser')\n",
      "  File \"C:\\anaconda\\lib\\site-packages\\bs4\\__init__.py\", line 245, in __init__\n",
      "    elif len(markup) <= 256 and (\n",
      "TypeError: object of type 'NoneType' has no len()\n"
     ]
    },
    {
     "name": "stdout",
     "output_type": "stream",
     "text": [
      "\n"
     ]
    },
    {
     "name": "stderr",
     "output_type": "stream",
     "text": [
      "Traceback (most recent call last):\n",
      "  File \"<ipython-input-2-5ed5d1f021a8>\", line 31, in getStockInfo\n",
      "    soup = BeautifulSoup(html,'html.parser')\n",
      "  File \"C:\\anaconda\\lib\\site-packages\\bs4\\__init__.py\", line 245, in __init__\n",
      "    elif len(markup) <= 256 and (\n",
      "TypeError: object of type 'NoneType' has no len()\n",
      "Traceback (most recent call last):\n",
      "  File \"<ipython-input-2-5ed5d1f021a8>\", line 34, in getStockInfo\n",
      "    name = stockInfo.find_all(attrs={'class':'bets-name'})[0]\n",
      "AttributeError: 'NoneType' object has no attribute 'find_all'\n"
     ]
    },
    {
     "name": "stdout",
     "output_type": "stream",
     "text": [
      "\n"
     ]
    },
    {
     "name": "stderr",
     "output_type": "stream",
     "text": [
      "Traceback (most recent call last):\n",
      "  File \"<ipython-input-2-5ed5d1f021a8>\", line 31, in getStockInfo\n",
      "    soup = BeautifulSoup(html,'html.parser')\n",
      "  File \"C:\\anaconda\\lib\\site-packages\\bs4\\__init__.py\", line 245, in __init__\n",
      "    elif len(markup) <= 256 and (\n",
      "TypeError: object of type 'NoneType' has no len()\n"
     ]
    },
    {
     "name": "stdout",
     "output_type": "stream",
     "text": [
      "\n"
     ]
    },
    {
     "name": "stderr",
     "output_type": "stream",
     "text": [
      "Traceback (most recent call last):\n",
      "  File \"<ipython-input-2-5ed5d1f021a8>\", line 31, in getStockInfo\n",
      "    soup = BeautifulSoup(html,'html.parser')\n",
      "  File \"C:\\anaconda\\lib\\site-packages\\bs4\\__init__.py\", line 245, in __init__\n",
      "    elif len(markup) <= 256 and (\n",
      "TypeError: object of type 'NoneType' has no len()\n",
      "Traceback (most recent call last):\n",
      "  File \"<ipython-input-2-5ed5d1f021a8>\", line 34, in getStockInfo\n",
      "    name = stockInfo.find_all(attrs={'class':'bets-name'})[0]\n",
      "AttributeError: 'NoneType' object has no attribute 'find_all'\n"
     ]
    },
    {
     "name": "stdout",
     "output_type": "stream",
     "text": [
      "\n"
     ]
    },
    {
     "name": "stderr",
     "output_type": "stream",
     "text": [
      "Traceback (most recent call last):\n",
      "  File \"<ipython-input-2-5ed5d1f021a8>\", line 31, in getStockInfo\n",
      "    soup = BeautifulSoup(html,'html.parser')\n",
      "  File \"C:\\anaconda\\lib\\site-packages\\bs4\\__init__.py\", line 245, in __init__\n",
      "    elif len(markup) <= 256 and (\n",
      "TypeError: object of type 'NoneType' has no len()\n"
     ]
    },
    {
     "name": "stdout",
     "output_type": "stream",
     "text": [
      "\n"
     ]
    },
    {
     "name": "stderr",
     "output_type": "stream",
     "text": [
      "Traceback (most recent call last):\n",
      "  File \"<ipython-input-2-5ed5d1f021a8>\", line 31, in getStockInfo\n",
      "    soup = BeautifulSoup(html,'html.parser')\n",
      "  File \"C:\\anaconda\\lib\\site-packages\\bs4\\__init__.py\", line 245, in __init__\n",
      "    elif len(markup) <= 256 and (\n",
      "TypeError: object of type 'NoneType' has no len()\n",
      "Traceback (most recent call last):\n",
      "  File \"<ipython-input-2-5ed5d1f021a8>\", line 34, in getStockInfo\n",
      "    name = stockInfo.find_all(attrs={'class':'bets-name'})[0]\n",
      "AttributeError: 'NoneType' object has no attribute 'find_all'\n"
     ]
    },
    {
     "name": "stdout",
     "output_type": "stream",
     "text": [
      "\n"
     ]
    },
    {
     "name": "stderr",
     "output_type": "stream",
     "text": [
      "Traceback (most recent call last):\n",
      "  File \"<ipython-input-2-5ed5d1f021a8>\", line 31, in getStockInfo\n",
      "    soup = BeautifulSoup(html,'html.parser')\n",
      "  File \"C:\\anaconda\\lib\\site-packages\\bs4\\__init__.py\", line 245, in __init__\n",
      "    elif len(markup) <= 256 and (\n",
      "TypeError: object of type 'NoneType' has no len()\n"
     ]
    },
    {
     "name": "stdout",
     "output_type": "stream",
     "text": [
      "\n"
     ]
    },
    {
     "name": "stderr",
     "output_type": "stream",
     "text": [
      "Traceback (most recent call last):\n",
      "  File \"<ipython-input-2-5ed5d1f021a8>\", line 31, in getStockInfo\n",
      "    soup = BeautifulSoup(html,'html.parser')\n",
      "  File \"C:\\anaconda\\lib\\site-packages\\bs4\\__init__.py\", line 245, in __init__\n",
      "    elif len(markup) <= 256 and (\n",
      "TypeError: object of type 'NoneType' has no len()\n",
      "Traceback (most recent call last):\n",
      "  File \"<ipython-input-2-5ed5d1f021a8>\", line 34, in getStockInfo\n",
      "    name = stockInfo.find_all(attrs={'class':'bets-name'})[0]\n",
      "AttributeError: 'NoneType' object has no attribute 'find_all'\n",
      "Traceback (most recent call last):\n",
      "  File \"<ipython-input-2-5ed5d1f021a8>\", line 34, in getStockInfo\n",
      "    name = stockInfo.find_all(attrs={'class':'bets-name'})[0]\n",
      "AttributeError: 'NoneType' object has no attribute 'find_all'\n"
     ]
    },
    {
     "name": "stdout",
     "output_type": "stream",
     "text": [
      "\n"
     ]
    },
    {
     "name": "stderr",
     "output_type": "stream",
     "text": [
      "Traceback (most recent call last):\n",
      "  File \"<ipython-input-2-5ed5d1f021a8>\", line 31, in getStockInfo\n",
      "    soup = BeautifulSoup(html,'html.parser')\n",
      "  File \"C:\\anaconda\\lib\\site-packages\\bs4\\__init__.py\", line 245, in __init__\n",
      "    elif len(markup) <= 256 and (\n",
      "TypeError: object of type 'NoneType' has no len()\n",
      "Traceback (most recent call last):\n",
      "  File \"<ipython-input-2-5ed5d1f021a8>\", line 34, in getStockInfo\n",
      "    name = stockInfo.find_all(attrs={'class':'bets-name'})[0]\n",
      "AttributeError: 'NoneType' object has no attribute 'find_all'\n"
     ]
    },
    {
     "name": "stdout",
     "output_type": "stream",
     "text": [
      "\n"
     ]
    },
    {
     "name": "stderr",
     "output_type": "stream",
     "text": [
      "Traceback (most recent call last):\n",
      "  File \"<ipython-input-2-5ed5d1f021a8>\", line 31, in getStockInfo\n",
      "    soup = BeautifulSoup(html,'html.parser')\n",
      "  File \"C:\\anaconda\\lib\\site-packages\\bs4\\__init__.py\", line 245, in __init__\n",
      "    elif len(markup) <= 256 and (\n",
      "TypeError: object of type 'NoneType' has no len()\n"
     ]
    },
    {
     "name": "stdout",
     "output_type": "stream",
     "text": [
      "\n"
     ]
    },
    {
     "name": "stderr",
     "output_type": "stream",
     "text": [
      "Traceback (most recent call last):\n",
      "  File \"<ipython-input-2-5ed5d1f021a8>\", line 31, in getStockInfo\n",
      "    soup = BeautifulSoup(html,'html.parser')\n",
      "  File \"C:\\anaconda\\lib\\site-packages\\bs4\\__init__.py\", line 245, in __init__\n",
      "    elif len(markup) <= 256 and (\n",
      "TypeError: object of type 'NoneType' has no len()\n"
     ]
    },
    {
     "name": "stdout",
     "output_type": "stream",
     "text": [
      "\n"
     ]
    },
    {
     "name": "stderr",
     "output_type": "stream",
     "text": [
      "Traceback (most recent call last):\n",
      "  File \"<ipython-input-2-5ed5d1f021a8>\", line 31, in getStockInfo\n",
      "    soup = BeautifulSoup(html,'html.parser')\n",
      "  File \"C:\\anaconda\\lib\\site-packages\\bs4\\__init__.py\", line 245, in __init__\n",
      "    elif len(markup) <= 256 and (\n",
      "TypeError: object of type 'NoneType' has no len()\n"
     ]
    },
    {
     "name": "stdout",
     "output_type": "stream",
     "text": [
      "\n"
     ]
    },
    {
     "name": "stderr",
     "output_type": "stream",
     "text": [
      "Traceback (most recent call last):\n",
      "  File \"<ipython-input-2-5ed5d1f021a8>\", line 31, in getStockInfo\n",
      "    soup = BeautifulSoup(html,'html.parser')\n",
      "  File \"C:\\anaconda\\lib\\site-packages\\bs4\\__init__.py\", line 245, in __init__\n",
      "    elif len(markup) <= 256 and (\n",
      "TypeError: object of type 'NoneType' has no len()\n",
      "Traceback (most recent call last):\n",
      "  File \"<ipython-input-2-5ed5d1f021a8>\", line 34, in getStockInfo\n",
      "    name = stockInfo.find_all(attrs={'class':'bets-name'})[0]\n",
      "AttributeError: 'NoneType' object has no attribute 'find_all'\n"
     ]
    },
    {
     "name": "stdout",
     "output_type": "stream",
     "text": [
      "\n"
     ]
    },
    {
     "name": "stderr",
     "output_type": "stream",
     "text": [
      "Traceback (most recent call last):\n",
      "  File \"<ipython-input-2-5ed5d1f021a8>\", line 31, in getStockInfo\n",
      "    soup = BeautifulSoup(html,'html.parser')\n",
      "  File \"C:\\anaconda\\lib\\site-packages\\bs4\\__init__.py\", line 245, in __init__\n",
      "    elif len(markup) <= 256 and (\n",
      "TypeError: object of type 'NoneType' has no len()\n"
     ]
    },
    {
     "name": "stdout",
     "output_type": "stream",
     "text": [
      "\n"
     ]
    },
    {
     "name": "stderr",
     "output_type": "stream",
     "text": [
      "Traceback (most recent call last):\n",
      "  File \"<ipython-input-2-5ed5d1f021a8>\", line 31, in getStockInfo\n",
      "    soup = BeautifulSoup(html,'html.parser')\n",
      "  File \"C:\\anaconda\\lib\\site-packages\\bs4\\__init__.py\", line 245, in __init__\n",
      "    elif len(markup) <= 256 and (\n",
      "TypeError: object of type 'NoneType' has no len()\n"
     ]
    },
    {
     "name": "stdout",
     "output_type": "stream",
     "text": [
      "\n"
     ]
    },
    {
     "name": "stderr",
     "output_type": "stream",
     "text": [
      "Traceback (most recent call last):\n",
      "  File \"<ipython-input-2-5ed5d1f021a8>\", line 31, in getStockInfo\n",
      "    soup = BeautifulSoup(html,'html.parser')\n",
      "  File \"C:\\anaconda\\lib\\site-packages\\bs4\\__init__.py\", line 245, in __init__\n",
      "    elif len(markup) <= 256 and (\n",
      "TypeError: object of type 'NoneType' has no len()\n"
     ]
    },
    {
     "name": "stdout",
     "output_type": "stream",
     "text": [
      "\n"
     ]
    },
    {
     "name": "stderr",
     "output_type": "stream",
     "text": [
      "Traceback (most recent call last):\n",
      "  File \"<ipython-input-2-5ed5d1f021a8>\", line 31, in getStockInfo\n",
      "    soup = BeautifulSoup(html,'html.parser')\n",
      "  File \"C:\\anaconda\\lib\\site-packages\\bs4\\__init__.py\", line 245, in __init__\n",
      "    elif len(markup) <= 256 and (\n",
      "TypeError: object of type 'NoneType' has no len()\n",
      "Traceback (most recent call last):\n",
      "  File \"<ipython-input-2-5ed5d1f021a8>\", line 34, in getStockInfo\n",
      "    name = stockInfo.find_all(attrs={'class':'bets-name'})[0]\n",
      "AttributeError: 'NoneType' object has no attribute 'find_all'\n"
     ]
    },
    {
     "name": "stdout",
     "output_type": "stream",
     "text": [
      "\n"
     ]
    },
    {
     "name": "stderr",
     "output_type": "stream",
     "text": [
      "Traceback (most recent call last):\n",
      "  File \"<ipython-input-2-5ed5d1f021a8>\", line 31, in getStockInfo\n",
      "    soup = BeautifulSoup(html,'html.parser')\n",
      "  File \"C:\\anaconda\\lib\\site-packages\\bs4\\__init__.py\", line 245, in __init__\n",
      "    elif len(markup) <= 256 and (\n",
      "TypeError: object of type 'NoneType' has no len()\n"
     ]
    },
    {
     "name": "stdout",
     "output_type": "stream",
     "text": [
      "\n"
     ]
    },
    {
     "name": "stderr",
     "output_type": "stream",
     "text": [
      "Traceback (most recent call last):\n",
      "  File \"<ipython-input-2-5ed5d1f021a8>\", line 31, in getStockInfo\n",
      "    soup = BeautifulSoup(html,'html.parser')\n",
      "  File \"C:\\anaconda\\lib\\site-packages\\bs4\\__init__.py\", line 245, in __init__\n",
      "    elif len(markup) <= 256 and (\n",
      "TypeError: object of type 'NoneType' has no len()\n"
     ]
    },
    {
     "name": "stdout",
     "output_type": "stream",
     "text": [
      "\n"
     ]
    },
    {
     "name": "stderr",
     "output_type": "stream",
     "text": [
      "Traceback (most recent call last):\n",
      "  File \"<ipython-input-2-5ed5d1f021a8>\", line 31, in getStockInfo\n",
      "    soup = BeautifulSoup(html,'html.parser')\n",
      "  File \"C:\\anaconda\\lib\\site-packages\\bs4\\__init__.py\", line 245, in __init__\n",
      "    elif len(markup) <= 256 and (\n",
      "TypeError: object of type 'NoneType' has no len()\n"
     ]
    },
    {
     "name": "stdout",
     "output_type": "stream",
     "text": [
      "\n"
     ]
    },
    {
     "name": "stderr",
     "output_type": "stream",
     "text": [
      "Traceback (most recent call last):\n",
      "  File \"<ipython-input-2-5ed5d1f021a8>\", line 31, in getStockInfo\n",
      "    soup = BeautifulSoup(html,'html.parser')\n",
      "  File \"C:\\anaconda\\lib\\site-packages\\bs4\\__init__.py\", line 245, in __init__\n",
      "    elif len(markup) <= 256 and (\n",
      "TypeError: object of type 'NoneType' has no len()\n"
     ]
    },
    {
     "name": "stdout",
     "output_type": "stream",
     "text": [
      "\n"
     ]
    },
    {
     "name": "stderr",
     "output_type": "stream",
     "text": [
      "Traceback (most recent call last):\n",
      "  File \"<ipython-input-2-5ed5d1f021a8>\", line 31, in getStockInfo\n",
      "    soup = BeautifulSoup(html,'html.parser')\n",
      "  File \"C:\\anaconda\\lib\\site-packages\\bs4\\__init__.py\", line 245, in __init__\n",
      "    elif len(markup) <= 256 and (\n",
      "TypeError: object of type 'NoneType' has no len()\n"
     ]
    },
    {
     "name": "stdout",
     "output_type": "stream",
     "text": [
      "\n"
     ]
    },
    {
     "name": "stderr",
     "output_type": "stream",
     "text": [
      "Traceback (most recent call last):\n",
      "  File \"<ipython-input-2-5ed5d1f021a8>\", line 31, in getStockInfo\n",
      "    soup = BeautifulSoup(html,'html.parser')\n",
      "  File \"C:\\anaconda\\lib\\site-packages\\bs4\\__init__.py\", line 245, in __init__\n",
      "    elif len(markup) <= 256 and (\n",
      "TypeError: object of type 'NoneType' has no len()\n"
     ]
    },
    {
     "name": "stdout",
     "output_type": "stream",
     "text": [
      "\n"
     ]
    },
    {
     "name": "stderr",
     "output_type": "stream",
     "text": [
      "Traceback (most recent call last):\n",
      "  File \"<ipython-input-2-5ed5d1f021a8>\", line 31, in getStockInfo\n",
      "    soup = BeautifulSoup(html,'html.parser')\n",
      "  File \"C:\\anaconda\\lib\\site-packages\\bs4\\__init__.py\", line 245, in __init__\n",
      "    elif len(markup) <= 256 and (\n",
      "TypeError: object of type 'NoneType' has no len()\n",
      "Traceback (most recent call last):\n",
      "  File \"<ipython-input-2-5ed5d1f021a8>\", line 34, in getStockInfo\n",
      "    name = stockInfo.find_all(attrs={'class':'bets-name'})[0]\n",
      "AttributeError: 'NoneType' object has no attribute 'find_all'\n"
     ]
    },
    {
     "name": "stdout",
     "output_type": "stream",
     "text": [
      "\n"
     ]
    },
    {
     "name": "stderr",
     "output_type": "stream",
     "text": [
      "Traceback (most recent call last):\n",
      "  File \"<ipython-input-2-5ed5d1f021a8>\", line 31, in getStockInfo\n",
      "    soup = BeautifulSoup(html,'html.parser')\n",
      "  File \"C:\\anaconda\\lib\\site-packages\\bs4\\__init__.py\", line 245, in __init__\n",
      "    elif len(markup) <= 256 and (\n",
      "TypeError: object of type 'NoneType' has no len()\n"
     ]
    },
    {
     "name": "stdout",
     "output_type": "stream",
     "text": [
      "\n"
     ]
    },
    {
     "name": "stderr",
     "output_type": "stream",
     "text": [
      "Traceback (most recent call last):\n",
      "  File \"<ipython-input-2-5ed5d1f021a8>\", line 31, in getStockInfo\n",
      "    soup = BeautifulSoup(html,'html.parser')\n",
      "  File \"C:\\anaconda\\lib\\site-packages\\bs4\\__init__.py\", line 245, in __init__\n",
      "    elif len(markup) <= 256 and (\n",
      "TypeError: object of type 'NoneType' has no len()\n"
     ]
    },
    {
     "name": "stdout",
     "output_type": "stream",
     "text": [
      "\n"
     ]
    },
    {
     "name": "stderr",
     "output_type": "stream",
     "text": [
      "Traceback (most recent call last):\n",
      "  File \"<ipython-input-2-5ed5d1f021a8>\", line 31, in getStockInfo\n",
      "    soup = BeautifulSoup(html,'html.parser')\n",
      "  File \"C:\\anaconda\\lib\\site-packages\\bs4\\__init__.py\", line 245, in __init__\n",
      "    elif len(markup) <= 256 and (\n",
      "TypeError: object of type 'NoneType' has no len()\n",
      "Traceback (most recent call last):\n",
      "  File \"<ipython-input-2-5ed5d1f021a8>\", line 31, in getStockInfo\n",
      "    soup = BeautifulSoup(html,'html.parser')\n",
      "  File \"C:\\anaconda\\lib\\site-packages\\bs4\\__init__.py\", line 245, in __init__\n",
      "    elif len(markup) <= 256 and (\n",
      "TypeError: object of type 'NoneType' has no len()\n"
     ]
    },
    {
     "name": "stdout",
     "output_type": "stream",
     "text": [
      "\n",
      "\n"
     ]
    },
    {
     "name": "stderr",
     "output_type": "stream",
     "text": [
      "Traceback (most recent call last):\n",
      "  File \"<ipython-input-2-5ed5d1f021a8>\", line 31, in getStockInfo\n",
      "    soup = BeautifulSoup(html,'html.parser')\n",
      "  File \"C:\\anaconda\\lib\\site-packages\\bs4\\__init__.py\", line 245, in __init__\n",
      "    elif len(markup) <= 256 and (\n",
      "TypeError: object of type 'NoneType' has no len()\n"
     ]
    },
    {
     "name": "stdout",
     "output_type": "stream",
     "text": [
      "\n"
     ]
    },
    {
     "name": "stderr",
     "output_type": "stream",
     "text": [
      "Traceback (most recent call last):\n",
      "  File \"<ipython-input-2-5ed5d1f021a8>\", line 31, in getStockInfo\n",
      "    soup = BeautifulSoup(html,'html.parser')\n",
      "  File \"C:\\anaconda\\lib\\site-packages\\bs4\\__init__.py\", line 245, in __init__\n",
      "    elif len(markup) <= 256 and (\n",
      "TypeError: object of type 'NoneType' has no len()\n"
     ]
    },
    {
     "name": "stdout",
     "output_type": "stream",
     "text": [
      "\n"
     ]
    },
    {
     "name": "stderr",
     "output_type": "stream",
     "text": [
      "Traceback (most recent call last):\n",
      "  File \"<ipython-input-2-5ed5d1f021a8>\", line 31, in getStockInfo\n",
      "    soup = BeautifulSoup(html,'html.parser')\n",
      "  File \"C:\\anaconda\\lib\\site-packages\\bs4\\__init__.py\", line 245, in __init__\n",
      "    elif len(markup) <= 256 and (\n",
      "TypeError: object of type 'NoneType' has no len()\n"
     ]
    },
    {
     "name": "stdout",
     "output_type": "stream",
     "text": [
      "\n"
     ]
    },
    {
     "name": "stderr",
     "output_type": "stream",
     "text": [
      "Traceback (most recent call last):\n",
      "  File \"<ipython-input-2-5ed5d1f021a8>\", line 31, in getStockInfo\n",
      "    soup = BeautifulSoup(html,'html.parser')\n",
      "  File \"C:\\anaconda\\lib\\site-packages\\bs4\\__init__.py\", line 245, in __init__\n",
      "    elif len(markup) <= 256 and (\n",
      "TypeError: object of type 'NoneType' has no len()\n"
     ]
    },
    {
     "name": "stdout",
     "output_type": "stream",
     "text": [
      "\n"
     ]
    },
    {
     "name": "stderr",
     "output_type": "stream",
     "text": [
      "Traceback (most recent call last):\n",
      "  File \"<ipython-input-2-5ed5d1f021a8>\", line 31, in getStockInfo\n",
      "    soup = BeautifulSoup(html,'html.parser')\n",
      "  File \"C:\\anaconda\\lib\\site-packages\\bs4\\__init__.py\", line 245, in __init__\n",
      "    elif len(markup) <= 256 and (\n",
      "TypeError: object of type 'NoneType' has no len()\n"
     ]
    },
    {
     "name": "stdout",
     "output_type": "stream",
     "text": [
      "\n"
     ]
    },
    {
     "name": "stderr",
     "output_type": "stream",
     "text": [
      "Traceback (most recent call last):\n",
      "  File \"<ipython-input-2-5ed5d1f021a8>\", line 31, in getStockInfo\n",
      "    soup = BeautifulSoup(html,'html.parser')\n",
      "  File \"C:\\anaconda\\lib\\site-packages\\bs4\\__init__.py\", line 245, in __init__\n",
      "    elif len(markup) <= 256 and (\n",
      "TypeError: object of type 'NoneType' has no len()\n"
     ]
    },
    {
     "name": "stdout",
     "output_type": "stream",
     "text": [
      "\n"
     ]
    },
    {
     "name": "stderr",
     "output_type": "stream",
     "text": [
      "Traceback (most recent call last):\n",
      "  File \"<ipython-input-2-5ed5d1f021a8>\", line 31, in getStockInfo\n",
      "    soup = BeautifulSoup(html,'html.parser')\n",
      "  File \"C:\\anaconda\\lib\\site-packages\\bs4\\__init__.py\", line 245, in __init__\n",
      "    elif len(markup) <= 256 and (\n",
      "TypeError: object of type 'NoneType' has no len()\n"
     ]
    },
    {
     "name": "stdout",
     "output_type": "stream",
     "text": [
      "\n"
     ]
    },
    {
     "name": "stderr",
     "output_type": "stream",
     "text": [
      "Traceback (most recent call last):\n",
      "  File \"<ipython-input-2-5ed5d1f021a8>\", line 31, in getStockInfo\n",
      "    soup = BeautifulSoup(html,'html.parser')\n",
      "  File \"C:\\anaconda\\lib\\site-packages\\bs4\\__init__.py\", line 245, in __init__\n",
      "    elif len(markup) <= 256 and (\n",
      "TypeError: object of type 'NoneType' has no len()\n"
     ]
    },
    {
     "name": "stdout",
     "output_type": "stream",
     "text": [
      "\n"
     ]
    },
    {
     "name": "stderr",
     "output_type": "stream",
     "text": [
      "Traceback (most recent call last):\n",
      "  File \"<ipython-input-2-5ed5d1f021a8>\", line 31, in getStockInfo\n",
      "    soup = BeautifulSoup(html,'html.parser')\n",
      "  File \"C:\\anaconda\\lib\\site-packages\\bs4\\__init__.py\", line 245, in __init__\n",
      "    elif len(markup) <= 256 and (\n",
      "TypeError: object of type 'NoneType' has no len()\n"
     ]
    },
    {
     "name": "stdout",
     "output_type": "stream",
     "text": [
      "\n"
     ]
    },
    {
     "name": "stderr",
     "output_type": "stream",
     "text": [
      "Traceback (most recent call last):\n",
      "  File \"<ipython-input-2-5ed5d1f021a8>\", line 31, in getStockInfo\n",
      "    soup = BeautifulSoup(html,'html.parser')\n",
      "  File \"C:\\anaconda\\lib\\site-packages\\bs4\\__init__.py\", line 245, in __init__\n",
      "    elif len(markup) <= 256 and (\n",
      "TypeError: object of type 'NoneType' has no len()\n"
     ]
    },
    {
     "name": "stdout",
     "output_type": "stream",
     "text": [
      "\n"
     ]
    },
    {
     "name": "stderr",
     "output_type": "stream",
     "text": [
      "Traceback (most recent call last):\n",
      "  File \"<ipython-input-2-5ed5d1f021a8>\", line 31, in getStockInfo\n",
      "    soup = BeautifulSoup(html,'html.parser')\n",
      "  File \"C:\\anaconda\\lib\\site-packages\\bs4\\__init__.py\", line 245, in __init__\n",
      "    elif len(markup) <= 256 and (\n",
      "TypeError: object of type 'NoneType' has no len()\n"
     ]
    },
    {
     "name": "stdout",
     "output_type": "stream",
     "text": [
      "\n"
     ]
    },
    {
     "name": "stderr",
     "output_type": "stream",
     "text": [
      "Traceback (most recent call last):\n",
      "  File \"<ipython-input-2-5ed5d1f021a8>\", line 31, in getStockInfo\n",
      "    soup = BeautifulSoup(html,'html.parser')\n",
      "  File \"C:\\anaconda\\lib\\site-packages\\bs4\\__init__.py\", line 245, in __init__\n",
      "    elif len(markup) <= 256 and (\n",
      "TypeError: object of type 'NoneType' has no len()\n"
     ]
    },
    {
     "name": "stdout",
     "output_type": "stream",
     "text": [
      "\n"
     ]
    },
    {
     "name": "stderr",
     "output_type": "stream",
     "text": [
      "Traceback (most recent call last):\n",
      "  File \"<ipython-input-2-5ed5d1f021a8>\", line 31, in getStockInfo\n",
      "    soup = BeautifulSoup(html,'html.parser')\n",
      "  File \"C:\\anaconda\\lib\\site-packages\\bs4\\__init__.py\", line 245, in __init__\n",
      "    elif len(markup) <= 256 and (\n",
      "TypeError: object of type 'NoneType' has no len()\n"
     ]
    },
    {
     "name": "stdout",
     "output_type": "stream",
     "text": [
      "\n"
     ]
    },
    {
     "name": "stderr",
     "output_type": "stream",
     "text": [
      "Traceback (most recent call last):\n",
      "  File \"<ipython-input-2-5ed5d1f021a8>\", line 31, in getStockInfo\n",
      "    soup = BeautifulSoup(html,'html.parser')\n",
      "  File \"C:\\anaconda\\lib\\site-packages\\bs4\\__init__.py\", line 245, in __init__\n",
      "    elif len(markup) <= 256 and (\n",
      "TypeError: object of type 'NoneType' has no len()\n"
     ]
    },
    {
     "name": "stdout",
     "output_type": "stream",
     "text": [
      "\n"
     ]
    },
    {
     "name": "stderr",
     "output_type": "stream",
     "text": [
      "Traceback (most recent call last):\n",
      "  File \"<ipython-input-2-5ed5d1f021a8>\", line 31, in getStockInfo\n",
      "    soup = BeautifulSoup(html,'html.parser')\n",
      "  File \"C:\\anaconda\\lib\\site-packages\\bs4\\__init__.py\", line 245, in __init__\n",
      "    elif len(markup) <= 256 and (\n",
      "TypeError: object of type 'NoneType' has no len()\n"
     ]
    },
    {
     "name": "stdout",
     "output_type": "stream",
     "text": [
      "\n"
     ]
    },
    {
     "name": "stderr",
     "output_type": "stream",
     "text": [
      "Traceback (most recent call last):\n",
      "  File \"<ipython-input-2-5ed5d1f021a8>\", line 31, in getStockInfo\n",
      "    soup = BeautifulSoup(html,'html.parser')\n",
      "  File \"C:\\anaconda\\lib\\site-packages\\bs4\\__init__.py\", line 245, in __init__\n",
      "    elif len(markup) <= 256 and (\n",
      "TypeError: object of type 'NoneType' has no len()\n"
     ]
    },
    {
     "name": "stdout",
     "output_type": "stream",
     "text": [
      "\n"
     ]
    },
    {
     "name": "stderr",
     "output_type": "stream",
     "text": [
      "Traceback (most recent call last):\n",
      "  File \"<ipython-input-2-5ed5d1f021a8>\", line 31, in getStockInfo\n",
      "    soup = BeautifulSoup(html,'html.parser')\n",
      "  File \"C:\\anaconda\\lib\\site-packages\\bs4\\__init__.py\", line 245, in __init__\n",
      "    elif len(markup) <= 256 and (\n",
      "TypeError: object of type 'NoneType' has no len()\n"
     ]
    },
    {
     "name": "stdout",
     "output_type": "stream",
     "text": [
      "\n"
     ]
    },
    {
     "name": "stderr",
     "output_type": "stream",
     "text": [
      "Traceback (most recent call last):\n",
      "  File \"<ipython-input-2-5ed5d1f021a8>\", line 31, in getStockInfo\n",
      "    soup = BeautifulSoup(html,'html.parser')\n",
      "  File \"C:\\anaconda\\lib\\site-packages\\bs4\\__init__.py\", line 245, in __init__\n",
      "    elif len(markup) <= 256 and (\n",
      "TypeError: object of type 'NoneType' has no len()\n"
     ]
    },
    {
     "name": "stdout",
     "output_type": "stream",
     "text": [
      "\n"
     ]
    },
    {
     "name": "stderr",
     "output_type": "stream",
     "text": [
      "Traceback (most recent call last):\n",
      "  File \"<ipython-input-2-5ed5d1f021a8>\", line 31, in getStockInfo\n",
      "    soup = BeautifulSoup(html,'html.parser')\n",
      "  File \"C:\\anaconda\\lib\\site-packages\\bs4\\__init__.py\", line 245, in __init__\n",
      "    elif len(markup) <= 256 and (\n",
      "TypeError: object of type 'NoneType' has no len()\n"
     ]
    },
    {
     "name": "stdout",
     "output_type": "stream",
     "text": [
      "\n"
     ]
    },
    {
     "name": "stderr",
     "output_type": "stream",
     "text": [
      "Traceback (most recent call last):\n",
      "  File \"<ipython-input-2-5ed5d1f021a8>\", line 31, in getStockInfo\n",
      "    soup = BeautifulSoup(html,'html.parser')\n",
      "  File \"C:\\anaconda\\lib\\site-packages\\bs4\\__init__.py\", line 245, in __init__\n",
      "    elif len(markup) <= 256 and (\n",
      "TypeError: object of type 'NoneType' has no len()\n",
      "Traceback (most recent call last):\n",
      "  File \"<ipython-input-2-5ed5d1f021a8>\", line 34, in getStockInfo\n",
      "    name = stockInfo.find_all(attrs={'class':'bets-name'})[0]\n",
      "AttributeError: 'NoneType' object has no attribute 'find_all'\n",
      "Traceback (most recent call last):\n",
      "  File \"<ipython-input-2-5ed5d1f021a8>\", line 34, in getStockInfo\n",
      "    name = stockInfo.find_all(attrs={'class':'bets-name'})[0]\n",
      "AttributeError: 'NoneType' object has no attribute 'find_all'\n"
     ]
    },
    {
     "name": "stdout",
     "output_type": "stream",
     "text": [
      "\n"
     ]
    },
    {
     "name": "stderr",
     "output_type": "stream",
     "text": [
      "Traceback (most recent call last):\n",
      "  File \"<ipython-input-2-5ed5d1f021a8>\", line 31, in getStockInfo\n",
      "    soup = BeautifulSoup(html,'html.parser')\n",
      "  File \"C:\\anaconda\\lib\\site-packages\\bs4\\__init__.py\", line 245, in __init__\n",
      "    elif len(markup) <= 256 and (\n",
      "TypeError: object of type 'NoneType' has no len()\n"
     ]
    },
    {
     "name": "stdout",
     "output_type": "stream",
     "text": [
      "\n"
     ]
    },
    {
     "name": "stderr",
     "output_type": "stream",
     "text": [
      "Traceback (most recent call last):\n",
      "  File \"<ipython-input-2-5ed5d1f021a8>\", line 31, in getStockInfo\n",
      "    soup = BeautifulSoup(html,'html.parser')\n",
      "  File \"C:\\anaconda\\lib\\site-packages\\bs4\\__init__.py\", line 245, in __init__\n",
      "    elif len(markup) <= 256 and (\n",
      "TypeError: object of type 'NoneType' has no len()\n"
     ]
    },
    {
     "name": "stdout",
     "output_type": "stream",
     "text": [
      "\n"
     ]
    },
    {
     "name": "stderr",
     "output_type": "stream",
     "text": [
      "Traceback (most recent call last):\n",
      "  File \"<ipython-input-2-5ed5d1f021a8>\", line 31, in getStockInfo\n",
      "    soup = BeautifulSoup(html,'html.parser')\n",
      "  File \"C:\\anaconda\\lib\\site-packages\\bs4\\__init__.py\", line 245, in __init__\n",
      "    elif len(markup) <= 256 and (\n",
      "TypeError: object of type 'NoneType' has no len()\n"
     ]
    },
    {
     "name": "stdout",
     "output_type": "stream",
     "text": [
      "\n"
     ]
    },
    {
     "name": "stderr",
     "output_type": "stream",
     "text": [
      "Traceback (most recent call last):\n",
      "  File \"<ipython-input-2-5ed5d1f021a8>\", line 31, in getStockInfo\n",
      "    soup = BeautifulSoup(html,'html.parser')\n",
      "  File \"C:\\anaconda\\lib\\site-packages\\bs4\\__init__.py\", line 245, in __init__\n",
      "    elif len(markup) <= 256 and (\n",
      "TypeError: object of type 'NoneType' has no len()\n"
     ]
    },
    {
     "name": "stdout",
     "output_type": "stream",
     "text": [
      "\n"
     ]
    },
    {
     "name": "stderr",
     "output_type": "stream",
     "text": [
      "Traceback (most recent call last):\n",
      "  File \"<ipython-input-2-5ed5d1f021a8>\", line 31, in getStockInfo\n",
      "    soup = BeautifulSoup(html,'html.parser')\n",
      "  File \"C:\\anaconda\\lib\\site-packages\\bs4\\__init__.py\", line 245, in __init__\n",
      "    elif len(markup) <= 256 and (\n",
      "TypeError: object of type 'NoneType' has no len()\n"
     ]
    },
    {
     "name": "stdout",
     "output_type": "stream",
     "text": [
      "\n"
     ]
    },
    {
     "name": "stderr",
     "output_type": "stream",
     "text": [
      "Traceback (most recent call last):\n",
      "  File \"<ipython-input-2-5ed5d1f021a8>\", line 31, in getStockInfo\n",
      "    soup = BeautifulSoup(html,'html.parser')\n",
      "  File \"C:\\anaconda\\lib\\site-packages\\bs4\\__init__.py\", line 245, in __init__\n",
      "    elif len(markup) <= 256 and (\n",
      "TypeError: object of type 'NoneType' has no len()\n"
     ]
    },
    {
     "name": "stdout",
     "output_type": "stream",
     "text": [
      "\n"
     ]
    },
    {
     "name": "stderr",
     "output_type": "stream",
     "text": [
      "Traceback (most recent call last):\n",
      "  File \"<ipython-input-2-5ed5d1f021a8>\", line 31, in getStockInfo\n",
      "    soup = BeautifulSoup(html,'html.parser')\n",
      "  File \"C:\\anaconda\\lib\\site-packages\\bs4\\__init__.py\", line 245, in __init__\n",
      "    elif len(markup) <= 256 and (\n",
      "TypeError: object of type 'NoneType' has no len()\n"
     ]
    },
    {
     "name": "stdout",
     "output_type": "stream",
     "text": [
      "\n"
     ]
    },
    {
     "name": "stderr",
     "output_type": "stream",
     "text": [
      "Traceback (most recent call last):\n",
      "  File \"<ipython-input-2-5ed5d1f021a8>\", line 31, in getStockInfo\n",
      "    soup = BeautifulSoup(html,'html.parser')\n",
      "  File \"C:\\anaconda\\lib\\site-packages\\bs4\\__init__.py\", line 245, in __init__\n",
      "    elif len(markup) <= 256 and (\n",
      "TypeError: object of type 'NoneType' has no len()\n"
     ]
    },
    {
     "name": "stdout",
     "output_type": "stream",
     "text": [
      "\n"
     ]
    },
    {
     "name": "stderr",
     "output_type": "stream",
     "text": [
      "Traceback (most recent call last):\n",
      "  File \"<ipython-input-2-5ed5d1f021a8>\", line 31, in getStockInfo\n",
      "    soup = BeautifulSoup(html,'html.parser')\n",
      "  File \"C:\\anaconda\\lib\\site-packages\\bs4\\__init__.py\", line 245, in __init__\n",
      "    elif len(markup) <= 256 and (\n",
      "TypeError: object of type 'NoneType' has no len()\n"
     ]
    },
    {
     "name": "stdout",
     "output_type": "stream",
     "text": [
      "\n"
     ]
    },
    {
     "name": "stderr",
     "output_type": "stream",
     "text": [
      "Traceback (most recent call last):\n",
      "  File \"<ipython-input-2-5ed5d1f021a8>\", line 31, in getStockInfo\n",
      "    soup = BeautifulSoup(html,'html.parser')\n",
      "  File \"C:\\anaconda\\lib\\site-packages\\bs4\\__init__.py\", line 245, in __init__\n",
      "    elif len(markup) <= 256 and (\n",
      "TypeError: object of type 'NoneType' has no len()\n"
     ]
    },
    {
     "name": "stdout",
     "output_type": "stream",
     "text": [
      "\n"
     ]
    },
    {
     "name": "stderr",
     "output_type": "stream",
     "text": [
      "Traceback (most recent call last):\n",
      "  File \"<ipython-input-2-5ed5d1f021a8>\", line 31, in getStockInfo\n",
      "    soup = BeautifulSoup(html,'html.parser')\n",
      "  File \"C:\\anaconda\\lib\\site-packages\\bs4\\__init__.py\", line 245, in __init__\n",
      "    elif len(markup) <= 256 and (\n",
      "TypeError: object of type 'NoneType' has no len()\n"
     ]
    },
    {
     "name": "stdout",
     "output_type": "stream",
     "text": [
      "\n"
     ]
    },
    {
     "name": "stderr",
     "output_type": "stream",
     "text": [
      "Traceback (most recent call last):\n",
      "  File \"<ipython-input-2-5ed5d1f021a8>\", line 31, in getStockInfo\n",
      "    soup = BeautifulSoup(html,'html.parser')\n",
      "  File \"C:\\anaconda\\lib\\site-packages\\bs4\\__init__.py\", line 245, in __init__\n",
      "    elif len(markup) <= 256 and (\n",
      "TypeError: object of type 'NoneType' has no len()\n"
     ]
    },
    {
     "name": "stdout",
     "output_type": "stream",
     "text": [
      "\n"
     ]
    },
    {
     "name": "stderr",
     "output_type": "stream",
     "text": [
      "Traceback (most recent call last):\n",
      "  File \"<ipython-input-2-5ed5d1f021a8>\", line 31, in getStockInfo\n",
      "    soup = BeautifulSoup(html,'html.parser')\n",
      "  File \"C:\\anaconda\\lib\\site-packages\\bs4\\__init__.py\", line 245, in __init__\n",
      "    elif len(markup) <= 256 and (\n",
      "TypeError: object of type 'NoneType' has no len()\n"
     ]
    },
    {
     "name": "stdout",
     "output_type": "stream",
     "text": [
      "\n"
     ]
    },
    {
     "name": "stderr",
     "output_type": "stream",
     "text": [
      "Traceback (most recent call last):\n",
      "  File \"<ipython-input-2-5ed5d1f021a8>\", line 31, in getStockInfo\n",
      "    soup = BeautifulSoup(html,'html.parser')\n",
      "  File \"C:\\anaconda\\lib\\site-packages\\bs4\\__init__.py\", line 245, in __init__\n",
      "    elif len(markup) <= 256 and (\n",
      "TypeError: object of type 'NoneType' has no len()\n"
     ]
    },
    {
     "name": "stdout",
     "output_type": "stream",
     "text": [
      "\n"
     ]
    },
    {
     "name": "stderr",
     "output_type": "stream",
     "text": [
      "Traceback (most recent call last):\n",
      "  File \"<ipython-input-2-5ed5d1f021a8>\", line 31, in getStockInfo\n",
      "    soup = BeautifulSoup(html,'html.parser')\n",
      "  File \"C:\\anaconda\\lib\\site-packages\\bs4\\__init__.py\", line 245, in __init__\n",
      "    elif len(markup) <= 256 and (\n",
      "TypeError: object of type 'NoneType' has no len()\n"
     ]
    },
    {
     "name": "stdout",
     "output_type": "stream",
     "text": [
      "\n"
     ]
    },
    {
     "name": "stderr",
     "output_type": "stream",
     "text": [
      "Traceback (most recent call last):\n",
      "  File \"<ipython-input-2-5ed5d1f021a8>\", line 31, in getStockInfo\n",
      "    soup = BeautifulSoup(html,'html.parser')\n",
      "  File \"C:\\anaconda\\lib\\site-packages\\bs4\\__init__.py\", line 245, in __init__\n",
      "    elif len(markup) <= 256 and (\n",
      "TypeError: object of type 'NoneType' has no len()\n"
     ]
    },
    {
     "name": "stdout",
     "output_type": "stream",
     "text": [
      "\n"
     ]
    },
    {
     "name": "stderr",
     "output_type": "stream",
     "text": [
      "Traceback (most recent call last):\n",
      "  File \"<ipython-input-2-5ed5d1f021a8>\", line 31, in getStockInfo\n",
      "    soup = BeautifulSoup(html,'html.parser')\n",
      "  File \"C:\\anaconda\\lib\\site-packages\\bs4\\__init__.py\", line 245, in __init__\n",
      "    elif len(markup) <= 256 and (\n",
      "TypeError: object of type 'NoneType' has no len()\n",
      "Traceback (most recent call last):\n",
      "  File \"<ipython-input-2-5ed5d1f021a8>\", line 34, in getStockInfo\n",
      "    name = stockInfo.find_all(attrs={'class':'bets-name'})[0]\n",
      "AttributeError: 'NoneType' object has no attribute 'find_all'\n",
      "Traceback (most recent call last):\n",
      "  File \"<ipython-input-2-5ed5d1f021a8>\", line 34, in getStockInfo\n",
      "    name = stockInfo.find_all(attrs={'class':'bets-name'})[0]\n",
      "AttributeError: 'NoneType' object has no attribute 'find_all'\n"
     ]
    },
    {
     "name": "stdout",
     "output_type": "stream",
     "text": [
      "\n"
     ]
    },
    {
     "name": "stderr",
     "output_type": "stream",
     "text": [
      "Traceback (most recent call last):\n",
      "  File \"<ipython-input-2-5ed5d1f021a8>\", line 31, in getStockInfo\n",
      "    soup = BeautifulSoup(html,'html.parser')\n",
      "  File \"C:\\anaconda\\lib\\site-packages\\bs4\\__init__.py\", line 245, in __init__\n",
      "    elif len(markup) <= 256 and (\n",
      "TypeError: object of type 'NoneType' has no len()\n"
     ]
    },
    {
     "name": "stdout",
     "output_type": "stream",
     "text": [
      "\n"
     ]
    },
    {
     "name": "stderr",
     "output_type": "stream",
     "text": [
      "Traceback (most recent call last):\n",
      "  File \"<ipython-input-2-5ed5d1f021a8>\", line 31, in getStockInfo\n",
      "    soup = BeautifulSoup(html,'html.parser')\n",
      "  File \"C:\\anaconda\\lib\\site-packages\\bs4\\__init__.py\", line 245, in __init__\n",
      "    elif len(markup) <= 256 and (\n",
      "TypeError: object of type 'NoneType' has no len()\n",
      "Traceback (most recent call last):\n",
      "  File \"<ipython-input-2-5ed5d1f021a8>\", line 34, in getStockInfo\n",
      "    name = stockInfo.find_all(attrs={'class':'bets-name'})[0]\n",
      "AttributeError: 'NoneType' object has no attribute 'find_all'\n"
     ]
    },
    {
     "name": "stdout",
     "output_type": "stream",
     "text": [
      "\n"
     ]
    },
    {
     "name": "stderr",
     "output_type": "stream",
     "text": [
      "Traceback (most recent call last):\n",
      "  File \"<ipython-input-2-5ed5d1f021a8>\", line 31, in getStockInfo\n",
      "    soup = BeautifulSoup(html,'html.parser')\n",
      "  File \"C:\\anaconda\\lib\\site-packages\\bs4\\__init__.py\", line 245, in __init__\n",
      "    elif len(markup) <= 256 and (\n",
      "TypeError: object of type 'NoneType' has no len()\n"
     ]
    },
    {
     "name": "stdout",
     "output_type": "stream",
     "text": [
      "\n"
     ]
    },
    {
     "name": "stderr",
     "output_type": "stream",
     "text": [
      "Traceback (most recent call last):\n",
      "  File \"<ipython-input-2-5ed5d1f021a8>\", line 31, in getStockInfo\n",
      "    soup = BeautifulSoup(html,'html.parser')\n",
      "  File \"C:\\anaconda\\lib\\site-packages\\bs4\\__init__.py\", line 245, in __init__\n",
      "    elif len(markup) <= 256 and (\n",
      "TypeError: object of type 'NoneType' has no len()\n",
      "Traceback (most recent call last):\n",
      "  File \"<ipython-input-2-5ed5d1f021a8>\", line 34, in getStockInfo\n",
      "    name = stockInfo.find_all(attrs={'class':'bets-name'})[0]\n",
      "AttributeError: 'NoneType' object has no attribute 'find_all'\n",
      "Traceback (most recent call last):\n",
      "  File \"<ipython-input-2-5ed5d1f021a8>\", line 34, in getStockInfo\n",
      "    name = stockInfo.find_all(attrs={'class':'bets-name'})[0]\n",
      "AttributeError: 'NoneType' object has no attribute 'find_all'\n"
     ]
    },
    {
     "name": "stdout",
     "output_type": "stream",
     "text": [
      "\n"
     ]
    },
    {
     "name": "stderr",
     "output_type": "stream",
     "text": [
      "Traceback (most recent call last):\n",
      "  File \"<ipython-input-2-5ed5d1f021a8>\", line 31, in getStockInfo\n",
      "    soup = BeautifulSoup(html,'html.parser')\n",
      "  File \"C:\\anaconda\\lib\\site-packages\\bs4\\__init__.py\", line 245, in __init__\n",
      "    elif len(markup) <= 256 and (\n",
      "TypeError: object of type 'NoneType' has no len()\n"
     ]
    },
    {
     "name": "stdout",
     "output_type": "stream",
     "text": [
      "\n"
     ]
    },
    {
     "name": "stderr",
     "output_type": "stream",
     "text": [
      "Traceback (most recent call last):\n",
      "  File \"<ipython-input-2-5ed5d1f021a8>\", line 31, in getStockInfo\n",
      "    soup = BeautifulSoup(html,'html.parser')\n",
      "  File \"C:\\anaconda\\lib\\site-packages\\bs4\\__init__.py\", line 245, in __init__\n",
      "    elif len(markup) <= 256 and (\n",
      "TypeError: object of type 'NoneType' has no len()\n"
     ]
    },
    {
     "name": "stdout",
     "output_type": "stream",
     "text": [
      "\n"
     ]
    },
    {
     "name": "stderr",
     "output_type": "stream",
     "text": [
      "Traceback (most recent call last):\n",
      "  File \"<ipython-input-2-5ed5d1f021a8>\", line 31, in getStockInfo\n",
      "    soup = BeautifulSoup(html,'html.parser')\n",
      "  File \"C:\\anaconda\\lib\\site-packages\\bs4\\__init__.py\", line 245, in __init__\n",
      "    elif len(markup) <= 256 and (\n",
      "TypeError: object of type 'NoneType' has no len()\n"
     ]
    },
    {
     "name": "stdout",
     "output_type": "stream",
     "text": [
      "\n"
     ]
    },
    {
     "name": "stderr",
     "output_type": "stream",
     "text": [
      "Traceback (most recent call last):\n",
      "  File \"<ipython-input-2-5ed5d1f021a8>\", line 31, in getStockInfo\n",
      "    soup = BeautifulSoup(html,'html.parser')\n",
      "  File \"C:\\anaconda\\lib\\site-packages\\bs4\\__init__.py\", line 245, in __init__\n",
      "    elif len(markup) <= 256 and (\n",
      "TypeError: object of type 'NoneType' has no len()\n"
     ]
    },
    {
     "name": "stdout",
     "output_type": "stream",
     "text": [
      "\n"
     ]
    },
    {
     "name": "stderr",
     "output_type": "stream",
     "text": [
      "Traceback (most recent call last):\n",
      "  File \"<ipython-input-2-5ed5d1f021a8>\", line 31, in getStockInfo\n",
      "    soup = BeautifulSoup(html,'html.parser')\n",
      "  File \"C:\\anaconda\\lib\\site-packages\\bs4\\__init__.py\", line 245, in __init__\n",
      "    elif len(markup) <= 256 and (\n",
      "TypeError: object of type 'NoneType' has no len()\n"
     ]
    },
    {
     "name": "stdout",
     "output_type": "stream",
     "text": [
      "\n"
     ]
    },
    {
     "name": "stderr",
     "output_type": "stream",
     "text": [
      "Traceback (most recent call last):\n",
      "  File \"<ipython-input-2-5ed5d1f021a8>\", line 31, in getStockInfo\n",
      "    soup = BeautifulSoup(html,'html.parser')\n",
      "  File \"C:\\anaconda\\lib\\site-packages\\bs4\\__init__.py\", line 245, in __init__\n",
      "    elif len(markup) <= 256 and (\n",
      "TypeError: object of type 'NoneType' has no len()\n",
      "Traceback (most recent call last):\n",
      "  File \"<ipython-input-2-5ed5d1f021a8>\", line 34, in getStockInfo\n",
      "    name = stockInfo.find_all(attrs={'class':'bets-name'})[0]\n",
      "AttributeError: 'NoneType' object has no attribute 'find_all'\n"
     ]
    },
    {
     "name": "stdout",
     "output_type": "stream",
     "text": [
      "\n"
     ]
    },
    {
     "name": "stderr",
     "output_type": "stream",
     "text": [
      "Traceback (most recent call last):\n",
      "  File \"<ipython-input-2-5ed5d1f021a8>\", line 31, in getStockInfo\n",
      "    soup = BeautifulSoup(html,'html.parser')\n",
      "  File \"C:\\anaconda\\lib\\site-packages\\bs4\\__init__.py\", line 245, in __init__\n",
      "    elif len(markup) <= 256 and (\n",
      "TypeError: object of type 'NoneType' has no len()\n"
     ]
    },
    {
     "name": "stdout",
     "output_type": "stream",
     "text": [
      "\n"
     ]
    },
    {
     "name": "stderr",
     "output_type": "stream",
     "text": [
      "Traceback (most recent call last):\n",
      "  File \"<ipython-input-2-5ed5d1f021a8>\", line 31, in getStockInfo\n",
      "    soup = BeautifulSoup(html,'html.parser')\n",
      "  File \"C:\\anaconda\\lib\\site-packages\\bs4\\__init__.py\", line 245, in __init__\n",
      "    elif len(markup) <= 256 and (\n",
      "TypeError: object of type 'NoneType' has no len()\n"
     ]
    },
    {
     "name": "stdout",
     "output_type": "stream",
     "text": [
      "\n"
     ]
    },
    {
     "name": "stderr",
     "output_type": "stream",
     "text": [
      "Traceback (most recent call last):\n",
      "  File \"<ipython-input-2-5ed5d1f021a8>\", line 31, in getStockInfo\n",
      "    soup = BeautifulSoup(html,'html.parser')\n",
      "  File \"C:\\anaconda\\lib\\site-packages\\bs4\\__init__.py\", line 245, in __init__\n",
      "    elif len(markup) <= 256 and (\n",
      "TypeError: object of type 'NoneType' has no len()\n"
     ]
    },
    {
     "name": "stdout",
     "output_type": "stream",
     "text": [
      "\n"
     ]
    },
    {
     "name": "stderr",
     "output_type": "stream",
     "text": [
      "Traceback (most recent call last):\n",
      "  File \"<ipython-input-2-5ed5d1f021a8>\", line 31, in getStockInfo\n",
      "    soup = BeautifulSoup(html,'html.parser')\n",
      "  File \"C:\\anaconda\\lib\\site-packages\\bs4\\__init__.py\", line 245, in __init__\n",
      "    elif len(markup) <= 256 and (\n",
      "TypeError: object of type 'NoneType' has no len()\n"
     ]
    },
    {
     "name": "stdout",
     "output_type": "stream",
     "text": [
      "\n"
     ]
    },
    {
     "name": "stderr",
     "output_type": "stream",
     "text": [
      "Traceback (most recent call last):\n",
      "  File \"<ipython-input-2-5ed5d1f021a8>\", line 31, in getStockInfo\n",
      "    soup = BeautifulSoup(html,'html.parser')\n",
      "  File \"C:\\anaconda\\lib\\site-packages\\bs4\\__init__.py\", line 245, in __init__\n",
      "    elif len(markup) <= 256 and (\n",
      "TypeError: object of type 'NoneType' has no len()\n"
     ]
    },
    {
     "name": "stdout",
     "output_type": "stream",
     "text": [
      "\n"
     ]
    },
    {
     "name": "stderr",
     "output_type": "stream",
     "text": [
      "Traceback (most recent call last):\n",
      "  File \"<ipython-input-2-5ed5d1f021a8>\", line 31, in getStockInfo\n",
      "    soup = BeautifulSoup(html,'html.parser')\n",
      "  File \"C:\\anaconda\\lib\\site-packages\\bs4\\__init__.py\", line 245, in __init__\n",
      "    elif len(markup) <= 256 and (\n",
      "TypeError: object of type 'NoneType' has no len()\n",
      "Traceback (most recent call last):\n",
      "  File \"<ipython-input-2-5ed5d1f021a8>\", line 34, in getStockInfo\n",
      "    name = stockInfo.find_all(attrs={'class':'bets-name'})[0]\n",
      "AttributeError: 'NoneType' object has no attribute 'find_all'\n",
      "Traceback (most recent call last):\n",
      "  File \"<ipython-input-2-5ed5d1f021a8>\", line 34, in getStockInfo\n",
      "    name = stockInfo.find_all(attrs={'class':'bets-name'})[0]\n",
      "AttributeError: 'NoneType' object has no attribute 'find_all'\n"
     ]
    },
    {
     "name": "stdout",
     "output_type": "stream",
     "text": [
      "\n"
     ]
    },
    {
     "name": "stderr",
     "output_type": "stream",
     "text": [
      "Traceback (most recent call last):\n",
      "  File \"<ipython-input-2-5ed5d1f021a8>\", line 31, in getStockInfo\n",
      "    soup = BeautifulSoup(html,'html.parser')\n",
      "  File \"C:\\anaconda\\lib\\site-packages\\bs4\\__init__.py\", line 245, in __init__\n",
      "    elif len(markup) <= 256 and (\n",
      "TypeError: object of type 'NoneType' has no len()\n",
      "Traceback (most recent call last):\n",
      "  File \"<ipython-input-2-5ed5d1f021a8>\", line 34, in getStockInfo\n",
      "    name = stockInfo.find_all(attrs={'class':'bets-name'})[0]\n",
      "AttributeError: 'NoneType' object has no attribute 'find_all'\n"
     ]
    },
    {
     "name": "stdout",
     "output_type": "stream",
     "text": [
      "\n"
     ]
    },
    {
     "name": "stderr",
     "output_type": "stream",
     "text": [
      "Traceback (most recent call last):\n",
      "  File \"<ipython-input-2-5ed5d1f021a8>\", line 31, in getStockInfo\n",
      "    soup = BeautifulSoup(html,'html.parser')\n",
      "  File \"C:\\anaconda\\lib\\site-packages\\bs4\\__init__.py\", line 245, in __init__\n",
      "    elif len(markup) <= 256 and (\n",
      "TypeError: object of type 'NoneType' has no len()\n"
     ]
    },
    {
     "name": "stdout",
     "output_type": "stream",
     "text": [
      "\n"
     ]
    },
    {
     "name": "stderr",
     "output_type": "stream",
     "text": [
      "Traceback (most recent call last):\n",
      "  File \"<ipython-input-2-5ed5d1f021a8>\", line 31, in getStockInfo\n",
      "    soup = BeautifulSoup(html,'html.parser')\n",
      "  File \"C:\\anaconda\\lib\\site-packages\\bs4\\__init__.py\", line 245, in __init__\n",
      "    elif len(markup) <= 256 and (\n",
      "TypeError: object of type 'NoneType' has no len()\n"
     ]
    },
    {
     "name": "stdout",
     "output_type": "stream",
     "text": [
      "\n"
     ]
    },
    {
     "name": "stderr",
     "output_type": "stream",
     "text": [
      "Traceback (most recent call last):\n",
      "  File \"<ipython-input-2-5ed5d1f021a8>\", line 31, in getStockInfo\n",
      "    soup = BeautifulSoup(html,'html.parser')\n",
      "  File \"C:\\anaconda\\lib\\site-packages\\bs4\\__init__.py\", line 245, in __init__\n",
      "    elif len(markup) <= 256 and (\n",
      "TypeError: object of type 'NoneType' has no len()\n"
     ]
    },
    {
     "name": "stdout",
     "output_type": "stream",
     "text": [
      "\n"
     ]
    },
    {
     "name": "stderr",
     "output_type": "stream",
     "text": [
      "Traceback (most recent call last):\n",
      "  File \"<ipython-input-2-5ed5d1f021a8>\", line 31, in getStockInfo\n",
      "    soup = BeautifulSoup(html,'html.parser')\n",
      "  File \"C:\\anaconda\\lib\\site-packages\\bs4\\__init__.py\", line 245, in __init__\n",
      "    elif len(markup) <= 256 and (\n",
      "TypeError: object of type 'NoneType' has no len()\n"
     ]
    },
    {
     "name": "stdout",
     "output_type": "stream",
     "text": [
      "\n"
     ]
    },
    {
     "name": "stderr",
     "output_type": "stream",
     "text": [
      "Traceback (most recent call last):\n",
      "  File \"<ipython-input-2-5ed5d1f021a8>\", line 31, in getStockInfo\n",
      "    soup = BeautifulSoup(html,'html.parser')\n",
      "  File \"C:\\anaconda\\lib\\site-packages\\bs4\\__init__.py\", line 245, in __init__\n",
      "    elif len(markup) <= 256 and (\n",
      "TypeError: object of type 'NoneType' has no len()\n",
      "Traceback (most recent call last):\n",
      "  File \"<ipython-input-2-5ed5d1f021a8>\", line 34, in getStockInfo\n",
      "    name = stockInfo.find_all(attrs={'class':'bets-name'})[0]\n",
      "AttributeError: 'NoneType' object has no attribute 'find_all'\n",
      "Traceback (most recent call last):\n",
      "  File \"<ipython-input-2-5ed5d1f021a8>\", line 34, in getStockInfo\n",
      "    name = stockInfo.find_all(attrs={'class':'bets-name'})[0]\n",
      "AttributeError: 'NoneType' object has no attribute 'find_all'\n",
      "Traceback (most recent call last):\n",
      "  File \"<ipython-input-2-5ed5d1f021a8>\", line 34, in getStockInfo\n",
      "    name = stockInfo.find_all(attrs={'class':'bets-name'})[0]\n",
      "AttributeError: 'NoneType' object has no attribute 'find_all'\n",
      "Traceback (most recent call last):\n",
      "  File \"<ipython-input-2-5ed5d1f021a8>\", line 34, in getStockInfo\n",
      "    name = stockInfo.find_all(attrs={'class':'bets-name'})[0]\n",
      "AttributeError: 'NoneType' object has no attribute 'find_all'\n"
     ]
    },
    {
     "name": "stdout",
     "output_type": "stream",
     "text": [
      "\n"
     ]
    },
    {
     "name": "stderr",
     "output_type": "stream",
     "text": [
      "Traceback (most recent call last):\n",
      "  File \"<ipython-input-2-5ed5d1f021a8>\", line 31, in getStockInfo\n",
      "    soup = BeautifulSoup(html,'html.parser')\n",
      "  File \"C:\\anaconda\\lib\\site-packages\\bs4\\__init__.py\", line 245, in __init__\n",
      "    elif len(markup) <= 256 and (\n",
      "TypeError: object of type 'NoneType' has no len()\n"
     ]
    },
    {
     "name": "stdout",
     "output_type": "stream",
     "text": [
      "\n"
     ]
    },
    {
     "name": "stderr",
     "output_type": "stream",
     "text": [
      "Traceback (most recent call last):\n",
      "  File \"<ipython-input-2-5ed5d1f021a8>\", line 31, in getStockInfo\n",
      "    soup = BeautifulSoup(html,'html.parser')\n",
      "  File \"C:\\anaconda\\lib\\site-packages\\bs4\\__init__.py\", line 245, in __init__\n",
      "    elif len(markup) <= 256 and (\n",
      "TypeError: object of type 'NoneType' has no len()\n"
     ]
    },
    {
     "name": "stdout",
     "output_type": "stream",
     "text": [
      "\n"
     ]
    },
    {
     "name": "stderr",
     "output_type": "stream",
     "text": [
      "Traceback (most recent call last):\n",
      "  File \"<ipython-input-2-5ed5d1f021a8>\", line 31, in getStockInfo\n",
      "    soup = BeautifulSoup(html,'html.parser')\n",
      "  File \"C:\\anaconda\\lib\\site-packages\\bs4\\__init__.py\", line 245, in __init__\n",
      "    elif len(markup) <= 256 and (\n",
      "TypeError: object of type 'NoneType' has no len()\n"
     ]
    },
    {
     "name": "stdout",
     "output_type": "stream",
     "text": [
      "\n"
     ]
    },
    {
     "name": "stderr",
     "output_type": "stream",
     "text": [
      "Traceback (most recent call last):\n",
      "  File \"<ipython-input-2-5ed5d1f021a8>\", line 31, in getStockInfo\n",
      "    soup = BeautifulSoup(html,'html.parser')\n",
      "  File \"C:\\anaconda\\lib\\site-packages\\bs4\\__init__.py\", line 245, in __init__\n",
      "    elif len(markup) <= 256 and (\n",
      "TypeError: object of type 'NoneType' has no len()\n"
     ]
    },
    {
     "name": "stdout",
     "output_type": "stream",
     "text": [
      "\n"
     ]
    },
    {
     "name": "stderr",
     "output_type": "stream",
     "text": [
      "Traceback (most recent call last):\n",
      "  File \"<ipython-input-2-5ed5d1f021a8>\", line 31, in getStockInfo\n",
      "    soup = BeautifulSoup(html,'html.parser')\n",
      "  File \"C:\\anaconda\\lib\\site-packages\\bs4\\__init__.py\", line 245, in __init__\n",
      "    elif len(markup) <= 256 and (\n",
      "TypeError: object of type 'NoneType' has no len()\n"
     ]
    },
    {
     "name": "stdout",
     "output_type": "stream",
     "text": [
      "\n"
     ]
    },
    {
     "name": "stderr",
     "output_type": "stream",
     "text": [
      "Traceback (most recent call last):\n",
      "  File \"<ipython-input-2-5ed5d1f021a8>\", line 31, in getStockInfo\n",
      "    soup = BeautifulSoup(html,'html.parser')\n",
      "  File \"C:\\anaconda\\lib\\site-packages\\bs4\\__init__.py\", line 245, in __init__\n",
      "    elif len(markup) <= 256 and (\n",
      "TypeError: object of type 'NoneType' has no len()\n"
     ]
    },
    {
     "name": "stdout",
     "output_type": "stream",
     "text": [
      "\n"
     ]
    },
    {
     "name": "stderr",
     "output_type": "stream",
     "text": [
      "Traceback (most recent call last):\n",
      "  File \"<ipython-input-2-5ed5d1f021a8>\", line 31, in getStockInfo\n",
      "    soup = BeautifulSoup(html,'html.parser')\n",
      "  File \"C:\\anaconda\\lib\\site-packages\\bs4\\__init__.py\", line 245, in __init__\n",
      "    elif len(markup) <= 256 and (\n",
      "TypeError: object of type 'NoneType' has no len()\n"
     ]
    },
    {
     "name": "stdout",
     "output_type": "stream",
     "text": [
      "\n"
     ]
    },
    {
     "name": "stderr",
     "output_type": "stream",
     "text": [
      "Traceback (most recent call last):\n",
      "  File \"<ipython-input-2-5ed5d1f021a8>\", line 31, in getStockInfo\n",
      "    soup = BeautifulSoup(html,'html.parser')\n",
      "  File \"C:\\anaconda\\lib\\site-packages\\bs4\\__init__.py\", line 245, in __init__\n",
      "    elif len(markup) <= 256 and (\n",
      "TypeError: object of type 'NoneType' has no len()\n"
     ]
    },
    {
     "name": "stdout",
     "output_type": "stream",
     "text": [
      "\n"
     ]
    },
    {
     "name": "stderr",
     "output_type": "stream",
     "text": [
      "Traceback (most recent call last):\n",
      "  File \"<ipython-input-2-5ed5d1f021a8>\", line 31, in getStockInfo\n",
      "    soup = BeautifulSoup(html,'html.parser')\n",
      "  File \"C:\\anaconda\\lib\\site-packages\\bs4\\__init__.py\", line 245, in __init__\n",
      "    elif len(markup) <= 256 and (\n",
      "TypeError: object of type 'NoneType' has no len()\n"
     ]
    },
    {
     "name": "stdout",
     "output_type": "stream",
     "text": [
      "\n"
     ]
    },
    {
     "name": "stderr",
     "output_type": "stream",
     "text": [
      "Traceback (most recent call last):\n",
      "  File \"<ipython-input-2-5ed5d1f021a8>\", line 31, in getStockInfo\n",
      "    soup = BeautifulSoup(html,'html.parser')\n",
      "  File \"C:\\anaconda\\lib\\site-packages\\bs4\\__init__.py\", line 245, in __init__\n",
      "    elif len(markup) <= 256 and (\n",
      "TypeError: object of type 'NoneType' has no len()\n"
     ]
    },
    {
     "name": "stdout",
     "output_type": "stream",
     "text": [
      "\n"
     ]
    },
    {
     "name": "stderr",
     "output_type": "stream",
     "text": [
      "Traceback (most recent call last):\n",
      "  File \"<ipython-input-2-5ed5d1f021a8>\", line 31, in getStockInfo\n",
      "    soup = BeautifulSoup(html,'html.parser')\n",
      "  File \"C:\\anaconda\\lib\\site-packages\\bs4\\__init__.py\", line 245, in __init__\n",
      "    elif len(markup) <= 256 and (\n",
      "TypeError: object of type 'NoneType' has no len()\n",
      "Traceback (most recent call last):\n",
      "  File \"<ipython-input-2-5ed5d1f021a8>\", line 34, in getStockInfo\n",
      "    name = stockInfo.find_all(attrs={'class':'bets-name'})[0]\n",
      "AttributeError: 'NoneType' object has no attribute 'find_all'\n"
     ]
    },
    {
     "name": "stdout",
     "output_type": "stream",
     "text": [
      "\n"
     ]
    },
    {
     "name": "stderr",
     "output_type": "stream",
     "text": [
      "Traceback (most recent call last):\n",
      "  File \"<ipython-input-2-5ed5d1f021a8>\", line 31, in getStockInfo\n",
      "    soup = BeautifulSoup(html,'html.parser')\n",
      "  File \"C:\\anaconda\\lib\\site-packages\\bs4\\__init__.py\", line 245, in __init__\n",
      "    elif len(markup) <= 256 and (\n",
      "TypeError: object of type 'NoneType' has no len()\n"
     ]
    },
    {
     "name": "stdout",
     "output_type": "stream",
     "text": [
      "\n"
     ]
    },
    {
     "name": "stderr",
     "output_type": "stream",
     "text": [
      "Traceback (most recent call last):\n",
      "  File \"<ipython-input-2-5ed5d1f021a8>\", line 31, in getStockInfo\n",
      "    soup = BeautifulSoup(html,'html.parser')\n",
      "  File \"C:\\anaconda\\lib\\site-packages\\bs4\\__init__.py\", line 245, in __init__\n",
      "    elif len(markup) <= 256 and (\n",
      "TypeError: object of type 'NoneType' has no len()\n"
     ]
    },
    {
     "name": "stdout",
     "output_type": "stream",
     "text": [
      "\n"
     ]
    },
    {
     "name": "stderr",
     "output_type": "stream",
     "text": [
      "Traceback (most recent call last):\n",
      "  File \"<ipython-input-2-5ed5d1f021a8>\", line 31, in getStockInfo\n",
      "    soup = BeautifulSoup(html,'html.parser')\n",
      "  File \"C:\\anaconda\\lib\\site-packages\\bs4\\__init__.py\", line 245, in __init__\n",
      "    elif len(markup) <= 256 and (\n",
      "TypeError: object of type 'NoneType' has no len()\n"
     ]
    },
    {
     "name": "stdout",
     "output_type": "stream",
     "text": [
      "\n"
     ]
    },
    {
     "name": "stderr",
     "output_type": "stream",
     "text": [
      "Traceback (most recent call last):\n",
      "  File \"<ipython-input-2-5ed5d1f021a8>\", line 31, in getStockInfo\n",
      "    soup = BeautifulSoup(html,'html.parser')\n",
      "  File \"C:\\anaconda\\lib\\site-packages\\bs4\\__init__.py\", line 245, in __init__\n",
      "    elif len(markup) <= 256 and (\n",
      "TypeError: object of type 'NoneType' has no len()\n"
     ]
    },
    {
     "name": "stdout",
     "output_type": "stream",
     "text": [
      "\n"
     ]
    },
    {
     "name": "stderr",
     "output_type": "stream",
     "text": [
      "Traceback (most recent call last):\n",
      "  File \"<ipython-input-2-5ed5d1f021a8>\", line 31, in getStockInfo\n",
      "    soup = BeautifulSoup(html,'html.parser')\n",
      "  File \"C:\\anaconda\\lib\\site-packages\\bs4\\__init__.py\", line 245, in __init__\n",
      "    elif len(markup) <= 256 and (\n",
      "TypeError: object of type 'NoneType' has no len()\n",
      "Traceback (most recent call last):\n",
      "  File \"<ipython-input-2-5ed5d1f021a8>\", line 34, in getStockInfo\n",
      "    name = stockInfo.find_all(attrs={'class':'bets-name'})[0]\n",
      "AttributeError: 'NoneType' object has no attribute 'find_all'\n"
     ]
    },
    {
     "name": "stdout",
     "output_type": "stream",
     "text": [
      "\n"
     ]
    },
    {
     "name": "stderr",
     "output_type": "stream",
     "text": [
      "Traceback (most recent call last):\n",
      "  File \"<ipython-input-2-5ed5d1f021a8>\", line 31, in getStockInfo\n",
      "    soup = BeautifulSoup(html,'html.parser')\n",
      "  File \"C:\\anaconda\\lib\\site-packages\\bs4\\__init__.py\", line 245, in __init__\n",
      "    elif len(markup) <= 256 and (\n",
      "TypeError: object of type 'NoneType' has no len()\n"
     ]
    },
    {
     "name": "stdout",
     "output_type": "stream",
     "text": [
      "\n"
     ]
    },
    {
     "name": "stderr",
     "output_type": "stream",
     "text": [
      "Traceback (most recent call last):\n",
      "  File \"<ipython-input-2-5ed5d1f021a8>\", line 31, in getStockInfo\n",
      "    soup = BeautifulSoup(html,'html.parser')\n",
      "  File \"C:\\anaconda\\lib\\site-packages\\bs4\\__init__.py\", line 245, in __init__\n",
      "    elif len(markup) <= 256 and (\n",
      "TypeError: object of type 'NoneType' has no len()\n"
     ]
    },
    {
     "name": "stdout",
     "output_type": "stream",
     "text": [
      "\n"
     ]
    },
    {
     "name": "stderr",
     "output_type": "stream",
     "text": [
      "Traceback (most recent call last):\n",
      "  File \"<ipython-input-2-5ed5d1f021a8>\", line 31, in getStockInfo\n",
      "    soup = BeautifulSoup(html,'html.parser')\n",
      "  File \"C:\\anaconda\\lib\\site-packages\\bs4\\__init__.py\", line 245, in __init__\n",
      "    elif len(markup) <= 256 and (\n",
      "TypeError: object of type 'NoneType' has no len()\n"
     ]
    },
    {
     "name": "stdout",
     "output_type": "stream",
     "text": [
      "\n"
     ]
    },
    {
     "name": "stderr",
     "output_type": "stream",
     "text": [
      "Traceback (most recent call last):\n",
      "  File \"<ipython-input-2-5ed5d1f021a8>\", line 31, in getStockInfo\n",
      "    soup = BeautifulSoup(html,'html.parser')\n",
      "  File \"C:\\anaconda\\lib\\site-packages\\bs4\\__init__.py\", line 245, in __init__\n",
      "    elif len(markup) <= 256 and (\n",
      "TypeError: object of type 'NoneType' has no len()\n"
     ]
    },
    {
     "name": "stdout",
     "output_type": "stream",
     "text": [
      "\n"
     ]
    },
    {
     "name": "stderr",
     "output_type": "stream",
     "text": [
      "Traceback (most recent call last):\n",
      "  File \"<ipython-input-2-5ed5d1f021a8>\", line 31, in getStockInfo\n",
      "    soup = BeautifulSoup(html,'html.parser')\n",
      "  File \"C:\\anaconda\\lib\\site-packages\\bs4\\__init__.py\", line 245, in __init__\n",
      "    elif len(markup) <= 256 and (\n",
      "TypeError: object of type 'NoneType' has no len()\n",
      "Traceback (most recent call last):\n",
      "  File \"<ipython-input-2-5ed5d1f021a8>\", line 34, in getStockInfo\n",
      "    name = stockInfo.find_all(attrs={'class':'bets-name'})[0]\n",
      "AttributeError: 'NoneType' object has no attribute 'find_all'\n"
     ]
    },
    {
     "name": "stdout",
     "output_type": "stream",
     "text": [
      "\n"
     ]
    },
    {
     "name": "stderr",
     "output_type": "stream",
     "text": [
      "Traceback (most recent call last):\n",
      "  File \"<ipython-input-2-5ed5d1f021a8>\", line 31, in getStockInfo\n",
      "    soup = BeautifulSoup(html,'html.parser')\n",
      "  File \"C:\\anaconda\\lib\\site-packages\\bs4\\__init__.py\", line 245, in __init__\n",
      "    elif len(markup) <= 256 and (\n",
      "TypeError: object of type 'NoneType' has no len()\n"
     ]
    },
    {
     "name": "stdout",
     "output_type": "stream",
     "text": [
      "\n"
     ]
    },
    {
     "name": "stderr",
     "output_type": "stream",
     "text": [
      "Traceback (most recent call last):\n",
      "  File \"<ipython-input-2-5ed5d1f021a8>\", line 31, in getStockInfo\n",
      "    soup = BeautifulSoup(html,'html.parser')\n",
      "  File \"C:\\anaconda\\lib\\site-packages\\bs4\\__init__.py\", line 245, in __init__\n",
      "    elif len(markup) <= 256 and (\n",
      "TypeError: object of type 'NoneType' has no len()\n"
     ]
    },
    {
     "name": "stdout",
     "output_type": "stream",
     "text": [
      "\n"
     ]
    },
    {
     "name": "stderr",
     "output_type": "stream",
     "text": [
      "Traceback (most recent call last):\n",
      "  File \"<ipython-input-2-5ed5d1f021a8>\", line 31, in getStockInfo\n",
      "    soup = BeautifulSoup(html,'html.parser')\n",
      "  File \"C:\\anaconda\\lib\\site-packages\\bs4\\__init__.py\", line 245, in __init__\n",
      "    elif len(markup) <= 256 and (\n",
      "TypeError: object of type 'NoneType' has no len()\n"
     ]
    },
    {
     "name": "stdout",
     "output_type": "stream",
     "text": [
      "\n"
     ]
    },
    {
     "name": "stderr",
     "output_type": "stream",
     "text": [
      "Traceback (most recent call last):\n",
      "  File \"<ipython-input-2-5ed5d1f021a8>\", line 31, in getStockInfo\n",
      "    soup = BeautifulSoup(html,'html.parser')\n",
      "  File \"C:\\anaconda\\lib\\site-packages\\bs4\\__init__.py\", line 245, in __init__\n",
      "    elif len(markup) <= 256 and (\n",
      "TypeError: object of type 'NoneType' has no len()\n"
     ]
    },
    {
     "name": "stdout",
     "output_type": "stream",
     "text": [
      "\n"
     ]
    },
    {
     "name": "stderr",
     "output_type": "stream",
     "text": [
      "Traceback (most recent call last):\n",
      "  File \"<ipython-input-2-5ed5d1f021a8>\", line 31, in getStockInfo\n",
      "    soup = BeautifulSoup(html,'html.parser')\n",
      "  File \"C:\\anaconda\\lib\\site-packages\\bs4\\__init__.py\", line 245, in __init__\n",
      "    elif len(markup) <= 256 and (\n",
      "TypeError: object of type 'NoneType' has no len()\n"
     ]
    },
    {
     "name": "stdout",
     "output_type": "stream",
     "text": [
      "\n"
     ]
    },
    {
     "name": "stderr",
     "output_type": "stream",
     "text": [
      "Traceback (most recent call last):\n",
      "  File \"<ipython-input-2-5ed5d1f021a8>\", line 31, in getStockInfo\n",
      "    soup = BeautifulSoup(html,'html.parser')\n",
      "  File \"C:\\anaconda\\lib\\site-packages\\bs4\\__init__.py\", line 245, in __init__\n",
      "    elif len(markup) <= 256 and (\n",
      "TypeError: object of type 'NoneType' has no len()\n"
     ]
    },
    {
     "name": "stdout",
     "output_type": "stream",
     "text": [
      "\n"
     ]
    },
    {
     "name": "stderr",
     "output_type": "stream",
     "text": [
      "Traceback (most recent call last):\n",
      "  File \"<ipython-input-2-5ed5d1f021a8>\", line 31, in getStockInfo\n",
      "    soup = BeautifulSoup(html,'html.parser')\n",
      "  File \"C:\\anaconda\\lib\\site-packages\\bs4\\__init__.py\", line 245, in __init__\n",
      "    elif len(markup) <= 256 and (\n",
      "TypeError: object of type 'NoneType' has no len()\n",
      "Traceback (most recent call last):\n",
      "  File \"<ipython-input-2-5ed5d1f021a8>\", line 34, in getStockInfo\n",
      "    name = stockInfo.find_all(attrs={'class':'bets-name'})[0]\n",
      "AttributeError: 'NoneType' object has no attribute 'find_all'\n"
     ]
    },
    {
     "name": "stdout",
     "output_type": "stream",
     "text": [
      "\n"
     ]
    },
    {
     "name": "stderr",
     "output_type": "stream",
     "text": [
      "Traceback (most recent call last):\n",
      "  File \"<ipython-input-2-5ed5d1f021a8>\", line 31, in getStockInfo\n",
      "    soup = BeautifulSoup(html,'html.parser')\n",
      "  File \"C:\\anaconda\\lib\\site-packages\\bs4\\__init__.py\", line 245, in __init__\n",
      "    elif len(markup) <= 256 and (\n",
      "TypeError: object of type 'NoneType' has no len()\n"
     ]
    },
    {
     "name": "stdout",
     "output_type": "stream",
     "text": [
      "\n"
     ]
    },
    {
     "name": "stderr",
     "output_type": "stream",
     "text": [
      "Traceback (most recent call last):\n",
      "  File \"<ipython-input-2-5ed5d1f021a8>\", line 31, in getStockInfo\n",
      "    soup = BeautifulSoup(html,'html.parser')\n",
      "  File \"C:\\anaconda\\lib\\site-packages\\bs4\\__init__.py\", line 245, in __init__\n",
      "    elif len(markup) <= 256 and (\n",
      "TypeError: object of type 'NoneType' has no len()\n"
     ]
    },
    {
     "name": "stdout",
     "output_type": "stream",
     "text": [
      "\n"
     ]
    },
    {
     "name": "stderr",
     "output_type": "stream",
     "text": [
      "Traceback (most recent call last):\n",
      "  File \"<ipython-input-2-5ed5d1f021a8>\", line 31, in getStockInfo\n",
      "    soup = BeautifulSoup(html,'html.parser')\n",
      "  File \"C:\\anaconda\\lib\\site-packages\\bs4\\__init__.py\", line 245, in __init__\n",
      "    elif len(markup) <= 256 and (\n",
      "TypeError: object of type 'NoneType' has no len()\n"
     ]
    },
    {
     "name": "stdout",
     "output_type": "stream",
     "text": [
      "\n"
     ]
    },
    {
     "name": "stderr",
     "output_type": "stream",
     "text": [
      "Traceback (most recent call last):\n",
      "  File \"<ipython-input-2-5ed5d1f021a8>\", line 31, in getStockInfo\n",
      "    soup = BeautifulSoup(html,'html.parser')\n",
      "  File \"C:\\anaconda\\lib\\site-packages\\bs4\\__init__.py\", line 245, in __init__\n",
      "    elif len(markup) <= 256 and (\n",
      "TypeError: object of type 'NoneType' has no len()\n"
     ]
    },
    {
     "name": "stdout",
     "output_type": "stream",
     "text": [
      "\n"
     ]
    },
    {
     "name": "stderr",
     "output_type": "stream",
     "text": [
      "Traceback (most recent call last):\n",
      "  File \"<ipython-input-2-5ed5d1f021a8>\", line 31, in getStockInfo\n",
      "    soup = BeautifulSoup(html,'html.parser')\n",
      "  File \"C:\\anaconda\\lib\\site-packages\\bs4\\__init__.py\", line 245, in __init__\n",
      "    elif len(markup) <= 256 and (\n",
      "TypeError: object of type 'NoneType' has no len()\n"
     ]
    },
    {
     "name": "stdout",
     "output_type": "stream",
     "text": [
      "\n"
     ]
    },
    {
     "name": "stderr",
     "output_type": "stream",
     "text": [
      "Traceback (most recent call last):\n",
      "  File \"<ipython-input-2-5ed5d1f021a8>\", line 31, in getStockInfo\n",
      "    soup = BeautifulSoup(html,'html.parser')\n",
      "  File \"C:\\anaconda\\lib\\site-packages\\bs4\\__init__.py\", line 245, in __init__\n",
      "    elif len(markup) <= 256 and (\n",
      "TypeError: object of type 'NoneType' has no len()\n"
     ]
    },
    {
     "name": "stdout",
     "output_type": "stream",
     "text": [
      "\n"
     ]
    },
    {
     "name": "stderr",
     "output_type": "stream",
     "text": [
      "Traceback (most recent call last):\n",
      "  File \"<ipython-input-2-5ed5d1f021a8>\", line 31, in getStockInfo\n",
      "    soup = BeautifulSoup(html,'html.parser')\n",
      "  File \"C:\\anaconda\\lib\\site-packages\\bs4\\__init__.py\", line 245, in __init__\n",
      "    elif len(markup) <= 256 and (\n",
      "TypeError: object of type 'NoneType' has no len()\n"
     ]
    },
    {
     "name": "stdout",
     "output_type": "stream",
     "text": [
      "\n"
     ]
    },
    {
     "name": "stderr",
     "output_type": "stream",
     "text": [
      "Traceback (most recent call last):\n",
      "  File \"<ipython-input-2-5ed5d1f021a8>\", line 31, in getStockInfo\n",
      "    soup = BeautifulSoup(html,'html.parser')\n",
      "  File \"C:\\anaconda\\lib\\site-packages\\bs4\\__init__.py\", line 245, in __init__\n",
      "    elif len(markup) <= 256 and (\n",
      "TypeError: object of type 'NoneType' has no len()\n"
     ]
    },
    {
     "name": "stdout",
     "output_type": "stream",
     "text": [
      "\n"
     ]
    },
    {
     "name": "stderr",
     "output_type": "stream",
     "text": [
      "Traceback (most recent call last):\n",
      "  File \"<ipython-input-2-5ed5d1f021a8>\", line 31, in getStockInfo\n",
      "    soup = BeautifulSoup(html,'html.parser')\n",
      "  File \"C:\\anaconda\\lib\\site-packages\\bs4\\__init__.py\", line 245, in __init__\n",
      "    elif len(markup) <= 256 and (\n",
      "TypeError: object of type 'NoneType' has no len()\n"
     ]
    },
    {
     "name": "stdout",
     "output_type": "stream",
     "text": [
      "\n"
     ]
    },
    {
     "name": "stderr",
     "output_type": "stream",
     "text": [
      "Traceback (most recent call last):\n",
      "  File \"<ipython-input-2-5ed5d1f021a8>\", line 31, in getStockInfo\n",
      "    soup = BeautifulSoup(html,'html.parser')\n",
      "  File \"C:\\anaconda\\lib\\site-packages\\bs4\\__init__.py\", line 245, in __init__\n",
      "    elif len(markup) <= 256 and (\n",
      "TypeError: object of type 'NoneType' has no len()\n"
     ]
    },
    {
     "name": "stdout",
     "output_type": "stream",
     "text": [
      "\n"
     ]
    },
    {
     "name": "stderr",
     "output_type": "stream",
     "text": [
      "Traceback (most recent call last):\n",
      "  File \"<ipython-input-2-5ed5d1f021a8>\", line 31, in getStockInfo\n",
      "    soup = BeautifulSoup(html,'html.parser')\n",
      "  File \"C:\\anaconda\\lib\\site-packages\\bs4\\__init__.py\", line 245, in __init__\n",
      "    elif len(markup) <= 256 and (\n",
      "TypeError: object of type 'NoneType' has no len()\n"
     ]
    },
    {
     "name": "stdout",
     "output_type": "stream",
     "text": [
      "\n"
     ]
    },
    {
     "name": "stderr",
     "output_type": "stream",
     "text": [
      "Traceback (most recent call last):\n",
      "  File \"<ipython-input-2-5ed5d1f021a8>\", line 31, in getStockInfo\n",
      "    soup = BeautifulSoup(html,'html.parser')\n",
      "  File \"C:\\anaconda\\lib\\site-packages\\bs4\\__init__.py\", line 245, in __init__\n",
      "    elif len(markup) <= 256 and (\n",
      "TypeError: object of type 'NoneType' has no len()\n"
     ]
    },
    {
     "name": "stdout",
     "output_type": "stream",
     "text": [
      "\n"
     ]
    },
    {
     "name": "stderr",
     "output_type": "stream",
     "text": [
      "Traceback (most recent call last):\n",
      "  File \"<ipython-input-2-5ed5d1f021a8>\", line 31, in getStockInfo\n",
      "    soup = BeautifulSoup(html,'html.parser')\n",
      "  File \"C:\\anaconda\\lib\\site-packages\\bs4\\__init__.py\", line 245, in __init__\n",
      "    elif len(markup) <= 256 and (\n",
      "TypeError: object of type 'NoneType' has no len()\n"
     ]
    },
    {
     "name": "stdout",
     "output_type": "stream",
     "text": [
      "\n"
     ]
    },
    {
     "name": "stderr",
     "output_type": "stream",
     "text": [
      "Traceback (most recent call last):\n",
      "  File \"<ipython-input-2-5ed5d1f021a8>\", line 31, in getStockInfo\n",
      "    soup = BeautifulSoup(html,'html.parser')\n",
      "  File \"C:\\anaconda\\lib\\site-packages\\bs4\\__init__.py\", line 245, in __init__\n",
      "    elif len(markup) <= 256 and (\n",
      "TypeError: object of type 'NoneType' has no len()\n"
     ]
    },
    {
     "name": "stdout",
     "output_type": "stream",
     "text": [
      "\n"
     ]
    },
    {
     "name": "stderr",
     "output_type": "stream",
     "text": [
      "Traceback (most recent call last):\n",
      "  File \"<ipython-input-2-5ed5d1f021a8>\", line 31, in getStockInfo\n",
      "    soup = BeautifulSoup(html,'html.parser')\n",
      "  File \"C:\\anaconda\\lib\\site-packages\\bs4\\__init__.py\", line 245, in __init__\n",
      "    elif len(markup) <= 256 and (\n",
      "TypeError: object of type 'NoneType' has no len()\n"
     ]
    },
    {
     "name": "stdout",
     "output_type": "stream",
     "text": [
      "\n"
     ]
    },
    {
     "name": "stderr",
     "output_type": "stream",
     "text": [
      "Traceback (most recent call last):\n",
      "  File \"<ipython-input-2-5ed5d1f021a8>\", line 31, in getStockInfo\n",
      "    soup = BeautifulSoup(html,'html.parser')\n",
      "  File \"C:\\anaconda\\lib\\site-packages\\bs4\\__init__.py\", line 245, in __init__\n",
      "    elif len(markup) <= 256 and (\n",
      "TypeError: object of type 'NoneType' has no len()\n"
     ]
    },
    {
     "name": "stdout",
     "output_type": "stream",
     "text": [
      "\n"
     ]
    },
    {
     "name": "stderr",
     "output_type": "stream",
     "text": [
      "Traceback (most recent call last):\n",
      "  File \"<ipython-input-2-5ed5d1f021a8>\", line 31, in getStockInfo\n",
      "    soup = BeautifulSoup(html,'html.parser')\n",
      "  File \"C:\\anaconda\\lib\\site-packages\\bs4\\__init__.py\", line 245, in __init__\n",
      "    elif len(markup) <= 256 and (\n",
      "TypeError: object of type 'NoneType' has no len()\n"
     ]
    },
    {
     "name": "stdout",
     "output_type": "stream",
     "text": [
      "\n"
     ]
    },
    {
     "name": "stderr",
     "output_type": "stream",
     "text": [
      "Traceback (most recent call last):\n",
      "  File \"<ipython-input-2-5ed5d1f021a8>\", line 31, in getStockInfo\n",
      "    soup = BeautifulSoup(html,'html.parser')\n",
      "  File \"C:\\anaconda\\lib\\site-packages\\bs4\\__init__.py\", line 245, in __init__\n",
      "    elif len(markup) <= 256 and (\n",
      "TypeError: object of type 'NoneType' has no len()\n",
      "Traceback (most recent call last):\n",
      "  File \"<ipython-input-2-5ed5d1f021a8>\", line 34, in getStockInfo\n",
      "    name = stockInfo.find_all(attrs={'class':'bets-name'})[0]\n",
      "AttributeError: 'NoneType' object has no attribute 'find_all'\n"
     ]
    },
    {
     "name": "stdout",
     "output_type": "stream",
     "text": [
      "\n"
     ]
    },
    {
     "name": "stderr",
     "output_type": "stream",
     "text": [
      "Traceback (most recent call last):\n",
      "  File \"<ipython-input-2-5ed5d1f021a8>\", line 31, in getStockInfo\n",
      "    soup = BeautifulSoup(html,'html.parser')\n",
      "  File \"C:\\anaconda\\lib\\site-packages\\bs4\\__init__.py\", line 245, in __init__\n",
      "    elif len(markup) <= 256 and (\n",
      "TypeError: object of type 'NoneType' has no len()\n"
     ]
    },
    {
     "name": "stdout",
     "output_type": "stream",
     "text": [
      "\n"
     ]
    },
    {
     "name": "stderr",
     "output_type": "stream",
     "text": [
      "Traceback (most recent call last):\n",
      "  File \"<ipython-input-2-5ed5d1f021a8>\", line 31, in getStockInfo\n",
      "    soup = BeautifulSoup(html,'html.parser')\n",
      "  File \"C:\\anaconda\\lib\\site-packages\\bs4\\__init__.py\", line 245, in __init__\n",
      "    elif len(markup) <= 256 and (\n",
      "TypeError: object of type 'NoneType' has no len()\n"
     ]
    },
    {
     "name": "stdout",
     "output_type": "stream",
     "text": [
      "\n"
     ]
    },
    {
     "name": "stderr",
     "output_type": "stream",
     "text": [
      "Traceback (most recent call last):\n",
      "  File \"<ipython-input-2-5ed5d1f021a8>\", line 31, in getStockInfo\n",
      "    soup = BeautifulSoup(html,'html.parser')\n",
      "  File \"C:\\anaconda\\lib\\site-packages\\bs4\\__init__.py\", line 245, in __init__\n",
      "    elif len(markup) <= 256 and (\n",
      "TypeError: object of type 'NoneType' has no len()\n"
     ]
    },
    {
     "name": "stdout",
     "output_type": "stream",
     "text": [
      "\n"
     ]
    },
    {
     "name": "stderr",
     "output_type": "stream",
     "text": [
      "Traceback (most recent call last):\n",
      "  File \"<ipython-input-2-5ed5d1f021a8>\", line 31, in getStockInfo\n",
      "    soup = BeautifulSoup(html,'html.parser')\n",
      "  File \"C:\\anaconda\\lib\\site-packages\\bs4\\__init__.py\", line 245, in __init__\n",
      "    elif len(markup) <= 256 and (\n",
      "TypeError: object of type 'NoneType' has no len()\n"
     ]
    },
    {
     "name": "stdout",
     "output_type": "stream",
     "text": [
      "\n"
     ]
    },
    {
     "name": "stderr",
     "output_type": "stream",
     "text": [
      "Traceback (most recent call last):\n",
      "  File \"<ipython-input-2-5ed5d1f021a8>\", line 31, in getStockInfo\n",
      "    soup = BeautifulSoup(html,'html.parser')\n",
      "  File \"C:\\anaconda\\lib\\site-packages\\bs4\\__init__.py\", line 245, in __init__\n",
      "    elif len(markup) <= 256 and (\n",
      "TypeError: object of type 'NoneType' has no len()\n"
     ]
    },
    {
     "name": "stdout",
     "output_type": "stream",
     "text": [
      "\n"
     ]
    },
    {
     "name": "stderr",
     "output_type": "stream",
     "text": [
      "Traceback (most recent call last):\n",
      "  File \"<ipython-input-2-5ed5d1f021a8>\", line 31, in getStockInfo\n",
      "    soup = BeautifulSoup(html,'html.parser')\n",
      "  File \"C:\\anaconda\\lib\\site-packages\\bs4\\__init__.py\", line 245, in __init__\n",
      "    elif len(markup) <= 256 and (\n",
      "TypeError: object of type 'NoneType' has no len()\n"
     ]
    },
    {
     "name": "stdout",
     "output_type": "stream",
     "text": [
      "\n"
     ]
    },
    {
     "name": "stderr",
     "output_type": "stream",
     "text": [
      "Traceback (most recent call last):\n",
      "  File \"<ipython-input-2-5ed5d1f021a8>\", line 31, in getStockInfo\n",
      "    soup = BeautifulSoup(html,'html.parser')\n",
      "  File \"C:\\anaconda\\lib\\site-packages\\bs4\\__init__.py\", line 245, in __init__\n",
      "    elif len(markup) <= 256 and (\n",
      "TypeError: object of type 'NoneType' has no len()\n"
     ]
    },
    {
     "name": "stdout",
     "output_type": "stream",
     "text": [
      "\n"
     ]
    },
    {
     "name": "stderr",
     "output_type": "stream",
     "text": [
      "Traceback (most recent call last):\n",
      "  File \"<ipython-input-2-5ed5d1f021a8>\", line 31, in getStockInfo\n",
      "    soup = BeautifulSoup(html,'html.parser')\n",
      "  File \"C:\\anaconda\\lib\\site-packages\\bs4\\__init__.py\", line 245, in __init__\n",
      "    elif len(markup) <= 256 and (\n",
      "TypeError: object of type 'NoneType' has no len()\n"
     ]
    },
    {
     "name": "stdout",
     "output_type": "stream",
     "text": [
      "\n"
     ]
    },
    {
     "name": "stderr",
     "output_type": "stream",
     "text": [
      "Traceback (most recent call last):\n",
      "  File \"<ipython-input-2-5ed5d1f021a8>\", line 31, in getStockInfo\n",
      "    soup = BeautifulSoup(html,'html.parser')\n",
      "  File \"C:\\anaconda\\lib\\site-packages\\bs4\\__init__.py\", line 245, in __init__\n",
      "    elif len(markup) <= 256 and (\n",
      "TypeError: object of type 'NoneType' has no len()\n"
     ]
    },
    {
     "name": "stdout",
     "output_type": "stream",
     "text": [
      "\n"
     ]
    },
    {
     "name": "stderr",
     "output_type": "stream",
     "text": [
      "Traceback (most recent call last):\n",
      "  File \"<ipython-input-2-5ed5d1f021a8>\", line 31, in getStockInfo\n",
      "    soup = BeautifulSoup(html,'html.parser')\n",
      "  File \"C:\\anaconda\\lib\\site-packages\\bs4\\__init__.py\", line 245, in __init__\n",
      "    elif len(markup) <= 256 and (\n",
      "TypeError: object of type 'NoneType' has no len()\n"
     ]
    },
    {
     "name": "stdout",
     "output_type": "stream",
     "text": [
      "\n"
     ]
    },
    {
     "name": "stderr",
     "output_type": "stream",
     "text": [
      "Traceback (most recent call last):\n",
      "  File \"<ipython-input-2-5ed5d1f021a8>\", line 31, in getStockInfo\n",
      "    soup = BeautifulSoup(html,'html.parser')\n",
      "  File \"C:\\anaconda\\lib\\site-packages\\bs4\\__init__.py\", line 245, in __init__\n",
      "    elif len(markup) <= 256 and (\n",
      "TypeError: object of type 'NoneType' has no len()\n"
     ]
    },
    {
     "name": "stdout",
     "output_type": "stream",
     "text": [
      "\n"
     ]
    },
    {
     "name": "stderr",
     "output_type": "stream",
     "text": [
      "Traceback (most recent call last):\n",
      "  File \"<ipython-input-2-5ed5d1f021a8>\", line 31, in getStockInfo\n",
      "    soup = BeautifulSoup(html,'html.parser')\n",
      "  File \"C:\\anaconda\\lib\\site-packages\\bs4\\__init__.py\", line 245, in __init__\n",
      "    elif len(markup) <= 256 and (\n",
      "TypeError: object of type 'NoneType' has no len()\n"
     ]
    },
    {
     "name": "stdout",
     "output_type": "stream",
     "text": [
      "\n"
     ]
    },
    {
     "name": "stderr",
     "output_type": "stream",
     "text": [
      "Traceback (most recent call last):\n",
      "  File \"<ipython-input-2-5ed5d1f021a8>\", line 31, in getStockInfo\n",
      "    soup = BeautifulSoup(html,'html.parser')\n",
      "  File \"C:\\anaconda\\lib\\site-packages\\bs4\\__init__.py\", line 245, in __init__\n",
      "    elif len(markup) <= 256 and (\n",
      "TypeError: object of type 'NoneType' has no len()\n"
     ]
    },
    {
     "name": "stdout",
     "output_type": "stream",
     "text": [
      "\n"
     ]
    },
    {
     "name": "stderr",
     "output_type": "stream",
     "text": [
      "Traceback (most recent call last):\n",
      "  File \"<ipython-input-2-5ed5d1f021a8>\", line 31, in getStockInfo\n",
      "    soup = BeautifulSoup(html,'html.parser')\n",
      "  File \"C:\\anaconda\\lib\\site-packages\\bs4\\__init__.py\", line 245, in __init__\n",
      "    elif len(markup) <= 256 and (\n",
      "TypeError: object of type 'NoneType' has no len()\n"
     ]
    },
    {
     "name": "stdout",
     "output_type": "stream",
     "text": [
      "\n"
     ]
    },
    {
     "name": "stderr",
     "output_type": "stream",
     "text": [
      "Traceback (most recent call last):\n",
      "  File \"<ipython-input-2-5ed5d1f021a8>\", line 31, in getStockInfo\n",
      "    soup = BeautifulSoup(html,'html.parser')\n",
      "  File \"C:\\anaconda\\lib\\site-packages\\bs4\\__init__.py\", line 245, in __init__\n",
      "    elif len(markup) <= 256 and (\n",
      "TypeError: object of type 'NoneType' has no len()\n"
     ]
    },
    {
     "name": "stdout",
     "output_type": "stream",
     "text": [
      "\n"
     ]
    },
    {
     "name": "stderr",
     "output_type": "stream",
     "text": [
      "Traceback (most recent call last):\n",
      "  File \"<ipython-input-2-5ed5d1f021a8>\", line 31, in getStockInfo\n",
      "    soup = BeautifulSoup(html,'html.parser')\n",
      "  File \"C:\\anaconda\\lib\\site-packages\\bs4\\__init__.py\", line 245, in __init__\n",
      "    elif len(markup) <= 256 and (\n",
      "TypeError: object of type 'NoneType' has no len()\n"
     ]
    },
    {
     "name": "stdout",
     "output_type": "stream",
     "text": [
      "\n"
     ]
    },
    {
     "name": "stderr",
     "output_type": "stream",
     "text": [
      "Traceback (most recent call last):\n",
      "  File \"<ipython-input-2-5ed5d1f021a8>\", line 31, in getStockInfo\n",
      "    soup = BeautifulSoup(html,'html.parser')\n",
      "  File \"C:\\anaconda\\lib\\site-packages\\bs4\\__init__.py\", line 245, in __init__\n",
      "    elif len(markup) <= 256 and (\n",
      "TypeError: object of type 'NoneType' has no len()\n"
     ]
    },
    {
     "name": "stdout",
     "output_type": "stream",
     "text": [
      "\n"
     ]
    },
    {
     "name": "stderr",
     "output_type": "stream",
     "text": [
      "Traceback (most recent call last):\n",
      "  File \"<ipython-input-2-5ed5d1f021a8>\", line 31, in getStockInfo\n",
      "    soup = BeautifulSoup(html,'html.parser')\n",
      "  File \"C:\\anaconda\\lib\\site-packages\\bs4\\__init__.py\", line 245, in __init__\n",
      "    elif len(markup) <= 256 and (\n",
      "TypeError: object of type 'NoneType' has no len()\n"
     ]
    },
    {
     "name": "stdout",
     "output_type": "stream",
     "text": [
      "\n"
     ]
    },
    {
     "name": "stderr",
     "output_type": "stream",
     "text": [
      "Traceback (most recent call last):\n",
      "  File \"<ipython-input-2-5ed5d1f021a8>\", line 31, in getStockInfo\n",
      "    soup = BeautifulSoup(html,'html.parser')\n",
      "  File \"C:\\anaconda\\lib\\site-packages\\bs4\\__init__.py\", line 245, in __init__\n",
      "    elif len(markup) <= 256 and (\n",
      "TypeError: object of type 'NoneType' has no len()\n"
     ]
    },
    {
     "name": "stdout",
     "output_type": "stream",
     "text": [
      "\n"
     ]
    },
    {
     "name": "stderr",
     "output_type": "stream",
     "text": [
      "Traceback (most recent call last):\n",
      "  File \"<ipython-input-2-5ed5d1f021a8>\", line 31, in getStockInfo\n",
      "    soup = BeautifulSoup(html,'html.parser')\n",
      "  File \"C:\\anaconda\\lib\\site-packages\\bs4\\__init__.py\", line 245, in __init__\n",
      "    elif len(markup) <= 256 and (\n",
      "TypeError: object of type 'NoneType' has no len()\n"
     ]
    },
    {
     "name": "stdout",
     "output_type": "stream",
     "text": [
      "\n"
     ]
    },
    {
     "name": "stderr",
     "output_type": "stream",
     "text": [
      "Traceback (most recent call last):\n",
      "  File \"<ipython-input-2-5ed5d1f021a8>\", line 31, in getStockInfo\n",
      "    soup = BeautifulSoup(html,'html.parser')\n",
      "  File \"C:\\anaconda\\lib\\site-packages\\bs4\\__init__.py\", line 245, in __init__\n",
      "    elif len(markup) <= 256 and (\n",
      "TypeError: object of type 'NoneType' has no len()\n"
     ]
    },
    {
     "name": "stdout",
     "output_type": "stream",
     "text": [
      "\n"
     ]
    },
    {
     "name": "stderr",
     "output_type": "stream",
     "text": [
      "Traceback (most recent call last):\n",
      "  File \"<ipython-input-2-5ed5d1f021a8>\", line 31, in getStockInfo\n",
      "    soup = BeautifulSoup(html,'html.parser')\n",
      "  File \"C:\\anaconda\\lib\\site-packages\\bs4\\__init__.py\", line 245, in __init__\n",
      "    elif len(markup) <= 256 and (\n",
      "TypeError: object of type 'NoneType' has no len()\n"
     ]
    },
    {
     "name": "stdout",
     "output_type": "stream",
     "text": [
      "\n"
     ]
    },
    {
     "name": "stderr",
     "output_type": "stream",
     "text": [
      "Traceback (most recent call last):\n",
      "  File \"<ipython-input-2-5ed5d1f021a8>\", line 31, in getStockInfo\n",
      "    soup = BeautifulSoup(html,'html.parser')\n",
      "  File \"C:\\anaconda\\lib\\site-packages\\bs4\\__init__.py\", line 245, in __init__\n",
      "    elif len(markup) <= 256 and (\n",
      "TypeError: object of type 'NoneType' has no len()\n",
      "Traceback (most recent call last):\n",
      "  File \"<ipython-input-2-5ed5d1f021a8>\", line 34, in getStockInfo\n",
      "    name = stockInfo.find_all(attrs={'class':'bets-name'})[0]\n",
      "AttributeError: 'NoneType' object has no attribute 'find_all'\n",
      "Traceback (most recent call last):\n",
      "  File \"<ipython-input-2-5ed5d1f021a8>\", line 34, in getStockInfo\n",
      "    name = stockInfo.find_all(attrs={'class':'bets-name'})[0]\n",
      "AttributeError: 'NoneType' object has no attribute 'find_all'\n"
     ]
    },
    {
     "name": "stdout",
     "output_type": "stream",
     "text": [
      "\n"
     ]
    },
    {
     "name": "stderr",
     "output_type": "stream",
     "text": [
      "Traceback (most recent call last):\n",
      "  File \"<ipython-input-2-5ed5d1f021a8>\", line 31, in getStockInfo\n",
      "    soup = BeautifulSoup(html,'html.parser')\n",
      "  File \"C:\\anaconda\\lib\\site-packages\\bs4\\__init__.py\", line 245, in __init__\n",
      "    elif len(markup) <= 256 and (\n",
      "TypeError: object of type 'NoneType' has no len()\n"
     ]
    },
    {
     "name": "stdout",
     "output_type": "stream",
     "text": [
      "\n"
     ]
    },
    {
     "name": "stderr",
     "output_type": "stream",
     "text": [
      "Traceback (most recent call last):\n",
      "  File \"<ipython-input-2-5ed5d1f021a8>\", line 31, in getStockInfo\n",
      "    soup = BeautifulSoup(html,'html.parser')\n",
      "  File \"C:\\anaconda\\lib\\site-packages\\bs4\\__init__.py\", line 245, in __init__\n",
      "    elif len(markup) <= 256 and (\n",
      "TypeError: object of type 'NoneType' has no len()\n"
     ]
    },
    {
     "name": "stdout",
     "output_type": "stream",
     "text": [
      "\n"
     ]
    },
    {
     "name": "stderr",
     "output_type": "stream",
     "text": [
      "Traceback (most recent call last):\n",
      "  File \"<ipython-input-2-5ed5d1f021a8>\", line 31, in getStockInfo\n",
      "    soup = BeautifulSoup(html,'html.parser')\n",
      "  File \"C:\\anaconda\\lib\\site-packages\\bs4\\__init__.py\", line 245, in __init__\n",
      "    elif len(markup) <= 256 and (\n",
      "TypeError: object of type 'NoneType' has no len()\n"
     ]
    },
    {
     "name": "stdout",
     "output_type": "stream",
     "text": [
      "\n"
     ]
    },
    {
     "name": "stderr",
     "output_type": "stream",
     "text": [
      "Traceback (most recent call last):\n",
      "  File \"<ipython-input-2-5ed5d1f021a8>\", line 31, in getStockInfo\n",
      "    soup = BeautifulSoup(html,'html.parser')\n",
      "  File \"C:\\anaconda\\lib\\site-packages\\bs4\\__init__.py\", line 245, in __init__\n",
      "    elif len(markup) <= 256 and (\n",
      "TypeError: object of type 'NoneType' has no len()\n"
     ]
    },
    {
     "name": "stdout",
     "output_type": "stream",
     "text": [
      "\n"
     ]
    },
    {
     "name": "stderr",
     "output_type": "stream",
     "text": [
      "Traceback (most recent call last):\n",
      "  File \"<ipython-input-2-5ed5d1f021a8>\", line 31, in getStockInfo\n",
      "    soup = BeautifulSoup(html,'html.parser')\n",
      "  File \"C:\\anaconda\\lib\\site-packages\\bs4\\__init__.py\", line 245, in __init__\n",
      "    elif len(markup) <= 256 and (\n",
      "TypeError: object of type 'NoneType' has no len()\n"
     ]
    },
    {
     "name": "stdout",
     "output_type": "stream",
     "text": [
      "\n"
     ]
    },
    {
     "name": "stderr",
     "output_type": "stream",
     "text": [
      "Traceback (most recent call last):\n",
      "  File \"<ipython-input-2-5ed5d1f021a8>\", line 31, in getStockInfo\n",
      "    soup = BeautifulSoup(html,'html.parser')\n",
      "  File \"C:\\anaconda\\lib\\site-packages\\bs4\\__init__.py\", line 245, in __init__\n",
      "    elif len(markup) <= 256 and (\n",
      "TypeError: object of type 'NoneType' has no len()\n"
     ]
    },
    {
     "name": "stdout",
     "output_type": "stream",
     "text": [
      "\n"
     ]
    },
    {
     "name": "stderr",
     "output_type": "stream",
     "text": [
      "Traceback (most recent call last):\n",
      "  File \"<ipython-input-2-5ed5d1f021a8>\", line 31, in getStockInfo\n",
      "    soup = BeautifulSoup(html,'html.parser')\n",
      "  File \"C:\\anaconda\\lib\\site-packages\\bs4\\__init__.py\", line 245, in __init__\n",
      "    elif len(markup) <= 256 and (\n",
      "TypeError: object of type 'NoneType' has no len()\n"
     ]
    },
    {
     "name": "stdout",
     "output_type": "stream",
     "text": [
      "\n"
     ]
    },
    {
     "name": "stderr",
     "output_type": "stream",
     "text": [
      "Traceback (most recent call last):\n",
      "  File \"<ipython-input-2-5ed5d1f021a8>\", line 31, in getStockInfo\n",
      "    soup = BeautifulSoup(html,'html.parser')\n",
      "  File \"C:\\anaconda\\lib\\site-packages\\bs4\\__init__.py\", line 245, in __init__\n",
      "    elif len(markup) <= 256 and (\n",
      "TypeError: object of type 'NoneType' has no len()\n",
      "Traceback (most recent call last):\n",
      "  File \"<ipython-input-2-5ed5d1f021a8>\", line 34, in getStockInfo\n",
      "    name = stockInfo.find_all(attrs={'class':'bets-name'})[0]\n",
      "AttributeError: 'NoneType' object has no attribute 'find_all'\n"
     ]
    },
    {
     "name": "stdout",
     "output_type": "stream",
     "text": [
      "\n"
     ]
    },
    {
     "name": "stderr",
     "output_type": "stream",
     "text": [
      "Traceback (most recent call last):\n",
      "  File \"<ipython-input-2-5ed5d1f021a8>\", line 31, in getStockInfo\n",
      "    soup = BeautifulSoup(html,'html.parser')\n",
      "  File \"C:\\anaconda\\lib\\site-packages\\bs4\\__init__.py\", line 245, in __init__\n",
      "    elif len(markup) <= 256 and (\n",
      "TypeError: object of type 'NoneType' has no len()\n"
     ]
    },
    {
     "name": "stdout",
     "output_type": "stream",
     "text": [
      "\n"
     ]
    },
    {
     "name": "stderr",
     "output_type": "stream",
     "text": [
      "Traceback (most recent call last):\n",
      "  File \"<ipython-input-2-5ed5d1f021a8>\", line 31, in getStockInfo\n",
      "    soup = BeautifulSoup(html,'html.parser')\n",
      "  File \"C:\\anaconda\\lib\\site-packages\\bs4\\__init__.py\", line 245, in __init__\n",
      "    elif len(markup) <= 256 and (\n",
      "TypeError: object of type 'NoneType' has no len()\n"
     ]
    },
    {
     "name": "stdout",
     "output_type": "stream",
     "text": [
      "\n"
     ]
    },
    {
     "name": "stderr",
     "output_type": "stream",
     "text": [
      "Traceback (most recent call last):\n",
      "  File \"<ipython-input-2-5ed5d1f021a8>\", line 31, in getStockInfo\n",
      "    soup = BeautifulSoup(html,'html.parser')\n",
      "  File \"C:\\anaconda\\lib\\site-packages\\bs4\\__init__.py\", line 245, in __init__\n",
      "    elif len(markup) <= 256 and (\n",
      "TypeError: object of type 'NoneType' has no len()\n"
     ]
    },
    {
     "name": "stdout",
     "output_type": "stream",
     "text": [
      "\n"
     ]
    },
    {
     "name": "stderr",
     "output_type": "stream",
     "text": [
      "Traceback (most recent call last):\n",
      "  File \"<ipython-input-2-5ed5d1f021a8>\", line 31, in getStockInfo\n",
      "    soup = BeautifulSoup(html,'html.parser')\n",
      "  File \"C:\\anaconda\\lib\\site-packages\\bs4\\__init__.py\", line 245, in __init__\n",
      "    elif len(markup) <= 256 and (\n",
      "TypeError: object of type 'NoneType' has no len()\n"
     ]
    },
    {
     "name": "stdout",
     "output_type": "stream",
     "text": [
      "\n"
     ]
    },
    {
     "name": "stderr",
     "output_type": "stream",
     "text": [
      "Traceback (most recent call last):\n",
      "  File \"<ipython-input-2-5ed5d1f021a8>\", line 31, in getStockInfo\n",
      "    soup = BeautifulSoup(html,'html.parser')\n",
      "  File \"C:\\anaconda\\lib\\site-packages\\bs4\\__init__.py\", line 245, in __init__\n",
      "    elif len(markup) <= 256 and (\n",
      "TypeError: object of type 'NoneType' has no len()\n"
     ]
    },
    {
     "name": "stdout",
     "output_type": "stream",
     "text": [
      "\n"
     ]
    },
    {
     "name": "stderr",
     "output_type": "stream",
     "text": [
      "Traceback (most recent call last):\n",
      "  File \"<ipython-input-2-5ed5d1f021a8>\", line 31, in getStockInfo\n",
      "    soup = BeautifulSoup(html,'html.parser')\n",
      "  File \"C:\\anaconda\\lib\\site-packages\\bs4\\__init__.py\", line 245, in __init__\n",
      "    elif len(markup) <= 256 and (\n",
      "TypeError: object of type 'NoneType' has no len()\n",
      "Traceback (most recent call last):\n",
      "  File \"<ipython-input-2-5ed5d1f021a8>\", line 34, in getStockInfo\n",
      "    name = stockInfo.find_all(attrs={'class':'bets-name'})[0]\n",
      "AttributeError: 'NoneType' object has no attribute 'find_all'\n"
     ]
    },
    {
     "name": "stdout",
     "output_type": "stream",
     "text": [
      "\n"
     ]
    },
    {
     "name": "stderr",
     "output_type": "stream",
     "text": [
      "Traceback (most recent call last):\n",
      "  File \"<ipython-input-2-5ed5d1f021a8>\", line 31, in getStockInfo\n",
      "    soup = BeautifulSoup(html,'html.parser')\n",
      "  File \"C:\\anaconda\\lib\\site-packages\\bs4\\__init__.py\", line 245, in __init__\n",
      "    elif len(markup) <= 256 and (\n",
      "TypeError: object of type 'NoneType' has no len()\n"
     ]
    },
    {
     "name": "stdout",
     "output_type": "stream",
     "text": [
      "\n"
     ]
    },
    {
     "name": "stderr",
     "output_type": "stream",
     "text": [
      "Traceback (most recent call last):\n",
      "  File \"<ipython-input-2-5ed5d1f021a8>\", line 31, in getStockInfo\n",
      "    soup = BeautifulSoup(html,'html.parser')\n",
      "  File \"C:\\anaconda\\lib\\site-packages\\bs4\\__init__.py\", line 245, in __init__\n",
      "    elif len(markup) <= 256 and (\n",
      "TypeError: object of type 'NoneType' has no len()\n"
     ]
    },
    {
     "name": "stdout",
     "output_type": "stream",
     "text": [
      "\n"
     ]
    },
    {
     "name": "stderr",
     "output_type": "stream",
     "text": [
      "Traceback (most recent call last):\n",
      "  File \"<ipython-input-2-5ed5d1f021a8>\", line 31, in getStockInfo\n",
      "    soup = BeautifulSoup(html,'html.parser')\n",
      "  File \"C:\\anaconda\\lib\\site-packages\\bs4\\__init__.py\", line 245, in __init__\n",
      "    elif len(markup) <= 256 and (\n",
      "TypeError: object of type 'NoneType' has no len()\n"
     ]
    },
    {
     "name": "stdout",
     "output_type": "stream",
     "text": [
      "\n"
     ]
    },
    {
     "name": "stderr",
     "output_type": "stream",
     "text": [
      "Traceback (most recent call last):\n",
      "  File \"<ipython-input-2-5ed5d1f021a8>\", line 31, in getStockInfo\n",
      "    soup = BeautifulSoup(html,'html.parser')\n",
      "  File \"C:\\anaconda\\lib\\site-packages\\bs4\\__init__.py\", line 245, in __init__\n",
      "    elif len(markup) <= 256 and (\n",
      "TypeError: object of type 'NoneType' has no len()\n"
     ]
    },
    {
     "name": "stdout",
     "output_type": "stream",
     "text": [
      "\n"
     ]
    },
    {
     "name": "stderr",
     "output_type": "stream",
     "text": [
      "Traceback (most recent call last):\n",
      "  File \"<ipython-input-2-5ed5d1f021a8>\", line 31, in getStockInfo\n",
      "    soup = BeautifulSoup(html,'html.parser')\n",
      "  File \"C:\\anaconda\\lib\\site-packages\\bs4\\__init__.py\", line 245, in __init__\n",
      "    elif len(markup) <= 256 and (\n",
      "TypeError: object of type 'NoneType' has no len()\n"
     ]
    },
    {
     "name": "stdout",
     "output_type": "stream",
     "text": [
      "\n"
     ]
    },
    {
     "name": "stderr",
     "output_type": "stream",
     "text": [
      "Traceback (most recent call last):\n",
      "  File \"<ipython-input-2-5ed5d1f021a8>\", line 31, in getStockInfo\n",
      "    soup = BeautifulSoup(html,'html.parser')\n",
      "  File \"C:\\anaconda\\lib\\site-packages\\bs4\\__init__.py\", line 245, in __init__\n",
      "    elif len(markup) <= 256 and (\n",
      "TypeError: object of type 'NoneType' has no len()\n"
     ]
    },
    {
     "name": "stdout",
     "output_type": "stream",
     "text": [
      "\n"
     ]
    },
    {
     "name": "stderr",
     "output_type": "stream",
     "text": [
      "Traceback (most recent call last):\n",
      "  File \"<ipython-input-2-5ed5d1f021a8>\", line 31, in getStockInfo\n",
      "    soup = BeautifulSoup(html,'html.parser')\n",
      "  File \"C:\\anaconda\\lib\\site-packages\\bs4\\__init__.py\", line 245, in __init__\n",
      "    elif len(markup) <= 256 and (\n",
      "TypeError: object of type 'NoneType' has no len()\n"
     ]
    },
    {
     "name": "stdout",
     "output_type": "stream",
     "text": [
      "\n"
     ]
    },
    {
     "name": "stderr",
     "output_type": "stream",
     "text": [
      "Traceback (most recent call last):\n",
      "  File \"<ipython-input-2-5ed5d1f021a8>\", line 31, in getStockInfo\n",
      "    soup = BeautifulSoup(html,'html.parser')\n",
      "  File \"C:\\anaconda\\lib\\site-packages\\bs4\\__init__.py\", line 245, in __init__\n",
      "    elif len(markup) <= 256 and (\n",
      "TypeError: object of type 'NoneType' has no len()\n"
     ]
    },
    {
     "name": "stdout",
     "output_type": "stream",
     "text": [
      "\n"
     ]
    },
    {
     "name": "stderr",
     "output_type": "stream",
     "text": [
      "Traceback (most recent call last):\n",
      "  File \"<ipython-input-2-5ed5d1f021a8>\", line 31, in getStockInfo\n",
      "    soup = BeautifulSoup(html,'html.parser')\n",
      "  File \"C:\\anaconda\\lib\\site-packages\\bs4\\__init__.py\", line 245, in __init__\n",
      "    elif len(markup) <= 256 and (\n",
      "TypeError: object of type 'NoneType' has no len()\n"
     ]
    },
    {
     "name": "stdout",
     "output_type": "stream",
     "text": [
      "\n"
     ]
    },
    {
     "name": "stderr",
     "output_type": "stream",
     "text": [
      "Traceback (most recent call last):\n",
      "  File \"<ipython-input-2-5ed5d1f021a8>\", line 31, in getStockInfo\n",
      "    soup = BeautifulSoup(html,'html.parser')\n",
      "  File \"C:\\anaconda\\lib\\site-packages\\bs4\\__init__.py\", line 245, in __init__\n",
      "    elif len(markup) <= 256 and (\n",
      "TypeError: object of type 'NoneType' has no len()\n"
     ]
    },
    {
     "name": "stdout",
     "output_type": "stream",
     "text": [
      "\n"
     ]
    },
    {
     "name": "stderr",
     "output_type": "stream",
     "text": [
      "Traceback (most recent call last):\n",
      "  File \"<ipython-input-2-5ed5d1f021a8>\", line 31, in getStockInfo\n",
      "    soup = BeautifulSoup(html,'html.parser')\n",
      "  File \"C:\\anaconda\\lib\\site-packages\\bs4\\__init__.py\", line 245, in __init__\n",
      "    elif len(markup) <= 256 and (\n",
      "TypeError: object of type 'NoneType' has no len()\n"
     ]
    },
    {
     "name": "stdout",
     "output_type": "stream",
     "text": [
      "\n"
     ]
    },
    {
     "name": "stderr",
     "output_type": "stream",
     "text": [
      "Traceback (most recent call last):\n",
      "  File \"<ipython-input-2-5ed5d1f021a8>\", line 31, in getStockInfo\n",
      "    soup = BeautifulSoup(html,'html.parser')\n",
      "  File \"C:\\anaconda\\lib\\site-packages\\bs4\\__init__.py\", line 245, in __init__\n",
      "    elif len(markup) <= 256 and (\n",
      "TypeError: object of type 'NoneType' has no len()\n"
     ]
    },
    {
     "name": "stdout",
     "output_type": "stream",
     "text": [
      "\n"
     ]
    },
    {
     "name": "stderr",
     "output_type": "stream",
     "text": [
      "Traceback (most recent call last):\n",
      "  File \"<ipython-input-2-5ed5d1f021a8>\", line 31, in getStockInfo\n",
      "    soup = BeautifulSoup(html,'html.parser')\n",
      "  File \"C:\\anaconda\\lib\\site-packages\\bs4\\__init__.py\", line 245, in __init__\n",
      "    elif len(markup) <= 256 and (\n",
      "TypeError: object of type 'NoneType' has no len()\n",
      "Traceback (most recent call last):\n",
      "  File \"<ipython-input-2-5ed5d1f021a8>\", line 34, in getStockInfo\n",
      "    name = stockInfo.find_all(attrs={'class':'bets-name'})[0]\n",
      "AttributeError: 'NoneType' object has no attribute 'find_all'\n"
     ]
    },
    {
     "name": "stdout",
     "output_type": "stream",
     "text": [
      "\n"
     ]
    },
    {
     "name": "stderr",
     "output_type": "stream",
     "text": [
      "Traceback (most recent call last):\n",
      "  File \"<ipython-input-2-5ed5d1f021a8>\", line 31, in getStockInfo\n",
      "    soup = BeautifulSoup(html,'html.parser')\n",
      "  File \"C:\\anaconda\\lib\\site-packages\\bs4\\__init__.py\", line 245, in __init__\n",
      "    elif len(markup) <= 256 and (\n",
      "TypeError: object of type 'NoneType' has no len()\n",
      "Traceback (most recent call last):\n",
      "  File \"<ipython-input-2-5ed5d1f021a8>\", line 34, in getStockInfo\n",
      "    name = stockInfo.find_all(attrs={'class':'bets-name'})[0]\n",
      "AttributeError: 'NoneType' object has no attribute 'find_all'\n",
      "Traceback (most recent call last):\n",
      "  File \"<ipython-input-2-5ed5d1f021a8>\", line 34, in getStockInfo\n",
      "    name = stockInfo.find_all(attrs={'class':'bets-name'})[0]\n",
      "AttributeError: 'NoneType' object has no attribute 'find_all'\n"
     ]
    },
    {
     "name": "stdout",
     "output_type": "stream",
     "text": [
      "\n"
     ]
    },
    {
     "name": "stderr",
     "output_type": "stream",
     "text": [
      "Traceback (most recent call last):\n",
      "  File \"<ipython-input-2-5ed5d1f021a8>\", line 31, in getStockInfo\n",
      "    soup = BeautifulSoup(html,'html.parser')\n",
      "  File \"C:\\anaconda\\lib\\site-packages\\bs4\\__init__.py\", line 245, in __init__\n",
      "    elif len(markup) <= 256 and (\n",
      "TypeError: object of type 'NoneType' has no len()\n"
     ]
    },
    {
     "name": "stdout",
     "output_type": "stream",
     "text": [
      "\n"
     ]
    },
    {
     "name": "stderr",
     "output_type": "stream",
     "text": [
      "Traceback (most recent call last):\n",
      "  File \"<ipython-input-2-5ed5d1f021a8>\", line 31, in getStockInfo\n",
      "    soup = BeautifulSoup(html,'html.parser')\n",
      "  File \"C:\\anaconda\\lib\\site-packages\\bs4\\__init__.py\", line 245, in __init__\n",
      "    elif len(markup) <= 256 and (\n",
      "TypeError: object of type 'NoneType' has no len()\n"
     ]
    },
    {
     "name": "stdout",
     "output_type": "stream",
     "text": [
      "\n"
     ]
    },
    {
     "name": "stderr",
     "output_type": "stream",
     "text": [
      "Traceback (most recent call last):\n",
      "  File \"<ipython-input-2-5ed5d1f021a8>\", line 31, in getStockInfo\n",
      "    soup = BeautifulSoup(html,'html.parser')\n",
      "  File \"C:\\anaconda\\lib\\site-packages\\bs4\\__init__.py\", line 245, in __init__\n",
      "    elif len(markup) <= 256 and (\n",
      "TypeError: object of type 'NoneType' has no len()\n"
     ]
    },
    {
     "name": "stdout",
     "output_type": "stream",
     "text": [
      "\n"
     ]
    },
    {
     "name": "stderr",
     "output_type": "stream",
     "text": [
      "Traceback (most recent call last):\n",
      "  File \"<ipython-input-2-5ed5d1f021a8>\", line 31, in getStockInfo\n",
      "    soup = BeautifulSoup(html,'html.parser')\n",
      "  File \"C:\\anaconda\\lib\\site-packages\\bs4\\__init__.py\", line 245, in __init__\n",
      "    elif len(markup) <= 256 and (\n",
      "TypeError: object of type 'NoneType' has no len()\n"
     ]
    },
    {
     "name": "stdout",
     "output_type": "stream",
     "text": [
      "\n"
     ]
    },
    {
     "name": "stderr",
     "output_type": "stream",
     "text": [
      "Traceback (most recent call last):\n",
      "  File \"<ipython-input-2-5ed5d1f021a8>\", line 31, in getStockInfo\n",
      "    soup = BeautifulSoup(html,'html.parser')\n",
      "  File \"C:\\anaconda\\lib\\site-packages\\bs4\\__init__.py\", line 245, in __init__\n",
      "    elif len(markup) <= 256 and (\n",
      "TypeError: object of type 'NoneType' has no len()\n"
     ]
    },
    {
     "name": "stdout",
     "output_type": "stream",
     "text": [
      "\n"
     ]
    },
    {
     "name": "stderr",
     "output_type": "stream",
     "text": [
      "Traceback (most recent call last):\n",
      "  File \"<ipython-input-2-5ed5d1f021a8>\", line 31, in getStockInfo\n",
      "    soup = BeautifulSoup(html,'html.parser')\n",
      "  File \"C:\\anaconda\\lib\\site-packages\\bs4\\__init__.py\", line 245, in __init__\n",
      "    elif len(markup) <= 256 and (\n",
      "TypeError: object of type 'NoneType' has no len()\n"
     ]
    },
    {
     "name": "stdout",
     "output_type": "stream",
     "text": [
      "\n"
     ]
    },
    {
     "name": "stderr",
     "output_type": "stream",
     "text": [
      "Traceback (most recent call last):\n",
      "  File \"<ipython-input-2-5ed5d1f021a8>\", line 31, in getStockInfo\n",
      "    soup = BeautifulSoup(html,'html.parser')\n",
      "  File \"C:\\anaconda\\lib\\site-packages\\bs4\\__init__.py\", line 245, in __init__\n",
      "    elif len(markup) <= 256 and (\n",
      "TypeError: object of type 'NoneType' has no len()\n"
     ]
    },
    {
     "name": "stdout",
     "output_type": "stream",
     "text": [
      "\n"
     ]
    },
    {
     "name": "stderr",
     "output_type": "stream",
     "text": [
      "Traceback (most recent call last):\n",
      "  File \"<ipython-input-2-5ed5d1f021a8>\", line 31, in getStockInfo\n",
      "    soup = BeautifulSoup(html,'html.parser')\n",
      "  File \"C:\\anaconda\\lib\\site-packages\\bs4\\__init__.py\", line 245, in __init__\n",
      "    elif len(markup) <= 256 and (\n",
      "TypeError: object of type 'NoneType' has no len()\n"
     ]
    },
    {
     "name": "stdout",
     "output_type": "stream",
     "text": [
      "\n"
     ]
    },
    {
     "name": "stderr",
     "output_type": "stream",
     "text": [
      "Traceback (most recent call last):\n",
      "  File \"<ipython-input-2-5ed5d1f021a8>\", line 31, in getStockInfo\n",
      "    soup = BeautifulSoup(html,'html.parser')\n",
      "  File \"C:\\anaconda\\lib\\site-packages\\bs4\\__init__.py\", line 245, in __init__\n",
      "    elif len(markup) <= 256 and (\n",
      "TypeError: object of type 'NoneType' has no len()\n"
     ]
    },
    {
     "name": "stdout",
     "output_type": "stream",
     "text": [
      "\n"
     ]
    },
    {
     "name": "stderr",
     "output_type": "stream",
     "text": [
      "Traceback (most recent call last):\n",
      "  File \"<ipython-input-2-5ed5d1f021a8>\", line 31, in getStockInfo\n",
      "    soup = BeautifulSoup(html,'html.parser')\n",
      "  File \"C:\\anaconda\\lib\\site-packages\\bs4\\__init__.py\", line 245, in __init__\n",
      "    elif len(markup) <= 256 and (\n",
      "TypeError: object of type 'NoneType' has no len()\n",
      "Traceback (most recent call last):\n",
      "  File \"<ipython-input-2-5ed5d1f021a8>\", line 34, in getStockInfo\n",
      "    name = stockInfo.find_all(attrs={'class':'bets-name'})[0]\n",
      "AttributeError: 'NoneType' object has no attribute 'find_all'\n"
     ]
    },
    {
     "name": "stdout",
     "output_type": "stream",
     "text": [
      "\n"
     ]
    },
    {
     "name": "stderr",
     "output_type": "stream",
     "text": [
      "Traceback (most recent call last):\n",
      "  File \"<ipython-input-2-5ed5d1f021a8>\", line 31, in getStockInfo\n",
      "    soup = BeautifulSoup(html,'html.parser')\n",
      "  File \"C:\\anaconda\\lib\\site-packages\\bs4\\__init__.py\", line 245, in __init__\n",
      "    elif len(markup) <= 256 and (\n",
      "TypeError: object of type 'NoneType' has no len()\n"
     ]
    },
    {
     "name": "stdout",
     "output_type": "stream",
     "text": [
      "\n"
     ]
    },
    {
     "name": "stderr",
     "output_type": "stream",
     "text": [
      "Traceback (most recent call last):\n",
      "  File \"<ipython-input-2-5ed5d1f021a8>\", line 31, in getStockInfo\n",
      "    soup = BeautifulSoup(html,'html.parser')\n",
      "  File \"C:\\anaconda\\lib\\site-packages\\bs4\\__init__.py\", line 245, in __init__\n",
      "    elif len(markup) <= 256 and (\n",
      "TypeError: object of type 'NoneType' has no len()\n"
     ]
    },
    {
     "name": "stdout",
     "output_type": "stream",
     "text": [
      "\n"
     ]
    },
    {
     "name": "stderr",
     "output_type": "stream",
     "text": [
      "Traceback (most recent call last):\n",
      "  File \"<ipython-input-2-5ed5d1f021a8>\", line 31, in getStockInfo\n",
      "    soup = BeautifulSoup(html,'html.parser')\n",
      "  File \"C:\\anaconda\\lib\\site-packages\\bs4\\__init__.py\", line 245, in __init__\n",
      "    elif len(markup) <= 256 and (\n",
      "TypeError: object of type 'NoneType' has no len()\n",
      "Traceback (most recent call last):\n",
      "  File \"<ipython-input-2-5ed5d1f021a8>\", line 34, in getStockInfo\n",
      "    name = stockInfo.find_all(attrs={'class':'bets-name'})[0]\n",
      "AttributeError: 'NoneType' object has no attribute 'find_all'\n"
     ]
    },
    {
     "name": "stdout",
     "output_type": "stream",
     "text": [
      "\n"
     ]
    },
    {
     "name": "stderr",
     "output_type": "stream",
     "text": [
      "Traceback (most recent call last):\n",
      "  File \"<ipython-input-2-5ed5d1f021a8>\", line 31, in getStockInfo\n",
      "    soup = BeautifulSoup(html,'html.parser')\n",
      "  File \"C:\\anaconda\\lib\\site-packages\\bs4\\__init__.py\", line 245, in __init__\n",
      "    elif len(markup) <= 256 and (\n",
      "TypeError: object of type 'NoneType' has no len()\n",
      "Traceback (most recent call last):\n",
      "  File \"<ipython-input-2-5ed5d1f021a8>\", line 34, in getStockInfo\n",
      "    name = stockInfo.find_all(attrs={'class':'bets-name'})[0]\n",
      "AttributeError: 'NoneType' object has no attribute 'find_all'\n"
     ]
    },
    {
     "name": "stdout",
     "output_type": "stream",
     "text": [
      "\n"
     ]
    },
    {
     "name": "stderr",
     "output_type": "stream",
     "text": [
      "Traceback (most recent call last):\n",
      "  File \"<ipython-input-2-5ed5d1f021a8>\", line 31, in getStockInfo\n",
      "    soup = BeautifulSoup(html,'html.parser')\n",
      "  File \"C:\\anaconda\\lib\\site-packages\\bs4\\__init__.py\", line 245, in __init__\n",
      "    elif len(markup) <= 256 and (\n",
      "TypeError: object of type 'NoneType' has no len()\n"
     ]
    },
    {
     "name": "stdout",
     "output_type": "stream",
     "text": [
      "\n"
     ]
    },
    {
     "name": "stderr",
     "output_type": "stream",
     "text": [
      "Traceback (most recent call last):\n",
      "  File \"<ipython-input-2-5ed5d1f021a8>\", line 31, in getStockInfo\n",
      "    soup = BeautifulSoup(html,'html.parser')\n",
      "  File \"C:\\anaconda\\lib\\site-packages\\bs4\\__init__.py\", line 245, in __init__\n",
      "    elif len(markup) <= 256 and (\n",
      "TypeError: object of type 'NoneType' has no len()\n"
     ]
    },
    {
     "name": "stdout",
     "output_type": "stream",
     "text": [
      "\n"
     ]
    },
    {
     "name": "stderr",
     "output_type": "stream",
     "text": [
      "Traceback (most recent call last):\n",
      "  File \"<ipython-input-2-5ed5d1f021a8>\", line 31, in getStockInfo\n",
      "    soup = BeautifulSoup(html,'html.parser')\n",
      "  File \"C:\\anaconda\\lib\\site-packages\\bs4\\__init__.py\", line 245, in __init__\n",
      "    elif len(markup) <= 256 and (\n",
      "TypeError: object of type 'NoneType' has no len()\n"
     ]
    },
    {
     "name": "stdout",
     "output_type": "stream",
     "text": [
      "\n"
     ]
    },
    {
     "name": "stderr",
     "output_type": "stream",
     "text": [
      "Traceback (most recent call last):\n",
      "  File \"<ipython-input-2-5ed5d1f021a8>\", line 31, in getStockInfo\n",
      "    soup = BeautifulSoup(html,'html.parser')\n",
      "  File \"C:\\anaconda\\lib\\site-packages\\bs4\\__init__.py\", line 245, in __init__\n",
      "    elif len(markup) <= 256 and (\n",
      "TypeError: object of type 'NoneType' has no len()\n",
      "Traceback (most recent call last):\n",
      "  File \"<ipython-input-2-5ed5d1f021a8>\", line 34, in getStockInfo\n",
      "    name = stockInfo.find_all(attrs={'class':'bets-name'})[0]\n",
      "AttributeError: 'NoneType' object has no attribute 'find_all'\n"
     ]
    },
    {
     "name": "stdout",
     "output_type": "stream",
     "text": [
      "\n"
     ]
    },
    {
     "name": "stderr",
     "output_type": "stream",
     "text": [
      "Traceback (most recent call last):\n",
      "  File \"<ipython-input-2-5ed5d1f021a8>\", line 31, in getStockInfo\n",
      "    soup = BeautifulSoup(html,'html.parser')\n",
      "  File \"C:\\anaconda\\lib\\site-packages\\bs4\\__init__.py\", line 245, in __init__\n",
      "    elif len(markup) <= 256 and (\n",
      "TypeError: object of type 'NoneType' has no len()\n"
     ]
    },
    {
     "name": "stdout",
     "output_type": "stream",
     "text": [
      "\n"
     ]
    },
    {
     "name": "stderr",
     "output_type": "stream",
     "text": [
      "Traceback (most recent call last):\n",
      "  File \"<ipython-input-2-5ed5d1f021a8>\", line 31, in getStockInfo\n",
      "    soup = BeautifulSoup(html,'html.parser')\n",
      "  File \"C:\\anaconda\\lib\\site-packages\\bs4\\__init__.py\", line 245, in __init__\n",
      "    elif len(markup) <= 256 and (\n",
      "TypeError: object of type 'NoneType' has no len()\n"
     ]
    },
    {
     "name": "stdout",
     "output_type": "stream",
     "text": [
      "\n"
     ]
    },
    {
     "name": "stderr",
     "output_type": "stream",
     "text": [
      "Traceback (most recent call last):\n",
      "  File \"<ipython-input-2-5ed5d1f021a8>\", line 31, in getStockInfo\n",
      "    soup = BeautifulSoup(html,'html.parser')\n",
      "  File \"C:\\anaconda\\lib\\site-packages\\bs4\\__init__.py\", line 245, in __init__\n",
      "    elif len(markup) <= 256 and (\n",
      "TypeError: object of type 'NoneType' has no len()\n"
     ]
    },
    {
     "name": "stdout",
     "output_type": "stream",
     "text": [
      "\n"
     ]
    },
    {
     "name": "stderr",
     "output_type": "stream",
     "text": [
      "Traceback (most recent call last):\n",
      "  File \"<ipython-input-2-5ed5d1f021a8>\", line 31, in getStockInfo\n",
      "    soup = BeautifulSoup(html,'html.parser')\n",
      "  File \"C:\\anaconda\\lib\\site-packages\\bs4\\__init__.py\", line 245, in __init__\n",
      "    elif len(markup) <= 256 and (\n",
      "TypeError: object of type 'NoneType' has no len()\n"
     ]
    },
    {
     "name": "stdout",
     "output_type": "stream",
     "text": [
      "\n"
     ]
    },
    {
     "name": "stderr",
     "output_type": "stream",
     "text": [
      "Traceback (most recent call last):\n",
      "  File \"<ipython-input-2-5ed5d1f021a8>\", line 31, in getStockInfo\n",
      "    soup = BeautifulSoup(html,'html.parser')\n",
      "  File \"C:\\anaconda\\lib\\site-packages\\bs4\\__init__.py\", line 245, in __init__\n",
      "    elif len(markup) <= 256 and (\n",
      "TypeError: object of type 'NoneType' has no len()\n"
     ]
    },
    {
     "name": "stdout",
     "output_type": "stream",
     "text": [
      "\n"
     ]
    },
    {
     "name": "stderr",
     "output_type": "stream",
     "text": [
      "Traceback (most recent call last):\n",
      "  File \"<ipython-input-2-5ed5d1f021a8>\", line 31, in getStockInfo\n",
      "    soup = BeautifulSoup(html,'html.parser')\n",
      "  File \"C:\\anaconda\\lib\\site-packages\\bs4\\__init__.py\", line 245, in __init__\n",
      "    elif len(markup) <= 256 and (\n",
      "TypeError: object of type 'NoneType' has no len()\n"
     ]
    },
    {
     "name": "stdout",
     "output_type": "stream",
     "text": [
      "\n"
     ]
    },
    {
     "name": "stderr",
     "output_type": "stream",
     "text": [
      "Traceback (most recent call last):\n",
      "  File \"<ipython-input-2-5ed5d1f021a8>\", line 31, in getStockInfo\n",
      "    soup = BeautifulSoup(html,'html.parser')\n",
      "  File \"C:\\anaconda\\lib\\site-packages\\bs4\\__init__.py\", line 245, in __init__\n",
      "    elif len(markup) <= 256 and (\n",
      "TypeError: object of type 'NoneType' has no len()\n"
     ]
    },
    {
     "name": "stdout",
     "output_type": "stream",
     "text": [
      "\n"
     ]
    },
    {
     "name": "stderr",
     "output_type": "stream",
     "text": [
      "Traceback (most recent call last):\n",
      "  File \"<ipython-input-2-5ed5d1f021a8>\", line 31, in getStockInfo\n",
      "    soup = BeautifulSoup(html,'html.parser')\n",
      "  File \"C:\\anaconda\\lib\\site-packages\\bs4\\__init__.py\", line 245, in __init__\n",
      "    elif len(markup) <= 256 and (\n",
      "TypeError: object of type 'NoneType' has no len()\n"
     ]
    },
    {
     "name": "stdout",
     "output_type": "stream",
     "text": [
      "\n"
     ]
    },
    {
     "name": "stderr",
     "output_type": "stream",
     "text": [
      "Traceback (most recent call last):\n",
      "  File \"<ipython-input-2-5ed5d1f021a8>\", line 31, in getStockInfo\n",
      "    soup = BeautifulSoup(html,'html.parser')\n",
      "  File \"C:\\anaconda\\lib\\site-packages\\bs4\\__init__.py\", line 245, in __init__\n",
      "    elif len(markup) <= 256 and (\n",
      "TypeError: object of type 'NoneType' has no len()\n"
     ]
    },
    {
     "name": "stdout",
     "output_type": "stream",
     "text": [
      "\n"
     ]
    },
    {
     "name": "stderr",
     "output_type": "stream",
     "text": [
      "Traceback (most recent call last):\n",
      "  File \"<ipython-input-2-5ed5d1f021a8>\", line 31, in getStockInfo\n",
      "    soup = BeautifulSoup(html,'html.parser')\n",
      "  File \"C:\\anaconda\\lib\\site-packages\\bs4\\__init__.py\", line 245, in __init__\n",
      "    elif len(markup) <= 256 and (\n",
      "TypeError: object of type 'NoneType' has no len()\n"
     ]
    },
    {
     "name": "stdout",
     "output_type": "stream",
     "text": [
      "\n"
     ]
    },
    {
     "name": "stderr",
     "output_type": "stream",
     "text": [
      "Traceback (most recent call last):\n",
      "  File \"<ipython-input-2-5ed5d1f021a8>\", line 31, in getStockInfo\n",
      "    soup = BeautifulSoup(html,'html.parser')\n",
      "  File \"C:\\anaconda\\lib\\site-packages\\bs4\\__init__.py\", line 245, in __init__\n",
      "    elif len(markup) <= 256 and (\n",
      "TypeError: object of type 'NoneType' has no len()\n"
     ]
    },
    {
     "name": "stdout",
     "output_type": "stream",
     "text": [
      "\n"
     ]
    },
    {
     "name": "stderr",
     "output_type": "stream",
     "text": [
      "Traceback (most recent call last):\n",
      "  File \"<ipython-input-2-5ed5d1f021a8>\", line 31, in getStockInfo\n",
      "    soup = BeautifulSoup(html,'html.parser')\n",
      "  File \"C:\\anaconda\\lib\\site-packages\\bs4\\__init__.py\", line 245, in __init__\n",
      "    elif len(markup) <= 256 and (\n",
      "TypeError: object of type 'NoneType' has no len()\n"
     ]
    },
    {
     "name": "stdout",
     "output_type": "stream",
     "text": [
      "\n"
     ]
    },
    {
     "name": "stderr",
     "output_type": "stream",
     "text": [
      "Traceback (most recent call last):\n",
      "  File \"<ipython-input-2-5ed5d1f021a8>\", line 31, in getStockInfo\n",
      "    soup = BeautifulSoup(html,'html.parser')\n",
      "  File \"C:\\anaconda\\lib\\site-packages\\bs4\\__init__.py\", line 245, in __init__\n",
      "    elif len(markup) <= 256 and (\n",
      "TypeError: object of type 'NoneType' has no len()\n"
     ]
    },
    {
     "name": "stdout",
     "output_type": "stream",
     "text": [
      "\n"
     ]
    },
    {
     "name": "stderr",
     "output_type": "stream",
     "text": [
      "Traceback (most recent call last):\n",
      "  File \"<ipython-input-2-5ed5d1f021a8>\", line 31, in getStockInfo\n",
      "    soup = BeautifulSoup(html,'html.parser')\n",
      "  File \"C:\\anaconda\\lib\\site-packages\\bs4\\__init__.py\", line 245, in __init__\n",
      "    elif len(markup) <= 256 and (\n",
      "TypeError: object of type 'NoneType' has no len()\n"
     ]
    },
    {
     "name": "stdout",
     "output_type": "stream",
     "text": [
      "\n"
     ]
    },
    {
     "name": "stderr",
     "output_type": "stream",
     "text": [
      "Traceback (most recent call last):\n",
      "  File \"<ipython-input-2-5ed5d1f021a8>\", line 31, in getStockInfo\n",
      "    soup = BeautifulSoup(html,'html.parser')\n",
      "  File \"C:\\anaconda\\lib\\site-packages\\bs4\\__init__.py\", line 245, in __init__\n",
      "    elif len(markup) <= 256 and (\n",
      "TypeError: object of type 'NoneType' has no len()\n"
     ]
    },
    {
     "name": "stdout",
     "output_type": "stream",
     "text": [
      "\n"
     ]
    },
    {
     "name": "stderr",
     "output_type": "stream",
     "text": [
      "Traceback (most recent call last):\n",
      "  File \"<ipython-input-2-5ed5d1f021a8>\", line 31, in getStockInfo\n",
      "    soup = BeautifulSoup(html,'html.parser')\n",
      "  File \"C:\\anaconda\\lib\\site-packages\\bs4\\__init__.py\", line 245, in __init__\n",
      "    elif len(markup) <= 256 and (\n",
      "TypeError: object of type 'NoneType' has no len()\n"
     ]
    },
    {
     "name": "stdout",
     "output_type": "stream",
     "text": [
      "\n"
     ]
    },
    {
     "name": "stderr",
     "output_type": "stream",
     "text": [
      "Traceback (most recent call last):\n",
      "  File \"<ipython-input-2-5ed5d1f021a8>\", line 31, in getStockInfo\n",
      "    soup = BeautifulSoup(html,'html.parser')\n",
      "  File \"C:\\anaconda\\lib\\site-packages\\bs4\\__init__.py\", line 245, in __init__\n",
      "    elif len(markup) <= 256 and (\n",
      "TypeError: object of type 'NoneType' has no len()\n"
     ]
    },
    {
     "name": "stdout",
     "output_type": "stream",
     "text": [
      "\n"
     ]
    },
    {
     "name": "stderr",
     "output_type": "stream",
     "text": [
      "Traceback (most recent call last):\n",
      "  File \"<ipython-input-2-5ed5d1f021a8>\", line 31, in getStockInfo\n",
      "    soup = BeautifulSoup(html,'html.parser')\n",
      "  File \"C:\\anaconda\\lib\\site-packages\\bs4\\__init__.py\", line 245, in __init__\n",
      "    elif len(markup) <= 256 and (\n",
      "TypeError: object of type 'NoneType' has no len()\n",
      "Traceback (most recent call last):\n",
      "  File \"<ipython-input-2-5ed5d1f021a8>\", line 34, in getStockInfo\n",
      "    name = stockInfo.find_all(attrs={'class':'bets-name'})[0]\n",
      "AttributeError: 'NoneType' object has no attribute 'find_all'\n"
     ]
    },
    {
     "name": "stdout",
     "output_type": "stream",
     "text": [
      "\n"
     ]
    },
    {
     "name": "stderr",
     "output_type": "stream",
     "text": [
      "Traceback (most recent call last):\n",
      "  File \"<ipython-input-2-5ed5d1f021a8>\", line 31, in getStockInfo\n",
      "    soup = BeautifulSoup(html,'html.parser')\n",
      "  File \"C:\\anaconda\\lib\\site-packages\\bs4\\__init__.py\", line 245, in __init__\n",
      "    elif len(markup) <= 256 and (\n",
      "TypeError: object of type 'NoneType' has no len()\n"
     ]
    },
    {
     "name": "stdout",
     "output_type": "stream",
     "text": [
      "\n"
     ]
    },
    {
     "name": "stderr",
     "output_type": "stream",
     "text": [
      "Traceback (most recent call last):\n",
      "  File \"<ipython-input-2-5ed5d1f021a8>\", line 31, in getStockInfo\n",
      "    soup = BeautifulSoup(html,'html.parser')\n",
      "  File \"C:\\anaconda\\lib\\site-packages\\bs4\\__init__.py\", line 245, in __init__\n",
      "    elif len(markup) <= 256 and (\n",
      "TypeError: object of type 'NoneType' has no len()\n"
     ]
    },
    {
     "name": "stdout",
     "output_type": "stream",
     "text": [
      "\n"
     ]
    },
    {
     "name": "stderr",
     "output_type": "stream",
     "text": [
      "Traceback (most recent call last):\n",
      "  File \"<ipython-input-2-5ed5d1f021a8>\", line 31, in getStockInfo\n",
      "    soup = BeautifulSoup(html,'html.parser')\n",
      "  File \"C:\\anaconda\\lib\\site-packages\\bs4\\__init__.py\", line 245, in __init__\n",
      "    elif len(markup) <= 256 and (\n",
      "TypeError: object of type 'NoneType' has no len()\n"
     ]
    },
    {
     "name": "stdout",
     "output_type": "stream",
     "text": [
      "\n"
     ]
    },
    {
     "name": "stderr",
     "output_type": "stream",
     "text": [
      "Traceback (most recent call last):\n",
      "  File \"<ipython-input-2-5ed5d1f021a8>\", line 31, in getStockInfo\n",
      "    soup = BeautifulSoup(html,'html.parser')\n",
      "  File \"C:\\anaconda\\lib\\site-packages\\bs4\\__init__.py\", line 245, in __init__\n",
      "    elif len(markup) <= 256 and (\n",
      "TypeError: object of type 'NoneType' has no len()\n",
      "Traceback (most recent call last):\n",
      "  File \"<ipython-input-2-5ed5d1f021a8>\", line 34, in getStockInfo\n",
      "    name = stockInfo.find_all(attrs={'class':'bets-name'})[0]\n",
      "AttributeError: 'NoneType' object has no attribute 'find_all'\n"
     ]
    },
    {
     "name": "stdout",
     "output_type": "stream",
     "text": [
      "\n"
     ]
    },
    {
     "name": "stderr",
     "output_type": "stream",
     "text": [
      "Traceback (most recent call last):\n",
      "  File \"<ipython-input-2-5ed5d1f021a8>\", line 31, in getStockInfo\n",
      "    soup = BeautifulSoup(html,'html.parser')\n",
      "  File \"C:\\anaconda\\lib\\site-packages\\bs4\\__init__.py\", line 245, in __init__\n",
      "    elif len(markup) <= 256 and (\n",
      "TypeError: object of type 'NoneType' has no len()\n"
     ]
    },
    {
     "name": "stdout",
     "output_type": "stream",
     "text": [
      "\n"
     ]
    },
    {
     "name": "stderr",
     "output_type": "stream",
     "text": [
      "Traceback (most recent call last):\n",
      "  File \"<ipython-input-2-5ed5d1f021a8>\", line 31, in getStockInfo\n",
      "    soup = BeautifulSoup(html,'html.parser')\n",
      "  File \"C:\\anaconda\\lib\\site-packages\\bs4\\__init__.py\", line 245, in __init__\n",
      "    elif len(markup) <= 256 and (\n",
      "TypeError: object of type 'NoneType' has no len()\n"
     ]
    },
    {
     "name": "stdout",
     "output_type": "stream",
     "text": [
      "\n"
     ]
    },
    {
     "name": "stderr",
     "output_type": "stream",
     "text": [
      "Traceback (most recent call last):\n",
      "  File \"<ipython-input-2-5ed5d1f021a8>\", line 31, in getStockInfo\n",
      "    soup = BeautifulSoup(html,'html.parser')\n",
      "  File \"C:\\anaconda\\lib\\site-packages\\bs4\\__init__.py\", line 245, in __init__\n",
      "    elif len(markup) <= 256 and (\n",
      "TypeError: object of type 'NoneType' has no len()\n"
     ]
    },
    {
     "name": "stdout",
     "output_type": "stream",
     "text": [
      "\n"
     ]
    },
    {
     "name": "stderr",
     "output_type": "stream",
     "text": [
      "Traceback (most recent call last):\n",
      "  File \"<ipython-input-2-5ed5d1f021a8>\", line 31, in getStockInfo\n",
      "    soup = BeautifulSoup(html,'html.parser')\n",
      "  File \"C:\\anaconda\\lib\\site-packages\\bs4\\__init__.py\", line 245, in __init__\n",
      "    elif len(markup) <= 256 and (\n",
      "TypeError: object of type 'NoneType' has no len()\n"
     ]
    },
    {
     "name": "stdout",
     "output_type": "stream",
     "text": [
      "\n"
     ]
    },
    {
     "name": "stderr",
     "output_type": "stream",
     "text": [
      "Traceback (most recent call last):\n",
      "  File \"<ipython-input-2-5ed5d1f021a8>\", line 31, in getStockInfo\n",
      "    soup = BeautifulSoup(html,'html.parser')\n",
      "  File \"C:\\anaconda\\lib\\site-packages\\bs4\\__init__.py\", line 245, in __init__\n",
      "    elif len(markup) <= 256 and (\n",
      "TypeError: object of type 'NoneType' has no len()\n"
     ]
    },
    {
     "name": "stdout",
     "output_type": "stream",
     "text": [
      "\n"
     ]
    },
    {
     "name": "stderr",
     "output_type": "stream",
     "text": [
      "Traceback (most recent call last):\n",
      "  File \"<ipython-input-2-5ed5d1f021a8>\", line 31, in getStockInfo\n",
      "    soup = BeautifulSoup(html,'html.parser')\n",
      "  File \"C:\\anaconda\\lib\\site-packages\\bs4\\__init__.py\", line 245, in __init__\n",
      "    elif len(markup) <= 256 and (\n",
      "TypeError: object of type 'NoneType' has no len()\n",
      "Traceback (most recent call last):\n",
      "  File \"<ipython-input-2-5ed5d1f021a8>\", line 34, in getStockInfo\n",
      "    name = stockInfo.find_all(attrs={'class':'bets-name'})[0]\n",
      "AttributeError: 'NoneType' object has no attribute 'find_all'\n"
     ]
    },
    {
     "name": "stdout",
     "output_type": "stream",
     "text": [
      "\n"
     ]
    },
    {
     "name": "stderr",
     "output_type": "stream",
     "text": [
      "Traceback (most recent call last):\n",
      "  File \"<ipython-input-2-5ed5d1f021a8>\", line 31, in getStockInfo\n",
      "    soup = BeautifulSoup(html,'html.parser')\n",
      "  File \"C:\\anaconda\\lib\\site-packages\\bs4\\__init__.py\", line 245, in __init__\n",
      "    elif len(markup) <= 256 and (\n",
      "TypeError: object of type 'NoneType' has no len()\n"
     ]
    },
    {
     "name": "stdout",
     "output_type": "stream",
     "text": [
      "\n"
     ]
    },
    {
     "name": "stderr",
     "output_type": "stream",
     "text": [
      "Traceback (most recent call last):\n",
      "  File \"<ipython-input-2-5ed5d1f021a8>\", line 31, in getStockInfo\n",
      "    soup = BeautifulSoup(html,'html.parser')\n",
      "  File \"C:\\anaconda\\lib\\site-packages\\bs4\\__init__.py\", line 245, in __init__\n",
      "    elif len(markup) <= 256 and (\n",
      "TypeError: object of type 'NoneType' has no len()\n"
     ]
    },
    {
     "name": "stdout",
     "output_type": "stream",
     "text": [
      "\n"
     ]
    },
    {
     "name": "stderr",
     "output_type": "stream",
     "text": [
      "Traceback (most recent call last):\n",
      "  File \"<ipython-input-2-5ed5d1f021a8>\", line 31, in getStockInfo\n",
      "    soup = BeautifulSoup(html,'html.parser')\n",
      "  File \"C:\\anaconda\\lib\\site-packages\\bs4\\__init__.py\", line 245, in __init__\n",
      "    elif len(markup) <= 256 and (\n",
      "TypeError: object of type 'NoneType' has no len()\n"
     ]
    },
    {
     "name": "stdout",
     "output_type": "stream",
     "text": [
      "\n"
     ]
    },
    {
     "name": "stderr",
     "output_type": "stream",
     "text": [
      "Traceback (most recent call last):\n",
      "  File \"<ipython-input-2-5ed5d1f021a8>\", line 31, in getStockInfo\n",
      "    soup = BeautifulSoup(html,'html.parser')\n",
      "  File \"C:\\anaconda\\lib\\site-packages\\bs4\\__init__.py\", line 245, in __init__\n",
      "    elif len(markup) <= 256 and (\n",
      "TypeError: object of type 'NoneType' has no len()\n"
     ]
    },
    {
     "name": "stdout",
     "output_type": "stream",
     "text": [
      "\n"
     ]
    },
    {
     "name": "stderr",
     "output_type": "stream",
     "text": [
      "Traceback (most recent call last):\n",
      "  File \"<ipython-input-2-5ed5d1f021a8>\", line 31, in getStockInfo\n",
      "    soup = BeautifulSoup(html,'html.parser')\n",
      "  File \"C:\\anaconda\\lib\\site-packages\\bs4\\__init__.py\", line 245, in __init__\n",
      "    elif len(markup) <= 256 and (\n",
      "TypeError: object of type 'NoneType' has no len()\n"
     ]
    },
    {
     "name": "stdout",
     "output_type": "stream",
     "text": [
      "\n"
     ]
    },
    {
     "name": "stderr",
     "output_type": "stream",
     "text": [
      "Traceback (most recent call last):\n",
      "  File \"<ipython-input-2-5ed5d1f021a8>\", line 31, in getStockInfo\n",
      "    soup = BeautifulSoup(html,'html.parser')\n",
      "  File \"C:\\anaconda\\lib\\site-packages\\bs4\\__init__.py\", line 245, in __init__\n",
      "    elif len(markup) <= 256 and (\n",
      "TypeError: object of type 'NoneType' has no len()\n"
     ]
    },
    {
     "name": "stdout",
     "output_type": "stream",
     "text": [
      "\n"
     ]
    },
    {
     "name": "stderr",
     "output_type": "stream",
     "text": [
      "Traceback (most recent call last):\n",
      "  File \"<ipython-input-2-5ed5d1f021a8>\", line 31, in getStockInfo\n",
      "    soup = BeautifulSoup(html,'html.parser')\n",
      "  File \"C:\\anaconda\\lib\\site-packages\\bs4\\__init__.py\", line 245, in __init__\n",
      "    elif len(markup) <= 256 and (\n",
      "TypeError: object of type 'NoneType' has no len()\n"
     ]
    },
    {
     "name": "stdout",
     "output_type": "stream",
     "text": [
      "\n"
     ]
    },
    {
     "name": "stderr",
     "output_type": "stream",
     "text": [
      "Traceback (most recent call last):\n",
      "  File \"<ipython-input-2-5ed5d1f021a8>\", line 31, in getStockInfo\n",
      "    soup = BeautifulSoup(html,'html.parser')\n",
      "  File \"C:\\anaconda\\lib\\site-packages\\bs4\\__init__.py\", line 245, in __init__\n",
      "    elif len(markup) <= 256 and (\n",
      "TypeError: object of type 'NoneType' has no len()\n"
     ]
    },
    {
     "name": "stdout",
     "output_type": "stream",
     "text": [
      "\n"
     ]
    },
    {
     "name": "stderr",
     "output_type": "stream",
     "text": [
      "Traceback (most recent call last):\n",
      "  File \"<ipython-input-2-5ed5d1f021a8>\", line 31, in getStockInfo\n",
      "    soup = BeautifulSoup(html,'html.parser')\n",
      "  File \"C:\\anaconda\\lib\\site-packages\\bs4\\__init__.py\", line 245, in __init__\n",
      "    elif len(markup) <= 256 and (\n",
      "TypeError: object of type 'NoneType' has no len()\n",
      "Traceback (most recent call last):\n",
      "  File \"<ipython-input-2-5ed5d1f021a8>\", line 34, in getStockInfo\n",
      "    name = stockInfo.find_all(attrs={'class':'bets-name'})[0]\n",
      "AttributeError: 'NoneType' object has no attribute 'find_all'\n"
     ]
    },
    {
     "name": "stdout",
     "output_type": "stream",
     "text": [
      "\n"
     ]
    },
    {
     "name": "stderr",
     "output_type": "stream",
     "text": [
      "Traceback (most recent call last):\n",
      "  File \"<ipython-input-2-5ed5d1f021a8>\", line 31, in getStockInfo\n",
      "    soup = BeautifulSoup(html,'html.parser')\n",
      "  File \"C:\\anaconda\\lib\\site-packages\\bs4\\__init__.py\", line 245, in __init__\n",
      "    elif len(markup) <= 256 and (\n",
      "TypeError: object of type 'NoneType' has no len()\n",
      "Traceback (most recent call last):\n",
      "  File \"<ipython-input-2-5ed5d1f021a8>\", line 34, in getStockInfo\n",
      "    name = stockInfo.find_all(attrs={'class':'bets-name'})[0]\n",
      "AttributeError: 'NoneType' object has no attribute 'find_all'\n",
      "Traceback (most recent call last):\n",
      "  File \"<ipython-input-2-5ed5d1f021a8>\", line 34, in getStockInfo\n",
      "    name = stockInfo.find_all(attrs={'class':'bets-name'})[0]\n",
      "AttributeError: 'NoneType' object has no attribute 'find_all'\n"
     ]
    },
    {
     "name": "stdout",
     "output_type": "stream",
     "text": [
      "\n"
     ]
    },
    {
     "name": "stderr",
     "output_type": "stream",
     "text": [
      "Traceback (most recent call last):\n",
      "  File \"<ipython-input-2-5ed5d1f021a8>\", line 31, in getStockInfo\n",
      "    soup = BeautifulSoup(html,'html.parser')\n",
      "  File \"C:\\anaconda\\lib\\site-packages\\bs4\\__init__.py\", line 245, in __init__\n",
      "    elif len(markup) <= 256 and (\n",
      "TypeError: object of type 'NoneType' has no len()\n"
     ]
    },
    {
     "name": "stdout",
     "output_type": "stream",
     "text": [
      "\n"
     ]
    },
    {
     "name": "stderr",
     "output_type": "stream",
     "text": [
      "Traceback (most recent call last):\n",
      "  File \"<ipython-input-2-5ed5d1f021a8>\", line 31, in getStockInfo\n",
      "    soup = BeautifulSoup(html,'html.parser')\n",
      "  File \"C:\\anaconda\\lib\\site-packages\\bs4\\__init__.py\", line 245, in __init__\n",
      "    elif len(markup) <= 256 and (\n",
      "TypeError: object of type 'NoneType' has no len()\n"
     ]
    },
    {
     "name": "stdout",
     "output_type": "stream",
     "text": [
      "\n"
     ]
    },
    {
     "name": "stderr",
     "output_type": "stream",
     "text": [
      "Traceback (most recent call last):\n",
      "  File \"<ipython-input-2-5ed5d1f021a8>\", line 31, in getStockInfo\n",
      "    soup = BeautifulSoup(html,'html.parser')\n",
      "  File \"C:\\anaconda\\lib\\site-packages\\bs4\\__init__.py\", line 245, in __init__\n",
      "    elif len(markup) <= 256 and (\n",
      "TypeError: object of type 'NoneType' has no len()\n"
     ]
    },
    {
     "name": "stdout",
     "output_type": "stream",
     "text": [
      "\n"
     ]
    },
    {
     "name": "stderr",
     "output_type": "stream",
     "text": [
      "Traceback (most recent call last):\n",
      "  File \"<ipython-input-2-5ed5d1f021a8>\", line 31, in getStockInfo\n",
      "    soup = BeautifulSoup(html,'html.parser')\n",
      "  File \"C:\\anaconda\\lib\\site-packages\\bs4\\__init__.py\", line 245, in __init__\n",
      "    elif len(markup) <= 256 and (\n",
      "TypeError: object of type 'NoneType' has no len()\n"
     ]
    },
    {
     "name": "stdout",
     "output_type": "stream",
     "text": [
      "\n"
     ]
    },
    {
     "name": "stderr",
     "output_type": "stream",
     "text": [
      "Traceback (most recent call last):\n",
      "  File \"<ipython-input-2-5ed5d1f021a8>\", line 31, in getStockInfo\n",
      "    soup = BeautifulSoup(html,'html.parser')\n",
      "  File \"C:\\anaconda\\lib\\site-packages\\bs4\\__init__.py\", line 245, in __init__\n",
      "    elif len(markup) <= 256 and (\n",
      "TypeError: object of type 'NoneType' has no len()\n"
     ]
    },
    {
     "name": "stdout",
     "output_type": "stream",
     "text": [
      "\n"
     ]
    },
    {
     "name": "stderr",
     "output_type": "stream",
     "text": [
      "Traceback (most recent call last):\n",
      "  File \"<ipython-input-2-5ed5d1f021a8>\", line 31, in getStockInfo\n",
      "    soup = BeautifulSoup(html,'html.parser')\n",
      "  File \"C:\\anaconda\\lib\\site-packages\\bs4\\__init__.py\", line 245, in __init__\n",
      "    elif len(markup) <= 256 and (\n",
      "TypeError: object of type 'NoneType' has no len()\n"
     ]
    },
    {
     "name": "stdout",
     "output_type": "stream",
     "text": [
      "\n"
     ]
    },
    {
     "name": "stderr",
     "output_type": "stream",
     "text": [
      "Traceback (most recent call last):\n",
      "  File \"<ipython-input-2-5ed5d1f021a8>\", line 31, in getStockInfo\n",
      "    soup = BeautifulSoup(html,'html.parser')\n",
      "  File \"C:\\anaconda\\lib\\site-packages\\bs4\\__init__.py\", line 245, in __init__\n",
      "    elif len(markup) <= 256 and (\n",
      "TypeError: object of type 'NoneType' has no len()\n"
     ]
    },
    {
     "name": "stdout",
     "output_type": "stream",
     "text": [
      "\n"
     ]
    },
    {
     "name": "stderr",
     "output_type": "stream",
     "text": [
      "Traceback (most recent call last):\n",
      "  File \"<ipython-input-2-5ed5d1f021a8>\", line 31, in getStockInfo\n",
      "    soup = BeautifulSoup(html,'html.parser')\n",
      "  File \"C:\\anaconda\\lib\\site-packages\\bs4\\__init__.py\", line 245, in __init__\n",
      "    elif len(markup) <= 256 and (\n",
      "TypeError: object of type 'NoneType' has no len()\n",
      "Traceback (most recent call last):\n",
      "  File \"<ipython-input-2-5ed5d1f021a8>\", line 34, in getStockInfo\n",
      "    name = stockInfo.find_all(attrs={'class':'bets-name'})[0]\n",
      "AttributeError: 'NoneType' object has no attribute 'find_all'\n"
     ]
    },
    {
     "name": "stdout",
     "output_type": "stream",
     "text": [
      "\n"
     ]
    },
    {
     "name": "stderr",
     "output_type": "stream",
     "text": [
      "Traceback (most recent call last):\n",
      "  File \"<ipython-input-2-5ed5d1f021a8>\", line 31, in getStockInfo\n",
      "    soup = BeautifulSoup(html,'html.parser')\n",
      "  File \"C:\\anaconda\\lib\\site-packages\\bs4\\__init__.py\", line 245, in __init__\n",
      "    elif len(markup) <= 256 and (\n",
      "TypeError: object of type 'NoneType' has no len()\n"
     ]
    },
    {
     "name": "stdout",
     "output_type": "stream",
     "text": [
      "\n"
     ]
    },
    {
     "name": "stderr",
     "output_type": "stream",
     "text": [
      "Traceback (most recent call last):\n",
      "  File \"<ipython-input-2-5ed5d1f021a8>\", line 31, in getStockInfo\n",
      "    soup = BeautifulSoup(html,'html.parser')\n",
      "  File \"C:\\anaconda\\lib\\site-packages\\bs4\\__init__.py\", line 245, in __init__\n",
      "    elif len(markup) <= 256 and (\n",
      "TypeError: object of type 'NoneType' has no len()\n"
     ]
    },
    {
     "name": "stdout",
     "output_type": "stream",
     "text": [
      "\n"
     ]
    },
    {
     "name": "stderr",
     "output_type": "stream",
     "text": [
      "Traceback (most recent call last):\n",
      "  File \"<ipython-input-2-5ed5d1f021a8>\", line 31, in getStockInfo\n",
      "    soup = BeautifulSoup(html,'html.parser')\n",
      "  File \"C:\\anaconda\\lib\\site-packages\\bs4\\__init__.py\", line 245, in __init__\n",
      "    elif len(markup) <= 256 and (\n",
      "TypeError: object of type 'NoneType' has no len()\n"
     ]
    },
    {
     "name": "stdout",
     "output_type": "stream",
     "text": [
      "\n"
     ]
    },
    {
     "name": "stderr",
     "output_type": "stream",
     "text": [
      "Traceback (most recent call last):\n",
      "  File \"<ipython-input-2-5ed5d1f021a8>\", line 31, in getStockInfo\n",
      "    soup = BeautifulSoup(html,'html.parser')\n",
      "  File \"C:\\anaconda\\lib\\site-packages\\bs4\\__init__.py\", line 245, in __init__\n",
      "    elif len(markup) <= 256 and (\n",
      "TypeError: object of type 'NoneType' has no len()\n"
     ]
    },
    {
     "name": "stdout",
     "output_type": "stream",
     "text": [
      "\n"
     ]
    },
    {
     "name": "stderr",
     "output_type": "stream",
     "text": [
      "Traceback (most recent call last):\n",
      "  File \"<ipython-input-2-5ed5d1f021a8>\", line 31, in getStockInfo\n",
      "    soup = BeautifulSoup(html,'html.parser')\n",
      "  File \"C:\\anaconda\\lib\\site-packages\\bs4\\__init__.py\", line 245, in __init__\n",
      "    elif len(markup) <= 256 and (\n",
      "TypeError: object of type 'NoneType' has no len()\n"
     ]
    },
    {
     "name": "stdout",
     "output_type": "stream",
     "text": [
      "\n"
     ]
    },
    {
     "name": "stderr",
     "output_type": "stream",
     "text": [
      "Traceback (most recent call last):\n",
      "  File \"<ipython-input-2-5ed5d1f021a8>\", line 31, in getStockInfo\n",
      "    soup = BeautifulSoup(html,'html.parser')\n",
      "  File \"C:\\anaconda\\lib\\site-packages\\bs4\\__init__.py\", line 245, in __init__\n",
      "    elif len(markup) <= 256 and (\n",
      "TypeError: object of type 'NoneType' has no len()\n"
     ]
    },
    {
     "name": "stdout",
     "output_type": "stream",
     "text": [
      "\n"
     ]
    },
    {
     "name": "stderr",
     "output_type": "stream",
     "text": [
      "Traceback (most recent call last):\n",
      "  File \"<ipython-input-2-5ed5d1f021a8>\", line 31, in getStockInfo\n",
      "    soup = BeautifulSoup(html,'html.parser')\n",
      "  File \"C:\\anaconda\\lib\\site-packages\\bs4\\__init__.py\", line 245, in __init__\n",
      "    elif len(markup) <= 256 and (\n",
      "TypeError: object of type 'NoneType' has no len()\n"
     ]
    },
    {
     "name": "stdout",
     "output_type": "stream",
     "text": [
      "\n"
     ]
    },
    {
     "name": "stderr",
     "output_type": "stream",
     "text": [
      "Traceback (most recent call last):\n",
      "  File \"<ipython-input-2-5ed5d1f021a8>\", line 31, in getStockInfo\n",
      "    soup = BeautifulSoup(html,'html.parser')\n",
      "  File \"C:\\anaconda\\lib\\site-packages\\bs4\\__init__.py\", line 245, in __init__\n",
      "    elif len(markup) <= 256 and (\n",
      "TypeError: object of type 'NoneType' has no len()\n"
     ]
    },
    {
     "name": "stdout",
     "output_type": "stream",
     "text": [
      "\n"
     ]
    },
    {
     "name": "stderr",
     "output_type": "stream",
     "text": [
      "Traceback (most recent call last):\n",
      "  File \"<ipython-input-2-5ed5d1f021a8>\", line 31, in getStockInfo\n",
      "    soup = BeautifulSoup(html,'html.parser')\n",
      "  File \"C:\\anaconda\\lib\\site-packages\\bs4\\__init__.py\", line 245, in __init__\n",
      "    elif len(markup) <= 256 and (\n",
      "TypeError: object of type 'NoneType' has no len()\n"
     ]
    },
    {
     "name": "stdout",
     "output_type": "stream",
     "text": [
      "\n"
     ]
    },
    {
     "name": "stderr",
     "output_type": "stream",
     "text": [
      "Traceback (most recent call last):\n",
      "  File \"<ipython-input-2-5ed5d1f021a8>\", line 31, in getStockInfo\n",
      "    soup = BeautifulSoup(html,'html.parser')\n",
      "  File \"C:\\anaconda\\lib\\site-packages\\bs4\\__init__.py\", line 245, in __init__\n",
      "    elif len(markup) <= 256 and (\n",
      "TypeError: object of type 'NoneType' has no len()\n"
     ]
    },
    {
     "name": "stdout",
     "output_type": "stream",
     "text": [
      "\n"
     ]
    },
    {
     "name": "stderr",
     "output_type": "stream",
     "text": [
      "Traceback (most recent call last):\n",
      "  File \"<ipython-input-2-5ed5d1f021a8>\", line 31, in getStockInfo\n",
      "    soup = BeautifulSoup(html,'html.parser')\n",
      "  File \"C:\\anaconda\\lib\\site-packages\\bs4\\__init__.py\", line 245, in __init__\n",
      "    elif len(markup) <= 256 and (\n",
      "TypeError: object of type 'NoneType' has no len()\n"
     ]
    },
    {
     "name": "stdout",
     "output_type": "stream",
     "text": [
      "\n"
     ]
    },
    {
     "name": "stderr",
     "output_type": "stream",
     "text": [
      "Traceback (most recent call last):\n",
      "  File \"<ipython-input-2-5ed5d1f021a8>\", line 31, in getStockInfo\n",
      "    soup = BeautifulSoup(html,'html.parser')\n",
      "  File \"C:\\anaconda\\lib\\site-packages\\bs4\\__init__.py\", line 245, in __init__\n",
      "    elif len(markup) <= 256 and (\n",
      "TypeError: object of type 'NoneType' has no len()\n"
     ]
    },
    {
     "name": "stdout",
     "output_type": "stream",
     "text": [
      "\n"
     ]
    },
    {
     "name": "stderr",
     "output_type": "stream",
     "text": [
      "Traceback (most recent call last):\n",
      "  File \"<ipython-input-2-5ed5d1f021a8>\", line 31, in getStockInfo\n",
      "    soup = BeautifulSoup(html,'html.parser')\n",
      "  File \"C:\\anaconda\\lib\\site-packages\\bs4\\__init__.py\", line 245, in __init__\n",
      "    elif len(markup) <= 256 and (\n",
      "TypeError: object of type 'NoneType' has no len()\n",
      "Traceback (most recent call last):\n",
      "  File \"<ipython-input-2-5ed5d1f021a8>\", line 34, in getStockInfo\n",
      "    name = stockInfo.find_all(attrs={'class':'bets-name'})[0]\n",
      "AttributeError: 'NoneType' object has no attribute 'find_all'\n"
     ]
    },
    {
     "name": "stdout",
     "output_type": "stream",
     "text": [
      "\n"
     ]
    },
    {
     "name": "stderr",
     "output_type": "stream",
     "text": [
      "Traceback (most recent call last):\n",
      "  File \"<ipython-input-2-5ed5d1f021a8>\", line 31, in getStockInfo\n",
      "    soup = BeautifulSoup(html,'html.parser')\n",
      "  File \"C:\\anaconda\\lib\\site-packages\\bs4\\__init__.py\", line 245, in __init__\n",
      "    elif len(markup) <= 256 and (\n",
      "TypeError: object of type 'NoneType' has no len()\n",
      "Traceback (most recent call last):\n",
      "  File \"<ipython-input-2-5ed5d1f021a8>\", line 34, in getStockInfo\n",
      "    name = stockInfo.find_all(attrs={'class':'bets-name'})[0]\n",
      "AttributeError: 'NoneType' object has no attribute 'find_all'\n"
     ]
    },
    {
     "name": "stdout",
     "output_type": "stream",
     "text": [
      "\n"
     ]
    },
    {
     "name": "stderr",
     "output_type": "stream",
     "text": [
      "Traceback (most recent call last):\n",
      "  File \"<ipython-input-2-5ed5d1f021a8>\", line 31, in getStockInfo\n",
      "    soup = BeautifulSoup(html,'html.parser')\n",
      "  File \"C:\\anaconda\\lib\\site-packages\\bs4\\__init__.py\", line 245, in __init__\n",
      "    elif len(markup) <= 256 and (\n",
      "TypeError: object of type 'NoneType' has no len()\n"
     ]
    },
    {
     "name": "stdout",
     "output_type": "stream",
     "text": [
      "\n"
     ]
    },
    {
     "name": "stderr",
     "output_type": "stream",
     "text": [
      "Traceback (most recent call last):\n",
      "  File \"<ipython-input-2-5ed5d1f021a8>\", line 31, in getStockInfo\n",
      "    soup = BeautifulSoup(html,'html.parser')\n",
      "  File \"C:\\anaconda\\lib\\site-packages\\bs4\\__init__.py\", line 245, in __init__\n",
      "    elif len(markup) <= 256 and (\n",
      "TypeError: object of type 'NoneType' has no len()\n"
     ]
    },
    {
     "name": "stdout",
     "output_type": "stream",
     "text": [
      "\n"
     ]
    },
    {
     "name": "stderr",
     "output_type": "stream",
     "text": [
      "Traceback (most recent call last):\n",
      "  File \"<ipython-input-2-5ed5d1f021a8>\", line 31, in getStockInfo\n",
      "    soup = BeautifulSoup(html,'html.parser')\n",
      "  File \"C:\\anaconda\\lib\\site-packages\\bs4\\__init__.py\", line 245, in __init__\n",
      "    elif len(markup) <= 256 and (\n",
      "TypeError: object of type 'NoneType' has no len()\n"
     ]
    },
    {
     "name": "stdout",
     "output_type": "stream",
     "text": [
      "\n"
     ]
    },
    {
     "name": "stderr",
     "output_type": "stream",
     "text": [
      "Traceback (most recent call last):\n",
      "  File \"<ipython-input-2-5ed5d1f021a8>\", line 31, in getStockInfo\n",
      "    soup = BeautifulSoup(html,'html.parser')\n",
      "  File \"C:\\anaconda\\lib\\site-packages\\bs4\\__init__.py\", line 245, in __init__\n",
      "    elif len(markup) <= 256 and (\n",
      "TypeError: object of type 'NoneType' has no len()\n"
     ]
    },
    {
     "name": "stdout",
     "output_type": "stream",
     "text": [
      "\n"
     ]
    },
    {
     "name": "stderr",
     "output_type": "stream",
     "text": [
      "Traceback (most recent call last):\n",
      "  File \"<ipython-input-2-5ed5d1f021a8>\", line 31, in getStockInfo\n",
      "    soup = BeautifulSoup(html,'html.parser')\n",
      "  File \"C:\\anaconda\\lib\\site-packages\\bs4\\__init__.py\", line 245, in __init__\n",
      "    elif len(markup) <= 256 and (\n",
      "TypeError: object of type 'NoneType' has no len()\n"
     ]
    }
   ],
   "source": [
    "def getHTMLText(url):\n",
    "    try:\n",
    "        html = req.get(url,timeout=30,headers = {'user-agent':'Mozilla/5.0 '})\n",
    "        html.raise_for_status()\n",
    "        html.encoding = html.apparent_encoding\n",
    "        return html.text# 一般返回访问网页内容的字符串形式\n",
    "    except:\n",
    "        print('')\n",
    "        \n",
    "        \n",
    "def getStocklist(slist,StockUrl):# 批量获取股票代码，为访问股市通的个股准备\n",
    "    html = getHTMLText(StockUrl)\n",
    "    soup = BeautifulSoup(html,'html.parser')\n",
    "    a = soup.find_all('a')\n",
    "    for i in a:\n",
    "        try:\n",
    "            href = i.attrs['href']# bs4库的对象有attrs内置方法，可返回指定属性的值\n",
    "            slist.append(re.findall(r'[s][hz]\\d{6}',href)[0])# re库正则表达式匹配，返回列表，列表元素是符合匹配的字符\n",
    "        except:\n",
    "            continue\n",
    "    \n",
    "    \n",
    "def getStockInfo(slist,InfoUrl,fpath):\n",
    "    for stock in slist:\n",
    "        url = InfoUrl+stock+'.html'\n",
    "        html = getHTMLText(url)\n",
    "        try:\n",
    "            if html=='':\n",
    "                continue\n",
    "            infoDict = {}\n",
    "            soup = BeautifulSoup(html,'html.parser')\n",
    "            stockInfo = soup.find('div',attrs={'class':'stock-bets'})# 唯一的区别是 find_all() 方法的返回结果是值包含一个元素的列表,\n",
    "            # 而 find() 方法直接返回结果（bs4.element.Tag，bs4的实例对象）.且find()用于仅有一个独特标签的检索\n",
    " \n",
    "            name = stockInfo.find_all(attrs={'class':'bets-name'})[0]# 根据find()返回结果，继续细分\n",
    "            infoDict.update({'股票名称':name.text.split()[0]})#  .text内置方法，以字符串形式返回find_all()结果\n",
    "            \n",
    "            keyList = stockInfo.find_all('dt')# find_all()，返回bs4实例对象的迭代器\n",
    "            valueList = stockInfo.find_all('dd')\n",
    "\n",
    "            for i in range(len(keyList)):\n",
    "                key = keyList[i].text\n",
    "                val = valueList[i].text\n",
    "                infoDict[key] = val\n",
    "            with open(fpath,'a',encoding='utf8') as f:\n",
    "                f.write(str(infoDict) + '\\n')\n",
    "           \n",
    "        except:\n",
    "            traceback.print_exc()# traceback调试程序的模块，打印异常\n",
    "            continue\n",
    "            \n",
    "def admin():\n",
    "    ListUrl = 'http://quote.eastmoney.com/stocklist.html'\n",
    "    InfoUrl = 'https://gupiao.baidu.com/stock/'# 需要拼接的url，后面记得加上/\n",
    "    fpath = 'd://BaiDuSharesInfo.txt'\n",
    "    slist = []\n",
    "    getStocklist(slist,ListUrl)\n",
    "    getStockInfo(slist,InfoUrl,fpath)\n",
    "    \n",
    "if __name__=='__main__':\n",
    "    admin()"
   ]
  },
  {
   "cell_type": "code",
   "execution_count": null,
   "metadata": {},
   "outputs": [],
   "source": []
  }
 ],
 "metadata": {
  "kernelspec": {
   "display_name": "Python 3",
   "language": "python",
   "name": "python3"
  },
  "language_info": {
   "codemirror_mode": {
    "name": "ipython",
    "version": 3
   },
   "file_extension": ".py",
   "mimetype": "text/x-python",
   "name": "python",
   "nbconvert_exporter": "python",
   "pygments_lexer": "ipython3",
   "version": "3.7.0"
  }
 },
 "nbformat": 4,
 "nbformat_minor": 2
}
