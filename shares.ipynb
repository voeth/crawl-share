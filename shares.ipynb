{
 "cells": [
  {
   "cell_type": "code",
   "execution_count": 1,
   "metadata": {},
   "outputs": [],
   "source": [
    "import requests as req\n",
    "from bs4 import BeautifulSoup\n",
    "import traceback\n",
    "import re "
   ]
  },
  {
   "cell_type": "code",
   "execution_count": null,
   "metadata": {},
   "outputs": [
    {
     "name": "stdout",
     "output_type": "stream",
     "text": [
      "{'股票名称': '东方财富', '今开': '13.45'}\n",
      "{'股票名称': '东方财富', '今开': '13.45', '成交量': '112.86万手'}\n",
      "{'股票名称': '东方财富', '今开': '13.45', '成交量': '112.86万手', '最高': '14.17'}\n",
      "{'股票名称': '东方财富', '今开': '13.45', '成交量': '112.86万手', '最高': '14.17', '涨停': '14.76'}\n",
      "{'股票名称': '东方财富', '今开': '13.45', '成交量': '112.86万手', '最高': '14.17', '涨停': '14.76', '内盘': '47.61万手'}\n",
      "{'股票名称': '东方财富', '今开': '13.45', '成交量': '112.86万手', '最高': '14.17', '涨停': '14.76', '内盘': '47.61万手', '成交额': '15.46亿'}\n",
      "{'股票名称': '东方财富', '今开': '13.45', '成交量': '112.86万手', '最高': '14.17', '涨停': '14.76', '内盘': '47.61万手', '成交额': '15.46亿', '委比': '23.30%'}\n",
      "{'股票名称': '东方财富', '今开': '13.45', '成交量': '112.86万手', '最高': '14.17', '涨停': '14.76', '内盘': '47.61万手', '成交额': '15.46亿', '委比': '23.30%', '流通市值': '579.42亿'}\n",
      "{'股票名称': '东方财富', '今开': '13.45', '成交量': '112.86万手', '最高': '14.17', '涨停': '14.76', '内盘': '47.61万手', '成交额': '15.46亿', '委比': '23.30%', '流通市值': '579.42亿', '市盈率MRQ': '67.52'}\n",
      "{'股票名称': '东方财富', '今开': '13.45', '成交量': '112.86万手', '最高': '14.17', '涨停': '14.76', '内盘': '47.61万手', '成交额': '15.46亿', '委比': '23.30%', '流通市值': '579.42亿', '市盈率MRQ': '67.52', '每股收益': '0.15'}\n",
      "{'股票名称': '东方财富', '今开': '13.45', '成交量': '112.86万手', '最高': '14.17', '涨停': '14.76', '内盘': '47.61万手', '成交额': '15.46亿', '委比': '23.30%', '流通市值': '579.42亿', '市盈率MRQ': '67.52', '每股收益': '0.15', '总股本': '51.68亿'}\n",
      "{'股票名称': '东方财富', '今开': '13.45', '成交量': '112.86万手', '最高': '14.17', '涨停': '14.76', '内盘': '47.61万手', '成交额': '15.46亿', '委比': '23.30%', '流通市值': '579.42亿', '市盈率MRQ': '67.52', '每股收益': '0.15', '总股本': '51.68亿', '昨收': '13.42'}\n",
      "{'股票名称': '东方财富', '今开': '13.45', '成交量': '112.86万手', '最高': '14.17', '涨停': '14.76', '内盘': '47.61万手', '成交额': '15.46亿', '委比': '23.30%', '流通市值': '579.42亿', '市盈率MRQ': '67.52', '每股收益': '0.15', '总股本': '51.68亿', '昨收': '13.42', '换手率': '2.72%'}\n",
      "{'股票名称': '东方财富', '今开': '13.45', '成交量': '112.86万手', '最高': '14.17', '涨停': '14.76', '内盘': '47.61万手', '成交额': '15.46亿', '委比': '23.30%', '流通市值': '579.42亿', '市盈率MRQ': '67.52', '每股收益': '0.15', '总股本': '51.68亿', '昨收': '13.42', '换手率': '2.72%', '最低': '13.39'}\n",
      "{'股票名称': '东方财富', '今开': '13.45', '成交量': '112.86万手', '最高': '14.17', '涨停': '14.76', '内盘': '47.61万手', '成交额': '15.46亿', '委比': '23.30%', '流通市值': '579.42亿', '市盈率MRQ': '67.52', '每股收益': '0.15', '总股本': '51.68亿', '昨收': '13.42', '换手率': '2.72%', '最低': '13.39', '跌停': '\\n                        12.08'}\n",
      "{'股票名称': '东方财富', '今开': '13.45', '成交量': '112.86万手', '最高': '14.17', '涨停': '14.76', '内盘': '47.61万手', '成交额': '15.46亿', '委比': '23.30%', '流通市值': '579.42亿', '市盈率MRQ': '67.52', '每股收益': '0.15', '总股本': '51.68亿', '昨收': '13.42', '换手率': '2.72%', '最低': '13.39', '跌停': '\\n                        12.08', '外盘': '65.25万手'}\n",
      "{'股票名称': '东方财富', '今开': '13.45', '成交量': '112.86万手', '最高': '14.17', '涨停': '14.76', '内盘': '47.61万手', '成交额': '15.46亿', '委比': '23.30%', '流通市值': '579.42亿', '市盈率MRQ': '67.52', '每股收益': '0.15', '总股本': '51.68亿', '昨收': '13.42', '换手率': '2.72%', '最低': '13.39', '跌停': '\\n                        12.08', '外盘': '65.25万手', '振幅': '5.81%'}\n",
      "{'股票名称': '东方财富', '今开': '13.45', '成交量': '112.86万手', '最高': '14.17', '涨停': '14.76', '内盘': '47.61万手', '成交额': '15.46亿', '委比': '23.30%', '流通市值': '579.42亿', '市盈率MRQ': '67.52', '每股收益': '0.15', '总股本': '51.68亿', '昨收': '13.42', '换手率': '2.72%', '最低': '13.39', '跌停': '\\n                        12.08', '外盘': '65.25万手', '振幅': '5.81%', '量比': '7.14'}\n",
      "{'股票名称': '东方财富', '今开': '13.45', '成交量': '112.86万手', '最高': '14.17', '涨停': '14.76', '内盘': '47.61万手', '成交额': '15.46亿', '委比': '23.30%', '流通市值': '579.42亿', '市盈率MRQ': '67.52', '每股收益': '0.15', '总股本': '51.68亿', '昨收': '13.42', '换手率': '2.72%', '最低': '13.39', '跌停': '\\n                        12.08', '外盘': '65.25万手', '振幅': '5.81%', '量比': '7.14', '总市值': '720.98亿'}\n",
      "{'股票名称': '东方财富', '今开': '13.45', '成交量': '112.86万手', '最高': '14.17', '涨停': '14.76', '内盘': '47.61万手', '成交额': '15.46亿', '委比': '23.30%', '流通市值': '579.42亿', '市盈率MRQ': '67.52', '每股收益': '0.15', '总股本': '51.68亿', '昨收': '13.42', '换手率': '2.72%', '最低': '13.39', '跌停': '\\n                        12.08', '外盘': '65.25万手', '振幅': '5.81%', '量比': '7.14', '总市值': '720.98亿', '市净率': '5.04'}\n",
      "{'股票名称': '东方财富', '今开': '13.45', '成交量': '112.86万手', '最高': '14.17', '涨停': '14.76', '内盘': '47.61万手', '成交额': '15.46亿', '委比': '23.30%', '流通市值': '579.42亿', '市盈率MRQ': '67.52', '每股收益': '0.15', '总股本': '51.68亿', '昨收': '13.42', '换手率': '2.72%', '最低': '13.39', '跌停': '\\n                        12.08', '外盘': '65.25万手', '振幅': '5.81%', '量比': '7.14', '总市值': '720.98亿', '市净率': '5.04', '每股净资产': '2.77'}\n",
      "{'股票名称': '东方财富', '今开': '13.45', '成交量': '112.86万手', '最高': '14.17', '涨停': '14.76', '内盘': '47.61万手', '成交额': '15.46亿', '委比': '23.30%', '流通市值': '579.42亿', '市盈率MRQ': '67.52', '每股收益': '0.15', '总股本': '51.68亿', '昨收': '13.42', '换手率': '2.72%', '最低': '13.39', '跌停': '\\n                        12.08', '外盘': '65.25万手', '振幅': '5.81%', '量比': '7.14', '总市值': '720.98亿', '市净率': '5.04', '每股净资产': '2.77', '流通股本': '41.54亿'}\n",
      "\n"
     ]
    },
    {
     "name": "stderr",
     "output_type": "stream",
     "text": [
      "Traceback (most recent call last):\n",
      "  File \"<ipython-input-2-48eafb42a104>\", line 31, in getStockInfo\n",
      "    soup = BeautifulSoup(html,'html.parser')\n",
      "  File \"C:\\anaconda\\lib\\site-packages\\bs4\\__init__.py\", line 245, in __init__\n",
      "    elif len(markup) <= 256 and (\n",
      "TypeError: object of type 'NoneType' has no len()\n"
     ]
    },
    {
     "name": "stdout",
     "output_type": "stream",
     "text": [
      "\n"
     ]
    },
    {
     "name": "stderr",
     "output_type": "stream",
     "text": [
      "Traceback (most recent call last):\n",
      "  File \"<ipython-input-2-48eafb42a104>\", line 31, in getStockInfo\n",
      "    soup = BeautifulSoup(html,'html.parser')\n",
      "  File \"C:\\anaconda\\lib\\site-packages\\bs4\\__init__.py\", line 245, in __init__\n",
      "    elif len(markup) <= 256 and (\n",
      "TypeError: object of type 'NoneType' has no len()\n"
     ]
    },
    {
     "name": "stdout",
     "output_type": "stream",
     "text": [
      "\n"
     ]
    },
    {
     "name": "stderr",
     "output_type": "stream",
     "text": [
      "Traceback (most recent call last):\n",
      "  File \"<ipython-input-2-48eafb42a104>\", line 31, in getStockInfo\n",
      "    soup = BeautifulSoup(html,'html.parser')\n",
      "  File \"C:\\anaconda\\lib\\site-packages\\bs4\\__init__.py\", line 245, in __init__\n",
      "    elif len(markup) <= 256 and (\n",
      "TypeError: object of type 'NoneType' has no len()\n"
     ]
    },
    {
     "name": "stdout",
     "output_type": "stream",
     "text": [
      "\n"
     ]
    },
    {
     "name": "stderr",
     "output_type": "stream",
     "text": [
      "Traceback (most recent call last):\n",
      "  File \"<ipython-input-2-48eafb42a104>\", line 31, in getStockInfo\n",
      "    soup = BeautifulSoup(html,'html.parser')\n",
      "  File \"C:\\anaconda\\lib\\site-packages\\bs4\\__init__.py\", line 245, in __init__\n",
      "    elif len(markup) <= 256 and (\n",
      "TypeError: object of type 'NoneType' has no len()\n",
      "Traceback (most recent call last):\n",
      "  File \"<ipython-input-2-48eafb42a104>\", line 34, in getStockInfo\n",
      "    name = stockInfo.find_all(attrs={'class':'bets-name'})[0]\n",
      "AttributeError: 'NoneType' object has no attribute 'find_all'\n",
      "Traceback (most recent call last):\n",
      "  File \"<ipython-input-2-48eafb42a104>\", line 34, in getStockInfo\n",
      "    name = stockInfo.find_all(attrs={'class':'bets-name'})[0]\n",
      "AttributeError: 'NoneType' object has no attribute 'find_all'\n",
      "Traceback (most recent call last):\n",
      "  File \"<ipython-input-2-48eafb42a104>\", line 34, in getStockInfo\n",
      "    name = stockInfo.find_all(attrs={'class':'bets-name'})[0]\n",
      "AttributeError: 'NoneType' object has no attribute 'find_all'\n"
     ]
    },
    {
     "name": "stdout",
     "output_type": "stream",
     "text": [
      "\n"
     ]
    },
    {
     "name": "stderr",
     "output_type": "stream",
     "text": [
      "Traceback (most recent call last):\n",
      "  File \"<ipython-input-2-48eafb42a104>\", line 31, in getStockInfo\n",
      "    soup = BeautifulSoup(html,'html.parser')\n",
      "  File \"C:\\anaconda\\lib\\site-packages\\bs4\\__init__.py\", line 245, in __init__\n",
      "    elif len(markup) <= 256 and (\n",
      "TypeError: object of type 'NoneType' has no len()\n",
      "Traceback (most recent call last):\n",
      "  File \"<ipython-input-2-48eafb42a104>\", line 34, in getStockInfo\n",
      "    name = stockInfo.find_all(attrs={'class':'bets-name'})[0]\n",
      "AttributeError: 'NoneType' object has no attribute 'find_all'\n",
      "Traceback (most recent call last):\n",
      "  File \"<ipython-input-2-48eafb42a104>\", line 34, in getStockInfo\n",
      "    name = stockInfo.find_all(attrs={'class':'bets-name'})[0]\n",
      "AttributeError: 'NoneType' object has no attribute 'find_all'\n",
      "Traceback (most recent call last):\n",
      "  File \"<ipython-input-2-48eafb42a104>\", line 34, in getStockInfo\n",
      "    name = stockInfo.find_all(attrs={'class':'bets-name'})[0]\n",
      "AttributeError: 'NoneType' object has no attribute 'find_all'\n",
      "Traceback (most recent call last):\n",
      "  File \"<ipython-input-2-48eafb42a104>\", line 34, in getStockInfo\n",
      "    name = stockInfo.find_all(attrs={'class':'bets-name'})[0]\n",
      "AttributeError: 'NoneType' object has no attribute 'find_all'\n",
      "Traceback (most recent call last):\n",
      "  File \"<ipython-input-2-48eafb42a104>\", line 34, in getStockInfo\n",
      "    name = stockInfo.find_all(attrs={'class':'bets-name'})[0]\n",
      "AttributeError: 'NoneType' object has no attribute 'find_all'\n",
      "Traceback (most recent call last):\n",
      "  File \"<ipython-input-2-48eafb42a104>\", line 34, in getStockInfo\n",
      "    name = stockInfo.find_all(attrs={'class':'bets-name'})[0]\n",
      "AttributeError: 'NoneType' object has no attribute 'find_all'\n"
     ]
    },
    {
     "name": "stdout",
     "output_type": "stream",
     "text": [
      "\n"
     ]
    },
    {
     "name": "stderr",
     "output_type": "stream",
     "text": [
      "Traceback (most recent call last):\n",
      "  File \"<ipython-input-2-48eafb42a104>\", line 31, in getStockInfo\n",
      "    soup = BeautifulSoup(html,'html.parser')\n",
      "  File \"C:\\anaconda\\lib\\site-packages\\bs4\\__init__.py\", line 245, in __init__\n",
      "    elif len(markup) <= 256 and (\n",
      "TypeError: object of type 'NoneType' has no len()\n",
      "Traceback (most recent call last):\n",
      "  File \"<ipython-input-2-48eafb42a104>\", line 34, in getStockInfo\n",
      "    name = stockInfo.find_all(attrs={'class':'bets-name'})[0]\n",
      "AttributeError: 'NoneType' object has no attribute 'find_all'\n",
      "Traceback (most recent call last):\n",
      "  File \"<ipython-input-2-48eafb42a104>\", line 34, in getStockInfo\n",
      "    name = stockInfo.find_all(attrs={'class':'bets-name'})[0]\n",
      "AttributeError: 'NoneType' object has no attribute 'find_all'\n",
      "Traceback (most recent call last):\n",
      "  File \"<ipython-input-2-48eafb42a104>\", line 34, in getStockInfo\n",
      "    name = stockInfo.find_all(attrs={'class':'bets-name'})[0]\n",
      "AttributeError: 'NoneType' object has no attribute 'find_all'\n",
      "Traceback (most recent call last):\n",
      "  File \"<ipython-input-2-48eafb42a104>\", line 34, in getStockInfo\n",
      "    name = stockInfo.find_all(attrs={'class':'bets-name'})[0]\n",
      "AttributeError: 'NoneType' object has no attribute 'find_all'\n",
      "Traceback (most recent call last):\n",
      "  File \"<ipython-input-2-48eafb42a104>\", line 34, in getStockInfo\n",
      "    name = stockInfo.find_all(attrs={'class':'bets-name'})[0]\n",
      "AttributeError: 'NoneType' object has no attribute 'find_all'\n",
      "Traceback (most recent call last):\n",
      "  File \"<ipython-input-2-48eafb42a104>\", line 34, in getStockInfo\n",
      "    name = stockInfo.find_all(attrs={'class':'bets-name'})[0]\n",
      "AttributeError: 'NoneType' object has no attribute 'find_all'\n"
     ]
    },
    {
     "name": "stdout",
     "output_type": "stream",
     "text": [
      "\n"
     ]
    },
    {
     "name": "stderr",
     "output_type": "stream",
     "text": [
      "Traceback (most recent call last):\n",
      "  File \"<ipython-input-2-48eafb42a104>\", line 31, in getStockInfo\n",
      "    soup = BeautifulSoup(html,'html.parser')\n",
      "  File \"C:\\anaconda\\lib\\site-packages\\bs4\\__init__.py\", line 245, in __init__\n",
      "    elif len(markup) <= 256 and (\n",
      "TypeError: object of type 'NoneType' has no len()\n"
     ]
    },
    {
     "name": "stdout",
     "output_type": "stream",
     "text": [
      "\n"
     ]
    },
    {
     "name": "stderr",
     "output_type": "stream",
     "text": [
      "Traceback (most recent call last):\n",
      "  File \"<ipython-input-2-48eafb42a104>\", line 31, in getStockInfo\n",
      "    soup = BeautifulSoup(html,'html.parser')\n",
      "  File \"C:\\anaconda\\lib\\site-packages\\bs4\\__init__.py\", line 245, in __init__\n",
      "    elif len(markup) <= 256 and (\n",
      "TypeError: object of type 'NoneType' has no len()\n",
      "Traceback (most recent call last):\n",
      "  File \"<ipython-input-2-48eafb42a104>\", line 34, in getStockInfo\n",
      "    name = stockInfo.find_all(attrs={'class':'bets-name'})[0]\n",
      "AttributeError: 'NoneType' object has no attribute 'find_all'\n"
     ]
    },
    {
     "name": "stdout",
     "output_type": "stream",
     "text": [
      "\n"
     ]
    },
    {
     "name": "stderr",
     "output_type": "stream",
     "text": [
      "Traceback (most recent call last):\n",
      "  File \"<ipython-input-2-48eafb42a104>\", line 31, in getStockInfo\n",
      "    soup = BeautifulSoup(html,'html.parser')\n",
      "  File \"C:\\anaconda\\lib\\site-packages\\bs4\\__init__.py\", line 245, in __init__\n",
      "    elif len(markup) <= 256 and (\n",
      "TypeError: object of type 'NoneType' has no len()\n"
     ]
    },
    {
     "name": "stdout",
     "output_type": "stream",
     "text": [
      "\n"
     ]
    },
    {
     "name": "stderr",
     "output_type": "stream",
     "text": [
      "Traceback (most recent call last):\n",
      "  File \"<ipython-input-2-48eafb42a104>\", line 31, in getStockInfo\n",
      "    soup = BeautifulSoup(html,'html.parser')\n",
      "  File \"C:\\anaconda\\lib\\site-packages\\bs4\\__init__.py\", line 245, in __init__\n",
      "    elif len(markup) <= 256 and (\n",
      "TypeError: object of type 'NoneType' has no len()\n",
      "Traceback (most recent call last):\n",
      "  File \"<ipython-input-2-48eafb42a104>\", line 34, in getStockInfo\n",
      "    name = stockInfo.find_all(attrs={'class':'bets-name'})[0]\n",
      "AttributeError: 'NoneType' object has no attribute 'find_all'\n"
     ]
    },
    {
     "name": "stdout",
     "output_type": "stream",
     "text": [
      "\n"
     ]
    },
    {
     "name": "stderr",
     "output_type": "stream",
     "text": [
      "Traceback (most recent call last):\n",
      "  File \"<ipython-input-2-48eafb42a104>\", line 31, in getStockInfo\n",
      "    soup = BeautifulSoup(html,'html.parser')\n",
      "  File \"C:\\anaconda\\lib\\site-packages\\bs4\\__init__.py\", line 245, in __init__\n",
      "    elif len(markup) <= 256 and (\n",
      "TypeError: object of type 'NoneType' has no len()\n"
     ]
    },
    {
     "name": "stdout",
     "output_type": "stream",
     "text": [
      "{'股票名称': '基金通乾', '最高': '--'}\n",
      "{'股票名称': '基金通乾', '最高': '--', '最低': '--'}\n",
      "{'股票名称': '基金通乾', '最高': '--', '最低': '--', '今开': '--'}\n",
      "{'股票名称': '基金通乾', '最高': '--', '最低': '--', '今开': '--', '昨收': '0.94'}\n",
      "{'股票名称': '基金通乾', '最高': '--', '最低': '--', '今开': '--', '昨收': '0.94', '成交额': '--'}\n",
      "{'股票名称': '基金通乾', '最高': '--', '最低': '--', '今开': '--', '昨收': '0.94', '成交额': '--', '成交量': '--'}\n",
      "{'股票名称': '基金通乾', '最高': '--', '最低': '--', '今开': '--', '昨收': '0.94', '成交额': '--', '成交量': '--', '净值': '0.9515'}\n",
      "{'股票名称': '基金通乾', '最高': '--', '最低': '--', '今开': '--', '昨收': '0.94', '成交额': '--', '成交量': '--', '净值': '0.9515', '折价率': '-1.42'}\n",
      "\n"
     ]
    },
    {
     "name": "stderr",
     "output_type": "stream",
     "text": [
      "Traceback (most recent call last):\n",
      "  File \"<ipython-input-2-48eafb42a104>\", line 31, in getStockInfo\n",
      "    soup = BeautifulSoup(html,'html.parser')\n",
      "  File \"C:\\anaconda\\lib\\site-packages\\bs4\\__init__.py\", line 245, in __init__\n",
      "    elif len(markup) <= 256 and (\n",
      "TypeError: object of type 'NoneType' has no len()\n"
     ]
    },
    {
     "name": "stdout",
     "output_type": "stream",
     "text": [
      "{'股票名称': '基金银丰', '最高': '--'}\n",
      "{'股票名称': '基金银丰', '最高': '--', '最低': '--'}\n",
      "{'股票名称': '基金银丰', '最高': '--', '最低': '--', '今开': '--'}\n",
      "{'股票名称': '基金银丰', '最高': '--', '最低': '--', '今开': '--', '昨收': '0.99'}\n",
      "{'股票名称': '基金银丰', '最高': '--', '最低': '--', '今开': '--', '昨收': '0.99', '成交额': '--'}\n",
      "{'股票名称': '基金银丰', '最高': '--', '最低': '--', '今开': '--', '昨收': '0.99', '成交额': '--', '成交量': '--'}\n",
      "{'股票名称': '基金银丰', '最高': '--', '最低': '--', '今开': '--', '昨收': '0.99', '成交额': '--', '成交量': '--', '净值': '1.0170'}\n",
      "{'股票名称': '基金银丰', '最高': '--', '最低': '--', '今开': '--', '昨收': '0.99', '成交额': '--', '成交量': '--', '净值': '1.0170', '折价率': '-3.05'}\n"
     ]
    }
   ],
   "source": [
    "def getHTMLText(url):\n",
    "    try:\n",
    "        html = req.get(url,timeout=30,headers = {'user-agent':'Mozilla/5.0 '})\n",
    "        html.raise_for_status()\n",
    "        html.encoding = html.apparent_encoding\n",
    "        return html.text\n",
    "    except:\n",
    "        print('')\n",
    "        \n",
    "        \n",
    "def getStocklist(slist,StockUrl):\n",
    "    html = getHTMLText(StockUrl)\n",
    "    soup = BeautifulSoup(html,'html.parser')\n",
    "    a = soup.find_all('a')\n",
    "    for i in a:\n",
    "        try:\n",
    "            href = i.attrs['href']\n",
    "            slist.append(re.findall(r'[s][hz]\\d{6}',href)[0])\n",
    "        except:\n",
    "            continue\n",
    "    \n",
    "    \n",
    "def getStockInfo(slist,InfoUrl,fpath):\n",
    "    for stock in slist:\n",
    "        url = InfoUrl+stock+'.html'\n",
    "        html = getHTMLText(url)\n",
    "        try:\n",
    "            if html=='':\n",
    "                continue\n",
    "            infoDict = {}\n",
    "            soup = BeautifulSoup(html,'html.parser')\n",
    "            stockInfo = soup.find('div',attrs={'class':'stock-bets'})\n",
    " \n",
    "            name = stockInfo.find_all(attrs={'class':'bets-name'})[0]\n",
    "            infoDict.update({'股票名称':name.text.split()[0]})\n",
    "            \n",
    "            keyList = stockInfo.find_all('dt')\n",
    "            valueList = stockInfo.find_all('dd')\n",
    "\n",
    "            for i in range(len(keyList)):\n",
    "                key = keyList[i].text\n",
    "                val = valueList[i].text\n",
    "                infoDict[key] = val\n",
    "                print(infoDict)\n",
    "           \n",
    "        except:\n",
    "            traceback.print_exc()\n",
    "            continue\n",
    "            \n",
    "def admin():\n",
    "    ListUrl = 'http://quote.eastmoney.com/stocklist.html'\n",
    "    InfoUrl = 'https://gupiao.baidu.com/stock/'\n",
    "    fpath = 'd://BaiDuSharesInfo.txt'\n",
    "    slist = []\n",
    "    getStocklist(slist,ListUrl)\n",
    "    getStockInfo(slist,InfoUrl,fpath)\n",
    "    \n",
    "if __name__=='__main__':\n",
    "    admin()"
   ]
  },
  {
   "cell_type": "code",
   "execution_count": null,
   "metadata": {},
   "outputs": [],
   "source": []
  }
 ],
 "metadata": {
  "kernelspec": {
   "display_name": "Python 3",
   "language": "python",
   "name": "python3"
  },
  "language_info": {
   "codemirror_mode": {
    "name": "ipython",
    "version": 3
   },
   "file_extension": ".py",
   "mimetype": "text/x-python",
   "name": "python",
   "nbconvert_exporter": "python",
   "pygments_lexer": "ipython3",
   "version": "3.7.0"
  }
 },
 "nbformat": 4,
 "nbformat_minor": 2
}
