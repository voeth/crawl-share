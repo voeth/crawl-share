{
 "cells": [
  {
   "cell_type": "code",
   "execution_count": 2,
   "metadata": {},
   "outputs": [],
   "source": [
    "import requests as req\n",
    "from bs4 import BeautifulSoup\n",
    "import traceback\n",
    "import re "
   ]
  },
  {
   "cell_type": "code",
   "execution_count": null,
   "metadata": {},
   "outputs": [
    {
     "name": "stdout",
     "output_type": "stream",
     "text": [
      "\n",
      "\r",
      "当前进度：0.02%\n"
     ]
    },
    {
     "name": "stderr",
     "output_type": "stream",
     "text": [
      "Traceback (most recent call last):\n",
      "  File \"<ipython-input-3-90c0f4c34da6>\", line 32, in getStockInfo\n",
      "    soup = BeautifulSoup(html,'html.parser')\n",
      "  File \"C:\\anaconda\\lib\\site-packages\\bs4\\__init__.py\", line 245, in __init__\n",
      "    elif len(markup) <= 256 and (\n",
      "TypeError: object of type 'NoneType' has no len()\n"
     ]
    },
    {
     "name": "stdout",
     "output_type": "stream",
     "text": [
      "当前进度：0.04%\n",
      "当前进度：0.06%\n",
      "当前进度：0.08%\n",
      "当前进度：0.10%\n",
      "当前进度：0.12%\n",
      "当前进度：0.14%\n",
      "当前进度：0.17%\n",
      "\n",
      "当前进度：0.19%\n"
     ]
    },
    {
     "name": "stderr",
     "output_type": "stream",
     "text": [
      "Traceback (most recent call last):\n",
      "  File \"<ipython-input-3-90c0f4c34da6>\", line 32, in getStockInfo\n",
      "    soup = BeautifulSoup(html,'html.parser')\n",
      "  File \"C:\\anaconda\\lib\\site-packages\\bs4\\__init__.py\", line 245, in __init__\n",
      "    elif len(markup) <= 256 and (\n",
      "TypeError: object of type 'NoneType' has no len()\n"
     ]
    },
    {
     "name": "stdout",
     "output_type": "stream",
     "text": [
      "\n",
      "\r",
      "当前进度：0.21%\n"
     ]
    },
    {
     "name": "stderr",
     "output_type": "stream",
     "text": [
      "Traceback (most recent call last):\n",
      "  File \"<ipython-input-3-90c0f4c34da6>\", line 32, in getStockInfo\n",
      "    soup = BeautifulSoup(html,'html.parser')\n",
      "  File \"C:\\anaconda\\lib\\site-packages\\bs4\\__init__.py\", line 245, in __init__\n",
      "    elif len(markup) <= 256 and (\n",
      "TypeError: object of type 'NoneType' has no len()\n"
     ]
    },
    {
     "name": "stdout",
     "output_type": "stream",
     "text": [
      "当前进度：0.23%\n",
      "当前进度：0.25%\n",
      "\n",
      "当前进度：0.27%\n"
     ]
    },
    {
     "name": "stderr",
     "output_type": "stream",
     "text": [
      "Traceback (most recent call last):\n",
      "  File \"<ipython-input-3-90c0f4c34da6>\", line 32, in getStockInfo\n",
      "    soup = BeautifulSoup(html,'html.parser')\n",
      "  File \"C:\\anaconda\\lib\\site-packages\\bs4\\__init__.py\", line 245, in __init__\n",
      "    elif len(markup) <= 256 and (\n",
      "TypeError: object of type 'NoneType' has no len()\n",
      "Traceback (most recent call last):\n",
      "  File \"<ipython-input-3-90c0f4c34da6>\", line 36, in getStockInfo\n",
      "    name = stockInfo.find_all(attrs={'class':'bets-name'})[0]# 根据find()返回结果，继续细分\n",
      "AttributeError: 'NoneType' object has no attribute 'find_all'\n"
     ]
    },
    {
     "name": "stdout",
     "output_type": "stream",
     "text": [
      "\r",
      "当前进度：0.29%\n"
     ]
    },
    {
     "name": "stderr",
     "output_type": "stream",
     "text": [
      "Traceback (most recent call last):\n",
      "  File \"<ipython-input-3-90c0f4c34da6>\", line 36, in getStockInfo\n",
      "    name = stockInfo.find_all(attrs={'class':'bets-name'})[0]# 根据find()返回结果，继续细分\n",
      "AttributeError: 'NoneType' object has no attribute 'find_all'\n"
     ]
    },
    {
     "name": "stdout",
     "output_type": "stream",
     "text": [
      "\r",
      "当前进度：0.31%\n"
     ]
    },
    {
     "name": "stderr",
     "output_type": "stream",
     "text": [
      "Traceback (most recent call last):\n",
      "  File \"<ipython-input-3-90c0f4c34da6>\", line 36, in getStockInfo\n",
      "    name = stockInfo.find_all(attrs={'class':'bets-name'})[0]# 根据find()返回结果，继续细分\n",
      "AttributeError: 'NoneType' object has no attribute 'find_all'\n"
     ]
    },
    {
     "name": "stdout",
     "output_type": "stream",
     "text": [
      "当前进度：0.33%\n",
      "当前进度：0.35%\n",
      "当前进度：0.37%\n",
      "当前进度：0.39%\n",
      "\n",
      "当前进度：0.41%\n"
     ]
    },
    {
     "name": "stderr",
     "output_type": "stream",
     "text": [
      "Traceback (most recent call last):\n",
      "  File \"<ipython-input-3-90c0f4c34da6>\", line 32, in getStockInfo\n",
      "    soup = BeautifulSoup(html,'html.parser')\n",
      "  File \"C:\\anaconda\\lib\\site-packages\\bs4\\__init__.py\", line 245, in __init__\n",
      "    elif len(markup) <= 256 and (\n",
      "TypeError: object of type 'NoneType' has no len()\n"
     ]
    },
    {
     "name": "stdout",
     "output_type": "stream",
     "text": [
      "\r",
      "当前进度：0.43%\n"
     ]
    },
    {
     "name": "stderr",
     "output_type": "stream",
     "text": [
      "Traceback (most recent call last):\n",
      "  File \"<ipython-input-3-90c0f4c34da6>\", line 36, in getStockInfo\n",
      "    name = stockInfo.find_all(attrs={'class':'bets-name'})[0]# 根据find()返回结果，继续细分\n",
      "AttributeError: 'NoneType' object has no attribute 'find_all'\n",
      "Traceback (most recent call last):\n",
      "  File \"<ipython-input-3-90c0f4c34da6>\", line 36, in getStockInfo\n",
      "    name = stockInfo.find_all(attrs={'class':'bets-name'})[0]# 根据find()返回结果，继续细分\n",
      "AttributeError: 'NoneType' object has no attribute 'find_all'\n"
     ]
    },
    {
     "name": "stdout",
     "output_type": "stream",
     "text": [
      "\r",
      "当前进度：0.45%\n"
     ]
    },
    {
     "name": "stderr",
     "output_type": "stream",
     "text": [
      "Traceback (most recent call last):\n",
      "  File \"<ipython-input-3-90c0f4c34da6>\", line 36, in getStockInfo\n",
      "    name = stockInfo.find_all(attrs={'class':'bets-name'})[0]# 根据find()返回结果，继续细分\n",
      "AttributeError: 'NoneType' object has no attribute 'find_all'\n"
     ]
    },
    {
     "name": "stdout",
     "output_type": "stream",
     "text": [
      "\r",
      "当前进度：0.48%\n"
     ]
    },
    {
     "name": "stderr",
     "output_type": "stream",
     "text": [
      "Traceback (most recent call last):\n",
      "  File \"<ipython-input-3-90c0f4c34da6>\", line 36, in getStockInfo\n",
      "    name = stockInfo.find_all(attrs={'class':'bets-name'})[0]# 根据find()返回结果，继续细分\n",
      "AttributeError: 'NoneType' object has no attribute 'find_all'\n"
     ]
    },
    {
     "name": "stdout",
     "output_type": "stream",
     "text": [
      "\r",
      "当前进度：0.50%\n"
     ]
    },
    {
     "name": "stderr",
     "output_type": "stream",
     "text": [
      "Traceback (most recent call last):\n",
      "  File \"<ipython-input-3-90c0f4c34da6>\", line 36, in getStockInfo\n",
      "    name = stockInfo.find_all(attrs={'class':'bets-name'})[0]# 根据find()返回结果，继续细分\n",
      "AttributeError: 'NoneType' object has no attribute 'find_all'\n"
     ]
    },
    {
     "name": "stdout",
     "output_type": "stream",
     "text": [
      "当前进度：0.52%\n",
      "\n",
      "当前进度：0.54%\n"
     ]
    },
    {
     "name": "stderr",
     "output_type": "stream",
     "text": [
      "Traceback (most recent call last):\n",
      "  File \"<ipython-input-3-90c0f4c34da6>\", line 32, in getStockInfo\n",
      "    soup = BeautifulSoup(html,'html.parser')\n",
      "  File \"C:\\anaconda\\lib\\site-packages\\bs4\\__init__.py\", line 245, in __init__\n",
      "    elif len(markup) <= 256 and (\n",
      "TypeError: object of type 'NoneType' has no len()\n"
     ]
    },
    {
     "name": "stdout",
     "output_type": "stream",
     "text": [
      "\r",
      "当前进度：0.56%\n"
     ]
    },
    {
     "name": "stderr",
     "output_type": "stream",
     "text": [
      "Traceback (most recent call last):\n",
      "  File \"<ipython-input-3-90c0f4c34da6>\", line 36, in getStockInfo\n",
      "    name = stockInfo.find_all(attrs={'class':'bets-name'})[0]# 根据find()返回结果，继续细分\n",
      "AttributeError: 'NoneType' object has no attribute 'find_all'\n"
     ]
    },
    {
     "name": "stdout",
     "output_type": "stream",
     "text": [
      "\r",
      "当前进度：0.58%\n"
     ]
    },
    {
     "name": "stderr",
     "output_type": "stream",
     "text": [
      "Traceback (most recent call last):\n",
      "  File \"<ipython-input-3-90c0f4c34da6>\", line 36, in getStockInfo\n",
      "    name = stockInfo.find_all(attrs={'class':'bets-name'})[0]# 根据find()返回结果，继续细分\n",
      "AttributeError: 'NoneType' object has no attribute 'find_all'\n"
     ]
    },
    {
     "name": "stdout",
     "output_type": "stream",
     "text": [
      "当前进度：0.60%\n",
      "\n",
      "当前进度：0.62%\n"
     ]
    },
    {
     "name": "stderr",
     "output_type": "stream",
     "text": [
      "Traceback (most recent call last):\n",
      "  File \"<ipython-input-3-90c0f4c34da6>\", line 32, in getStockInfo\n",
      "    soup = BeautifulSoup(html,'html.parser')\n",
      "  File \"C:\\anaconda\\lib\\site-packages\\bs4\\__init__.py\", line 245, in __init__\n",
      "    elif len(markup) <= 256 and (\n",
      "TypeError: object of type 'NoneType' has no len()\n",
      "Traceback (most recent call last):\n",
      "  File \"<ipython-input-3-90c0f4c34da6>\", line 36, in getStockInfo\n",
      "    name = stockInfo.find_all(attrs={'class':'bets-name'})[0]# 根据find()返回结果，继续细分\n",
      "AttributeError: 'NoneType' object has no attribute 'find_all'\n"
     ]
    },
    {
     "name": "stdout",
     "output_type": "stream",
     "text": [
      "当前进度：0.64%\n",
      "\n",
      "当前进度：0.66%\n"
     ]
    },
    {
     "name": "stderr",
     "output_type": "stream",
     "text": [
      "Traceback (most recent call last):\n",
      "  File \"<ipython-input-3-90c0f4c34da6>\", line 32, in getStockInfo\n",
      "    soup = BeautifulSoup(html,'html.parser')\n",
      "  File \"C:\\anaconda\\lib\\site-packages\\bs4\\__init__.py\", line 245, in __init__\n",
      "    elif len(markup) <= 256 and (\n",
      "TypeError: object of type 'NoneType' has no len()\n",
      "Traceback (most recent call last):\n",
      "  File \"<ipython-input-3-90c0f4c34da6>\", line 36, in getStockInfo\n",
      "    name = stockInfo.find_all(attrs={'class':'bets-name'})[0]# 根据find()返回结果，继续细分\n",
      "AttributeError: 'NoneType' object has no attribute 'find_all'\n"
     ]
    },
    {
     "name": "stdout",
     "output_type": "stream",
     "text": [
      "\r",
      "当前进度：0.68%\n"
     ]
    },
    {
     "name": "stderr",
     "output_type": "stream",
     "text": [
      "Traceback (most recent call last):\n",
      "  File \"<ipython-input-3-90c0f4c34da6>\", line 36, in getStockInfo\n",
      "    name = stockInfo.find_all(attrs={'class':'bets-name'})[0]# 根据find()返回结果，继续细分\n",
      "AttributeError: 'NoneType' object has no attribute 'find_all'\n"
     ]
    },
    {
     "name": "stdout",
     "output_type": "stream",
     "text": [
      "当前进度：0.70%\n",
      "\n",
      "当前进度：0.72%\n"
     ]
    },
    {
     "name": "stderr",
     "output_type": "stream",
     "text": [
      "Traceback (most recent call last):\n",
      "  File \"<ipython-input-3-90c0f4c34da6>\", line 32, in getStockInfo\n",
      "    soup = BeautifulSoup(html,'html.parser')\n",
      "  File \"C:\\anaconda\\lib\\site-packages\\bs4\\__init__.py\", line 245, in __init__\n",
      "    elif len(markup) <= 256 and (\n",
      "TypeError: object of type 'NoneType' has no len()\n"
     ]
    },
    {
     "name": "stdout",
     "output_type": "stream",
     "text": [
      "当前进度：0.74%\n",
      "当前进度：0.76%\n",
      "当前进度：0.79%\n",
      "\n",
      "当前进度：0.81%\n"
     ]
    },
    {
     "name": "stderr",
     "output_type": "stream",
     "text": [
      "Traceback (most recent call last):\n",
      "  File \"<ipython-input-3-90c0f4c34da6>\", line 32, in getStockInfo\n",
      "    soup = BeautifulSoup(html,'html.parser')\n",
      "  File \"C:\\anaconda\\lib\\site-packages\\bs4\\__init__.py\", line 245, in __init__\n",
      "    elif len(markup) <= 256 and (\n",
      "TypeError: object of type 'NoneType' has no len()\n"
     ]
    },
    {
     "name": "stdout",
     "output_type": "stream",
     "text": [
      "当前进度：0.83%\n",
      "当前进度：0.85%\n",
      "当前进度：0.87%\n",
      "当前进度：0.89%\n",
      "当前进度：0.91%\n",
      "当前进度：0.93%\n",
      "当前进度：0.95%\n",
      "当前进度：0.97%\n",
      "当前进度：0.99%\n",
      "当前进度：1.01%\n",
      "当前进度：1.03%\n",
      "当前进度：1.05%\n",
      "当前进度：1.08%\n",
      "当前进度：1.10%\n"
     ]
    },
    {
     "name": "stderr",
     "output_type": "stream",
     "text": [
      "Traceback (most recent call last):\n",
      "  File \"<ipython-input-3-90c0f4c34da6>\", line 36, in getStockInfo\n",
      "    name = stockInfo.find_all(attrs={'class':'bets-name'})[0]# 根据find()返回结果，继续细分\n",
      "AttributeError: 'NoneType' object has no attribute 'find_all'\n"
     ]
    },
    {
     "name": "stdout",
     "output_type": "stream",
     "text": [
      "当前进度：1.12%\n",
      "当前进度：1.14%\n",
      "\n",
      "当前进度：1.16%\n"
     ]
    },
    {
     "name": "stderr",
     "output_type": "stream",
     "text": [
      "Traceback (most recent call last):\n",
      "  File \"<ipython-input-3-90c0f4c34da6>\", line 32, in getStockInfo\n",
      "    soup = BeautifulSoup(html,'html.parser')\n",
      "  File \"C:\\anaconda\\lib\\site-packages\\bs4\\__init__.py\", line 245, in __init__\n",
      "    elif len(markup) <= 256 and (\n",
      "TypeError: object of type 'NoneType' has no len()\n"
     ]
    },
    {
     "name": "stdout",
     "output_type": "stream",
     "text": [
      "\n",
      "\r",
      "当前进度：1.18%\n"
     ]
    },
    {
     "name": "stderr",
     "output_type": "stream",
     "text": [
      "Traceback (most recent call last):\n",
      "  File \"<ipython-input-3-90c0f4c34da6>\", line 32, in getStockInfo\n",
      "    soup = BeautifulSoup(html,'html.parser')\n",
      "  File \"C:\\anaconda\\lib\\site-packages\\bs4\\__init__.py\", line 245, in __init__\n",
      "    elif len(markup) <= 256 and (\n",
      "TypeError: object of type 'NoneType' has no len()\n"
     ]
    },
    {
     "name": "stdout",
     "output_type": "stream",
     "text": [
      "当前进度：1.20%\n",
      "当前进度：1.22%\n",
      "当前进度：1.24%\n"
     ]
    },
    {
     "name": "stderr",
     "output_type": "stream",
     "text": [
      "Traceback (most recent call last):\n",
      "  File \"<ipython-input-3-90c0f4c34da6>\", line 36, in getStockInfo\n",
      "    name = stockInfo.find_all(attrs={'class':'bets-name'})[0]# 根据find()返回结果，继续细分\n",
      "AttributeError: 'NoneType' object has no attribute 'find_all'\n"
     ]
    },
    {
     "name": "stdout",
     "output_type": "stream",
     "text": [
      "当前进度：1.26%\n",
      "当前进度：1.28%\n",
      "当前进度：1.30%\n",
      "当前进度：1.32%\n",
      "当前进度：1.34%\n",
      "当前进度：1.36%\n",
      "当前进度：1.39%\n",
      "当前进度：1.41%\n",
      "当前进度：1.43%\n"
     ]
    },
    {
     "name": "stderr",
     "output_type": "stream",
     "text": [
      "Traceback (most recent call last):\n",
      "  File \"<ipython-input-3-90c0f4c34da6>\", line 36, in getStockInfo\n",
      "    name = stockInfo.find_all(attrs={'class':'bets-name'})[0]# 根据find()返回结果，继续细分\n",
      "AttributeError: 'NoneType' object has no attribute 'find_all'\n"
     ]
    },
    {
     "name": "stdout",
     "output_type": "stream",
     "text": [
      "当前进度：1.45%\n",
      "当前进度：1.47%\n",
      "当前进度：1.49%\n",
      "\n",
      "当前进度：1.51%\n"
     ]
    },
    {
     "name": "stderr",
     "output_type": "stream",
     "text": [
      "Traceback (most recent call last):\n",
      "  File \"<ipython-input-3-90c0f4c34da6>\", line 32, in getStockInfo\n",
      "    soup = BeautifulSoup(html,'html.parser')\n",
      "  File \"C:\\anaconda\\lib\\site-packages\\bs4\\__init__.py\", line 245, in __init__\n",
      "    elif len(markup) <= 256 and (\n",
      "TypeError: object of type 'NoneType' has no len()\n"
     ]
    },
    {
     "name": "stdout",
     "output_type": "stream",
     "text": [
      "\n",
      "\r",
      "当前进度：1.53%\n"
     ]
    },
    {
     "name": "stderr",
     "output_type": "stream",
     "text": [
      "Traceback (most recent call last):\n",
      "  File \"<ipython-input-3-90c0f4c34da6>\", line 32, in getStockInfo\n",
      "    soup = BeautifulSoup(html,'html.parser')\n",
      "  File \"C:\\anaconda\\lib\\site-packages\\bs4\\__init__.py\", line 245, in __init__\n",
      "    elif len(markup) <= 256 and (\n",
      "TypeError: object of type 'NoneType' has no len()\n"
     ]
    },
    {
     "name": "stdout",
     "output_type": "stream",
     "text": [
      "当前进度：1.55%\n",
      "当前进度：1.57%\n",
      "当前进度：1.59%\n",
      "\n",
      "当前进度：1.61%\n"
     ]
    },
    {
     "name": "stderr",
     "output_type": "stream",
     "text": [
      "Traceback (most recent call last):\n",
      "  File \"<ipython-input-3-90c0f4c34da6>\", line 32, in getStockInfo\n",
      "    soup = BeautifulSoup(html,'html.parser')\n",
      "  File \"C:\\anaconda\\lib\\site-packages\\bs4\\__init__.py\", line 245, in __init__\n",
      "    elif len(markup) <= 256 and (\n",
      "TypeError: object of type 'NoneType' has no len()\n"
     ]
    },
    {
     "name": "stdout",
     "output_type": "stream",
     "text": [
      "\r",
      "当前进度：1.63%\n"
     ]
    },
    {
     "name": "stderr",
     "output_type": "stream",
     "text": [
      "Traceback (most recent call last):\n",
      "  File \"<ipython-input-3-90c0f4c34da6>\", line 36, in getStockInfo\n",
      "    name = stockInfo.find_all(attrs={'class':'bets-name'})[0]# 根据find()返回结果，继续细分\n",
      "AttributeError: 'NoneType' object has no attribute 'find_all'\n"
     ]
    },
    {
     "name": "stdout",
     "output_type": "stream",
     "text": [
      "当前进度：1.65%\n",
      "当前进度：1.67%\n",
      "当前进度：1.70%\n",
      "当前进度：1.72%\n",
      "当前进度：1.74%\n",
      "当前进度：1.76%\n",
      "当前进度：1.78%\n",
      "当前进度：1.80%\n",
      "当前进度：1.82%\n",
      "当前进度：1.84%\n",
      "当前进度：1.86%\n",
      "当前进度：1.88%\n",
      "当前进度：1.90%\n",
      "当前进度：1.92%\n",
      "\n",
      "当前进度：1.94%\n"
     ]
    },
    {
     "name": "stderr",
     "output_type": "stream",
     "text": [
      "Traceback (most recent call last):\n",
      "  File \"<ipython-input-3-90c0f4c34da6>\", line 32, in getStockInfo\n",
      "    soup = BeautifulSoup(html,'html.parser')\n",
      "  File \"C:\\anaconda\\lib\\site-packages\\bs4\\__init__.py\", line 245, in __init__\n",
      "    elif len(markup) <= 256 and (\n",
      "TypeError: object of type 'NoneType' has no len()\n"
     ]
    },
    {
     "name": "stdout",
     "output_type": "stream",
     "text": [
      "当前进度：1.96%\n",
      "当前进度：1.98%\n",
      "当前进度：2.01%\n",
      "当前进度：2.03%\n",
      "当前进度：2.05%\n",
      "当前进度：2.07%\n",
      "\n",
      "当前进度：2.09%\n"
     ]
    },
    {
     "name": "stderr",
     "output_type": "stream",
     "text": [
      "Traceback (most recent call last):\n",
      "  File \"<ipython-input-3-90c0f4c34da6>\", line 32, in getStockInfo\n",
      "    soup = BeautifulSoup(html,'html.parser')\n",
      "  File \"C:\\anaconda\\lib\\site-packages\\bs4\\__init__.py\", line 245, in __init__\n",
      "    elif len(markup) <= 256 and (\n",
      "TypeError: object of type 'NoneType' has no len()\n"
     ]
    },
    {
     "name": "stdout",
     "output_type": "stream",
     "text": [
      "\n",
      "\r",
      "当前进度：2.11%\n"
     ]
    },
    {
     "name": "stderr",
     "output_type": "stream",
     "text": [
      "Traceback (most recent call last):\n",
      "  File \"<ipython-input-3-90c0f4c34da6>\", line 32, in getStockInfo\n",
      "    soup = BeautifulSoup(html,'html.parser')\n",
      "  File \"C:\\anaconda\\lib\\site-packages\\bs4\\__init__.py\", line 245, in __init__\n",
      "    elif len(markup) <= 256 and (\n",
      "TypeError: object of type 'NoneType' has no len()\n"
     ]
    },
    {
     "name": "stdout",
     "output_type": "stream",
     "text": [
      "\n",
      "\r",
      "当前进度：2.13%\n"
     ]
    },
    {
     "name": "stderr",
     "output_type": "stream",
     "text": [
      "Traceback (most recent call last):\n",
      "  File \"<ipython-input-3-90c0f4c34da6>\", line 32, in getStockInfo\n",
      "    soup = BeautifulSoup(html,'html.parser')\n",
      "  File \"C:\\anaconda\\lib\\site-packages\\bs4\\__init__.py\", line 245, in __init__\n",
      "    elif len(markup) <= 256 and (\n",
      "TypeError: object of type 'NoneType' has no len()\n"
     ]
    },
    {
     "name": "stdout",
     "output_type": "stream",
     "text": [
      "当前进度：2.15%\n",
      "当前进度：2.17%\n",
      "当前进度：2.19%\n",
      "当前进度：2.21%\n",
      "当前进度：2.23%\n",
      "当前进度：2.25%\n",
      "当前进度：2.27%\n",
      "\n",
      "当前进度：2.29%\n"
     ]
    },
    {
     "name": "stderr",
     "output_type": "stream",
     "text": [
      "Traceback (most recent call last):\n",
      "  File \"<ipython-input-3-90c0f4c34da6>\", line 32, in getStockInfo\n",
      "    soup = BeautifulSoup(html,'html.parser')\n",
      "  File \"C:\\anaconda\\lib\\site-packages\\bs4\\__init__.py\", line 245, in __init__\n",
      "    elif len(markup) <= 256 and (\n",
      "TypeError: object of type 'NoneType' has no len()\n"
     ]
    },
    {
     "name": "stdout",
     "output_type": "stream",
     "text": [
      "当前进度：2.32%\n",
      "当前进度：2.34%\n",
      "当前进度：2.36%\n",
      "当前进度：2.38%\n",
      "当前进度：2.40%\n",
      "当前进度：2.42%\n",
      "当前进度：2.44%\n",
      "当前进度：2.46%\n",
      "当前进度：2.48%\n",
      "当前进度：2.50%\n",
      "当前进度：2.52%\n",
      "当前进度：2.54%\n",
      "当前进度：2.56%\n",
      "\n",
      "当前进度：2.58%\n"
     ]
    },
    {
     "name": "stderr",
     "output_type": "stream",
     "text": [
      "Traceback (most recent call last):\n",
      "  File \"<ipython-input-3-90c0f4c34da6>\", line 32, in getStockInfo\n",
      "    soup = BeautifulSoup(html,'html.parser')\n",
      "  File \"C:\\anaconda\\lib\\site-packages\\bs4\\__init__.py\", line 245, in __init__\n",
      "    elif len(markup) <= 256 and (\n",
      "TypeError: object of type 'NoneType' has no len()\n"
     ]
    },
    {
     "name": "stdout",
     "output_type": "stream",
     "text": [
      "\n",
      "\r",
      "当前进度：2.60%\n"
     ]
    },
    {
     "name": "stderr",
     "output_type": "stream",
     "text": [
      "Traceback (most recent call last):\n",
      "  File \"<ipython-input-3-90c0f4c34da6>\", line 32, in getStockInfo\n",
      "    soup = BeautifulSoup(html,'html.parser')\n",
      "  File \"C:\\anaconda\\lib\\site-packages\\bs4\\__init__.py\", line 245, in __init__\n",
      "    elif len(markup) <= 256 and (\n",
      "TypeError: object of type 'NoneType' has no len()\n"
     ]
    },
    {
     "name": "stdout",
     "output_type": "stream",
     "text": [
      "当前进度：2.63%\n",
      "当前进度：2.65%\n",
      "当前进度：2.67%\n",
      "当前进度：2.69%\n",
      "当前进度：2.71%\n",
      "当前进度：2.73%\n",
      "当前进度：2.75%\n",
      "当前进度：2.77%\n",
      "当前进度：2.79%\n",
      "当前进度：2.81%\n",
      "当前进度：2.83%\n",
      "当前进度：2.85%\n"
     ]
    },
    {
     "name": "stderr",
     "output_type": "stream",
     "text": [
      "Traceback (most recent call last):\n",
      "  File \"<ipython-input-3-90c0f4c34da6>\", line 36, in getStockInfo\n",
      "    name = stockInfo.find_all(attrs={'class':'bets-name'})[0]# 根据find()返回结果，继续细分\n",
      "AttributeError: 'NoneType' object has no attribute 'find_all'\n"
     ]
    },
    {
     "name": "stdout",
     "output_type": "stream",
     "text": [
      "当前进度：2.87%\n",
      "当前进度：2.89%\n",
      "当前进度：2.92%\n",
      "当前进度：2.94%\n",
      "当前进度：2.96%\n",
      "当前进度：2.98%\n",
      "当前进度：3.00%\n",
      "当前进度：3.02%\n",
      "当前进度：3.04%\n",
      "当前进度：3.06%\n",
      "\n",
      "当前进度：3.08%\n"
     ]
    },
    {
     "name": "stderr",
     "output_type": "stream",
     "text": [
      "Traceback (most recent call last):\n",
      "  File \"<ipython-input-3-90c0f4c34da6>\", line 32, in getStockInfo\n",
      "    soup = BeautifulSoup(html,'html.parser')\n",
      "  File \"C:\\anaconda\\lib\\site-packages\\bs4\\__init__.py\", line 245, in __init__\n",
      "    elif len(markup) <= 256 and (\n",
      "TypeError: object of type 'NoneType' has no len()\n"
     ]
    },
    {
     "name": "stdout",
     "output_type": "stream",
     "text": [
      "当前进度：3.10%\n",
      "\n",
      "当前进度：3.12%\n"
     ]
    },
    {
     "name": "stderr",
     "output_type": "stream",
     "text": [
      "Traceback (most recent call last):\n",
      "  File \"<ipython-input-3-90c0f4c34da6>\", line 32, in getStockInfo\n",
      "    soup = BeautifulSoup(html,'html.parser')\n",
      "  File \"C:\\anaconda\\lib\\site-packages\\bs4\\__init__.py\", line 245, in __init__\n",
      "    elif len(markup) <= 256 and (\n",
      "TypeError: object of type 'NoneType' has no len()\n"
     ]
    },
    {
     "name": "stdout",
     "output_type": "stream",
     "text": [
      "当前进度：3.14%\n",
      "当前进度：3.16%\n",
      "当前进度：3.18%\n",
      "当前进度：3.20%\n",
      "当前进度：3.23%\n",
      "当前进度：3.25%\n",
      "当前进度：3.27%\n",
      "当前进度：3.29%\n",
      "当前进度：3.31%\n",
      "当前进度：3.33%\n",
      "当前进度：3.35%\n",
      "\n",
      "当前进度：3.37%\n"
     ]
    },
    {
     "name": "stderr",
     "output_type": "stream",
     "text": [
      "Traceback (most recent call last):\n",
      "  File \"<ipython-input-3-90c0f4c34da6>\", line 32, in getStockInfo\n",
      "    soup = BeautifulSoup(html,'html.parser')\n",
      "  File \"C:\\anaconda\\lib\\site-packages\\bs4\\__init__.py\", line 245, in __init__\n",
      "    elif len(markup) <= 256 and (\n",
      "TypeError: object of type 'NoneType' has no len()\n"
     ]
    },
    {
     "name": "stdout",
     "output_type": "stream",
     "text": [
      "\n",
      "\r",
      "当前进度：3.39%\n"
     ]
    },
    {
     "name": "stderr",
     "output_type": "stream",
     "text": [
      "Traceback (most recent call last):\n",
      "  File \"<ipython-input-3-90c0f4c34da6>\", line 32, in getStockInfo\n",
      "    soup = BeautifulSoup(html,'html.parser')\n",
      "  File \"C:\\anaconda\\lib\\site-packages\\bs4\\__init__.py\", line 245, in __init__\n",
      "    elif len(markup) <= 256 and (\n",
      "TypeError: object of type 'NoneType' has no len()\n"
     ]
    },
    {
     "name": "stdout",
     "output_type": "stream",
     "text": [
      "当前进度：3.41%\n",
      "当前进度：3.43%\n",
      "当前进度：3.45%\n",
      "当前进度：3.47%\n",
      "\n",
      "当前进度：3.49%\n"
     ]
    },
    {
     "name": "stderr",
     "output_type": "stream",
     "text": [
      "Traceback (most recent call last):\n",
      "  File \"<ipython-input-3-90c0f4c34da6>\", line 32, in getStockInfo\n",
      "    soup = BeautifulSoup(html,'html.parser')\n",
      "  File \"C:\\anaconda\\lib\\site-packages\\bs4\\__init__.py\", line 245, in __init__\n",
      "    elif len(markup) <= 256 and (\n",
      "TypeError: object of type 'NoneType' has no len()\n"
     ]
    },
    {
     "name": "stdout",
     "output_type": "stream",
     "text": [
      "当前进度：3.51%\n",
      "\n",
      "当前进度：3.54%\n"
     ]
    },
    {
     "name": "stderr",
     "output_type": "stream",
     "text": [
      "Traceback (most recent call last):\n",
      "  File \"<ipython-input-3-90c0f4c34da6>\", line 32, in getStockInfo\n",
      "    soup = BeautifulSoup(html,'html.parser')\n",
      "  File \"C:\\anaconda\\lib\\site-packages\\bs4\\__init__.py\", line 245, in __init__\n",
      "    elif len(markup) <= 256 and (\n",
      "TypeError: object of type 'NoneType' has no len()\n"
     ]
    },
    {
     "name": "stdout",
     "output_type": "stream",
     "text": [
      "当前进度：3.56%\n",
      "当前进度：3.58%\n",
      "当前进度：3.60%\n",
      "当前进度：3.62%\n",
      "当前进度：3.64%\n",
      "当前进度：3.66%\n",
      "\n",
      "当前进度：3.68%\n"
     ]
    },
    {
     "name": "stderr",
     "output_type": "stream",
     "text": [
      "Traceback (most recent call last):\n",
      "  File \"<ipython-input-3-90c0f4c34da6>\", line 32, in getStockInfo\n",
      "    soup = BeautifulSoup(html,'html.parser')\n",
      "  File \"C:\\anaconda\\lib\\site-packages\\bs4\\__init__.py\", line 245, in __init__\n",
      "    elif len(markup) <= 256 and (\n",
      "TypeError: object of type 'NoneType' has no len()\n",
      "Traceback (most recent call last):\n",
      "  File \"<ipython-input-3-90c0f4c34da6>\", line 36, in getStockInfo\n",
      "    name = stockInfo.find_all(attrs={'class':'bets-name'})[0]# 根据find()返回结果，继续细分\n",
      "AttributeError: 'NoneType' object has no attribute 'find_all'\n"
     ]
    },
    {
     "name": "stdout",
     "output_type": "stream",
     "text": [
      "当前进度：3.70%\n",
      "当前进度：3.72%\n",
      "当前进度：3.74%\n",
      "当前进度：3.76%\n",
      "当前进度：3.78%\n",
      "当前进度：3.80%\n",
      "\n",
      "当前进度：3.82%\n"
     ]
    },
    {
     "name": "stderr",
     "output_type": "stream",
     "text": [
      "Traceback (most recent call last):\n",
      "  File \"<ipython-input-3-90c0f4c34da6>\", line 32, in getStockInfo\n",
      "    soup = BeautifulSoup(html,'html.parser')\n",
      "  File \"C:\\anaconda\\lib\\site-packages\\bs4\\__init__.py\", line 245, in __init__\n",
      "    elif len(markup) <= 256 and (\n",
      "TypeError: object of type 'NoneType' has no len()\n"
     ]
    },
    {
     "name": "stdout",
     "output_type": "stream",
     "text": [
      "当前进度：3.85%\n",
      "\n",
      "当前进度：3.87%\n"
     ]
    },
    {
     "name": "stderr",
     "output_type": "stream",
     "text": [
      "Traceback (most recent call last):\n",
      "  File \"<ipython-input-3-90c0f4c34da6>\", line 32, in getStockInfo\n",
      "    soup = BeautifulSoup(html,'html.parser')\n",
      "  File \"C:\\anaconda\\lib\\site-packages\\bs4\\__init__.py\", line 245, in __init__\n",
      "    elif len(markup) <= 256 and (\n",
      "TypeError: object of type 'NoneType' has no len()\n"
     ]
    },
    {
     "name": "stdout",
     "output_type": "stream",
     "text": [
      "当前进度：3.89%\n",
      "当前进度：3.91%\n",
      "当前进度：3.93%\n",
      "\n",
      "当前进度：3.95%\n"
     ]
    },
    {
     "name": "stderr",
     "output_type": "stream",
     "text": [
      "Traceback (most recent call last):\n",
      "  File \"<ipython-input-3-90c0f4c34da6>\", line 32, in getStockInfo\n",
      "    soup = BeautifulSoup(html,'html.parser')\n",
      "  File \"C:\\anaconda\\lib\\site-packages\\bs4\\__init__.py\", line 245, in __init__\n",
      "    elif len(markup) <= 256 and (\n",
      "TypeError: object of type 'NoneType' has no len()\n"
     ]
    },
    {
     "name": "stdout",
     "output_type": "stream",
     "text": [
      "当前进度：3.97%\n",
      "当前进度：3.99%\n",
      "当前进度：4.01%\n",
      "当前进度：4.03%\n",
      "当前进度：4.05%\n",
      "当前进度：4.07%\n",
      "当前进度：4.09%\n",
      "当前进度：4.11%\n",
      "当前进度：4.13%\n",
      "当前进度：4.16%\n",
      "当前进度：4.18%\n",
      "当前进度：4.20%\n",
      "当前进度：4.22%\n",
      "当前进度：4.24%\n",
      "\n",
      "当前进度：4.26%\n"
     ]
    },
    {
     "name": "stderr",
     "output_type": "stream",
     "text": [
      "Traceback (most recent call last):\n",
      "  File \"<ipython-input-3-90c0f4c34da6>\", line 32, in getStockInfo\n",
      "    soup = BeautifulSoup(html,'html.parser')\n",
      "  File \"C:\\anaconda\\lib\\site-packages\\bs4\\__init__.py\", line 245, in __init__\n",
      "    elif len(markup) <= 256 and (\n",
      "TypeError: object of type 'NoneType' has no len()\n"
     ]
    },
    {
     "name": "stdout",
     "output_type": "stream",
     "text": [
      "当前进度：4.28%\n",
      "\n",
      "当前进度：4.30%\n"
     ]
    },
    {
     "name": "stderr",
     "output_type": "stream",
     "text": [
      "Traceback (most recent call last):\n",
      "  File \"<ipython-input-3-90c0f4c34da6>\", line 32, in getStockInfo\n",
      "    soup = BeautifulSoup(html,'html.parser')\n",
      "  File \"C:\\anaconda\\lib\\site-packages\\bs4\\__init__.py\", line 245, in __init__\n",
      "    elif len(markup) <= 256 and (\n",
      "TypeError: object of type 'NoneType' has no len()\n"
     ]
    },
    {
     "name": "stdout",
     "output_type": "stream",
     "text": [
      "当前进度：4.32%\n",
      "当前进度：4.34%\n",
      "当前进度：4.36%\n",
      "当前进度：4.38%\n",
      "当前进度：4.40%\n",
      "当前进度：4.42%\n",
      "当前进度：4.44%\n"
     ]
    },
    {
     "name": "stderr",
     "output_type": "stream",
     "text": [
      "Traceback (most recent call last):\n",
      "  File \"<ipython-input-3-90c0f4c34da6>\", line 36, in getStockInfo\n",
      "    name = stockInfo.find_all(attrs={'class':'bets-name'})[0]# 根据find()返回结果，继续细分\n",
      "AttributeError: 'NoneType' object has no attribute 'find_all'\n"
     ]
    },
    {
     "name": "stdout",
     "output_type": "stream",
     "text": [
      "当前进度：4.47%\n",
      "\n",
      "当前进度：4.49%\n"
     ]
    },
    {
     "name": "stderr",
     "output_type": "stream",
     "text": [
      "Traceback (most recent call last):\n",
      "  File \"<ipython-input-3-90c0f4c34da6>\", line 32, in getStockInfo\n",
      "    soup = BeautifulSoup(html,'html.parser')\n",
      "  File \"C:\\anaconda\\lib\\site-packages\\bs4\\__init__.py\", line 245, in __init__\n",
      "    elif len(markup) <= 256 and (\n",
      "TypeError: object of type 'NoneType' has no len()\n"
     ]
    },
    {
     "name": "stdout",
     "output_type": "stream",
     "text": [
      "当前进度：4.51%\n",
      "当前进度：4.53%\n",
      "当前进度：4.55%\n",
      "当前进度：4.57%\n",
      "当前进度：4.59%\n",
      "当前进度：4.61%\n",
      "当前进度：4.63%\n",
      "当前进度：4.65%\n",
      "当前进度：4.67%\n",
      "当前进度：4.69%\n",
      "当前进度：4.71%\n",
      "当前进度：4.73%\n",
      "当前进度：4.76%\n",
      "当前进度：4.78%\n",
      "当前进度：4.80%\n",
      "当前进度：4.82%\n",
      "当前进度：4.84%\n",
      "\n",
      "当前进度：4.86%\n"
     ]
    },
    {
     "name": "stderr",
     "output_type": "stream",
     "text": [
      "Traceback (most recent call last):\n",
      "  File \"<ipython-input-3-90c0f4c34da6>\", line 32, in getStockInfo\n",
      "    soup = BeautifulSoup(html,'html.parser')\n",
      "  File \"C:\\anaconda\\lib\\site-packages\\bs4\\__init__.py\", line 245, in __init__\n",
      "    elif len(markup) <= 256 and (\n",
      "TypeError: object of type 'NoneType' has no len()\n"
     ]
    },
    {
     "name": "stdout",
     "output_type": "stream",
     "text": [
      "当前进度：4.88%\n",
      "\n",
      "当前进度：4.90%\n"
     ]
    },
    {
     "name": "stderr",
     "output_type": "stream",
     "text": [
      "Traceback (most recent call last):\n",
      "  File \"<ipython-input-3-90c0f4c34da6>\", line 32, in getStockInfo\n",
      "    soup = BeautifulSoup(html,'html.parser')\n",
      "  File \"C:\\anaconda\\lib\\site-packages\\bs4\\__init__.py\", line 245, in __init__\n",
      "    elif len(markup) <= 256 and (\n",
      "TypeError: object of type 'NoneType' has no len()\n"
     ]
    },
    {
     "name": "stdout",
     "output_type": "stream",
     "text": [
      "当前进度：4.92%\n",
      "当前进度：4.94%\n",
      "\n",
      "当前进度：4.96%\n"
     ]
    },
    {
     "name": "stderr",
     "output_type": "stream",
     "text": [
      "Traceback (most recent call last):\n",
      "  File \"<ipython-input-3-90c0f4c34da6>\", line 32, in getStockInfo\n",
      "    soup = BeautifulSoup(html,'html.parser')\n",
      "  File \"C:\\anaconda\\lib\\site-packages\\bs4\\__init__.py\", line 245, in __init__\n",
      "    elif len(markup) <= 256 and (\n",
      "TypeError: object of type 'NoneType' has no len()\n"
     ]
    },
    {
     "name": "stdout",
     "output_type": "stream",
     "text": [
      "\n",
      "\r",
      "当前进度：4.98%\n"
     ]
    },
    {
     "name": "stderr",
     "output_type": "stream",
     "text": [
      "Traceback (most recent call last):\n",
      "  File \"<ipython-input-3-90c0f4c34da6>\", line 32, in getStockInfo\n",
      "    soup = BeautifulSoup(html,'html.parser')\n",
      "  File \"C:\\anaconda\\lib\\site-packages\\bs4\\__init__.py\", line 245, in __init__\n",
      "    elif len(markup) <= 256 and (\n",
      "TypeError: object of type 'NoneType' has no len()\n"
     ]
    },
    {
     "name": "stdout",
     "output_type": "stream",
     "text": [
      "\n",
      "\r",
      "当前进度：5.00%\n"
     ]
    },
    {
     "name": "stderr",
     "output_type": "stream",
     "text": [
      "Traceback (most recent call last):\n",
      "  File \"<ipython-input-3-90c0f4c34da6>\", line 32, in getStockInfo\n",
      "    soup = BeautifulSoup(html,'html.parser')\n",
      "  File \"C:\\anaconda\\lib\\site-packages\\bs4\\__init__.py\", line 245, in __init__\n",
      "    elif len(markup) <= 256 and (\n",
      "TypeError: object of type 'NoneType' has no len()\n"
     ]
    },
    {
     "name": "stdout",
     "output_type": "stream",
     "text": [
      "当前进度：5.02%\n",
      "当前进度：5.04%\n",
      "当前进度：5.07%\n",
      "当前进度：5.09%\n",
      "当前进度：5.11%\n",
      "当前进度：5.13%\n"
     ]
    },
    {
     "name": "stderr",
     "output_type": "stream",
     "text": [
      "Traceback (most recent call last):\n",
      "  File \"<ipython-input-3-90c0f4c34da6>\", line 36, in getStockInfo\n",
      "    name = stockInfo.find_all(attrs={'class':'bets-name'})[0]# 根据find()返回结果，继续细分\n",
      "AttributeError: 'NoneType' object has no attribute 'find_all'\n"
     ]
    },
    {
     "name": "stdout",
     "output_type": "stream",
     "text": [
      "当前进度：5.15%\n",
      "当前进度：5.17%\n",
      "当前进度：5.19%\n",
      "当前进度：5.21%\n",
      "当前进度：5.23%\n",
      "当前进度：5.25%\n",
      "\n",
      "当前进度：5.27%\n"
     ]
    },
    {
     "name": "stderr",
     "output_type": "stream",
     "text": [
      "Traceback (most recent call last):\n",
      "  File \"<ipython-input-3-90c0f4c34da6>\", line 32, in getStockInfo\n",
      "    soup = BeautifulSoup(html,'html.parser')\n",
      "  File \"C:\\anaconda\\lib\\site-packages\\bs4\\__init__.py\", line 245, in __init__\n",
      "    elif len(markup) <= 256 and (\n",
      "TypeError: object of type 'NoneType' has no len()\n"
     ]
    },
    {
     "name": "stdout",
     "output_type": "stream",
     "text": [
      "\n",
      "\r",
      "当前进度：5.29%\n"
     ]
    },
    {
     "name": "stderr",
     "output_type": "stream",
     "text": [
      "Traceback (most recent call last):\n",
      "  File \"<ipython-input-3-90c0f4c34da6>\", line 32, in getStockInfo\n",
      "    soup = BeautifulSoup(html,'html.parser')\n",
      "  File \"C:\\anaconda\\lib\\site-packages\\bs4\\__init__.py\", line 245, in __init__\n",
      "    elif len(markup) <= 256 and (\n",
      "TypeError: object of type 'NoneType' has no len()\n"
     ]
    },
    {
     "name": "stdout",
     "output_type": "stream",
     "text": [
      "当前进度：5.31%\n",
      "当前进度：5.33%\n",
      "当前进度：5.35%\n",
      "当前进度：5.38%\n",
      "当前进度：5.40%\n",
      "当前进度：5.42%\n",
      "当前进度：5.44%\n",
      "当前进度：5.46%\n",
      "当前进度：5.48%\n",
      "当前进度：5.50%\n",
      "当前进度：5.52%\n",
      "当前进度：5.54%\n",
      "当前进度：5.56%\n",
      "当前进度：5.58%\n",
      "当前进度：5.60%\n",
      "\n",
      "当前进度：5.62%\n"
     ]
    },
    {
     "name": "stderr",
     "output_type": "stream",
     "text": [
      "Traceback (most recent call last):\n",
      "  File \"<ipython-input-3-90c0f4c34da6>\", line 32, in getStockInfo\n",
      "    soup = BeautifulSoup(html,'html.parser')\n",
      "  File \"C:\\anaconda\\lib\\site-packages\\bs4\\__init__.py\", line 245, in __init__\n",
      "    elif len(markup) <= 256 and (\n",
      "TypeError: object of type 'NoneType' has no len()\n"
     ]
    },
    {
     "name": "stdout",
     "output_type": "stream",
     "text": [
      "当前进度：5.64%\n",
      "当前进度：5.66%\n",
      "当前进度：5.69%\n",
      "当前进度：5.71%\n",
      "当前进度：5.73%\n",
      "\n",
      "当前进度：5.75%\n"
     ]
    },
    {
     "name": "stderr",
     "output_type": "stream",
     "text": [
      "Traceback (most recent call last):\n",
      "  File \"<ipython-input-3-90c0f4c34da6>\", line 32, in getStockInfo\n",
      "    soup = BeautifulSoup(html,'html.parser')\n",
      "  File \"C:\\anaconda\\lib\\site-packages\\bs4\\__init__.py\", line 245, in __init__\n",
      "    elif len(markup) <= 256 and (\n",
      "TypeError: object of type 'NoneType' has no len()\n"
     ]
    },
    {
     "name": "stdout",
     "output_type": "stream",
     "text": [
      "当前进度：5.77%\n",
      "当前进度：5.79%\n",
      "当前进度：5.81%\n"
     ]
    },
    {
     "name": "stderr",
     "output_type": "stream",
     "text": [
      "Traceback (most recent call last):\n",
      "  File \"<ipython-input-3-90c0f4c34da6>\", line 36, in getStockInfo\n",
      "    name = stockInfo.find_all(attrs={'class':'bets-name'})[0]# 根据find()返回结果，继续细分\n",
      "AttributeError: 'NoneType' object has no attribute 'find_all'\n"
     ]
    },
    {
     "name": "stdout",
     "output_type": "stream",
     "text": [
      "当前进度：5.83%\n",
      "当前进度：5.85%\n",
      "当前进度：5.87%\n",
      "当前进度：5.89%\n",
      "\n",
      "当前进度：5.91%\n"
     ]
    },
    {
     "name": "stderr",
     "output_type": "stream",
     "text": [
      "Traceback (most recent call last):\n",
      "  File \"<ipython-input-3-90c0f4c34da6>\", line 32, in getStockInfo\n",
      "    soup = BeautifulSoup(html,'html.parser')\n",
      "  File \"C:\\anaconda\\lib\\site-packages\\bs4\\__init__.py\", line 245, in __init__\n",
      "    elif len(markup) <= 256 and (\n",
      "TypeError: object of type 'NoneType' has no len()\n"
     ]
    },
    {
     "name": "stdout",
     "output_type": "stream",
     "text": [
      "当前进度：5.93%\n",
      "当前进度：5.95%\n",
      "当前进度：5.97%\n",
      "\n",
      "当前进度：6.00%\n"
     ]
    },
    {
     "name": "stderr",
     "output_type": "stream",
     "text": [
      "Traceback (most recent call last):\n",
      "  File \"<ipython-input-3-90c0f4c34da6>\", line 32, in getStockInfo\n",
      "    soup = BeautifulSoup(html,'html.parser')\n",
      "  File \"C:\\anaconda\\lib\\site-packages\\bs4\\__init__.py\", line 245, in __init__\n",
      "    elif len(markup) <= 256 and (\n",
      "TypeError: object of type 'NoneType' has no len()\n"
     ]
    },
    {
     "name": "stdout",
     "output_type": "stream",
     "text": [
      "当前进度：6.02%\n",
      "当前进度：6.04%\n",
      "\n",
      "当前进度：6.06%\n"
     ]
    },
    {
     "name": "stderr",
     "output_type": "stream",
     "text": [
      "Traceback (most recent call last):\n",
      "  File \"<ipython-input-3-90c0f4c34da6>\", line 32, in getStockInfo\n",
      "    soup = BeautifulSoup(html,'html.parser')\n",
      "  File \"C:\\anaconda\\lib\\site-packages\\bs4\\__init__.py\", line 245, in __init__\n",
      "    elif len(markup) <= 256 and (\n",
      "TypeError: object of type 'NoneType' has no len()\n"
     ]
    },
    {
     "name": "stdout",
     "output_type": "stream",
     "text": [
      "\r",
      "当前进度：6.08%\n"
     ]
    },
    {
     "name": "stderr",
     "output_type": "stream",
     "text": [
      "Traceback (most recent call last):\n",
      "  File \"<ipython-input-3-90c0f4c34da6>\", line 36, in getStockInfo\n",
      "    name = stockInfo.find_all(attrs={'class':'bets-name'})[0]# 根据find()返回结果，继续细分\n",
      "AttributeError: 'NoneType' object has no attribute 'find_all'\n"
     ]
    },
    {
     "name": "stdout",
     "output_type": "stream",
     "text": [
      "当前进度：6.10%\n",
      "当前进度：6.12%\n",
      "当前进度：6.14%\n",
      "当前进度：6.16%\n",
      "当前进度：6.18%\n",
      "当前进度：6.20%\n",
      "\n",
      "当前进度：6.22%\n"
     ]
    },
    {
     "name": "stderr",
     "output_type": "stream",
     "text": [
      "Traceback (most recent call last):\n",
      "  File \"<ipython-input-3-90c0f4c34da6>\", line 32, in getStockInfo\n",
      "    soup = BeautifulSoup(html,'html.parser')\n",
      "  File \"C:\\anaconda\\lib\\site-packages\\bs4\\__init__.py\", line 245, in __init__\n",
      "    elif len(markup) <= 256 and (\n",
      "TypeError: object of type 'NoneType' has no len()\n"
     ]
    },
    {
     "name": "stdout",
     "output_type": "stream",
     "text": [
      "当前进度：6.24%\n",
      "当前进度：6.26%\n",
      "当前进度：6.28%\n",
      "\n",
      "当前进度：6.31%\n"
     ]
    },
    {
     "name": "stderr",
     "output_type": "stream",
     "text": [
      "Traceback (most recent call last):\n",
      "  File \"<ipython-input-3-90c0f4c34da6>\", line 32, in getStockInfo\n",
      "    soup = BeautifulSoup(html,'html.parser')\n",
      "  File \"C:\\anaconda\\lib\\site-packages\\bs4\\__init__.py\", line 245, in __init__\n",
      "    elif len(markup) <= 256 and (\n",
      "TypeError: object of type 'NoneType' has no len()\n",
      "Traceback (most recent call last):\n",
      "  File \"<ipython-input-3-90c0f4c34da6>\", line 36, in getStockInfo\n",
      "    name = stockInfo.find_all(attrs={'class':'bets-name'})[0]# 根据find()返回结果，继续细分\n",
      "AttributeError: 'NoneType' object has no attribute 'find_all'\n"
     ]
    },
    {
     "name": "stdout",
     "output_type": "stream",
     "text": [
      "当前进度：6.33%\n",
      "当前进度：6.35%\n",
      "当前进度：6.37%\n",
      "当前进度：6.39%\n",
      "当前进度：6.41%\n",
      "当前进度：6.43%\n"
     ]
    },
    {
     "name": "stderr",
     "output_type": "stream",
     "text": [
      "Traceback (most recent call last):\n",
      "  File \"<ipython-input-3-90c0f4c34da6>\", line 36, in getStockInfo\n",
      "    name = stockInfo.find_all(attrs={'class':'bets-name'})[0]# 根据find()返回结果，继续细分\n",
      "AttributeError: 'NoneType' object has no attribute 'find_all'\n"
     ]
    },
    {
     "name": "stdout",
     "output_type": "stream",
     "text": [
      "\r",
      "当前进度：6.45%\n"
     ]
    },
    {
     "name": "stderr",
     "output_type": "stream",
     "text": [
      "Traceback (most recent call last):\n",
      "  File \"<ipython-input-3-90c0f4c34da6>\", line 36, in getStockInfo\n",
      "    name = stockInfo.find_all(attrs={'class':'bets-name'})[0]# 根据find()返回结果，继续细分\n",
      "AttributeError: 'NoneType' object has no attribute 'find_all'\n"
     ]
    },
    {
     "name": "stdout",
     "output_type": "stream",
     "text": [
      "当前进度：6.47%\n",
      "当前进度：6.49%\n",
      "当前进度：6.51%\n",
      "当前进度：6.53%\n",
      "当前进度：6.55%\n",
      "当前进度：6.57%\n",
      "当前进度：6.59%\n",
      "当前进度：6.62%\n",
      "当前进度：6.64%\n",
      "\n",
      "当前进度：6.66%\n"
     ]
    },
    {
     "name": "stderr",
     "output_type": "stream",
     "text": [
      "Traceback (most recent call last):\n",
      "  File \"<ipython-input-3-90c0f4c34da6>\", line 32, in getStockInfo\n",
      "    soup = BeautifulSoup(html,'html.parser')\n",
      "  File \"C:\\anaconda\\lib\\site-packages\\bs4\\__init__.py\", line 245, in __init__\n",
      "    elif len(markup) <= 256 and (\n",
      "TypeError: object of type 'NoneType' has no len()\n"
     ]
    },
    {
     "name": "stdout",
     "output_type": "stream",
     "text": [
      "当前进度：6.68%\n",
      "当前进度：6.70%\n",
      "当前进度：6.72%\n",
      "当前进度：6.74%\n",
      "当前进度：6.76%\n",
      "当前进度：6.78%\n",
      "当前进度：6.80%\n",
      "\n",
      "当前进度：6.82%\n"
     ]
    },
    {
     "name": "stderr",
     "output_type": "stream",
     "text": [
      "Traceback (most recent call last):\n",
      "  File \"<ipython-input-3-90c0f4c34da6>\", line 32, in getStockInfo\n",
      "    soup = BeautifulSoup(html,'html.parser')\n",
      "  File \"C:\\anaconda\\lib\\site-packages\\bs4\\__init__.py\", line 245, in __init__\n",
      "    elif len(markup) <= 256 and (\n",
      "TypeError: object of type 'NoneType' has no len()\n",
      "Traceback (most recent call last):\n",
      "  File \"<ipython-input-3-90c0f4c34da6>\", line 36, in getStockInfo\n",
      "    name = stockInfo.find_all(attrs={'class':'bets-name'})[0]# 根据find()返回结果，继续细分\n",
      "AttributeError: 'NoneType' object has no attribute 'find_all'\n"
     ]
    },
    {
     "name": "stdout",
     "output_type": "stream",
     "text": [
      "\r",
      "当前进度：6.84%\n"
     ]
    },
    {
     "name": "stderr",
     "output_type": "stream",
     "text": [
      "Traceback (most recent call last):\n",
      "  File \"<ipython-input-3-90c0f4c34da6>\", line 36, in getStockInfo\n",
      "    name = stockInfo.find_all(attrs={'class':'bets-name'})[0]# 根据find()返回结果，继续细分\n",
      "AttributeError: 'NoneType' object has no attribute 'find_all'\n"
     ]
    },
    {
     "name": "stdout",
     "output_type": "stream",
     "text": [
      "\r",
      "当前进度：6.86%\n"
     ]
    },
    {
     "name": "stderr",
     "output_type": "stream",
     "text": [
      "Traceback (most recent call last):\n",
      "  File \"<ipython-input-3-90c0f4c34da6>\", line 36, in getStockInfo\n",
      "    name = stockInfo.find_all(attrs={'class':'bets-name'})[0]# 根据find()返回结果，继续细分\n",
      "AttributeError: 'NoneType' object has no attribute 'find_all'\n"
     ]
    },
    {
     "name": "stdout",
     "output_type": "stream",
     "text": [
      "\r",
      "当前进度：6.88%\n"
     ]
    },
    {
     "name": "stderr",
     "output_type": "stream",
     "text": [
      "Traceback (most recent call last):\n",
      "  File \"<ipython-input-3-90c0f4c34da6>\", line 36, in getStockInfo\n",
      "    name = stockInfo.find_all(attrs={'class':'bets-name'})[0]# 根据find()返回结果，继续细分\n",
      "AttributeError: 'NoneType' object has no attribute 'find_all'\n"
     ]
    },
    {
     "name": "stdout",
     "output_type": "stream",
     "text": [
      "\r",
      "当前进度：6.91%\n"
     ]
    },
    {
     "name": "stderr",
     "output_type": "stream",
     "text": [
      "Traceback (most recent call last):\n",
      "  File \"<ipython-input-3-90c0f4c34da6>\", line 36, in getStockInfo\n",
      "    name = stockInfo.find_all(attrs={'class':'bets-name'})[0]# 根据find()返回结果，继续细分\n",
      "AttributeError: 'NoneType' object has no attribute 'find_all'\n"
     ]
    },
    {
     "name": "stdout",
     "output_type": "stream",
     "text": [
      "\r",
      "当前进度：6.93%\n"
     ]
    },
    {
     "name": "stderr",
     "output_type": "stream",
     "text": [
      "Traceback (most recent call last):\n",
      "  File \"<ipython-input-3-90c0f4c34da6>\", line 36, in getStockInfo\n",
      "    name = stockInfo.find_all(attrs={'class':'bets-name'})[0]# 根据find()返回结果，继续细分\n",
      "AttributeError: 'NoneType' object has no attribute 'find_all'\n"
     ]
    },
    {
     "name": "stdout",
     "output_type": "stream",
     "text": [
      "当前进度：6.95%\n",
      "\n",
      "当前进度：6.97%\n"
     ]
    },
    {
     "name": "stderr",
     "output_type": "stream",
     "text": [
      "Traceback (most recent call last):\n",
      "  File \"<ipython-input-3-90c0f4c34da6>\", line 32, in getStockInfo\n",
      "    soup = BeautifulSoup(html,'html.parser')\n",
      "  File \"C:\\anaconda\\lib\\site-packages\\bs4\\__init__.py\", line 245, in __init__\n",
      "    elif len(markup) <= 256 and (\n",
      "TypeError: object of type 'NoneType' has no len()\n",
      "Traceback (most recent call last):\n",
      "  File \"<ipython-input-3-90c0f4c34da6>\", line 36, in getStockInfo\n",
      "    name = stockInfo.find_all(attrs={'class':'bets-name'})[0]# 根据find()返回结果，继续细分\n",
      "AttributeError: 'NoneType' object has no attribute 'find_all'\n"
     ]
    },
    {
     "name": "stdout",
     "output_type": "stream",
     "text": [
      "\r",
      "当前进度：6.99%\n"
     ]
    },
    {
     "name": "stderr",
     "output_type": "stream",
     "text": [
      "Traceback (most recent call last):\n",
      "  File \"<ipython-input-3-90c0f4c34da6>\", line 36, in getStockInfo\n",
      "    name = stockInfo.find_all(attrs={'class':'bets-name'})[0]# 根据find()返回结果，继续细分\n",
      "AttributeError: 'NoneType' object has no attribute 'find_all'\n"
     ]
    },
    {
     "name": "stdout",
     "output_type": "stream",
     "text": [
      "当前进度：7.01%\n",
      "\n",
      "当前进度：7.03%\n"
     ]
    },
    {
     "name": "stderr",
     "output_type": "stream",
     "text": [
      "Traceback (most recent call last):\n",
      "  File \"<ipython-input-3-90c0f4c34da6>\", line 32, in getStockInfo\n",
      "    soup = BeautifulSoup(html,'html.parser')\n",
      "  File \"C:\\anaconda\\lib\\site-packages\\bs4\\__init__.py\", line 245, in __init__\n",
      "    elif len(markup) <= 256 and (\n",
      "TypeError: object of type 'NoneType' has no len()\n",
      "Traceback (most recent call last):\n",
      "  File \"<ipython-input-3-90c0f4c34da6>\", line 36, in getStockInfo\n",
      "    name = stockInfo.find_all(attrs={'class':'bets-name'})[0]# 根据find()返回结果，继续细分\n",
      "AttributeError: 'NoneType' object has no attribute 'find_all'\n"
     ]
    },
    {
     "name": "stdout",
     "output_type": "stream",
     "text": [
      "\r",
      "当前进度：7.05%\n"
     ]
    },
    {
     "name": "stderr",
     "output_type": "stream",
     "text": [
      "Traceback (most recent call last):\n",
      "  File \"<ipython-input-3-90c0f4c34da6>\", line 36, in getStockInfo\n",
      "    name = stockInfo.find_all(attrs={'class':'bets-name'})[0]# 根据find()返回结果，继续细分\n",
      "AttributeError: 'NoneType' object has no attribute 'find_all'\n"
     ]
    },
    {
     "name": "stdout",
     "output_type": "stream",
     "text": [
      "\r",
      "当前进度：7.07%\n"
     ]
    },
    {
     "name": "stderr",
     "output_type": "stream",
     "text": [
      "Traceback (most recent call last):\n",
      "  File \"<ipython-input-3-90c0f4c34da6>\", line 36, in getStockInfo\n",
      "    name = stockInfo.find_all(attrs={'class':'bets-name'})[0]# 根据find()返回结果，继续细分\n",
      "AttributeError: 'NoneType' object has no attribute 'find_all'\n"
     ]
    },
    {
     "name": "stdout",
     "output_type": "stream",
     "text": [
      "\r",
      "当前进度：7.09%\n"
     ]
    },
    {
     "name": "stderr",
     "output_type": "stream",
     "text": [
      "Traceback (most recent call last):\n",
      "  File \"<ipython-input-3-90c0f4c34da6>\", line 36, in getStockInfo\n",
      "    name = stockInfo.find_all(attrs={'class':'bets-name'})[0]# 根据find()返回结果，继续细分\n",
      "AttributeError: 'NoneType' object has no attribute 'find_all'\n"
     ]
    },
    {
     "name": "stdout",
     "output_type": "stream",
     "text": [
      "当前进度：7.11%\n",
      "当前进度：7.13%\n",
      "当前进度：7.15%\n",
      "\n",
      "当前进度：7.17%\n"
     ]
    },
    {
     "name": "stderr",
     "output_type": "stream",
     "text": [
      "Traceback (most recent call last):\n",
      "  File \"<ipython-input-3-90c0f4c34da6>\", line 32, in getStockInfo\n",
      "    soup = BeautifulSoup(html,'html.parser')\n",
      "  File \"C:\\anaconda\\lib\\site-packages\\bs4\\__init__.py\", line 245, in __init__\n",
      "    elif len(markup) <= 256 and (\n",
      "TypeError: object of type 'NoneType' has no len()\n"
     ]
    },
    {
     "name": "stdout",
     "output_type": "stream",
     "text": [
      "当前进度：7.19%\n",
      "当前进度：7.22%\n",
      "当前进度：7.24%\n",
      "\n",
      "当前进度：7.26%\n"
     ]
    },
    {
     "name": "stderr",
     "output_type": "stream",
     "text": [
      "Traceback (most recent call last):\n",
      "  File \"<ipython-input-3-90c0f4c34da6>\", line 32, in getStockInfo\n",
      "    soup = BeautifulSoup(html,'html.parser')\n",
      "  File \"C:\\anaconda\\lib\\site-packages\\bs4\\__init__.py\", line 245, in __init__\n",
      "    elif len(markup) <= 256 and (\n",
      "TypeError: object of type 'NoneType' has no len()\n"
     ]
    },
    {
     "name": "stdout",
     "output_type": "stream",
     "text": [
      "当前进度：7.28%\n",
      "当前进度：7.30%\n",
      "当前进度：7.32%\n",
      "当前进度：7.34%\n",
      "\n",
      "当前进度：7.36%\n"
     ]
    },
    {
     "name": "stderr",
     "output_type": "stream",
     "text": [
      "Traceback (most recent call last):\n",
      "  File \"<ipython-input-3-90c0f4c34da6>\", line 32, in getStockInfo\n",
      "    soup = BeautifulSoup(html,'html.parser')\n",
      "  File \"C:\\anaconda\\lib\\site-packages\\bs4\\__init__.py\", line 245, in __init__\n",
      "    elif len(markup) <= 256 and (\n",
      "TypeError: object of type 'NoneType' has no len()\n"
     ]
    },
    {
     "name": "stdout",
     "output_type": "stream",
     "text": [
      "\r",
      "当前进度：7.38%\n"
     ]
    },
    {
     "name": "stderr",
     "output_type": "stream",
     "text": [
      "Traceback (most recent call last):\n",
      "  File \"<ipython-input-3-90c0f4c34da6>\", line 36, in getStockInfo\n",
      "    name = stockInfo.find_all(attrs={'class':'bets-name'})[0]# 根据find()返回结果，继续细分\n",
      "AttributeError: 'NoneType' object has no attribute 'find_all'\n"
     ]
    },
    {
     "name": "stdout",
     "output_type": "stream",
     "text": [
      "当前进度：7.40%\n",
      "当前进度：7.42%\n",
      "当前进度：7.44%\n",
      "当前进度：7.46%\n",
      "当前进度：7.48%\n",
      "当前进度：7.50%\n",
      "当前进度：7.53%\n",
      "当前进度：7.55%\n",
      "\n",
      "当前进度：7.57%\n"
     ]
    },
    {
     "name": "stderr",
     "output_type": "stream",
     "text": [
      "Traceback (most recent call last):\n",
      "  File \"<ipython-input-3-90c0f4c34da6>\", line 32, in getStockInfo\n",
      "    soup = BeautifulSoup(html,'html.parser')\n",
      "  File \"C:\\anaconda\\lib\\site-packages\\bs4\\__init__.py\", line 245, in __init__\n",
      "    elif len(markup) <= 256 and (\n",
      "TypeError: object of type 'NoneType' has no len()\n"
     ]
    },
    {
     "name": "stdout",
     "output_type": "stream",
     "text": [
      "当前进度：7.59%\n",
      "当前进度：7.61%\n",
      "\n",
      "当前进度：7.63%\n"
     ]
    },
    {
     "name": "stderr",
     "output_type": "stream",
     "text": [
      "Traceback (most recent call last):\n",
      "  File \"<ipython-input-3-90c0f4c34da6>\", line 32, in getStockInfo\n",
      "    soup = BeautifulSoup(html,'html.parser')\n",
      "  File \"C:\\anaconda\\lib\\site-packages\\bs4\\__init__.py\", line 245, in __init__\n",
      "    elif len(markup) <= 256 and (\n",
      "TypeError: object of type 'NoneType' has no len()\n"
     ]
    },
    {
     "name": "stdout",
     "output_type": "stream",
     "text": [
      "当前进度：7.65%\n",
      "当前进度：7.67%\n",
      "当前进度：7.69%\n",
      "当前进度：7.71%\n",
      "当前进度：7.73%\n",
      "当前进度：7.75%\n",
      "当前进度：7.77%\n",
      "当前进度：7.79%\n",
      "当前进度：7.81%\n",
      "\n",
      "当前进度：7.84%\n"
     ]
    },
    {
     "name": "stderr",
     "output_type": "stream",
     "text": [
      "Traceback (most recent call last):\n",
      "  File \"<ipython-input-3-90c0f4c34da6>\", line 32, in getStockInfo\n",
      "    soup = BeautifulSoup(html,'html.parser')\n",
      "  File \"C:\\anaconda\\lib\\site-packages\\bs4\\__init__.py\", line 245, in __init__\n",
      "    elif len(markup) <= 256 and (\n",
      "TypeError: object of type 'NoneType' has no len()\n"
     ]
    },
    {
     "name": "stdout",
     "output_type": "stream",
     "text": [
      "当前进度：7.86%\n",
      "当前进度：7.88%\n",
      "当前进度：7.90%\n",
      "当前进度：7.92%\n",
      "当前进度：7.94%\n",
      "当前进度：7.96%\n",
      "当前进度：7.98%\n",
      "当前进度：8.00%\n",
      "当前进度：8.02%\n",
      "当前进度：8.04%\n",
      "当前进度：8.06%\n",
      "当前进度：8.08%\n",
      "当前进度：8.10%\n",
      "当前进度：8.12%\n",
      "\n",
      "当前进度：8.15%\n"
     ]
    },
    {
     "name": "stderr",
     "output_type": "stream",
     "text": [
      "Traceback (most recent call last):\n",
      "  File \"<ipython-input-3-90c0f4c34da6>\", line 32, in getStockInfo\n",
      "    soup = BeautifulSoup(html,'html.parser')\n",
      "  File \"C:\\anaconda\\lib\\site-packages\\bs4\\__init__.py\", line 245, in __init__\n",
      "    elif len(markup) <= 256 and (\n",
      "TypeError: object of type 'NoneType' has no len()\n"
     ]
    },
    {
     "name": "stdout",
     "output_type": "stream",
     "text": [
      "当前进度：8.17%\n",
      "当前进度：8.19%\n",
      "当前进度：8.21%\n",
      "当前进度：8.23%\n",
      "当前进度：8.25%\n",
      "当前进度：8.27%\n",
      "当前进度：8.29%\n",
      "当前进度：8.31%\n",
      "\n",
      "当前进度：8.33%\n"
     ]
    },
    {
     "name": "stderr",
     "output_type": "stream",
     "text": [
      "Traceback (most recent call last):\n",
      "  File \"<ipython-input-3-90c0f4c34da6>\", line 32, in getStockInfo\n",
      "    soup = BeautifulSoup(html,'html.parser')\n",
      "  File \"C:\\anaconda\\lib\\site-packages\\bs4\\__init__.py\", line 245, in __init__\n",
      "    elif len(markup) <= 256 and (\n",
      "TypeError: object of type 'NoneType' has no len()\n"
     ]
    },
    {
     "name": "stdout",
     "output_type": "stream",
     "text": [
      "当前进度：8.35%\n",
      "当前进度：8.37%\n",
      "当前进度：8.39%\n",
      "当前进度：8.41%\n",
      "当前进度：8.43%\n",
      "当前进度：8.46%\n",
      "当前进度：8.48%\n",
      "当前进度：8.50%\n",
      "当前进度：8.52%\n",
      "\n",
      "当前进度：8.54%\n"
     ]
    },
    {
     "name": "stderr",
     "output_type": "stream",
     "text": [
      "Traceback (most recent call last):\n",
      "  File \"<ipython-input-3-90c0f4c34da6>\", line 32, in getStockInfo\n",
      "    soup = BeautifulSoup(html,'html.parser')\n",
      "  File \"C:\\anaconda\\lib\\site-packages\\bs4\\__init__.py\", line 245, in __init__\n",
      "    elif len(markup) <= 256 and (\n",
      "TypeError: object of type 'NoneType' has no len()\n"
     ]
    },
    {
     "name": "stdout",
     "output_type": "stream",
     "text": [
      "当前进度：8.56%\n",
      "当前进度：8.58%\n",
      "当前进度：8.60%\n",
      "当前进度：8.62%\n",
      "当前进度：8.64%\n",
      "当前进度：8.66%\n",
      "当前进度：8.68%\n",
      "\n",
      "当前进度：8.70%\n"
     ]
    },
    {
     "name": "stderr",
     "output_type": "stream",
     "text": [
      "Traceback (most recent call last):\n",
      "  File \"<ipython-input-3-90c0f4c34da6>\", line 32, in getStockInfo\n",
      "    soup = BeautifulSoup(html,'html.parser')\n",
      "  File \"C:\\anaconda\\lib\\site-packages\\bs4\\__init__.py\", line 245, in __init__\n",
      "    elif len(markup) <= 256 and (\n",
      "TypeError: object of type 'NoneType' has no len()\n"
     ]
    },
    {
     "name": "stdout",
     "output_type": "stream",
     "text": [
      "当前进度：8.72%\n",
      "\n",
      "当前进度：8.75%\n"
     ]
    },
    {
     "name": "stderr",
     "output_type": "stream",
     "text": [
      "Traceback (most recent call last):\n",
      "  File \"<ipython-input-3-90c0f4c34da6>\", line 32, in getStockInfo\n",
      "    soup = BeautifulSoup(html,'html.parser')\n",
      "  File \"C:\\anaconda\\lib\\site-packages\\bs4\\__init__.py\", line 245, in __init__\n",
      "    elif len(markup) <= 256 and (\n",
      "TypeError: object of type 'NoneType' has no len()\n"
     ]
    },
    {
     "name": "stdout",
     "output_type": "stream",
     "text": [
      "当前进度：8.77%\n",
      "当前进度：8.79%\n",
      "当前进度：8.81%\n",
      "当前进度：8.83%\n",
      "当前进度：8.85%\n",
      "当前进度：8.87%\n",
      "当前进度：8.89%\n",
      "当前进度：8.91%\n",
      "当前进度：8.93%\n",
      "当前进度：8.95%\n",
      "当前进度：8.97%\n",
      "\n",
      "当前进度：8.99%\n"
     ]
    },
    {
     "name": "stderr",
     "output_type": "stream",
     "text": [
      "Traceback (most recent call last):\n",
      "  File \"<ipython-input-3-90c0f4c34da6>\", line 32, in getStockInfo\n",
      "    soup = BeautifulSoup(html,'html.parser')\n",
      "  File \"C:\\anaconda\\lib\\site-packages\\bs4\\__init__.py\", line 245, in __init__\n",
      "    elif len(markup) <= 256 and (\n",
      "TypeError: object of type 'NoneType' has no len()\n"
     ]
    },
    {
     "name": "stdout",
     "output_type": "stream",
     "text": [
      "当前进度：9.01%\n",
      "当前进度：9.03%\n",
      "当前进度：9.06%\n",
      "当前进度：9.08%\n",
      "当前进度：9.10%\n",
      "当前进度：9.12%\n",
      "\n",
      "当前进度：9.14%\n"
     ]
    },
    {
     "name": "stderr",
     "output_type": "stream",
     "text": [
      "Traceback (most recent call last):\n",
      "  File \"<ipython-input-3-90c0f4c34da6>\", line 32, in getStockInfo\n",
      "    soup = BeautifulSoup(html,'html.parser')\n",
      "  File \"C:\\anaconda\\lib\\site-packages\\bs4\\__init__.py\", line 245, in __init__\n",
      "    elif len(markup) <= 256 and (\n",
      "TypeError: object of type 'NoneType' has no len()\n"
     ]
    },
    {
     "name": "stdout",
     "output_type": "stream",
     "text": [
      "当前进度：9.16%\n",
      "当前进度：9.18%\n",
      "当前进度：9.20%\n",
      "当前进度：9.22%\n",
      "当前进度：9.24%\n",
      "当前进度：9.26%\n",
      "当前进度：9.28%\n",
      "当前进度：9.30%\n",
      "\n",
      "当前进度：9.32%\n"
     ]
    },
    {
     "name": "stderr",
     "output_type": "stream",
     "text": [
      "Traceback (most recent call last):\n",
      "  File \"<ipython-input-3-90c0f4c34da6>\", line 32, in getStockInfo\n",
      "    soup = BeautifulSoup(html,'html.parser')\n",
      "  File \"C:\\anaconda\\lib\\site-packages\\bs4\\__init__.py\", line 245, in __init__\n",
      "    elif len(markup) <= 256 and (\n",
      "TypeError: object of type 'NoneType' has no len()\n"
     ]
    },
    {
     "name": "stdout",
     "output_type": "stream",
     "text": [
      "当前进度：9.34%\n",
      "\n",
      "当前进度：9.37%\n"
     ]
    },
    {
     "name": "stderr",
     "output_type": "stream",
     "text": [
      "Traceback (most recent call last):\n",
      "  File \"<ipython-input-3-90c0f4c34da6>\", line 32, in getStockInfo\n",
      "    soup = BeautifulSoup(html,'html.parser')\n",
      "  File \"C:\\anaconda\\lib\\site-packages\\bs4\\__init__.py\", line 245, in __init__\n",
      "    elif len(markup) <= 256 and (\n",
      "TypeError: object of type 'NoneType' has no len()\n"
     ]
    },
    {
     "name": "stdout",
     "output_type": "stream",
     "text": [
      "当前进度：9.39%\n",
      "\n",
      "当前进度：9.41%\n"
     ]
    },
    {
     "name": "stderr",
     "output_type": "stream",
     "text": [
      "Traceback (most recent call last):\n",
      "  File \"<ipython-input-3-90c0f4c34da6>\", line 32, in getStockInfo\n",
      "    soup = BeautifulSoup(html,'html.parser')\n",
      "  File \"C:\\anaconda\\lib\\site-packages\\bs4\\__init__.py\", line 245, in __init__\n",
      "    elif len(markup) <= 256 and (\n",
      "TypeError: object of type 'NoneType' has no len()\n"
     ]
    },
    {
     "name": "stdout",
     "output_type": "stream",
     "text": [
      "当前进度：9.43%\n",
      "当前进度：9.45%\n",
      "当前进度：9.47%\n",
      "\n",
      "当前进度：9.49%\n"
     ]
    },
    {
     "name": "stderr",
     "output_type": "stream",
     "text": [
      "Traceback (most recent call last):\n",
      "  File \"<ipython-input-3-90c0f4c34da6>\", line 32, in getStockInfo\n",
      "    soup = BeautifulSoup(html,'html.parser')\n",
      "  File \"C:\\anaconda\\lib\\site-packages\\bs4\\__init__.py\", line 245, in __init__\n",
      "    elif len(markup) <= 256 and (\n",
      "TypeError: object of type 'NoneType' has no len()\n"
     ]
    },
    {
     "name": "stdout",
     "output_type": "stream",
     "text": [
      "当前进度：9.51%\n",
      "当前进度：9.53%\n",
      "当前进度：9.55%\n",
      "当前进度：9.57%\n",
      "当前进度：9.59%\n",
      "\n",
      "当前进度：9.61%\n"
     ]
    },
    {
     "name": "stderr",
     "output_type": "stream",
     "text": [
      "Traceback (most recent call last):\n",
      "  File \"<ipython-input-3-90c0f4c34da6>\", line 32, in getStockInfo\n",
      "    soup = BeautifulSoup(html,'html.parser')\n",
      "  File \"C:\\anaconda\\lib\\site-packages\\bs4\\__init__.py\", line 245, in __init__\n",
      "    elif len(markup) <= 256 and (\n",
      "TypeError: object of type 'NoneType' has no len()\n"
     ]
    },
    {
     "name": "stdout",
     "output_type": "stream",
     "text": [
      "当前进度：9.63%\n",
      "当前进度：9.65%\n",
      "当前进度：9.68%\n"
     ]
    },
    {
     "name": "stderr",
     "output_type": "stream",
     "text": [
      "Traceback (most recent call last):\n",
      "  File \"<ipython-input-3-90c0f4c34da6>\", line 36, in getStockInfo\n",
      "    name = stockInfo.find_all(attrs={'class':'bets-name'})[0]# 根据find()返回结果，继续细分\n",
      "AttributeError: 'NoneType' object has no attribute 'find_all'\n"
     ]
    },
    {
     "name": "stdout",
     "output_type": "stream",
     "text": [
      "当前进度：9.70%\n",
      "当前进度：9.72%\n",
      "当前进度：9.74%\n",
      "当前进度：9.76%\n",
      "当前进度：9.78%\n",
      "当前进度：9.80%\n",
      "当前进度：9.82%\n",
      "当前进度：9.84%\n",
      "当前进度：9.86%\n",
      "当前进度：9.88%\n",
      "当前进度：9.90%\n",
      "当前进度：9.92%\n",
      "当前进度：9.94%\n",
      "当前进度：9.96%\n",
      "\n",
      "当前进度：9.99%\n"
     ]
    },
    {
     "name": "stderr",
     "output_type": "stream",
     "text": [
      "Traceback (most recent call last):\n",
      "  File \"<ipython-input-3-90c0f4c34da6>\", line 32, in getStockInfo\n",
      "    soup = BeautifulSoup(html,'html.parser')\n",
      "  File \"C:\\anaconda\\lib\\site-packages\\bs4\\__init__.py\", line 245, in __init__\n",
      "    elif len(markup) <= 256 and (\n",
      "TypeError: object of type 'NoneType' has no len()\n"
     ]
    },
    {
     "name": "stdout",
     "output_type": "stream",
     "text": [
      "\n",
      "\r",
      "当前进度：10.01%\n"
     ]
    },
    {
     "name": "stderr",
     "output_type": "stream",
     "text": [
      "Traceback (most recent call last):\n",
      "  File \"<ipython-input-3-90c0f4c34da6>\", line 32, in getStockInfo\n",
      "    soup = BeautifulSoup(html,'html.parser')\n",
      "  File \"C:\\anaconda\\lib\\site-packages\\bs4\\__init__.py\", line 245, in __init__\n",
      "    elif len(markup) <= 256 and (\n",
      "TypeError: object of type 'NoneType' has no len()\n"
     ]
    },
    {
     "name": "stdout",
     "output_type": "stream",
     "text": [
      "当前进度：10.03%\n",
      "当前进度：10.05%\n",
      "当前进度：10.07%\n",
      "\n",
      "当前进度：10.09%\n"
     ]
    },
    {
     "name": "stderr",
     "output_type": "stream",
     "text": [
      "Traceback (most recent call last):\n",
      "  File \"<ipython-input-3-90c0f4c34da6>\", line 32, in getStockInfo\n",
      "    soup = BeautifulSoup(html,'html.parser')\n",
      "  File \"C:\\anaconda\\lib\\site-packages\\bs4\\__init__.py\", line 245, in __init__\n",
      "    elif len(markup) <= 256 and (\n",
      "TypeError: object of type 'NoneType' has no len()\n"
     ]
    },
    {
     "name": "stdout",
     "output_type": "stream",
     "text": [
      "当前进度：10.11%\n",
      "当前进度：10.13%\n",
      "\n",
      "当前进度：10.15%\n"
     ]
    },
    {
     "name": "stderr",
     "output_type": "stream",
     "text": [
      "Traceback (most recent call last):\n",
      "  File \"<ipython-input-3-90c0f4c34da6>\", line 32, in getStockInfo\n",
      "    soup = BeautifulSoup(html,'html.parser')\n",
      "  File \"C:\\anaconda\\lib\\site-packages\\bs4\\__init__.py\", line 245, in __init__\n",
      "    elif len(markup) <= 256 and (\n",
      "TypeError: object of type 'NoneType' has no len()\n"
     ]
    },
    {
     "name": "stdout",
     "output_type": "stream",
     "text": [
      "当前进度：10.17%\n",
      "当前进度：10.19%\n",
      "当前进度：10.21%\n",
      "\n",
      "当前进度：10.23%\n"
     ]
    },
    {
     "name": "stderr",
     "output_type": "stream",
     "text": [
      "Traceback (most recent call last):\n",
      "  File \"<ipython-input-3-90c0f4c34da6>\", line 32, in getStockInfo\n",
      "    soup = BeautifulSoup(html,'html.parser')\n",
      "  File \"C:\\anaconda\\lib\\site-packages\\bs4\\__init__.py\", line 245, in __init__\n",
      "    elif len(markup) <= 256 and (\n",
      "TypeError: object of type 'NoneType' has no len()\n",
      "Traceback (most recent call last):\n",
      "  File \"<ipython-input-3-90c0f4c34da6>\", line 36, in getStockInfo\n",
      "    name = stockInfo.find_all(attrs={'class':'bets-name'})[0]# 根据find()返回结果，继续细分\n",
      "AttributeError: 'NoneType' object has no attribute 'find_all'\n"
     ]
    },
    {
     "name": "stdout",
     "output_type": "stream",
     "text": [
      "当前进度：10.25%\n",
      "当前进度：10.27%\n",
      "\n",
      "当前进度：10.30%\n"
     ]
    },
    {
     "name": "stderr",
     "output_type": "stream",
     "text": [
      "Traceback (most recent call last):\n",
      "  File \"<ipython-input-3-90c0f4c34da6>\", line 32, in getStockInfo\n",
      "    soup = BeautifulSoup(html,'html.parser')\n",
      "  File \"C:\\anaconda\\lib\\site-packages\\bs4\\__init__.py\", line 245, in __init__\n",
      "    elif len(markup) <= 256 and (\n",
      "TypeError: object of type 'NoneType' has no len()\n"
     ]
    },
    {
     "name": "stdout",
     "output_type": "stream",
     "text": [
      "当前进度：10.32%\n",
      "当前进度：10.34%\n",
      "当前进度：10.36%\n",
      "当前进度：10.38%\n",
      "当前进度：10.40%\n",
      "当前进度：10.42%\n",
      "当前进度：10.44%\n",
      "\n",
      "当前进度：10.46%\n"
     ]
    },
    {
     "name": "stderr",
     "output_type": "stream",
     "text": [
      "Traceback (most recent call last):\n",
      "  File \"<ipython-input-3-90c0f4c34da6>\", line 32, in getStockInfo\n",
      "    soup = BeautifulSoup(html,'html.parser')\n",
      "  File \"C:\\anaconda\\lib\\site-packages\\bs4\\__init__.py\", line 245, in __init__\n",
      "    elif len(markup) <= 256 and (\n",
      "TypeError: object of type 'NoneType' has no len()\n"
     ]
    },
    {
     "name": "stdout",
     "output_type": "stream",
     "text": [
      "\n",
      "\r",
      "当前进度：10.48%\n"
     ]
    },
    {
     "name": "stderr",
     "output_type": "stream",
     "text": [
      "Traceback (most recent call last):\n",
      "  File \"<ipython-input-3-90c0f4c34da6>\", line 32, in getStockInfo\n",
      "    soup = BeautifulSoup(html,'html.parser')\n",
      "  File \"C:\\anaconda\\lib\\site-packages\\bs4\\__init__.py\", line 245, in __init__\n",
      "    elif len(markup) <= 256 and (\n",
      "TypeError: object of type 'NoneType' has no len()\n"
     ]
    },
    {
     "name": "stdout",
     "output_type": "stream",
     "text": [
      "当前进度：10.50%\n",
      "当前进度：10.52%\n",
      "\n",
      "当前进度：10.54%\n"
     ]
    },
    {
     "name": "stderr",
     "output_type": "stream",
     "text": [
      "Traceback (most recent call last):\n",
      "  File \"<ipython-input-3-90c0f4c34da6>\", line 32, in getStockInfo\n",
      "    soup = BeautifulSoup(html,'html.parser')\n",
      "  File \"C:\\anaconda\\lib\\site-packages\\bs4\\__init__.py\", line 245, in __init__\n",
      "    elif len(markup) <= 256 and (\n",
      "TypeError: object of type 'NoneType' has no len()\n"
     ]
    },
    {
     "name": "stdout",
     "output_type": "stream",
     "text": [
      "\n",
      "\r",
      "当前进度：10.56%\n"
     ]
    },
    {
     "name": "stderr",
     "output_type": "stream",
     "text": [
      "Traceback (most recent call last):\n",
      "  File \"<ipython-input-3-90c0f4c34da6>\", line 32, in getStockInfo\n",
      "    soup = BeautifulSoup(html,'html.parser')\n",
      "  File \"C:\\anaconda\\lib\\site-packages\\bs4\\__init__.py\", line 245, in __init__\n",
      "    elif len(markup) <= 256 and (\n",
      "TypeError: object of type 'NoneType' has no len()\n"
     ]
    },
    {
     "name": "stdout",
     "output_type": "stream",
     "text": [
      "当前进度：10.59%\n",
      "当前进度：10.61%\n",
      "\n",
      "当前进度：10.63%\n"
     ]
    },
    {
     "name": "stderr",
     "output_type": "stream",
     "text": [
      "Traceback (most recent call last):\n",
      "  File \"<ipython-input-3-90c0f4c34da6>\", line 32, in getStockInfo\n",
      "    soup = BeautifulSoup(html,'html.parser')\n",
      "  File \"C:\\anaconda\\lib\\site-packages\\bs4\\__init__.py\", line 245, in __init__\n",
      "    elif len(markup) <= 256 and (\n",
      "TypeError: object of type 'NoneType' has no len()\n"
     ]
    },
    {
     "name": "stdout",
     "output_type": "stream",
     "text": [
      "当前进度：10.65%\n",
      "当前进度：10.67%\n",
      "\n",
      "当前进度：10.69%\n"
     ]
    },
    {
     "name": "stderr",
     "output_type": "stream",
     "text": [
      "Traceback (most recent call last):\n",
      "  File \"<ipython-input-3-90c0f4c34da6>\", line 32, in getStockInfo\n",
      "    soup = BeautifulSoup(html,'html.parser')\n",
      "  File \"C:\\anaconda\\lib\\site-packages\\bs4\\__init__.py\", line 245, in __init__\n",
      "    elif len(markup) <= 256 and (\n",
      "TypeError: object of type 'NoneType' has no len()\n"
     ]
    },
    {
     "name": "stdout",
     "output_type": "stream",
     "text": [
      "当前进度：10.71%\n",
      "当前进度：10.73%\n",
      "当前进度：10.75%\n",
      "当前进度：10.77%\n"
     ]
    },
    {
     "name": "stderr",
     "output_type": "stream",
     "text": [
      "Traceback (most recent call last):\n",
      "  File \"<ipython-input-3-90c0f4c34da6>\", line 36, in getStockInfo\n",
      "    name = stockInfo.find_all(attrs={'class':'bets-name'})[0]# 根据find()返回结果，继续细分\n",
      "AttributeError: 'NoneType' object has no attribute 'find_all'\n"
     ]
    },
    {
     "name": "stdout",
     "output_type": "stream",
     "text": [
      "当前进度：10.79%\n",
      "当前进度：10.81%\n",
      "当前进度：10.83%\n",
      "当前进度：10.85%\n",
      "当前进度：10.87%\n",
      "当前进度：10.90%\n"
     ]
    },
    {
     "name": "stderr",
     "output_type": "stream",
     "text": [
      "Traceback (most recent call last):\n",
      "  File \"<ipython-input-3-90c0f4c34da6>\", line 36, in getStockInfo\n",
      "    name = stockInfo.find_all(attrs={'class':'bets-name'})[0]# 根据find()返回结果，继续细分\n",
      "AttributeError: 'NoneType' object has no attribute 'find_all'\n"
     ]
    },
    {
     "name": "stdout",
     "output_type": "stream",
     "text": [
      "当前进度：10.92%\n",
      "当前进度：10.94%\n",
      "当前进度：10.96%\n",
      "当前进度：10.98%\n",
      "当前进度：11.00%\n"
     ]
    },
    {
     "name": "stderr",
     "output_type": "stream",
     "text": [
      "Traceback (most recent call last):\n",
      "  File \"<ipython-input-3-90c0f4c34da6>\", line 36, in getStockInfo\n",
      "    name = stockInfo.find_all(attrs={'class':'bets-name'})[0]# 根据find()返回结果，继续细分\n",
      "AttributeError: 'NoneType' object has no attribute 'find_all'\n"
     ]
    },
    {
     "name": "stdout",
     "output_type": "stream",
     "text": [
      "当前进度：11.02%\n",
      "\n",
      "当前进度：11.04%\n"
     ]
    },
    {
     "name": "stderr",
     "output_type": "stream",
     "text": [
      "Traceback (most recent call last):\n",
      "  File \"<ipython-input-3-90c0f4c34da6>\", line 32, in getStockInfo\n",
      "    soup = BeautifulSoup(html,'html.parser')\n",
      "  File \"C:\\anaconda\\lib\\site-packages\\bs4\\__init__.py\", line 245, in __init__\n",
      "    elif len(markup) <= 256 and (\n",
      "TypeError: object of type 'NoneType' has no len()\n"
     ]
    },
    {
     "name": "stdout",
     "output_type": "stream",
     "text": [
      "当前进度：11.06%\n",
      "当前进度：11.08%\n",
      "当前进度：11.10%\n"
     ]
    },
    {
     "name": "stderr",
     "output_type": "stream",
     "text": [
      "Traceback (most recent call last):\n",
      "  File \"<ipython-input-3-90c0f4c34da6>\", line 36, in getStockInfo\n",
      "    name = stockInfo.find_all(attrs={'class':'bets-name'})[0]# 根据find()返回结果，继续细分\n",
      "AttributeError: 'NoneType' object has no attribute 'find_all'\n"
     ]
    },
    {
     "name": "stdout",
     "output_type": "stream",
     "text": [
      "当前进度：11.12%\n",
      "当前进度：11.14%\n",
      "当前进度：11.16%\n",
      "当前进度：11.18%\n",
      "当前进度：11.21%\n",
      "当前进度：11.23%\n",
      "当前进度：11.25%\n",
      "当前进度：11.27%\n",
      "当前进度：11.29%\n",
      "当前进度：11.31%\n",
      "当前进度：11.33%\n",
      "当前进度：11.35%\n",
      "\n",
      "当前进度：11.37%\n"
     ]
    },
    {
     "name": "stderr",
     "output_type": "stream",
     "text": [
      "Traceback (most recent call last):\n",
      "  File \"<ipython-input-3-90c0f4c34da6>\", line 32, in getStockInfo\n",
      "    soup = BeautifulSoup(html,'html.parser')\n",
      "  File \"C:\\anaconda\\lib\\site-packages\\bs4\\__init__.py\", line 245, in __init__\n",
      "    elif len(markup) <= 256 and (\n",
      "TypeError: object of type 'NoneType' has no len()\n",
      "Traceback (most recent call last):\n",
      "  File \"<ipython-input-3-90c0f4c34da6>\", line 36, in getStockInfo\n",
      "    name = stockInfo.find_all(attrs={'class':'bets-name'})[0]# 根据find()返回结果，继续细分\n",
      "AttributeError: 'NoneType' object has no attribute 'find_all'\n"
     ]
    },
    {
     "name": "stdout",
     "output_type": "stream",
     "text": [
      "当前进度：11.39%\n",
      "当前进度：11.41%\n",
      "当前进度：11.43%\n",
      "当前进度：11.45%\n",
      "当前进度：11.47%\n"
     ]
    },
    {
     "name": "stderr",
     "output_type": "stream",
     "text": [
      "Traceback (most recent call last):\n",
      "  File \"<ipython-input-3-90c0f4c34da6>\", line 36, in getStockInfo\n",
      "    name = stockInfo.find_all(attrs={'class':'bets-name'})[0]# 根据find()返回结果，继续细分\n",
      "AttributeError: 'NoneType' object has no attribute 'find_all'\n"
     ]
    },
    {
     "name": "stdout",
     "output_type": "stream",
     "text": [
      "当前进度：11.49%\n",
      "当前进度：11.52%\n",
      "\n",
      "当前进度：11.54%\n"
     ]
    },
    {
     "name": "stderr",
     "output_type": "stream",
     "text": [
      "Traceback (most recent call last):\n",
      "  File \"<ipython-input-3-90c0f4c34da6>\", line 32, in getStockInfo\n",
      "    soup = BeautifulSoup(html,'html.parser')\n",
      "  File \"C:\\anaconda\\lib\\site-packages\\bs4\\__init__.py\", line 245, in __init__\n",
      "    elif len(markup) <= 256 and (\n",
      "TypeError: object of type 'NoneType' has no len()\n"
     ]
    },
    {
     "name": "stdout",
     "output_type": "stream",
     "text": [
      "当前进度：11.56%\n",
      "当前进度：11.58%\n",
      "当前进度：11.60%\n",
      "当前进度：11.62%\n",
      "\n",
      "当前进度：11.64%\n"
     ]
    },
    {
     "name": "stderr",
     "output_type": "stream",
     "text": [
      "Traceback (most recent call last):\n",
      "  File \"<ipython-input-3-90c0f4c34da6>\", line 32, in getStockInfo\n",
      "    soup = BeautifulSoup(html,'html.parser')\n",
      "  File \"C:\\anaconda\\lib\\site-packages\\bs4\\__init__.py\", line 245, in __init__\n",
      "    elif len(markup) <= 256 and (\n",
      "TypeError: object of type 'NoneType' has no len()\n"
     ]
    },
    {
     "name": "stdout",
     "output_type": "stream",
     "text": [
      "当前进度：11.66%\n",
      "当前进度：11.68%\n",
      "当前进度：11.70%\n",
      "当前进度：11.72%\n",
      "当前进度：11.74%\n",
      "当前进度：11.76%\n",
      "当前进度：11.78%\n",
      "当前进度：11.80%\n",
      "当前进度：11.83%\n",
      "\n",
      "当前进度：11.85%\n"
     ]
    },
    {
     "name": "stderr",
     "output_type": "stream",
     "text": [
      "Traceback (most recent call last):\n",
      "  File \"<ipython-input-3-90c0f4c34da6>\", line 32, in getStockInfo\n",
      "    soup = BeautifulSoup(html,'html.parser')\n",
      "  File \"C:\\anaconda\\lib\\site-packages\\bs4\\__init__.py\", line 245, in __init__\n",
      "    elif len(markup) <= 256 and (\n",
      "TypeError: object of type 'NoneType' has no len()\n"
     ]
    },
    {
     "name": "stdout",
     "output_type": "stream",
     "text": [
      "\n",
      "\r",
      "当前进度：11.87%\n"
     ]
    },
    {
     "name": "stderr",
     "output_type": "stream",
     "text": [
      "Traceback (most recent call last):\n",
      "  File \"<ipython-input-3-90c0f4c34da6>\", line 32, in getStockInfo\n",
      "    soup = BeautifulSoup(html,'html.parser')\n",
      "  File \"C:\\anaconda\\lib\\site-packages\\bs4\\__init__.py\", line 245, in __init__\n",
      "    elif len(markup) <= 256 and (\n",
      "TypeError: object of type 'NoneType' has no len()\n",
      "Traceback (most recent call last):\n",
      "  File \"<ipython-input-3-90c0f4c34da6>\", line 36, in getStockInfo\n",
      "    name = stockInfo.find_all(attrs={'class':'bets-name'})[0]# 根据find()返回结果，继续细分\n",
      "AttributeError: 'NoneType' object has no attribute 'find_all'\n"
     ]
    },
    {
     "name": "stdout",
     "output_type": "stream",
     "text": [
      "当前进度：11.89%\n",
      "当前进度：11.91%\n",
      "当前进度：11.93%\n",
      "\n",
      "当前进度：11.95%\n"
     ]
    },
    {
     "name": "stderr",
     "output_type": "stream",
     "text": [
      "Traceback (most recent call last):\n",
      "  File \"<ipython-input-3-90c0f4c34da6>\", line 32, in getStockInfo\n",
      "    soup = BeautifulSoup(html,'html.parser')\n",
      "  File \"C:\\anaconda\\lib\\site-packages\\bs4\\__init__.py\", line 245, in __init__\n",
      "    elif len(markup) <= 256 and (\n",
      "TypeError: object of type 'NoneType' has no len()\n"
     ]
    },
    {
     "name": "stdout",
     "output_type": "stream",
     "text": [
      "\r",
      "当前进度：11.97%\n"
     ]
    },
    {
     "name": "stderr",
     "output_type": "stream",
     "text": [
      "Traceback (most recent call last):\n",
      "  File \"<ipython-input-3-90c0f4c34da6>\", line 36, in getStockInfo\n",
      "    name = stockInfo.find_all(attrs={'class':'bets-name'})[0]# 根据find()返回结果，继续细分\n",
      "AttributeError: 'NoneType' object has no attribute 'find_all'\n"
     ]
    },
    {
     "name": "stdout",
     "output_type": "stream",
     "text": [
      "当前进度：11.99%\n",
      "\n",
      "当前进度：12.01%\n"
     ]
    },
    {
     "name": "stderr",
     "output_type": "stream",
     "text": [
      "Traceback (most recent call last):\n",
      "  File \"<ipython-input-3-90c0f4c34da6>\", line 32, in getStockInfo\n",
      "    soup = BeautifulSoup(html,'html.parser')\n",
      "  File \"C:\\anaconda\\lib\\site-packages\\bs4\\__init__.py\", line 245, in __init__\n",
      "    elif len(markup) <= 256 and (\n",
      "TypeError: object of type 'NoneType' has no len()\n"
     ]
    },
    {
     "name": "stdout",
     "output_type": "stream",
     "text": [
      "\n",
      "\r",
      "当前进度：12.03%\n"
     ]
    },
    {
     "name": "stderr",
     "output_type": "stream",
     "text": [
      "Traceback (most recent call last):\n",
      "  File \"<ipython-input-3-90c0f4c34da6>\", line 32, in getStockInfo\n",
      "    soup = BeautifulSoup(html,'html.parser')\n",
      "  File \"C:\\anaconda\\lib\\site-packages\\bs4\\__init__.py\", line 245, in __init__\n",
      "    elif len(markup) <= 256 and (\n",
      "TypeError: object of type 'NoneType' has no len()\n"
     ]
    },
    {
     "name": "stdout",
     "output_type": "stream",
     "text": [
      "当前进度：12.05%\n",
      "当前进度：12.07%\n",
      "当前进度：12.09%\n",
      "当前进度：12.11%\n",
      "当前进度：12.14%\n",
      "\n",
      "当前进度：12.16%\n"
     ]
    },
    {
     "name": "stderr",
     "output_type": "stream",
     "text": [
      "Traceback (most recent call last):\n",
      "  File \"<ipython-input-3-90c0f4c34da6>\", line 32, in getStockInfo\n",
      "    soup = BeautifulSoup(html,'html.parser')\n",
      "  File \"C:\\anaconda\\lib\\site-packages\\bs4\\__init__.py\", line 245, in __init__\n",
      "    elif len(markup) <= 256 and (\n",
      "TypeError: object of type 'NoneType' has no len()\n"
     ]
    },
    {
     "name": "stdout",
     "output_type": "stream",
     "text": [
      "当前进度：12.18%\n",
      "当前进度：12.20%\n",
      "当前进度：12.22%\n",
      "\n",
      "当前进度：12.24%\n"
     ]
    },
    {
     "name": "stderr",
     "output_type": "stream",
     "text": [
      "Traceback (most recent call last):\n",
      "  File \"<ipython-input-3-90c0f4c34da6>\", line 32, in getStockInfo\n",
      "    soup = BeautifulSoup(html,'html.parser')\n",
      "  File \"C:\\anaconda\\lib\\site-packages\\bs4\\__init__.py\", line 245, in __init__\n",
      "    elif len(markup) <= 256 and (\n",
      "TypeError: object of type 'NoneType' has no len()\n"
     ]
    },
    {
     "name": "stdout",
     "output_type": "stream",
     "text": [
      "当前进度：12.26%\n",
      "\n",
      "当前进度：12.28%\n"
     ]
    },
    {
     "name": "stderr",
     "output_type": "stream",
     "text": [
      "Traceback (most recent call last):\n",
      "  File \"<ipython-input-3-90c0f4c34da6>\", line 32, in getStockInfo\n",
      "    soup = BeautifulSoup(html,'html.parser')\n",
      "  File \"C:\\anaconda\\lib\\site-packages\\bs4\\__init__.py\", line 245, in __init__\n",
      "    elif len(markup) <= 256 and (\n",
      "TypeError: object of type 'NoneType' has no len()\n"
     ]
    },
    {
     "name": "stdout",
     "output_type": "stream",
     "text": [
      "当前进度：12.30%\n",
      "当前进度：12.32%\n"
     ]
    },
    {
     "name": "stderr",
     "output_type": "stream",
     "text": [
      "Traceback (most recent call last):\n",
      "  File \"<ipython-input-3-90c0f4c34da6>\", line 36, in getStockInfo\n",
      "    name = stockInfo.find_all(attrs={'class':'bets-name'})[0]# 根据find()返回结果，继续细分\n",
      "AttributeError: 'NoneType' object has no attribute 'find_all'\n"
     ]
    },
    {
     "name": "stdout",
     "output_type": "stream",
     "text": [
      "当前进度：12.34%\n",
      "当前进度：12.36%\n",
      "\n",
      "当前进度：12.38%\n"
     ]
    },
    {
     "name": "stderr",
     "output_type": "stream",
     "text": [
      "Traceback (most recent call last):\n",
      "  File \"<ipython-input-3-90c0f4c34da6>\", line 32, in getStockInfo\n",
      "    soup = BeautifulSoup(html,'html.parser')\n",
      "  File \"C:\\anaconda\\lib\\site-packages\\bs4\\__init__.py\", line 245, in __init__\n",
      "    elif len(markup) <= 256 and (\n",
      "TypeError: object of type 'NoneType' has no len()\n"
     ]
    },
    {
     "name": "stdout",
     "output_type": "stream",
     "text": [
      "当前进度：12.40%\n",
      "当前进度：12.43%\n",
      "当前进度：12.45%\n",
      "当前进度：12.47%\n",
      "当前进度：12.49%\n",
      "当前进度：12.51%\n",
      "当前进度：12.53%\n",
      "当前进度：12.55%\n",
      "\n",
      "当前进度：12.57%\n"
     ]
    },
    {
     "name": "stderr",
     "output_type": "stream",
     "text": [
      "Traceback (most recent call last):\n",
      "  File \"<ipython-input-3-90c0f4c34da6>\", line 32, in getStockInfo\n",
      "    soup = BeautifulSoup(html,'html.parser')\n",
      "  File \"C:\\anaconda\\lib\\site-packages\\bs4\\__init__.py\", line 245, in __init__\n",
      "    elif len(markup) <= 256 and (\n",
      "TypeError: object of type 'NoneType' has no len()\n"
     ]
    },
    {
     "name": "stdout",
     "output_type": "stream",
     "text": [
      "当前进度：12.59%\n",
      "当前进度：12.61%\n",
      "当前进度：12.63%\n",
      "当前进度：12.65%\n",
      "\n",
      "当前进度：12.67%\n"
     ]
    },
    {
     "name": "stderr",
     "output_type": "stream",
     "text": [
      "Traceback (most recent call last):\n",
      "  File \"<ipython-input-3-90c0f4c34da6>\", line 32, in getStockInfo\n",
      "    soup = BeautifulSoup(html,'html.parser')\n",
      "  File \"C:\\anaconda\\lib\\site-packages\\bs4\\__init__.py\", line 245, in __init__\n",
      "    elif len(markup) <= 256 and (\n",
      "TypeError: object of type 'NoneType' has no len()\n"
     ]
    },
    {
     "name": "stdout",
     "output_type": "stream",
     "text": [
      "当前进度：12.69%\n",
      "当前进度：12.71%\n",
      "当前进度：12.74%\n",
      "当前进度：12.76%\n",
      "当前进度：12.78%\n",
      "当前进度：12.80%\n",
      "当前进度：12.82%\n",
      "当前进度：12.84%\n",
      "当前进度：12.86%\n",
      "当前进度：12.88%\n",
      "\n",
      "当前进度：12.90%\n"
     ]
    },
    {
     "name": "stderr",
     "output_type": "stream",
     "text": [
      "Traceback (most recent call last):\n",
      "  File \"<ipython-input-3-90c0f4c34da6>\", line 32, in getStockInfo\n",
      "    soup = BeautifulSoup(html,'html.parser')\n",
      "  File \"C:\\anaconda\\lib\\site-packages\\bs4\\__init__.py\", line 245, in __init__\n",
      "    elif len(markup) <= 256 and (\n",
      "TypeError: object of type 'NoneType' has no len()\n"
     ]
    },
    {
     "name": "stdout",
     "output_type": "stream",
     "text": [
      "当前进度：12.92%\n",
      "当前进度：12.94%\n",
      "当前进度：12.96%\n",
      "当前进度：12.98%\n",
      "当前进度：13.00%\n",
      "\n",
      "当前进度：13.02%\n"
     ]
    },
    {
     "name": "stderr",
     "output_type": "stream",
     "text": [
      "Traceback (most recent call last):\n",
      "  File \"<ipython-input-3-90c0f4c34da6>\", line 32, in getStockInfo\n",
      "    soup = BeautifulSoup(html,'html.parser')\n",
      "  File \"C:\\anaconda\\lib\\site-packages\\bs4\\__init__.py\", line 245, in __init__\n",
      "    elif len(markup) <= 256 and (\n",
      "TypeError: object of type 'NoneType' has no len()\n"
     ]
    },
    {
     "name": "stdout",
     "output_type": "stream",
     "text": [
      "当前进度：13.05%\n",
      "当前进度：13.07%\n",
      "\n",
      "当前进度：13.09%\n"
     ]
    },
    {
     "name": "stderr",
     "output_type": "stream",
     "text": [
      "Traceback (most recent call last):\n",
      "  File \"<ipython-input-3-90c0f4c34da6>\", line 32, in getStockInfo\n",
      "    soup = BeautifulSoup(html,'html.parser')\n",
      "  File \"C:\\anaconda\\lib\\site-packages\\bs4\\__init__.py\", line 245, in __init__\n",
      "    elif len(markup) <= 256 and (\n",
      "TypeError: object of type 'NoneType' has no len()\n"
     ]
    },
    {
     "name": "stdout",
     "output_type": "stream",
     "text": [
      "当前进度：13.11%\n",
      "当前进度：13.13%\n",
      "当前进度：13.15%\n",
      "当前进度：13.17%\n",
      "当前进度：13.19%\n",
      "当前进度：13.21%\n",
      "当前进度：13.23%\n"
     ]
    },
    {
     "name": "stderr",
     "output_type": "stream",
     "text": [
      "Traceback (most recent call last):\n",
      "  File \"<ipython-input-3-90c0f4c34da6>\", line 36, in getStockInfo\n",
      "    name = stockInfo.find_all(attrs={'class':'bets-name'})[0]# 根据find()返回结果，继续细分\n",
      "AttributeError: 'NoneType' object has no attribute 'find_all'\n"
     ]
    },
    {
     "name": "stdout",
     "output_type": "stream",
     "text": [
      "当前进度：13.25%\n",
      "当前进度：13.27%\n",
      "当前进度：13.29%\n",
      "\n",
      "当前进度：13.31%\n"
     ]
    },
    {
     "name": "stderr",
     "output_type": "stream",
     "text": [
      "Traceback (most recent call last):\n",
      "  File \"<ipython-input-3-90c0f4c34da6>\", line 32, in getStockInfo\n",
      "    soup = BeautifulSoup(html,'html.parser')\n",
      "  File \"C:\\anaconda\\lib\\site-packages\\bs4\\__init__.py\", line 245, in __init__\n",
      "    elif len(markup) <= 256 and (\n",
      "TypeError: object of type 'NoneType' has no len()\n"
     ]
    },
    {
     "name": "stdout",
     "output_type": "stream",
     "text": [
      "当前进度：13.33%\n",
      "\n",
      "当前进度：13.36%\n",
      "\n",
      "当前进度：13.38%\n",
      "\n",
      "当前进度：13.40%\n",
      "\n",
      "当前进度：13.42%\n",
      "\n",
      "当前进度：13.44%\n",
      "\n"
     ]
    },
    {
     "name": "stderr",
     "output_type": "stream",
     "text": [
      "Traceback (most recent call last):\n",
      "  File \"<ipython-input-3-90c0f4c34da6>\", line 32, in getStockInfo\n",
      "    soup = BeautifulSoup(html,'html.parser')\n",
      "  File \"C:\\anaconda\\lib\\site-packages\\bs4\\__init__.py\", line 245, in __init__\n",
      "    elif len(markup) <= 256 and (\n",
      "TypeError: object of type 'NoneType' has no len()\n",
      "Traceback (most recent call last):\n",
      "  File \"<ipython-input-3-90c0f4c34da6>\", line 32, in getStockInfo\n",
      "    soup = BeautifulSoup(html,'html.parser')\n",
      "  File \"C:\\anaconda\\lib\\site-packages\\bs4\\__init__.py\", line 245, in __init__\n",
      "    elif len(markup) <= 256 and (\n",
      "TypeError: object of type 'NoneType' has no len()\n",
      "Traceback (most recent call last):\n",
      "  File \"<ipython-input-3-90c0f4c34da6>\", line 32, in getStockInfo\n",
      "    soup = BeautifulSoup(html,'html.parser')\n",
      "  File \"C:\\anaconda\\lib\\site-packages\\bs4\\__init__.py\", line 245, in __init__\n",
      "    elif len(markup) <= 256 and (\n",
      "TypeError: object of type 'NoneType' has no len()\n",
      "Traceback (most recent call last):\n",
      "  File \"<ipython-input-3-90c0f4c34da6>\", line 32, in getStockInfo\n",
      "    soup = BeautifulSoup(html,'html.parser')\n",
      "  File \"C:\\anaconda\\lib\\site-packages\\bs4\\__init__.py\", line 245, in __init__\n",
      "    elif len(markup) <= 256 and (\n",
      "TypeError: object of type 'NoneType' has no len()\n",
      "Traceback (most recent call last):\n",
      "  File \"<ipython-input-3-90c0f4c34da6>\", line 32, in getStockInfo\n",
      "    soup = BeautifulSoup(html,'html.parser')\n",
      "  File \"C:\\anaconda\\lib\\site-packages\\bs4\\__init__.py\", line 245, in __init__\n",
      "    elif len(markup) <= 256 and (\n",
      "TypeError: object of type 'NoneType' has no len()\n",
      "Traceback (most recent call last):\n",
      "  File \"<ipython-input-3-90c0f4c34da6>\", line 32, in getStockInfo\n",
      "    soup = BeautifulSoup(html,'html.parser')\n",
      "  File \"C:\\anaconda\\lib\\site-packages\\bs4\\__init__.py\", line 245, in __init__\n",
      "    elif len(markup) <= 256 and (\n",
      "TypeError: object of type 'NoneType' has no len()\n",
      "Traceback (most recent call last):\n",
      "  File \"<ipython-input-3-90c0f4c34da6>\", line 32, in getStockInfo\n",
      "    soup = BeautifulSoup(html,'html.parser')\n"
     ]
    },
    {
     "name": "stdout",
     "output_type": "stream",
     "text": [
      "\r",
      "当前进度：13.46%\n",
      "\n",
      "\r",
      "当前进度：13.48%\n",
      "\n",
      "\r",
      "当前进度：13.50%\n",
      "\n",
      "\r",
      "当前进度：13.52%\n",
      "\n",
      "\r",
      "当前进度：13.54%\n",
      "\n",
      "\r",
      "当前进度：13.56%\n",
      "\n",
      "\r",
      "当前进度：13.58%\n",
      "\n",
      "\r",
      "当前进度：13.60%\n",
      "\n",
      "\r",
      "当前进度：13.62%\n",
      "\n"
     ]
    },
    {
     "name": "stderr",
     "output_type": "stream",
     "text": [
      "  File \"C:\\anaconda\\lib\\site-packages\\bs4\\__init__.py\", line 245, in __init__\n",
      "    elif len(markup) <= 256 and (\n",
      "TypeError: object of type 'NoneType' has no len()\n",
      "Traceback (most recent call last):\n",
      "  File \"<ipython-input-3-90c0f4c34da6>\", line 32, in getStockInfo\n",
      "    soup = BeautifulSoup(html,'html.parser')\n",
      "  File \"C:\\anaconda\\lib\\site-packages\\bs4\\__init__.py\", line 245, in __init__\n",
      "    elif len(markup) <= 256 and (\n",
      "TypeError: object of type 'NoneType' has no len()\n",
      "Traceback (most recent call last):\n",
      "  File \"<ipython-input-3-90c0f4c34da6>\", line 32, in getStockInfo\n",
      "    soup = BeautifulSoup(html,'html.parser')\n",
      "  File \"C:\\anaconda\\lib\\site-packages\\bs4\\__init__.py\", line 245, in __init__\n",
      "    elif len(markup) <= 256 and (\n",
      "TypeError: object of type 'NoneType' has no len()\n",
      "Traceback (most recent call last):\n",
      "  File \"<ipython-input-3-90c0f4c34da6>\", line 32, in getStockInfo\n",
      "    soup = BeautifulSoup(html,'html.parser')\n",
      "  File \"C:\\anaconda\\lib\\site-packages\\bs4\\__init__.py\", line 245, in __init__\n",
      "    elif len(markup) <= 256 and (\n",
      "TypeError: object of type 'NoneType' has no len()\n",
      "Traceback (most recent call last):\n",
      "  File \"<ipython-input-3-90c0f4c34da6>\", line 32, in getStockInfo\n",
      "    soup = BeautifulSoup(html,'html.parser')\n",
      "  File \"C:\\anaconda\\lib\\site-packages\\bs4\\__init__.py\", line 245, in __init__\n",
      "    elif len(markup) <= 256 and (\n",
      "TypeError: object of type 'NoneType' has no len()\n",
      "Traceback (most recent call last):\n",
      "  File \"<ipython-input-3-90c0f4c34da6>\", line 32, in getStockInfo\n",
      "    soup = BeautifulSoup(html,'html.parser')\n",
      "  File \"C:\\anaconda\\lib\\site-packages\\bs4\\__init__.py\", line 245, in __init__\n",
      "    elif len(markup) <= 256 and (\n",
      "TypeError: object of type 'NoneType' has no len()\n",
      "Traceback (most recent call last):\n",
      "  File \"<ipython-input-3-90c0f4c34da6>\", line 32, in getStockInfo\n",
      "    soup = BeautifulSoup(html,'html.parser')\n",
      "  File \"C:\\anaconda\\lib\\site-packages\\bs4\\__init__.py\", line 245, in __init__\n",
      "    elif len(markup) <= 256 and (\n",
      "TypeError: object of type 'NoneType' has no len()\n",
      "Traceback (most recent call last):\n",
      "  File \"<ipython-input-3-90c0f4c34da6>\", line 32, in getStockInfo\n",
      "    soup = BeautifulSoup(html,'html.parser')\n",
      "  File \"C:\\anaconda\\lib\\site-packages\\bs4\\__init__.py\", line 245, in __init__\n",
      "    elif len(markup) <= 256 and (\n",
      "TypeError: object of type 'NoneType' has no len()\n",
      "Traceback (most recent call last):\n",
      "  File \"<ipython-input-3-90c0f4c34da6>\", line 32, in getStockInfo\n",
      "    soup = BeautifulSoup(html,'html.parser')\n",
      "  File \"C:\\anaconda\\lib\\site-packages\\bs4\\__init__.py\", line 245, in __init__\n",
      "    elif len(markup) <= 256 and (\n",
      "TypeError: object of type 'NoneType' has no len()\n",
      "Traceback (most recent call last):\n",
      "  File \"<ipython-input-3-90c0f4c34da6>\", line 32, in getStockInfo\n",
      "    soup = BeautifulSoup(html,'html.parser')\n"
     ]
    },
    {
     "name": "stdout",
     "output_type": "stream",
     "text": [
      "\r",
      "当前进度：13.64%\n",
      "\n",
      "\r",
      "当前进度：13.67%\n",
      "\n",
      "\r",
      "当前进度：13.69%\n",
      "\n",
      "\r",
      "当前进度：13.71%\n",
      "\n",
      "\r",
      "当前进度：13.73%\n",
      "\n",
      "\r",
      "当前进度：13.75%\n",
      "\n",
      "\r",
      "当前进度：13.77%\n",
      "\n",
      "\r",
      "当前进度：13.79%\n",
      "\n",
      "\r",
      "当前进度：13.81%\n",
      "\n",
      "\r",
      "当前进度：13.83%\n",
      "\n",
      "\r",
      "当前进度：13.85%\n",
      "\n",
      "\r",
      "当前进度：13.87%\n",
      "\n",
      "\r",
      "当前进度：13.89%\n",
      "\n",
      "\r",
      "当前进度：13.91%\n",
      "\n",
      "\r",
      "当前进度：13.93%\n",
      "\n",
      "\r",
      "当前进度：13.95%\n",
      "\n",
      "\r",
      "当前进度：13.98%\n",
      "\n",
      "\r",
      "当前进度：14.00%\n",
      "\n",
      "\r",
      "当前进度：14.02%\n",
      "\n",
      "\r",
      "当前进度：14.04%\n",
      "\n",
      "\r",
      "当前进度：14.06%\n",
      "\n",
      "\r",
      "当前进度：14.08%\n",
      "\n",
      "\r",
      "当前进度：14.10%\n",
      "\n",
      "\r",
      "当前进度：14.12%\n",
      "\n",
      "\r",
      "当前进度：14.14%\n",
      "\n",
      "\r",
      "当前进度：14.16%\n",
      "\n",
      "\r",
      "当前进度：14.18%\n",
      "\n",
      "\r",
      "当前进度：14.20%\n",
      "\n",
      "\r",
      "当前进度：14.22%\n",
      "\n",
      "\r",
      "当前进度：14.24%\n",
      "\n",
      "\r",
      "当前进度：14.27%\n",
      "\n",
      "\r",
      "当前进度：14.29%\n",
      "\n",
      "\r",
      "当前进度：14.31%\n",
      "\n",
      "\r",
      "当前进度：14.33%\n",
      "\n",
      "\r",
      "当前进度：14.35%\n",
      "\n",
      "\r",
      "当前进度：14.37%\n",
      "\n",
      "\r",
      "当前进度：14.39%\n",
      "\n",
      "\r",
      "当前进度：14.41%\n",
      "\n",
      "\r",
      "当前进度：14.43%\n",
      "\n",
      "\r",
      "当前进度：14.45%\n",
      "\n",
      "\r",
      "当前进度：14.47%\n",
      "\n",
      "\r",
      "当前进度：14.49%\n"
     ]
    },
    {
     "name": "stderr",
     "output_type": "stream",
     "text": [
      "  File \"C:\\anaconda\\lib\\site-packages\\bs4\\__init__.py\", line 245, in __init__\n",
      "    elif len(markup) <= 256 and (\n",
      "TypeError: object of type 'NoneType' has no len()\n",
      "Traceback (most recent call last):\n",
      "  File \"<ipython-input-3-90c0f4c34da6>\", line 32, in getStockInfo\n",
      "    soup = BeautifulSoup(html,'html.parser')\n",
      "  File \"C:\\anaconda\\lib\\site-packages\\bs4\\__init__.py\", line 245, in __init__\n",
      "    elif len(markup) <= 256 and (\n",
      "TypeError: object of type 'NoneType' has no len()\n",
      "Traceback (most recent call last):\n",
      "  File \"<ipython-input-3-90c0f4c34da6>\", line 32, in getStockInfo\n",
      "    soup = BeautifulSoup(html,'html.parser')\n",
      "  File \"C:\\anaconda\\lib\\site-packages\\bs4\\__init__.py\", line 245, in __init__\n",
      "    elif len(markup) <= 256 and (\n",
      "TypeError: object of type 'NoneType' has no len()\n",
      "Traceback (most recent call last):\n",
      "  File \"<ipython-input-3-90c0f4c34da6>\", line 32, in getStockInfo\n",
      "    soup = BeautifulSoup(html,'html.parser')\n",
      "  File \"C:\\anaconda\\lib\\site-packages\\bs4\\__init__.py\", line 245, in __init__\n",
      "    elif len(markup) <= 256 and (\n",
      "TypeError: object of type 'NoneType' has no len()\n",
      "Traceback (most recent call last):\n",
      "  File \"<ipython-input-3-90c0f4c34da6>\", line 32, in getStockInfo\n",
      "    soup = BeautifulSoup(html,'html.parser')\n",
      "  File \"C:\\anaconda\\lib\\site-packages\\bs4\\__init__.py\", line 245, in __init__\n",
      "    elif len(markup) <= 256 and (\n",
      "TypeError: object of type 'NoneType' has no len()\n",
      "Traceback (most recent call last):\n",
      "  File \"<ipython-input-3-90c0f4c34da6>\", line 32, in getStockInfo\n",
      "    soup = BeautifulSoup(html,'html.parser')\n",
      "  File \"C:\\anaconda\\lib\\site-packages\\bs4\\__init__.py\", line 245, in __init__\n",
      "    elif len(markup) <= 256 and (\n",
      "TypeError: object of type 'NoneType' has no len()\n",
      "Traceback (most recent call last):\n",
      "  File \"<ipython-input-3-90c0f4c34da6>\", line 32, in getStockInfo\n",
      "    soup = BeautifulSoup(html,'html.parser')\n",
      "  File \"C:\\anaconda\\lib\\site-packages\\bs4\\__init__.py\", line 245, in __init__\n",
      "    elif len(markup) <= 256 and (\n",
      "TypeError: object of type 'NoneType' has no len()\n",
      "Traceback (most recent call last):\n",
      "  File \"<ipython-input-3-90c0f4c34da6>\", line 32, in getStockInfo\n",
      "    soup = BeautifulSoup(html,'html.parser')\n",
      "  File \"C:\\anaconda\\lib\\site-packages\\bs4\\__init__.py\", line 245, in __init__\n",
      "    elif len(markup) <= 256 and (\n",
      "TypeError: object of type 'NoneType' has no len()\n",
      "Traceback (most recent call last):\n",
      "  File \"<ipython-input-3-90c0f4c34da6>\", line 32, in getStockInfo\n",
      "    soup = BeautifulSoup(html,'html.parser')\n",
      "  File \"C:\\anaconda\\lib\\site-packages\\bs4\\__init__.py\", line 245, in __init__\n",
      "    elif len(markup) <= 256 and (\n",
      "TypeError: object of type 'NoneType' has no len()\n",
      "Traceback (most recent call last):\n",
      "  File \"<ipython-input-3-90c0f4c34da6>\", line 32, in getStockInfo\n",
      "    soup = BeautifulSoup(html,'html.parser')\n",
      "  File \"C:\\anaconda\\lib\\site-packages\\bs4\\__init__.py\", line 245, in __init__\n",
      "    elif len(markup) <= 256 and (\n",
      "TypeError: object of type 'NoneType' has no len()\n",
      "Traceback (most recent call last):\n",
      "  File \"<ipython-input-3-90c0f4c34da6>\", line 32, in getStockInfo\n",
      "    soup = BeautifulSoup(html,'html.parser')\n",
      "  File \"C:\\anaconda\\lib\\site-packages\\bs4\\__init__.py\", line 245, in __init__\n",
      "    elif len(markup) <= 256 and (\n",
      "TypeError: object of type 'NoneType' has no len()\n",
      "Traceback (most recent call last):\n",
      "  File \"<ipython-input-3-90c0f4c34da6>\", line 32, in getStockInfo\n",
      "    soup = BeautifulSoup(html,'html.parser')\n",
      "  File \"C:\\anaconda\\lib\\site-packages\\bs4\\__init__.py\", line 245, in __init__\n",
      "    elif len(markup) <= 256 and (\n",
      "TypeError: object of type 'NoneType' has no len()\n",
      "Traceback (most recent call last):\n",
      "  File \"<ipython-input-3-90c0f4c34da6>\", line 32, in getStockInfo\n",
      "    soup = BeautifulSoup(html,'html.parser')\n",
      "  File \"C:\\anaconda\\lib\\site-packages\\bs4\\__init__.py\", line 245, in __init__\n",
      "    elif len(markup) <= 256 and (\n",
      "TypeError: object of type 'NoneType' has no len()\n",
      "Traceback (most recent call last):\n",
      "  File \"<ipython-input-3-90c0f4c34da6>\", line 32, in getStockInfo\n",
      "    soup = BeautifulSoup(html,'html.parser')\n",
      "  File \"C:\\anaconda\\lib\\site-packages\\bs4\\__init__.py\", line 245, in __init__\n",
      "    elif len(markup) <= 256 and (\n",
      "TypeError: object of type 'NoneType' has no len()\n",
      "Traceback (most recent call last):\n",
      "  File \"<ipython-input-3-90c0f4c34da6>\", line 32, in getStockInfo\n",
      "    soup = BeautifulSoup(html,'html.parser')\n",
      "  File \"C:\\anaconda\\lib\\site-packages\\bs4\\__init__.py\", line 245, in __init__\n",
      "    elif len(markup) <= 256 and (\n",
      "TypeError: object of type 'NoneType' has no len()\n",
      "Traceback (most recent call last):\n",
      "  File \"<ipython-input-3-90c0f4c34da6>\", line 32, in getStockInfo\n",
      "    soup = BeautifulSoup(html,'html.parser')\n",
      "  File \"C:\\anaconda\\lib\\site-packages\\bs4\\__init__.py\", line 245, in __init__\n",
      "    elif len(markup) <= 256 and (\n",
      "TypeError: object of type 'NoneType' has no len()\n",
      "Traceback (most recent call last):\n",
      "  File \"<ipython-input-3-90c0f4c34da6>\", line 32, in getStockInfo\n",
      "    soup = BeautifulSoup(html,'html.parser')\n",
      "  File \"C:\\anaconda\\lib\\site-packages\\bs4\\__init__.py\", line 245, in __init__\n",
      "    elif len(markup) <= 256 and (\n",
      "TypeError: object of type 'NoneType' has no len()\n",
      "Traceback (most recent call last):\n",
      "  File \"<ipython-input-3-90c0f4c34da6>\", line 32, in getStockInfo\n",
      "    soup = BeautifulSoup(html,'html.parser')\n",
      "  File \"C:\\anaconda\\lib\\site-packages\\bs4\\__init__.py\", line 245, in __init__\n",
      "    elif len(markup) <= 256 and (\n",
      "TypeError: object of type 'NoneType' has no len()\n",
      "Traceback (most recent call last):\n",
      "  File \"<ipython-input-3-90c0f4c34da6>\", line 32, in getStockInfo\n",
      "    soup = BeautifulSoup(html,'html.parser')\n",
      "  File \"C:\\anaconda\\lib\\site-packages\\bs4\\__init__.py\", line 245, in __init__\n",
      "    elif len(markup) <= 256 and (\n",
      "TypeError: object of type 'NoneType' has no len()\n",
      "Traceback (most recent call last):\n",
      "  File \"<ipython-input-3-90c0f4c34da6>\", line 32, in getStockInfo\n",
      "    soup = BeautifulSoup(html,'html.parser')\n",
      "  File \"C:\\anaconda\\lib\\site-packages\\bs4\\__init__.py\", line 245, in __init__\n",
      "    elif len(markup) <= 256 and (\n",
      "TypeError: object of type 'NoneType' has no len()\n",
      "Traceback (most recent call last):\n",
      "  File \"<ipython-input-3-90c0f4c34da6>\", line 32, in getStockInfo\n",
      "    soup = BeautifulSoup(html,'html.parser')\n",
      "  File \"C:\\anaconda\\lib\\site-packages\\bs4\\__init__.py\", line 245, in __init__\n",
      "    elif len(markup) <= 256 and (\n",
      "TypeError: object of type 'NoneType' has no len()\n",
      "Traceback (most recent call last):\n",
      "  File \"<ipython-input-3-90c0f4c34da6>\", line 32, in getStockInfo\n",
      "    soup = BeautifulSoup(html,'html.parser')\n",
      "  File \"C:\\anaconda\\lib\\site-packages\\bs4\\__init__.py\", line 245, in __init__\n",
      "    elif len(markup) <= 256 and (\n",
      "TypeError: object of type 'NoneType' has no len()\n",
      "Traceback (most recent call last):\n",
      "  File \"<ipython-input-3-90c0f4c34da6>\", line 32, in getStockInfo\n",
      "    soup = BeautifulSoup(html,'html.parser')\n",
      "  File \"C:\\anaconda\\lib\\site-packages\\bs4\\__init__.py\", line 245, in __init__\n",
      "    elif len(markup) <= 256 and (\n",
      "TypeError: object of type 'NoneType' has no len()\n",
      "Traceback (most recent call last):\n",
      "  File \"<ipython-input-3-90c0f4c34da6>\", line 32, in getStockInfo\n",
      "    soup = BeautifulSoup(html,'html.parser')\n",
      "  File \"C:\\anaconda\\lib\\site-packages\\bs4\\__init__.py\", line 245, in __init__\n",
      "    elif len(markup) <= 256 and (\n",
      "TypeError: object of type 'NoneType' has no len()\n",
      "Traceback (most recent call last):\n",
      "  File \"<ipython-input-3-90c0f4c34da6>\", line 32, in getStockInfo\n",
      "    soup = BeautifulSoup(html,'html.parser')\n",
      "  File \"C:\\anaconda\\lib\\site-packages\\bs4\\__init__.py\", line 245, in __init__\n",
      "    elif len(markup) <= 256 and (\n",
      "TypeError: object of type 'NoneType' has no len()\n",
      "Traceback (most recent call last):\n",
      "  File \"<ipython-input-3-90c0f4c34da6>\", line 32, in getStockInfo\n",
      "    soup = BeautifulSoup(html,'html.parser')\n",
      "  File \"C:\\anaconda\\lib\\site-packages\\bs4\\__init__.py\", line 245, in __init__\n",
      "    elif len(markup) <= 256 and (\n",
      "TypeError: object of type 'NoneType' has no len()\n",
      "Traceback (most recent call last):\n",
      "  File \"<ipython-input-3-90c0f4c34da6>\", line 32, in getStockInfo\n",
      "    soup = BeautifulSoup(html,'html.parser')\n",
      "  File \"C:\\anaconda\\lib\\site-packages\\bs4\\__init__.py\", line 245, in __init__\n",
      "    elif len(markup) <= 256 and (\n",
      "TypeError: object of type 'NoneType' has no len()\n",
      "Traceback (most recent call last):\n",
      "  File \"<ipython-input-3-90c0f4c34da6>\", line 32, in getStockInfo\n",
      "    soup = BeautifulSoup(html,'html.parser')\n",
      "  File \"C:\\anaconda\\lib\\site-packages\\bs4\\__init__.py\", line 245, in __init__\n",
      "    elif len(markup) <= 256 and (\n",
      "TypeError: object of type 'NoneType' has no len()\n",
      "Traceback (most recent call last):\n",
      "  File \"<ipython-input-3-90c0f4c34da6>\", line 32, in getStockInfo\n",
      "    soup = BeautifulSoup(html,'html.parser')\n",
      "  File \"C:\\anaconda\\lib\\site-packages\\bs4\\__init__.py\", line 245, in __init__\n",
      "    elif len(markup) <= 256 and (\n",
      "TypeError: object of type 'NoneType' has no len()\n",
      "Traceback (most recent call last):\n",
      "  File \"<ipython-input-3-90c0f4c34da6>\", line 32, in getStockInfo\n",
      "    soup = BeautifulSoup(html,'html.parser')\n",
      "  File \"C:\\anaconda\\lib\\site-packages\\bs4\\__init__.py\", line 245, in __init__\n",
      "    elif len(markup) <= 256 and (\n",
      "TypeError: object of type 'NoneType' has no len()\n",
      "Traceback (most recent call last):\n",
      "  File \"<ipython-input-3-90c0f4c34da6>\", line 32, in getStockInfo\n",
      "    soup = BeautifulSoup(html,'html.parser')\n",
      "  File \"C:\\anaconda\\lib\\site-packages\\bs4\\__init__.py\", line 245, in __init__\n",
      "    elif len(markup) <= 256 and (\n",
      "TypeError: object of type 'NoneType' has no len()\n",
      "Traceback (most recent call last):\n",
      "  File \"<ipython-input-3-90c0f4c34da6>\", line 32, in getStockInfo\n",
      "    soup = BeautifulSoup(html,'html.parser')\n",
      "  File \"C:\\anaconda\\lib\\site-packages\\bs4\\__init__.py\", line 245, in __init__\n",
      "    elif len(markup) <= 256 and (\n",
      "TypeError: object of type 'NoneType' has no len()\n",
      "Traceback (most recent call last):\n",
      "  File \"<ipython-input-3-90c0f4c34da6>\", line 32, in getStockInfo\n",
      "    soup = BeautifulSoup(html,'html.parser')\n",
      "  File \"C:\\anaconda\\lib\\site-packages\\bs4\\__init__.py\", line 245, in __init__\n",
      "    elif len(markup) <= 256 and (\n",
      "TypeError: object of type 'NoneType' has no len()\n",
      "Traceback (most recent call last):\n",
      "  File \"<ipython-input-3-90c0f4c34da6>\", line 32, in getStockInfo\n",
      "    soup = BeautifulSoup(html,'html.parser')\n",
      "  File \"C:\\anaconda\\lib\\site-packages\\bs4\\__init__.py\", line 245, in __init__\n",
      "    elif len(markup) <= 256 and (\n",
      "TypeError: object of type 'NoneType' has no len()\n",
      "Traceback (most recent call last):\n",
      "  File \"<ipython-input-3-90c0f4c34da6>\", line 32, in getStockInfo\n",
      "    soup = BeautifulSoup(html,'html.parser')\n",
      "  File \"C:\\anaconda\\lib\\site-packages\\bs4\\__init__.py\", line 245, in __init__\n",
      "    elif len(markup) <= 256 and (\n",
      "TypeError: object of type 'NoneType' has no len()\n",
      "Traceback (most recent call last):\n",
      "  File \"<ipython-input-3-90c0f4c34da6>\", line 32, in getStockInfo\n",
      "    soup = BeautifulSoup(html,'html.parser')\n",
      "  File \"C:\\anaconda\\lib\\site-packages\\bs4\\__init__.py\", line 245, in __init__\n",
      "    elif len(markup) <= 256 and (\n",
      "TypeError: object of type 'NoneType' has no len()\n",
      "Traceback (most recent call last):\n",
      "  File \"<ipython-input-3-90c0f4c34da6>\", line 32, in getStockInfo\n",
      "    soup = BeautifulSoup(html,'html.parser')\n",
      "  File \"C:\\anaconda\\lib\\site-packages\\bs4\\__init__.py\", line 245, in __init__\n",
      "    elif len(markup) <= 256 and (\n",
      "TypeError: object of type 'NoneType' has no len()\n",
      "Traceback (most recent call last):\n",
      "  File \"<ipython-input-3-90c0f4c34da6>\", line 32, in getStockInfo\n",
      "    soup = BeautifulSoup(html,'html.parser')\n",
      "  File \"C:\\anaconda\\lib\\site-packages\\bs4\\__init__.py\", line 245, in __init__\n",
      "    elif len(markup) <= 256 and (\n",
      "TypeError: object of type 'NoneType' has no len()\n",
      "Traceback (most recent call last):\n",
      "  File \"<ipython-input-3-90c0f4c34da6>\", line 32, in getStockInfo\n",
      "    soup = BeautifulSoup(html,'html.parser')\n",
      "  File \"C:\\anaconda\\lib\\site-packages\\bs4\\__init__.py\", line 245, in __init__\n",
      "    elif len(markup) <= 256 and (\n",
      "TypeError: object of type 'NoneType' has no len()\n",
      "Traceback (most recent call last):\n",
      "  File \"<ipython-input-3-90c0f4c34da6>\", line 32, in getStockInfo\n",
      "    soup = BeautifulSoup(html,'html.parser')\n",
      "  File \"C:\\anaconda\\lib\\site-packages\\bs4\\__init__.py\", line 245, in __init__\n",
      "    elif len(markup) <= 256 and (\n",
      "TypeError: object of type 'NoneType' has no len()\n",
      "Traceback (most recent call last):\n",
      "  File \"<ipython-input-3-90c0f4c34da6>\", line 32, in getStockInfo\n",
      "    soup = BeautifulSoup(html,'html.parser')\n",
      "  File \"C:\\anaconda\\lib\\site-packages\\bs4\\__init__.py\", line 245, in __init__\n",
      "    elif len(markup) <= 256 and (\n",
      "TypeError: object of type 'NoneType' has no len()\n",
      "Traceback (most recent call last):\n",
      "  File \"<ipython-input-3-90c0f4c34da6>\", line 32, in getStockInfo\n",
      "    soup = BeautifulSoup(html,'html.parser')\n",
      "  File \"C:\\anaconda\\lib\\site-packages\\bs4\\__init__.py\", line 245, in __init__\n",
      "    elif len(markup) <= 256 and (\n",
      "TypeError: object of type 'NoneType' has no len()\n"
     ]
    },
    {
     "name": "stdout",
     "output_type": "stream",
     "text": [
      "\n",
      "\r",
      "当前进度：14.51%\n",
      "\n",
      "\r",
      "当前进度：14.53%\n",
      "\n",
      "\r",
      "当前进度：14.55%\n",
      "\n",
      "\r",
      "当前进度：14.58%\n",
      "\n",
      "\r",
      "当前进度：14.60%\n",
      "\n",
      "\r",
      "当前进度：14.62%\n",
      "\n",
      "\r",
      "当前进度：14.64%\n",
      "\n",
      "\r",
      "当前进度：14.66%\n",
      "\n",
      "\r",
      "当前进度：14.68%\n",
      "\n",
      "\r",
      "当前进度：14.70%\n",
      "\n",
      "\r",
      "当前进度：14.72%\n",
      "\n",
      "\r",
      "当前进度：14.74%\n",
      "\n",
      "\r",
      "当前进度：14.76%\n"
     ]
    },
    {
     "name": "stderr",
     "output_type": "stream",
     "text": [
      "Traceback (most recent call last):\n",
      "  File \"<ipython-input-3-90c0f4c34da6>\", line 32, in getStockInfo\n",
      "    soup = BeautifulSoup(html,'html.parser')\n",
      "  File \"C:\\anaconda\\lib\\site-packages\\bs4\\__init__.py\", line 245, in __init__\n",
      "    elif len(markup) <= 256 and (\n",
      "TypeError: object of type 'NoneType' has no len()\n",
      "Traceback (most recent call last):\n",
      "  File \"<ipython-input-3-90c0f4c34da6>\", line 32, in getStockInfo\n",
      "    soup = BeautifulSoup(html,'html.parser')\n",
      "  File \"C:\\anaconda\\lib\\site-packages\\bs4\\__init__.py\", line 245, in __init__\n",
      "    elif len(markup) <= 256 and (\n",
      "TypeError: object of type 'NoneType' has no len()\n",
      "Traceback (most recent call last):\n",
      "  File \"<ipython-input-3-90c0f4c34da6>\", line 32, in getStockInfo\n",
      "    soup = BeautifulSoup(html,'html.parser')\n",
      "  File \"C:\\anaconda\\lib\\site-packages\\bs4\\__init__.py\", line 245, in __init__\n",
      "    elif len(markup) <= 256 and (\n",
      "TypeError: object of type 'NoneType' has no len()\n",
      "Traceback (most recent call last):\n",
      "  File \"<ipython-input-3-90c0f4c34da6>\", line 32, in getStockInfo\n",
      "    soup = BeautifulSoup(html,'html.parser')\n",
      "  File \"C:\\anaconda\\lib\\site-packages\\bs4\\__init__.py\", line 245, in __init__\n",
      "    elif len(markup) <= 256 and (\n",
      "TypeError: object of type 'NoneType' has no len()\n",
      "Traceback (most recent call last):\n",
      "  File \"<ipython-input-3-90c0f4c34da6>\", line 32, in getStockInfo\n",
      "    soup = BeautifulSoup(html,'html.parser')\n",
      "  File \"C:\\anaconda\\lib\\site-packages\\bs4\\__init__.py\", line 245, in __init__\n",
      "    elif len(markup) <= 256 and (\n",
      "TypeError: object of type 'NoneType' has no len()\n",
      "Traceback (most recent call last):\n",
      "  File \"<ipython-input-3-90c0f4c34da6>\", line 32, in getStockInfo\n",
      "    soup = BeautifulSoup(html,'html.parser')\n",
      "  File \"C:\\anaconda\\lib\\site-packages\\bs4\\__init__.py\", line 245, in __init__\n",
      "    elif len(markup) <= 256 and (\n",
      "TypeError: object of type 'NoneType' has no len()\n",
      "Traceback (most recent call last):\n",
      "  File \"<ipython-input-3-90c0f4c34da6>\", line 32, in getStockInfo\n",
      "    soup = BeautifulSoup(html,'html.parser')\n",
      "  File \"C:\\anaconda\\lib\\site-packages\\bs4\\__init__.py\", line 245, in __init__\n",
      "    elif len(markup) <= 256 and (\n",
      "TypeError: object of type 'NoneType' has no len()\n",
      "Traceback (most recent call last):\n",
      "  File \"<ipython-input-3-90c0f4c34da6>\", line 32, in getStockInfo\n",
      "    soup = BeautifulSoup(html,'html.parser')\n",
      "  File \"C:\\anaconda\\lib\\site-packages\\bs4\\__init__.py\", line 245, in __init__\n",
      "    elif len(markup) <= 256 and (\n",
      "TypeError: object of type 'NoneType' has no len()\n",
      "Traceback (most recent call last):\n",
      "  File \"<ipython-input-3-90c0f4c34da6>\", line 32, in getStockInfo\n",
      "    soup = BeautifulSoup(html,'html.parser')\n",
      "  File \"C:\\anaconda\\lib\\site-packages\\bs4\\__init__.py\", line 245, in __init__\n",
      "    elif len(markup) <= 256 and (\n",
      "TypeError: object of type 'NoneType' has no len()\n",
      "Traceback (most recent call last):\n",
      "  File \"<ipython-input-3-90c0f4c34da6>\", line 32, in getStockInfo\n",
      "    soup = BeautifulSoup(html,'html.parser')\n",
      "  File \"C:\\anaconda\\lib\\site-packages\\bs4\\__init__.py\", line 245, in __init__\n",
      "    elif len(markup) <= 256 and (\n",
      "TypeError: object of type 'NoneType' has no len()\n",
      "Traceback (most recent call last):\n",
      "  File \"<ipython-input-3-90c0f4c34da6>\", line 32, in getStockInfo\n",
      "    soup = BeautifulSoup(html,'html.parser')\n",
      "  File \"C:\\anaconda\\lib\\site-packages\\bs4\\__init__.py\", line 245, in __init__\n",
      "    elif len(markup) <= 256 and (\n",
      "TypeError: object of type 'NoneType' has no len()\n",
      "Traceback (most recent call last):\n",
      "  File \"<ipython-input-3-90c0f4c34da6>\", line 32, in getStockInfo\n",
      "    soup = BeautifulSoup(html,'html.parser')\n",
      "  File \"C:\\anaconda\\lib\\site-packages\\bs4\\__init__.py\", line 245, in __init__\n",
      "    elif len(markup) <= 256 and (\n",
      "TypeError: object of type 'NoneType' has no len()\n"
     ]
    },
    {
     "name": "stdout",
     "output_type": "stream",
     "text": [
      "\n",
      "\r",
      "当前进度：14.78%\n",
      "\n",
      "\r",
      "当前进度：14.80%\n",
      "\n",
      "\r",
      "当前进度：14.82%\n",
      "\n",
      "\r",
      "当前进度：14.84%\n",
      "\n",
      "\r",
      "当前进度：14.86%\n",
      "\n",
      "\r",
      "当前进度：14.89%\n",
      "\n",
      "\r",
      "当前进度：14.91%\n",
      "\n",
      "\r",
      "当前进度：14.93%\n",
      "\n",
      "\r",
      "当前进度：14.95%\n",
      "\n"
     ]
    },
    {
     "name": "stderr",
     "output_type": "stream",
     "text": [
      "Traceback (most recent call last):\n",
      "  File \"<ipython-input-3-90c0f4c34da6>\", line 32, in getStockInfo\n",
      "    soup = BeautifulSoup(html,'html.parser')\n",
      "  File \"C:\\anaconda\\lib\\site-packages\\bs4\\__init__.py\", line 245, in __init__\n",
      "    elif len(markup) <= 256 and (\n",
      "TypeError: object of type 'NoneType' has no len()\n",
      "Traceback (most recent call last):\n",
      "  File \"<ipython-input-3-90c0f4c34da6>\", line 32, in getStockInfo\n",
      "    soup = BeautifulSoup(html,'html.parser')\n",
      "  File \"C:\\anaconda\\lib\\site-packages\\bs4\\__init__.py\", line 245, in __init__\n",
      "    elif len(markup) <= 256 and (\n",
      "TypeError: object of type 'NoneType' has no len()\n",
      "Traceback (most recent call last):\n",
      "  File \"<ipython-input-3-90c0f4c34da6>\", line 32, in getStockInfo\n",
      "    soup = BeautifulSoup(html,'html.parser')\n",
      "  File \"C:\\anaconda\\lib\\site-packages\\bs4\\__init__.py\", line 245, in __init__\n",
      "    elif len(markup) <= 256 and (\n",
      "TypeError: object of type 'NoneType' has no len()\n",
      "Traceback (most recent call last):\n",
      "  File \"<ipython-input-3-90c0f4c34da6>\", line 32, in getStockInfo\n",
      "    soup = BeautifulSoup(html,'html.parser')\n",
      "  File \"C:\\anaconda\\lib\\site-packages\\bs4\\__init__.py\", line 245, in __init__\n",
      "    elif len(markup) <= 256 and (\n",
      "TypeError: object of type 'NoneType' has no len()\n",
      "Traceback (most recent call last):\n",
      "  File \"<ipython-input-3-90c0f4c34da6>\", line 32, in getStockInfo\n",
      "    soup = BeautifulSoup(html,'html.parser')\n",
      "  File \"C:\\anaconda\\lib\\site-packages\\bs4\\__init__.py\", line 245, in __init__\n",
      "    elif len(markup) <= 256 and (\n",
      "TypeError: object of type 'NoneType' has no len()\n",
      "Traceback (most recent call last):\n",
      "  File \"<ipython-input-3-90c0f4c34da6>\", line 32, in getStockInfo\n",
      "    soup = BeautifulSoup(html,'html.parser')\n",
      "  File \"C:\\anaconda\\lib\\site-packages\\bs4\\__init__.py\", line 245, in __init__\n",
      "    elif len(markup) <= 256 and (\n",
      "TypeError: object of type 'NoneType' has no len()\n",
      "Traceback (most recent call last):\n",
      "  File \"<ipython-input-3-90c0f4c34da6>\", line 32, in getStockInfo\n",
      "    soup = BeautifulSoup(html,'html.parser')\n",
      "  File \"C:\\anaconda\\lib\\site-packages\\bs4\\__init__.py\", line 245, in __init__\n",
      "    elif len(markup) <= 256 and (\n",
      "TypeError: object of type 'NoneType' has no len()\n",
      "Traceback (most recent call last):\n",
      "  File \"<ipython-input-3-90c0f4c34da6>\", line 32, in getStockInfo\n",
      "    soup = BeautifulSoup(html,'html.parser')\n",
      "  File \"C:\\anaconda\\lib\\site-packages\\bs4\\__init__.py\", line 245, in __init__\n",
      "    elif len(markup) <= 256 and (\n",
      "TypeError: object of type 'NoneType' has no len()\n",
      "Traceback (most recent call last):\n",
      "  File \"<ipython-input-3-90c0f4c34da6>\", line 32, in getStockInfo\n",
      "    soup = BeautifulSoup(html,'html.parser')\n",
      "  File \"C:\\anaconda\\lib\\site-packages\\bs4\\__init__.py\", line 245, in __init__\n",
      "    elif len(markup) <= 256 and (\n",
      "TypeError: object of type 'NoneType' has no len()\n",
      "Traceback (most recent call last):\n",
      "  File \"<ipython-input-3-90c0f4c34da6>\", line 32, in getStockInfo\n",
      "    soup = BeautifulSoup(html,'html.parser')\n",
      "  File \"C:\\anaconda\\lib\\site-packages\\bs4\\__init__.py\", line 245, in __init__\n",
      "    elif len(markup) <= 256 and (\n",
      "TypeError: object of type 'NoneType' has no len()\n",
      "Traceback (most recent call last):\n",
      "  File \"<ipython-input-3-90c0f4c34da6>\", line 32, in getStockInfo\n",
      "    soup = BeautifulSoup(html,'html.parser')\n",
      "  File \"C:\\anaconda\\lib\\site-packages\\bs4\\__init__.py\", line 245, in __init__\n",
      "    elif len(markup) <= 256 and (\n",
      "TypeError: object of type 'NoneType' has no len()\n",
      "Traceback (most recent call last):\n",
      "  File \"<ipython-input-3-90c0f4c34da6>\", line 32, in getStockInfo\n",
      "    soup = BeautifulSoup(html,'html.parser')\n",
      "  File \"C:\\anaconda\\lib\\site-packages\\bs4\\__init__.py\", line 245, in __init__\n",
      "    elif len(markup) <= 256 and (\n",
      "TypeError: object of type 'NoneType' has no len()\n",
      "Traceback (most recent call last):\n",
      "  File \"<ipython-input-3-90c0f4c34da6>\", line 32, in getStockInfo\n",
      "    soup = BeautifulSoup(html,'html.parser')\n",
      "  File \"C:\\anaconda\\lib\\site-packages\\bs4\\__init__.py\", line 245, in __init__\n",
      "    elif len(markup) <= 256 and (\n",
      "TypeError: object of type 'NoneType' has no len()\n",
      "Traceback (most recent call last):\n",
      "  File \"<ipython-input-3-90c0f4c34da6>\", line 32, in getStockInfo\n",
      "    soup = BeautifulSoup(html,'html.parser')\n",
      "  File \"C:\\anaconda\\lib\\site-packages\\bs4\\__init__.py\", line 245, in __init__\n",
      "    elif len(markup) <= 256 and (\n",
      "TypeError: object of type 'NoneType' has no len()\n",
      "Traceback (most recent call last):\n",
      "  File \"<ipython-input-3-90c0f4c34da6>\", line 32, in getStockInfo\n",
      "    soup = BeautifulSoup(html,'html.parser')\n",
      "  File \"C:\\anaconda\\lib\\site-packages\\bs4\\__init__.py\", line 245, in __init__\n",
      "    elif len(markup) <= 256 and (\n",
      "TypeError: object of type 'NoneType' has no len()\n",
      "Traceback (most recent call last):\n",
      "  File \"<ipython-input-3-90c0f4c34da6>\", line 32, in getStockInfo\n",
      "    soup = BeautifulSoup(html,'html.parser')\n",
      "  File \"C:\\anaconda\\lib\\site-packages\\bs4\\__init__.py\", line 245, in __init__\n",
      "    elif len(markup) <= 256 and (\n",
      "TypeError: object of type 'NoneType' has no len()\n",
      "Traceback (most recent call last):\n",
      "  File \"<ipython-input-3-90c0f4c34da6>\", line 32, in getStockInfo\n",
      "    soup = BeautifulSoup(html,'html.parser')\n",
      "  File \"C:\\anaconda\\lib\\site-packages\\bs4\\__init__.py\", line 245, in __init__\n",
      "    elif len(markup) <= 256 and (\n",
      "TypeError: object of type 'NoneType' has no len()\n",
      "Traceback (most recent call last):\n",
      "  File \"<ipython-input-3-90c0f4c34da6>\", line 32, in getStockInfo\n",
      "    soup = BeautifulSoup(html,'html.parser')\n",
      "  File \"C:\\anaconda\\lib\\site-packages\\bs4\\__init__.py\", line 245, in __init__\n",
      "    elif len(markup) <= 256 and (\n",
      "TypeError: object of type 'NoneType' has no len()\n",
      "Traceback (most recent call last):\n",
      "  File \"<ipython-input-3-90c0f4c34da6>\", line 32, in getStockInfo\n",
      "    soup = BeautifulSoup(html,'html.parser')\n",
      "  File \"C:\\anaconda\\lib\\site-packages\\bs4\\__init__.py\", line 245, in __init__\n",
      "    elif len(markup) <= 256 and (\n",
      "TypeError: object of type 'NoneType' has no len()\n",
      "Traceback (most recent call last):\n",
      "  File \"<ipython-input-3-90c0f4c34da6>\", line 32, in getStockInfo\n",
      "    soup = BeautifulSoup(html,'html.parser')\n",
      "  File \"C:\\anaconda\\lib\\site-packages\\bs4\\__init__.py\", line 245, in __init__\n",
      "    elif len(markup) <= 256 and (\n",
      "TypeError: object of type 'NoneType' has no len()\n",
      "Traceback (most recent call last):\n",
      "  File \"<ipython-input-3-90c0f4c34da6>\", line 32, in getStockInfo\n",
      "    soup = BeautifulSoup(html,'html.parser')\n",
      "  File \"C:\\anaconda\\lib\\site-packages\\bs4\\__init__.py\", line 245, in __init__\n",
      "    elif len(markup) <= 256 and (\n",
      "TypeError: object of type 'NoneType' has no len()\n",
      "Traceback (most recent call last):\n",
      "  File \"<ipython-input-3-90c0f4c34da6>\", line 32, in getStockInfo\n",
      "    soup = BeautifulSoup(html,'html.parser')\n",
      "  File \"C:\\anaconda\\lib\\site-packages\\bs4\\__init__.py\", line 245, in __init__\n",
      "    elif len(markup) <= 256 and (\n",
      "TypeError: object of type 'NoneType' has no len()\n",
      "Traceback (most recent call last):\n",
      "  File \"<ipython-input-3-90c0f4c34da6>\", line 32, in getStockInfo\n",
      "    soup = BeautifulSoup(html,'html.parser')\n",
      "  File \"C:\\anaconda\\lib\\site-packages\\bs4\\__init__.py\", line 245, in __init__\n",
      "    elif len(markup) <= 256 and (\n",
      "TypeError: object of type 'NoneType' has no len()\n",
      "Traceback (most recent call last):\n",
      "  File \"<ipython-input-3-90c0f4c34da6>\", line 32, in getStockInfo\n",
      "    soup = BeautifulSoup(html,'html.parser')\n",
      "  File \"C:\\anaconda\\lib\\site-packages\\bs4\\__init__.py\", line 245, in __init__\n",
      "    elif len(markup) <= 256 and (\n",
      "TypeError: object of type 'NoneType' has no len()\n",
      "Traceback (most recent call last):\n",
      "  File \"<ipython-input-3-90c0f4c34da6>\", line 32, in getStockInfo\n",
      "    soup = BeautifulSoup(html,'html.parser')\n",
      "  File \"C:\\anaconda\\lib\\site-packages\\bs4\\__init__.py\", line 245, in __init__\n",
      "    elif len(markup) <= 256 and (\n",
      "TypeError: object of type 'NoneType' has no len()\n",
      "Traceback (most recent call last):\n",
      "  File \"<ipython-input-3-90c0f4c34da6>\", line 32, in getStockInfo\n",
      "    soup = BeautifulSoup(html,'html.parser')\n",
      "  File \"C:\\anaconda\\lib\\site-packages\\bs4\\__init__.py\", line 245, in __init__\n",
      "    elif len(markup) <= 256 and (\n",
      "TypeError: object of type 'NoneType' has no len()\n",
      "Traceback (most recent call last):\n",
      "  File \"<ipython-input-3-90c0f4c34da6>\", line 32, in getStockInfo\n",
      "    soup = BeautifulSoup(html,'html.parser')\n",
      "  File \"C:\\anaconda\\lib\\site-packages\\bs4\\__init__.py\", line 245, in __init__\n",
      "    elif len(markup) <= 256 and (\n",
      "TypeError: object of type 'NoneType' has no len()\n",
      "Traceback (most recent call last):\n",
      "  File \"<ipython-input-3-90c0f4c34da6>\", line 32, in getStockInfo\n",
      "    soup = BeautifulSoup(html,'html.parser')\n",
      "  File \"C:\\anaconda\\lib\\site-packages\\bs4\\__init__.py\", line 245, in __init__\n",
      "    elif len(markup) <= 256 and (\n",
      "TypeError: object of type 'NoneType' has no len()\n",
      "Traceback (most recent call last):\n",
      "  File \"<ipython-input-3-90c0f4c34da6>\", line 32, in getStockInfo\n",
      "    soup = BeautifulSoup(html,'html.parser')\n",
      "  File \"C:\\anaconda\\lib\\site-packages\\bs4\\__init__.py\", line 245, in __init__\n",
      "    elif len(markup) <= 256 and (\n",
      "TypeError: object of type 'NoneType' has no len()\n",
      "Traceback (most recent call last):\n",
      "  File \"<ipython-input-3-90c0f4c34da6>\", line 32, in getStockInfo\n",
      "    soup = BeautifulSoup(html,'html.parser')\n",
      "  File \"C:\\anaconda\\lib\\site-packages\\bs4\\__init__.py\", line 245, in __init__\n",
      "    elif len(markup) <= 256 and (\n",
      "TypeError: object of type 'NoneType' has no len()\n",
      "Traceback (most recent call last):\n",
      "  File \"<ipython-input-3-90c0f4c34da6>\", line 32, in getStockInfo\n",
      "    soup = BeautifulSoup(html,'html.parser')\n",
      "  File \"C:\\anaconda\\lib\\site-packages\\bs4\\__init__.py\", line 245, in __init__\n",
      "    elif len(markup) <= 256 and (\n",
      "TypeError: object of type 'NoneType' has no len()\n",
      "Traceback (most recent call last):\n",
      "  File \"<ipython-input-3-90c0f4c34da6>\", line 32, in getStockInfo\n",
      "    soup = BeautifulSoup(html,'html.parser')\n",
      "  File \"C:\\anaconda\\lib\\site-packages\\bs4\\__init__.py\", line 245, in __init__\n",
      "    elif len(markup) <= 256 and (\n",
      "TypeError: object of type 'NoneType' has no len()\n",
      "Traceback (most recent call last):\n",
      "  File \"<ipython-input-3-90c0f4c34da6>\", line 32, in getStockInfo\n",
      "    soup = BeautifulSoup(html,'html.parser')\n",
      "  File \"C:\\anaconda\\lib\\site-packages\\bs4\\__init__.py\", line 245, in __init__\n",
      "    elif len(markup) <= 256 and (\n",
      "TypeError: object of type 'NoneType' has no len()\n",
      "Traceback (most recent call last):\n",
      "  File \"<ipython-input-3-90c0f4c34da6>\", line 32, in getStockInfo\n",
      "    soup = BeautifulSoup(html,'html.parser')\n",
      "  File \"C:\\anaconda\\lib\\site-packages\\bs4\\__init__.py\", line 245, in __init__\n",
      "    elif len(markup) <= 256 and (\n",
      "TypeError: object of type 'NoneType' has no len()\n",
      "Traceback (most recent call last):\n",
      "  File \"<ipython-input-3-90c0f4c34da6>\", line 32, in getStockInfo\n",
      "    soup = BeautifulSoup(html,'html.parser')\n",
      "  File \"C:\\anaconda\\lib\\site-packages\\bs4\\__init__.py\", line 245, in __init__\n",
      "    elif len(markup) <= 256 and (\n",
      "TypeError: object of type 'NoneType' has no len()\n",
      "Traceback (most recent call last):\n",
      "  File \"<ipython-input-3-90c0f4c34da6>\", line 32, in getStockInfo\n",
      "    soup = BeautifulSoup(html,'html.parser')\n",
      "  File \"C:\\anaconda\\lib\\site-packages\\bs4\\__init__.py\", line 245, in __init__\n",
      "    elif len(markup) <= 256 and (\n",
      "TypeError: object of type 'NoneType' has no len()\n",
      "Traceback (most recent call last):\n",
      "  File \"<ipython-input-3-90c0f4c34da6>\", line 32, in getStockInfo\n",
      "    soup = BeautifulSoup(html,'html.parser')\n",
      "  File \"C:\\anaconda\\lib\\site-packages\\bs4\\__init__.py\", line 245, in __init__\n",
      "    elif len(markup) <= 256 and (\n",
      "TypeError: object of type 'NoneType' has no len()\n",
      "Traceback (most recent call last):\n",
      "  File \"<ipython-input-3-90c0f4c34da6>\", line 32, in getStockInfo\n",
      "    soup = BeautifulSoup(html,'html.parser')\n",
      "  File \"C:\\anaconda\\lib\\site-packages\\bs4\\__init__.py\", line 245, in __init__\n",
      "    elif len(markup) <= 256 and (\n",
      "TypeError: object of type 'NoneType' has no len()\n",
      "Traceback (most recent call last):\n",
      "  File \"<ipython-input-3-90c0f4c34da6>\", line 32, in getStockInfo\n",
      "    soup = BeautifulSoup(html,'html.parser')\n",
      "  File \"C:\\anaconda\\lib\\site-packages\\bs4\\__init__.py\", line 245, in __init__\n",
      "    elif len(markup) <= 256 and (\n",
      "TypeError: object of type 'NoneType' has no len()\n",
      "Traceback (most recent call last):\n",
      "  File \"<ipython-input-3-90c0f4c34da6>\", line 32, in getStockInfo\n",
      "    soup = BeautifulSoup(html,'html.parser')\n",
      "  File \"C:\\anaconda\\lib\\site-packages\\bs4\\__init__.py\", line 245, in __init__\n",
      "    elif len(markup) <= 256 and (\n",
      "TypeError: object of type 'NoneType' has no len()\n",
      "Traceback (most recent call last):\n",
      "  File \"<ipython-input-3-90c0f4c34da6>\", line 32, in getStockInfo\n",
      "    soup = BeautifulSoup(html,'html.parser')\n",
      "  File \"C:\\anaconda\\lib\\site-packages\\bs4\\__init__.py\", line 245, in __init__\n",
      "    elif len(markup) <= 256 and (\n",
      "TypeError: object of type 'NoneType' has no len()\n",
      "Traceback (most recent call last):\n",
      "  File \"<ipython-input-3-90c0f4c34da6>\", line 32, in getStockInfo\n",
      "    soup = BeautifulSoup(html,'html.parser')\n",
      "  File \"C:\\anaconda\\lib\\site-packages\\bs4\\__init__.py\", line 245, in __init__\n",
      "    elif len(markup) <= 256 and (\n",
      "TypeError: object of type 'NoneType' has no len()\n",
      "Traceback (most recent call last):\n",
      "  File \"<ipython-input-3-90c0f4c34da6>\", line 32, in getStockInfo\n",
      "    soup = BeautifulSoup(html,'html.parser')\n",
      "  File \"C:\\anaconda\\lib\\site-packages\\bs4\\__init__.py\", line 245, in __init__\n",
      "    elif len(markup) <= 256 and (\n",
      "TypeError: object of type 'NoneType' has no len()\n",
      "Traceback (most recent call last):\n",
      "  File \"<ipython-input-3-90c0f4c34da6>\", line 32, in getStockInfo\n",
      "    soup = BeautifulSoup(html,'html.parser')\n",
      "  File \"C:\\anaconda\\lib\\site-packages\\bs4\\__init__.py\", line 245, in __init__\n",
      "    elif len(markup) <= 256 and (\n",
      "TypeError: object of type 'NoneType' has no len()\n",
      "Traceback (most recent call last):\n",
      "  File \"<ipython-input-3-90c0f4c34da6>\", line 32, in getStockInfo\n",
      "    soup = BeautifulSoup(html,'html.parser')\n",
      "  File \"C:\\anaconda\\lib\\site-packages\\bs4\\__init__.py\", line 245, in __init__\n",
      "    elif len(markup) <= 256 and (\n",
      "TypeError: object of type 'NoneType' has no len()\n",
      "Traceback (most recent call last):\n",
      "  File \"<ipython-input-3-90c0f4c34da6>\", line 32, in getStockInfo\n",
      "    soup = BeautifulSoup(html,'html.parser')\n",
      "  File \"C:\\anaconda\\lib\\site-packages\\bs4\\__init__.py\", line 245, in __init__\n",
      "    elif len(markup) <= 256 and (\n",
      "TypeError: object of type 'NoneType' has no len()\n",
      "Traceback (most recent call last):\n",
      "  File \"<ipython-input-3-90c0f4c34da6>\", line 32, in getStockInfo\n",
      "    soup = BeautifulSoup(html,'html.parser')\n",
      "  File \"C:\\anaconda\\lib\\site-packages\\bs4\\__init__.py\", line 245, in __init__\n",
      "    elif len(markup) <= 256 and (\n",
      "TypeError: object of type 'NoneType' has no len()\n",
      "Traceback (most recent call last):\n",
      "  File \"<ipython-input-3-90c0f4c34da6>\", line 32, in getStockInfo\n",
      "    soup = BeautifulSoup(html,'html.parser')\n",
      "  File \"C:\\anaconda\\lib\\site-packages\\bs4\\__init__.py\", line 245, in __init__\n",
      "    elif len(markup) <= 256 and (\n",
      "TypeError: object of type 'NoneType' has no len()\n",
      "Traceback (most recent call last):\n",
      "  File \"<ipython-input-3-90c0f4c34da6>\", line 32, in getStockInfo\n",
      "    soup = BeautifulSoup(html,'html.parser')\n",
      "  File \"C:\\anaconda\\lib\\site-packages\\bs4\\__init__.py\", line 245, in __init__\n",
      "    elif len(markup) <= 256 and (\n",
      "TypeError: object of type 'NoneType' has no len()\n"
     ]
    },
    {
     "name": "stdout",
     "output_type": "stream",
     "text": [
      "\r",
      "当前进度：14.97%\n",
      "\n",
      "\r",
      "当前进度：14.99%\n",
      "\n",
      "\r",
      "当前进度：15.01%\n",
      "\n",
      "\r",
      "当前进度：15.03%\n",
      "\n",
      "\r",
      "当前进度：15.05%\n",
      "\n",
      "\r",
      "当前进度：15.07%\n",
      "\n",
      "\r",
      "当前进度：15.09%\n",
      "\n",
      "\r",
      "当前进度：15.11%\n",
      "\n",
      "\r",
      "当前进度：15.13%\n",
      "\n",
      "\r",
      "当前进度：15.15%\n",
      "\n",
      "\r",
      "当前进度：15.17%\n",
      "\n",
      "\r",
      "当前进度：15.20%\n",
      "\n",
      "\r",
      "当前进度：15.22%\n",
      "\n",
      "\r",
      "当前进度：15.24%\n",
      "\n",
      "\r",
      "当前进度：15.26%\n",
      "\n",
      "\r",
      "当前进度：15.28%\n",
      "\n",
      "\r",
      "当前进度：15.30%\n",
      "\n",
      "\r",
      "当前进度：15.32%\n",
      "\n",
      "\r",
      "当前进度：15.34%\n",
      "\n",
      "\r",
      "当前进度：15.36%\n",
      "\n",
      "\r",
      "当前进度：15.38%\n",
      "\n",
      "\r",
      "当前进度：15.40%\n",
      "\n",
      "\r",
      "当前进度：15.42%\n",
      "\n",
      "\r",
      "当前进度：15.44%\n",
      "\n",
      "\r",
      "当前进度：15.46%\n",
      "\n",
      "\r",
      "当前进度：15.48%\n",
      "\n",
      "\r",
      "当前进度：15.51%\n",
      "\n",
      "\r",
      "当前进度：15.53%\n",
      "\n",
      "\r",
      "当前进度：15.55%\n",
      "\n",
      "\r",
      "当前进度：15.57%\n",
      "\n",
      "\r",
      "当前进度：15.59%\n",
      "\n",
      "\r",
      "当前进度：15.61%\n",
      "\n",
      "\r",
      "当前进度：15.63%\n",
      "\n",
      "\r",
      "当前进度：15.65%\n",
      "\n",
      "\r",
      "当前进度：15.67%\n",
      "\n",
      "\r",
      "当前进度：15.69%\n",
      "\n",
      "\r",
      "当前进度：15.71%\n",
      "\n",
      "\r",
      "当前进度：15.73%\n",
      "\n",
      "\r",
      "当前进度：15.75%\n",
      "\n",
      "\r",
      "当前进度：15.77%\n"
     ]
    },
    {
     "name": "stderr",
     "output_type": "stream",
     "text": [
      "Traceback (most recent call last):\n",
      "  File \"<ipython-input-3-90c0f4c34da6>\", line 32, in getStockInfo\n",
      "    soup = BeautifulSoup(html,'html.parser')\n",
      "  File \"C:\\anaconda\\lib\\site-packages\\bs4\\__init__.py\", line 245, in __init__\n",
      "    elif len(markup) <= 256 and (\n",
      "TypeError: object of type 'NoneType' has no len()\n",
      "Traceback (most recent call last):\n",
      "  File \"<ipython-input-3-90c0f4c34da6>\", line 32, in getStockInfo\n",
      "    soup = BeautifulSoup(html,'html.parser')\n",
      "  File \"C:\\anaconda\\lib\\site-packages\\bs4\\__init__.py\", line 245, in __init__\n",
      "    elif len(markup) <= 256 and (\n",
      "TypeError: object of type 'NoneType' has no len()\n",
      "Traceback (most recent call last):\n",
      "  File \"<ipython-input-3-90c0f4c34da6>\", line 32, in getStockInfo\n",
      "    soup = BeautifulSoup(html,'html.parser')\n",
      "  File \"C:\\anaconda\\lib\\site-packages\\bs4\\__init__.py\", line 245, in __init__\n",
      "    elif len(markup) <= 256 and (\n",
      "TypeError: object of type 'NoneType' has no len()\n",
      "Traceback (most recent call last):\n",
      "  File \"<ipython-input-3-90c0f4c34da6>\", line 32, in getStockInfo\n",
      "    soup = BeautifulSoup(html,'html.parser')\n",
      "  File \"C:\\anaconda\\lib\\site-packages\\bs4\\__init__.py\", line 245, in __init__\n",
      "    elif len(markup) <= 256 and (\n",
      "TypeError: object of type 'NoneType' has no len()\n",
      "Traceback (most recent call last):\n",
      "  File \"<ipython-input-3-90c0f4c34da6>\", line 32, in getStockInfo\n",
      "    soup = BeautifulSoup(html,'html.parser')\n",
      "  File \"C:\\anaconda\\lib\\site-packages\\bs4\\__init__.py\", line 245, in __init__\n",
      "    elif len(markup) <= 256 and (\n",
      "TypeError: object of type 'NoneType' has no len()\n",
      "Traceback (most recent call last):\n",
      "  File \"<ipython-input-3-90c0f4c34da6>\", line 32, in getStockInfo\n",
      "    soup = BeautifulSoup(html,'html.parser')\n",
      "  File \"C:\\anaconda\\lib\\site-packages\\bs4\\__init__.py\", line 245, in __init__\n",
      "    elif len(markup) <= 256 and (\n",
      "TypeError: object of type 'NoneType' has no len()\n",
      "Traceback (most recent call last):\n",
      "  File \"<ipython-input-3-90c0f4c34da6>\", line 32, in getStockInfo\n",
      "    soup = BeautifulSoup(html,'html.parser')\n",
      "  File \"C:\\anaconda\\lib\\site-packages\\bs4\\__init__.py\", line 245, in __init__\n",
      "    elif len(markup) <= 256 and (\n",
      "TypeError: object of type 'NoneType' has no len()\n",
      "Traceback (most recent call last):\n",
      "  File \"<ipython-input-3-90c0f4c34da6>\", line 32, in getStockInfo\n",
      "    soup = BeautifulSoup(html,'html.parser')\n",
      "  File \"C:\\anaconda\\lib\\site-packages\\bs4\\__init__.py\", line 245, in __init__\n",
      "    elif len(markup) <= 256 and (\n",
      "TypeError: object of type 'NoneType' has no len()\n",
      "Traceback (most recent call last):\n",
      "  File \"<ipython-input-3-90c0f4c34da6>\", line 32, in getStockInfo\n",
      "    soup = BeautifulSoup(html,'html.parser')\n",
      "  File \"C:\\anaconda\\lib\\site-packages\\bs4\\__init__.py\", line 245, in __init__\n",
      "    elif len(markup) <= 256 and (\n",
      "TypeError: object of type 'NoneType' has no len()\n",
      "Traceback (most recent call last):\n",
      "  File \"<ipython-input-3-90c0f4c34da6>\", line 32, in getStockInfo\n",
      "    soup = BeautifulSoup(html,'html.parser')\n",
      "  File \"C:\\anaconda\\lib\\site-packages\\bs4\\__init__.py\", line 245, in __init__\n",
      "    elif len(markup) <= 256 and (\n",
      "TypeError: object of type 'NoneType' has no len()\n",
      "Traceback (most recent call last):\n",
      "  File \"<ipython-input-3-90c0f4c34da6>\", line 32, in getStockInfo\n",
      "    soup = BeautifulSoup(html,'html.parser')\n",
      "  File \"C:\\anaconda\\lib\\site-packages\\bs4\\__init__.py\", line 245, in __init__\n",
      "    elif len(markup) <= 256 and (\n",
      "TypeError: object of type 'NoneType' has no len()\n",
      "Traceback (most recent call last):\n",
      "  File \"<ipython-input-3-90c0f4c34da6>\", line 32, in getStockInfo\n",
      "    soup = BeautifulSoup(html,'html.parser')\n",
      "  File \"C:\\anaconda\\lib\\site-packages\\bs4\\__init__.py\", line 245, in __init__\n",
      "    elif len(markup) <= 256 and (\n",
      "TypeError: object of type 'NoneType' has no len()\n",
      "Traceback (most recent call last):\n",
      "  File \"<ipython-input-3-90c0f4c34da6>\", line 32, in getStockInfo\n",
      "    soup = BeautifulSoup(html,'html.parser')\n",
      "  File \"C:\\anaconda\\lib\\site-packages\\bs4\\__init__.py\", line 245, in __init__\n",
      "    elif len(markup) <= 256 and (\n",
      "TypeError: object of type 'NoneType' has no len()\n",
      "Traceback (most recent call last):\n",
      "  File \"<ipython-input-3-90c0f4c34da6>\", line 32, in getStockInfo\n",
      "    soup = BeautifulSoup(html,'html.parser')\n",
      "  File \"C:\\anaconda\\lib\\site-packages\\bs4\\__init__.py\", line 245, in __init__\n",
      "    elif len(markup) <= 256 and (\n",
      "TypeError: object of type 'NoneType' has no len()\n",
      "Traceback (most recent call last):\n",
      "  File \"<ipython-input-3-90c0f4c34da6>\", line 32, in getStockInfo\n",
      "    soup = BeautifulSoup(html,'html.parser')\n",
      "  File \"C:\\anaconda\\lib\\site-packages\\bs4\\__init__.py\", line 245, in __init__\n",
      "    elif len(markup) <= 256 and (\n",
      "TypeError: object of type 'NoneType' has no len()\n",
      "Traceback (most recent call last):\n",
      "  File \"<ipython-input-3-90c0f4c34da6>\", line 32, in getStockInfo\n",
      "    soup = BeautifulSoup(html,'html.parser')\n",
      "  File \"C:\\anaconda\\lib\\site-packages\\bs4\\__init__.py\", line 245, in __init__\n",
      "    elif len(markup) <= 256 and (\n",
      "TypeError: object of type 'NoneType' has no len()\n",
      "Traceback (most recent call last):\n",
      "  File \"<ipython-input-3-90c0f4c34da6>\", line 32, in getStockInfo\n",
      "    soup = BeautifulSoup(html,'html.parser')\n",
      "  File \"C:\\anaconda\\lib\\site-packages\\bs4\\__init__.py\", line 245, in __init__\n",
      "    elif len(markup) <= 256 and (\n",
      "TypeError: object of type 'NoneType' has no len()\n",
      "Traceback (most recent call last):\n",
      "  File \"<ipython-input-3-90c0f4c34da6>\", line 32, in getStockInfo\n",
      "    soup = BeautifulSoup(html,'html.parser')\n",
      "  File \"C:\\anaconda\\lib\\site-packages\\bs4\\__init__.py\", line 245, in __init__\n",
      "    elif len(markup) <= 256 and (\n",
      "TypeError: object of type 'NoneType' has no len()\n",
      "Traceback (most recent call last):\n",
      "  File \"<ipython-input-3-90c0f4c34da6>\", line 32, in getStockInfo\n",
      "    soup = BeautifulSoup(html,'html.parser')\n",
      "  File \"C:\\anaconda\\lib\\site-packages\\bs4\\__init__.py\", line 245, in __init__\n",
      "    elif len(markup) <= 256 and (\n",
      "TypeError: object of type 'NoneType' has no len()\n",
      "Traceback (most recent call last):\n",
      "  File \"<ipython-input-3-90c0f4c34da6>\", line 32, in getStockInfo\n",
      "    soup = BeautifulSoup(html,'html.parser')\n",
      "  File \"C:\\anaconda\\lib\\site-packages\\bs4\\__init__.py\", line 245, in __init__\n",
      "    elif len(markup) <= 256 and (\n",
      "TypeError: object of type 'NoneType' has no len()\n",
      "Traceback (most recent call last):\n",
      "  File \"<ipython-input-3-90c0f4c34da6>\", line 32, in getStockInfo\n",
      "    soup = BeautifulSoup(html,'html.parser')\n",
      "  File \"C:\\anaconda\\lib\\site-packages\\bs4\\__init__.py\", line 245, in __init__\n",
      "    elif len(markup) <= 256 and (\n",
      "TypeError: object of type 'NoneType' has no len()\n",
      "Traceback (most recent call last):\n",
      "  File \"<ipython-input-3-90c0f4c34da6>\", line 32, in getStockInfo\n",
      "    soup = BeautifulSoup(html,'html.parser')\n",
      "  File \"C:\\anaconda\\lib\\site-packages\\bs4\\__init__.py\", line 245, in __init__\n",
      "    elif len(markup) <= 256 and (\n",
      "TypeError: object of type 'NoneType' has no len()\n",
      "Traceback (most recent call last):\n",
      "  File \"<ipython-input-3-90c0f4c34da6>\", line 32, in getStockInfo\n",
      "    soup = BeautifulSoup(html,'html.parser')\n",
      "  File \"C:\\anaconda\\lib\\site-packages\\bs4\\__init__.py\", line 245, in __init__\n",
      "    elif len(markup) <= 256 and (\n",
      "TypeError: object of type 'NoneType' has no len()\n",
      "Traceback (most recent call last):\n",
      "  File \"<ipython-input-3-90c0f4c34da6>\", line 32, in getStockInfo\n",
      "    soup = BeautifulSoup(html,'html.parser')\n",
      "  File \"C:\\anaconda\\lib\\site-packages\\bs4\\__init__.py\", line 245, in __init__\n",
      "    elif len(markup) <= 256 and (\n",
      "TypeError: object of type 'NoneType' has no len()\n",
      "Traceback (most recent call last):\n",
      "  File \"<ipython-input-3-90c0f4c34da6>\", line 32, in getStockInfo\n",
      "    soup = BeautifulSoup(html,'html.parser')\n",
      "  File \"C:\\anaconda\\lib\\site-packages\\bs4\\__init__.py\", line 245, in __init__\n",
      "    elif len(markup) <= 256 and (\n",
      "TypeError: object of type 'NoneType' has no len()\n",
      "Traceback (most recent call last):\n",
      "  File \"<ipython-input-3-90c0f4c34da6>\", line 32, in getStockInfo\n",
      "    soup = BeautifulSoup(html,'html.parser')\n",
      "  File \"C:\\anaconda\\lib\\site-packages\\bs4\\__init__.py\", line 245, in __init__\n",
      "    elif len(markup) <= 256 and (\n",
      "TypeError: object of type 'NoneType' has no len()\n",
      "Traceback (most recent call last):\n",
      "  File \"<ipython-input-3-90c0f4c34da6>\", line 32, in getStockInfo\n",
      "    soup = BeautifulSoup(html,'html.parser')\n",
      "  File \"C:\\anaconda\\lib\\site-packages\\bs4\\__init__.py\", line 245, in __init__\n",
      "    elif len(markup) <= 256 and (\n",
      "TypeError: object of type 'NoneType' has no len()\n",
      "Traceback (most recent call last):\n",
      "  File \"<ipython-input-3-90c0f4c34da6>\", line 32, in getStockInfo\n",
      "    soup = BeautifulSoup(html,'html.parser')\n",
      "  File \"C:\\anaconda\\lib\\site-packages\\bs4\\__init__.py\", line 245, in __init__\n",
      "    elif len(markup) <= 256 and (\n",
      "TypeError: object of type 'NoneType' has no len()\n",
      "Traceback (most recent call last):\n",
      "  File \"<ipython-input-3-90c0f4c34da6>\", line 32, in getStockInfo\n",
      "    soup = BeautifulSoup(html,'html.parser')\n",
      "  File \"C:\\anaconda\\lib\\site-packages\\bs4\\__init__.py\", line 245, in __init__\n",
      "    elif len(markup) <= 256 and (\n",
      "TypeError: object of type 'NoneType' has no len()\n",
      "Traceback (most recent call last):\n",
      "  File \"<ipython-input-3-90c0f4c34da6>\", line 32, in getStockInfo\n",
      "    soup = BeautifulSoup(html,'html.parser')\n",
      "  File \"C:\\anaconda\\lib\\site-packages\\bs4\\__init__.py\", line 245, in __init__\n",
      "    elif len(markup) <= 256 and (\n",
      "TypeError: object of type 'NoneType' has no len()\n",
      "Traceback (most recent call last):\n",
      "  File \"<ipython-input-3-90c0f4c34da6>\", line 32, in getStockInfo\n",
      "    soup = BeautifulSoup(html,'html.parser')\n",
      "  File \"C:\\anaconda\\lib\\site-packages\\bs4\\__init__.py\", line 245, in __init__\n",
      "    elif len(markup) <= 256 and (\n",
      "TypeError: object of type 'NoneType' has no len()\n",
      "Traceback (most recent call last):\n",
      "  File \"<ipython-input-3-90c0f4c34da6>\", line 32, in getStockInfo\n",
      "    soup = BeautifulSoup(html,'html.parser')\n",
      "  File \"C:\\anaconda\\lib\\site-packages\\bs4\\__init__.py\", line 245, in __init__\n",
      "    elif len(markup) <= 256 and (\n",
      "TypeError: object of type 'NoneType' has no len()\n",
      "Traceback (most recent call last):\n",
      "  File \"<ipython-input-3-90c0f4c34da6>\", line 32, in getStockInfo\n",
      "    soup = BeautifulSoup(html,'html.parser')\n",
      "  File \"C:\\anaconda\\lib\\site-packages\\bs4\\__init__.py\", line 245, in __init__\n",
      "    elif len(markup) <= 256 and (\n",
      "TypeError: object of type 'NoneType' has no len()\n",
      "Traceback (most recent call last):\n",
      "  File \"<ipython-input-3-90c0f4c34da6>\", line 32, in getStockInfo\n",
      "    soup = BeautifulSoup(html,'html.parser')\n",
      "  File \"C:\\anaconda\\lib\\site-packages\\bs4\\__init__.py\", line 245, in __init__\n",
      "    elif len(markup) <= 256 and (\n",
      "TypeError: object of type 'NoneType' has no len()\n",
      "Traceback (most recent call last):\n",
      "  File \"<ipython-input-3-90c0f4c34da6>\", line 32, in getStockInfo\n",
      "    soup = BeautifulSoup(html,'html.parser')\n",
      "  File \"C:\\anaconda\\lib\\site-packages\\bs4\\__init__.py\", line 245, in __init__\n",
      "    elif len(markup) <= 256 and (\n",
      "TypeError: object of type 'NoneType' has no len()\n",
      "Traceback (most recent call last):\n",
      "  File \"<ipython-input-3-90c0f4c34da6>\", line 32, in getStockInfo\n",
      "    soup = BeautifulSoup(html,'html.parser')\n",
      "  File \"C:\\anaconda\\lib\\site-packages\\bs4\\__init__.py\", line 245, in __init__\n",
      "    elif len(markup) <= 256 and (\n",
      "TypeError: object of type 'NoneType' has no len()\n",
      "Traceback (most recent call last):\n",
      "  File \"<ipython-input-3-90c0f4c34da6>\", line 32, in getStockInfo\n",
      "    soup = BeautifulSoup(html,'html.parser')\n",
      "  File \"C:\\anaconda\\lib\\site-packages\\bs4\\__init__.py\", line 245, in __init__\n",
      "    elif len(markup) <= 256 and (\n",
      "TypeError: object of type 'NoneType' has no len()\n",
      "Traceback (most recent call last):\n",
      "  File \"<ipython-input-3-90c0f4c34da6>\", line 32, in getStockInfo\n",
      "    soup = BeautifulSoup(html,'html.parser')\n",
      "  File \"C:\\anaconda\\lib\\site-packages\\bs4\\__init__.py\", line 245, in __init__\n",
      "    elif len(markup) <= 256 and (\n",
      "TypeError: object of type 'NoneType' has no len()\n",
      "Traceback (most recent call last):\n",
      "  File \"<ipython-input-3-90c0f4c34da6>\", line 32, in getStockInfo\n",
      "    soup = BeautifulSoup(html,'html.parser')\n",
      "  File \"C:\\anaconda\\lib\\site-packages\\bs4\\__init__.py\", line 245, in __init__\n",
      "    elif len(markup) <= 256 and (\n",
      "TypeError: object of type 'NoneType' has no len()\n",
      "Traceback (most recent call last):\n",
      "  File \"<ipython-input-3-90c0f4c34da6>\", line 32, in getStockInfo\n",
      "    soup = BeautifulSoup(html,'html.parser')\n",
      "  File \"C:\\anaconda\\lib\\site-packages\\bs4\\__init__.py\", line 245, in __init__\n",
      "    elif len(markup) <= 256 and (\n",
      "TypeError: object of type 'NoneType' has no len()\n",
      "Traceback (most recent call last):\n",
      "  File \"<ipython-input-3-90c0f4c34da6>\", line 32, in getStockInfo\n",
      "    soup = BeautifulSoup(html,'html.parser')\n",
      "  File \"C:\\anaconda\\lib\\site-packages\\bs4\\__init__.py\", line 245, in __init__\n",
      "    elif len(markup) <= 256 and (\n",
      "TypeError: object of type 'NoneType' has no len()\n",
      "Traceback (most recent call last):\n",
      "  File \"<ipython-input-3-90c0f4c34da6>\", line 32, in getStockInfo\n",
      "    soup = BeautifulSoup(html,'html.parser')\n",
      "  File \"C:\\anaconda\\lib\\site-packages\\bs4\\__init__.py\", line 245, in __init__\n",
      "    elif len(markup) <= 256 and (\n",
      "TypeError: object of type 'NoneType' has no len()\n",
      "Traceback (most recent call last):\n",
      "  File \"<ipython-input-3-90c0f4c34da6>\", line 32, in getStockInfo\n",
      "    soup = BeautifulSoup(html,'html.parser')\n",
      "  File \"C:\\anaconda\\lib\\site-packages\\bs4\\__init__.py\", line 245, in __init__\n",
      "    elif len(markup) <= 256 and (\n",
      "TypeError: object of type 'NoneType' has no len()\n",
      "Traceback (most recent call last):\n",
      "  File \"<ipython-input-3-90c0f4c34da6>\", line 32, in getStockInfo\n",
      "    soup = BeautifulSoup(html,'html.parser')\n",
      "  File \"C:\\anaconda\\lib\\site-packages\\bs4\\__init__.py\", line 245, in __init__\n",
      "    elif len(markup) <= 256 and (\n",
      "TypeError: object of type 'NoneType' has no len()\n",
      "Traceback (most recent call last):\n",
      "  File \"<ipython-input-3-90c0f4c34da6>\", line 32, in getStockInfo\n",
      "    soup = BeautifulSoup(html,'html.parser')\n",
      "  File \"C:\\anaconda\\lib\\site-packages\\bs4\\__init__.py\", line 245, in __init__\n",
      "    elif len(markup) <= 256 and (\n",
      "TypeError: object of type 'NoneType' has no len()\n",
      "Traceback (most recent call last):\n",
      "  File \"<ipython-input-3-90c0f4c34da6>\", line 32, in getStockInfo\n",
      "    soup = BeautifulSoup(html,'html.parser')\n",
      "  File \"C:\\anaconda\\lib\\site-packages\\bs4\\__init__.py\", line 245, in __init__\n",
      "    elif len(markup) <= 256 and (\n",
      "TypeError: object of type 'NoneType' has no len()\n",
      "Traceback (most recent call last):\n",
      "  File \"<ipython-input-3-90c0f4c34da6>\", line 32, in getStockInfo\n",
      "    soup = BeautifulSoup(html,'html.parser')\n",
      "  File \"C:\\anaconda\\lib\\site-packages\\bs4\\__init__.py\", line 245, in __init__\n",
      "    elif len(markup) <= 256 and (\n",
      "TypeError: object of type 'NoneType' has no len()\n",
      "Traceback (most recent call last):\n",
      "  File \"<ipython-input-3-90c0f4c34da6>\", line 32, in getStockInfo\n",
      "    soup = BeautifulSoup(html,'html.parser')\n",
      "  File \"C:\\anaconda\\lib\\site-packages\\bs4\\__init__.py\", line 245, in __init__\n",
      "    elif len(markup) <= 256 and (\n",
      "TypeError: object of type 'NoneType' has no len()\n",
      "Traceback (most recent call last):\n",
      "  File \"<ipython-input-3-90c0f4c34da6>\", line 32, in getStockInfo\n",
      "    soup = BeautifulSoup(html,'html.parser')\n",
      "  File \"C:\\anaconda\\lib\\site-packages\\bs4\\__init__.py\", line 245, in __init__\n",
      "    elif len(markup) <= 256 and (\n",
      "TypeError: object of type 'NoneType' has no len()\n",
      "Traceback (most recent call last):\n",
      "  File \"<ipython-input-3-90c0f4c34da6>\", line 32, in getStockInfo\n",
      "    soup = BeautifulSoup(html,'html.parser')\n",
      "  File \"C:\\anaconda\\lib\\site-packages\\bs4\\__init__.py\", line 245, in __init__\n",
      "    elif len(markup) <= 256 and (\n",
      "TypeError: object of type 'NoneType' has no len()\n",
      "Traceback (most recent call last):\n",
      "  File \"<ipython-input-3-90c0f4c34da6>\", line 32, in getStockInfo\n",
      "    soup = BeautifulSoup(html,'html.parser')\n",
      "  File \"C:\\anaconda\\lib\\site-packages\\bs4\\__init__.py\", line 245, in __init__\n",
      "    elif len(markup) <= 256 and (\n",
      "TypeError: object of type 'NoneType' has no len()\n",
      "Traceback (most recent call last):\n",
      "  File \"<ipython-input-3-90c0f4c34da6>\", line 32, in getStockInfo\n",
      "    soup = BeautifulSoup(html,'html.parser')\n",
      "  File \"C:\\anaconda\\lib\\site-packages\\bs4\\__init__.py\", line 245, in __init__\n",
      "    elif len(markup) <= 256 and (\n",
      "TypeError: object of type 'NoneType' has no len()\n",
      "Traceback (most recent call last):\n",
      "  File \"<ipython-input-3-90c0f4c34da6>\", line 32, in getStockInfo\n",
      "    soup = BeautifulSoup(html,'html.parser')\n",
      "  File \"C:\\anaconda\\lib\\site-packages\\bs4\\__init__.py\", line 245, in __init__\n",
      "    elif len(markup) <= 256 and (\n",
      "TypeError: object of type 'NoneType' has no len()\n",
      "Traceback (most recent call last):\n",
      "  File \"<ipython-input-3-90c0f4c34da6>\", line 32, in getStockInfo\n",
      "    soup = BeautifulSoup(html,'html.parser')\n",
      "  File \"C:\\anaconda\\lib\\site-packages\\bs4\\__init__.py\", line 245, in __init__\n",
      "    elif len(markup) <= 256 and (\n",
      "TypeError: object of type 'NoneType' has no len()\n"
     ]
    },
    {
     "name": "stdout",
     "output_type": "stream",
     "text": [
      "\n",
      "\r",
      "当前进度：15.79%\n",
      "\n",
      "\r",
      "当前进度：15.82%\n",
      "\n",
      "\r",
      "当前进度：15.84%\n",
      "\n",
      "\r",
      "当前进度：15.86%\n",
      "\n",
      "\r",
      "当前进度：15.88%\n",
      "\n",
      "\r",
      "当前进度：15.90%\n",
      "\n",
      "\r",
      "当前进度：15.92%\n",
      "\n",
      "\r",
      "当前进度：15.94%\n",
      "\n",
      "\r",
      "当前进度：15.96%\n",
      "\n",
      "\r",
      "当前进度：15.98%\n",
      "\n",
      "\r",
      "当前进度：16.00%\n",
      "\n",
      "\r",
      "当前进度：16.02%\n",
      "\n",
      "\r",
      "当前进度：16.04%\n",
      "\n",
      "\r",
      "当前进度：16.06%\n",
      "\n",
      "\r",
      "当前进度：16.08%\n",
      "\n",
      "\r",
      "当前进度：16.11%\n",
      "\n",
      "\r",
      "当前进度：16.13%\n",
      "\n",
      "\r",
      "当前进度：16.15%\n",
      "\n",
      "\r",
      "当前进度：16.17%\n",
      "\n",
      "\r",
      "当前进度：16.19%\n",
      "\n",
      "\r",
      "当前进度：16.21%\n",
      "\n",
      "\r",
      "当前进度：16.23%\n",
      "\n",
      "\r",
      "当前进度：16.25%\n",
      "\n",
      "\r",
      "当前进度：16.27%\n",
      "\n",
      "\r",
      "当前进度：16.29%\n",
      "\n",
      "\r",
      "当前进度：16.31%\n",
      "\n",
      "\r",
      "当前进度：16.33%\n",
      "\n",
      "\r",
      "当前进度：16.35%\n",
      "\n",
      "\r",
      "当前进度：16.37%\n",
      "\n",
      "\r",
      "当前进度：16.39%\n",
      "\n",
      "\r",
      "当前进度：16.42%\n",
      "\n",
      "\r",
      "当前进度：16.44%\n",
      "\n",
      "\r",
      "当前进度：16.46%\n",
      "\n",
      "\r",
      "当前进度：16.48%\n",
      "\n",
      "\r",
      "当前进度：16.50%\n",
      "\n",
      "\r",
      "当前进度：16.52%\n",
      "\n",
      "\r",
      "当前进度：16.54%\n",
      "\n",
      "\r",
      "当前进度：16.56%\n",
      "\n",
      "\r",
      "当前进度：16.58%\n",
      "\n",
      "\r",
      "当前进度：16.60%\n",
      "\n",
      "\r",
      "当前进度：16.62%\n",
      "\n",
      "\r",
      "当前进度：16.64%\n",
      "\n",
      "\r",
      "当前进度：16.66%\n",
      "\n",
      "\r",
      "当前进度：16.68%\n",
      "\n",
      "\r",
      "当前进度：16.70%\n",
      "\n",
      "\r",
      "当前进度：16.73%\n",
      "\n",
      "\r",
      "当前进度：16.75%\n",
      "\n",
      "\r",
      "当前进度：16.77%\n",
      "\n",
      "\r",
      "当前进度：16.79%\n",
      "\n",
      "\r",
      "当前进度：16.81%\n",
      "\n",
      "\r",
      "当前进度：16.83%\n",
      "\n",
      "\r",
      "当前进度：16.85%\n",
      "\n",
      "\r",
      "当前进度：16.87%\n",
      "\n",
      "\r",
      "当前进度：16.89%\n"
     ]
    },
    {
     "name": "stderr",
     "output_type": "stream",
     "text": [
      "Traceback (most recent call last):\n",
      "  File \"<ipython-input-3-90c0f4c34da6>\", line 32, in getStockInfo\n",
      "    soup = BeautifulSoup(html,'html.parser')\n",
      "  File \"C:\\anaconda\\lib\\site-packages\\bs4\\__init__.py\", line 245, in __init__\n",
      "    elif len(markup) <= 256 and (\n",
      "TypeError: object of type 'NoneType' has no len()\n",
      "Traceback (most recent call last):\n",
      "  File \"<ipython-input-3-90c0f4c34da6>\", line 32, in getStockInfo\n",
      "    soup = BeautifulSoup(html,'html.parser')\n",
      "  File \"C:\\anaconda\\lib\\site-packages\\bs4\\__init__.py\", line 245, in __init__\n",
      "    elif len(markup) <= 256 and (\n",
      "TypeError: object of type 'NoneType' has no len()\n",
      "Traceback (most recent call last):\n",
      "  File \"<ipython-input-3-90c0f4c34da6>\", line 32, in getStockInfo\n",
      "    soup = BeautifulSoup(html,'html.parser')\n",
      "  File \"C:\\anaconda\\lib\\site-packages\\bs4\\__init__.py\", line 245, in __init__\n",
      "    elif len(markup) <= 256 and (\n",
      "TypeError: object of type 'NoneType' has no len()\n",
      "Traceback (most recent call last):\n",
      "  File \"<ipython-input-3-90c0f4c34da6>\", line 32, in getStockInfo\n",
      "    soup = BeautifulSoup(html,'html.parser')\n",
      "  File \"C:\\anaconda\\lib\\site-packages\\bs4\\__init__.py\", line 245, in __init__\n",
      "    elif len(markup) <= 256 and (\n",
      "TypeError: object of type 'NoneType' has no len()\n",
      "Traceback (most recent call last):\n",
      "  File \"<ipython-input-3-90c0f4c34da6>\", line 32, in getStockInfo\n",
      "    soup = BeautifulSoup(html,'html.parser')\n",
      "  File \"C:\\anaconda\\lib\\site-packages\\bs4\\__init__.py\", line 245, in __init__\n",
      "    elif len(markup) <= 256 and (\n",
      "TypeError: object of type 'NoneType' has no len()\n",
      "Traceback (most recent call last):\n",
      "  File \"<ipython-input-3-90c0f4c34da6>\", line 32, in getStockInfo\n",
      "    soup = BeautifulSoup(html,'html.parser')\n",
      "  File \"C:\\anaconda\\lib\\site-packages\\bs4\\__init__.py\", line 245, in __init__\n",
      "    elif len(markup) <= 256 and (\n",
      "TypeError: object of type 'NoneType' has no len()\n",
      "Traceback (most recent call last):\n",
      "  File \"<ipython-input-3-90c0f4c34da6>\", line 32, in getStockInfo\n",
      "    soup = BeautifulSoup(html,'html.parser')\n",
      "  File \"C:\\anaconda\\lib\\site-packages\\bs4\\__init__.py\", line 245, in __init__\n",
      "    elif len(markup) <= 256 and (\n",
      "TypeError: object of type 'NoneType' has no len()\n",
      "Traceback (most recent call last):\n",
      "  File \"<ipython-input-3-90c0f4c34da6>\", line 32, in getStockInfo\n",
      "    soup = BeautifulSoup(html,'html.parser')\n",
      "  File \"C:\\anaconda\\lib\\site-packages\\bs4\\__init__.py\", line 245, in __init__\n",
      "    elif len(markup) <= 256 and (\n",
      "TypeError: object of type 'NoneType' has no len()\n",
      "Traceback (most recent call last):\n",
      "  File \"<ipython-input-3-90c0f4c34da6>\", line 32, in getStockInfo\n",
      "    soup = BeautifulSoup(html,'html.parser')\n",
      "  File \"C:\\anaconda\\lib\\site-packages\\bs4\\__init__.py\", line 245, in __init__\n",
      "    elif len(markup) <= 256 and (\n",
      "TypeError: object of type 'NoneType' has no len()\n",
      "Traceback (most recent call last):\n",
      "  File \"<ipython-input-3-90c0f4c34da6>\", line 32, in getStockInfo\n",
      "    soup = BeautifulSoup(html,'html.parser')\n",
      "  File \"C:\\anaconda\\lib\\site-packages\\bs4\\__init__.py\", line 245, in __init__\n",
      "    elif len(markup) <= 256 and (\n",
      "TypeError: object of type 'NoneType' has no len()\n",
      "Traceback (most recent call last):\n",
      "  File \"<ipython-input-3-90c0f4c34da6>\", line 32, in getStockInfo\n",
      "    soup = BeautifulSoup(html,'html.parser')\n",
      "  File \"C:\\anaconda\\lib\\site-packages\\bs4\\__init__.py\", line 245, in __init__\n",
      "    elif len(markup) <= 256 and (\n",
      "TypeError: object of type 'NoneType' has no len()\n",
      "Traceback (most recent call last):\n",
      "  File \"<ipython-input-3-90c0f4c34da6>\", line 32, in getStockInfo\n",
      "    soup = BeautifulSoup(html,'html.parser')\n",
      "  File \"C:\\anaconda\\lib\\site-packages\\bs4\\__init__.py\", line 245, in __init__\n",
      "    elif len(markup) <= 256 and (\n",
      "TypeError: object of type 'NoneType' has no len()\n",
      "Traceback (most recent call last):\n",
      "  File \"<ipython-input-3-90c0f4c34da6>\", line 32, in getStockInfo\n",
      "    soup = BeautifulSoup(html,'html.parser')\n",
      "  File \"C:\\anaconda\\lib\\site-packages\\bs4\\__init__.py\", line 245, in __init__\n",
      "    elif len(markup) <= 256 and (\n",
      "TypeError: object of type 'NoneType' has no len()\n",
      "Traceback (most recent call last):\n",
      "  File \"<ipython-input-3-90c0f4c34da6>\", line 32, in getStockInfo\n",
      "    soup = BeautifulSoup(html,'html.parser')\n",
      "  File \"C:\\anaconda\\lib\\site-packages\\bs4\\__init__.py\", line 245, in __init__\n",
      "    elif len(markup) <= 256 and (\n",
      "TypeError: object of type 'NoneType' has no len()\n",
      "Traceback (most recent call last):\n",
      "  File \"<ipython-input-3-90c0f4c34da6>\", line 32, in getStockInfo\n",
      "    soup = BeautifulSoup(html,'html.parser')\n",
      "  File \"C:\\anaconda\\lib\\site-packages\\bs4\\__init__.py\", line 245, in __init__\n",
      "    elif len(markup) <= 256 and (\n",
      "TypeError: object of type 'NoneType' has no len()\n",
      "Traceback (most recent call last):\n",
      "  File \"<ipython-input-3-90c0f4c34da6>\", line 32, in getStockInfo\n",
      "    soup = BeautifulSoup(html,'html.parser')\n",
      "  File \"C:\\anaconda\\lib\\site-packages\\bs4\\__init__.py\", line 245, in __init__\n",
      "    elif len(markup) <= 256 and (\n",
      "TypeError: object of type 'NoneType' has no len()\n",
      "Traceback (most recent call last):\n",
      "  File \"<ipython-input-3-90c0f4c34da6>\", line 32, in getStockInfo\n",
      "    soup = BeautifulSoup(html,'html.parser')\n",
      "  File \"C:\\anaconda\\lib\\site-packages\\bs4\\__init__.py\", line 245, in __init__\n",
      "    elif len(markup) <= 256 and (\n",
      "TypeError: object of type 'NoneType' has no len()\n",
      "Traceback (most recent call last):\n",
      "  File \"<ipython-input-3-90c0f4c34da6>\", line 32, in getStockInfo\n",
      "    soup = BeautifulSoup(html,'html.parser')\n",
      "  File \"C:\\anaconda\\lib\\site-packages\\bs4\\__init__.py\", line 245, in __init__\n",
      "    elif len(markup) <= 256 and (\n",
      "TypeError: object of type 'NoneType' has no len()\n",
      "Traceback (most recent call last):\n",
      "  File \"<ipython-input-3-90c0f4c34da6>\", line 32, in getStockInfo\n",
      "    soup = BeautifulSoup(html,'html.parser')\n",
      "  File \"C:\\anaconda\\lib\\site-packages\\bs4\\__init__.py\", line 245, in __init__\n",
      "    elif len(markup) <= 256 and (\n",
      "TypeError: object of type 'NoneType' has no len()\n",
      "Traceback (most recent call last):\n",
      "  File \"<ipython-input-3-90c0f4c34da6>\", line 32, in getStockInfo\n",
      "    soup = BeautifulSoup(html,'html.parser')\n",
      "  File \"C:\\anaconda\\lib\\site-packages\\bs4\\__init__.py\", line 245, in __init__\n",
      "    elif len(markup) <= 256 and (\n",
      "TypeError: object of type 'NoneType' has no len()\n"
     ]
    },
    {
     "name": "stdout",
     "output_type": "stream",
     "text": [
      "\n",
      "当前进度：16.91%\n",
      "\n",
      "当前进度：16.93%\n",
      "\n",
      "当前进度：16.95%\n",
      "\n",
      "当前进度：16.97%\n",
      "\n",
      "当前进度：16.99%\n",
      "\n",
      "当前进度：17.01%\n",
      "\n",
      "当前进度：17.04%\n",
      "\n",
      "当前进度：17.06%\n",
      "\n",
      "当前进度：17.08%\n",
      "\n",
      "当前进度：17.10%\n",
      "\n",
      "当前进度：17.12%\n",
      "\n",
      "当前进度：17.14%\n",
      "\n",
      "当前进度：17.16%\n",
      "\n",
      "当前进度：17.18%\n",
      "\n",
      "当前进度：17.20%\n",
      "\n",
      "当前进度：17.22%\n",
      "\n",
      "当前进度：17.24%\n",
      "\n",
      "当前进度：17.26%\n",
      "\n",
      "当前进度：17.28%\n",
      "\n",
      "当前进度：17.30%\n",
      "当前进度：17.32%\n",
      "当前进度：17.35%\n",
      "当前进度：17.37%\n",
      "当前进度：17.39%\n",
      "\n",
      "当前进度：17.41%\n"
     ]
    },
    {
     "name": "stderr",
     "output_type": "stream",
     "text": [
      "Traceback (most recent call last):\n",
      "  File \"<ipython-input-3-90c0f4c34da6>\", line 32, in getStockInfo\n",
      "    soup = BeautifulSoup(html,'html.parser')\n",
      "  File \"C:\\anaconda\\lib\\site-packages\\bs4\\__init__.py\", line 245, in __init__\n",
      "    elif len(markup) <= 256 and (\n",
      "TypeError: object of type 'NoneType' has no len()\n"
     ]
    },
    {
     "name": "stdout",
     "output_type": "stream",
     "text": [
      "当前进度：17.43%\n",
      "当前进度：17.45%\n",
      "当前进度：17.47%\n",
      "当前进度：17.49%\n",
      "当前进度：17.51%\n",
      "当前进度：17.53%\n",
      "当前进度：17.55%\n",
      "当前进度：17.57%\n",
      "当前进度：17.59%\n",
      "当前进度：17.61%\n",
      "当前进度：17.63%\n",
      "当前进度：17.66%\n"
     ]
    },
    {
     "name": "stderr",
     "output_type": "stream",
     "text": [
      "Traceback (most recent call last):\n",
      "  File \"<ipython-input-3-90c0f4c34da6>\", line 36, in getStockInfo\n",
      "    name = stockInfo.find_all(attrs={'class':'bets-name'})[0]# 根据find()返回结果，继续细分\n",
      "AttributeError: 'NoneType' object has no attribute 'find_all'\n"
     ]
    },
    {
     "name": "stdout",
     "output_type": "stream",
     "text": [
      "当前进度：17.68%\n",
      "当前进度：17.70%\n",
      "当前进度：17.72%\n",
      "当前进度：17.74%\n",
      "当前进度：17.76%\n",
      "当前进度：17.78%\n",
      "当前进度：17.80%\n",
      "当前进度：17.82%\n",
      "当前进度：17.84%\n",
      "当前进度：17.86%\n",
      "\n",
      "当前进度：17.88%\n"
     ]
    },
    {
     "name": "stderr",
     "output_type": "stream",
     "text": [
      "Traceback (most recent call last):\n",
      "  File \"<ipython-input-3-90c0f4c34da6>\", line 32, in getStockInfo\n",
      "    soup = BeautifulSoup(html,'html.parser')\n",
      "  File \"C:\\anaconda\\lib\\site-packages\\bs4\\__init__.py\", line 245, in __init__\n",
      "    elif len(markup) <= 256 and (\n",
      "TypeError: object of type 'NoneType' has no len()\n"
     ]
    },
    {
     "name": "stdout",
     "output_type": "stream",
     "text": [
      "\n",
      "\r",
      "当前进度：17.90%\n"
     ]
    },
    {
     "name": "stderr",
     "output_type": "stream",
     "text": [
      "Traceback (most recent call last):\n",
      "  File \"<ipython-input-3-90c0f4c34da6>\", line 32, in getStockInfo\n",
      "    soup = BeautifulSoup(html,'html.parser')\n",
      "  File \"C:\\anaconda\\lib\\site-packages\\bs4\\__init__.py\", line 245, in __init__\n",
      "    elif len(markup) <= 256 and (\n",
      "TypeError: object of type 'NoneType' has no len()\n"
     ]
    },
    {
     "name": "stdout",
     "output_type": "stream",
     "text": [
      "当前进度：17.92%\n",
      "当前进度：17.95%\n",
      "\n",
      "当前进度：17.97%\n"
     ]
    },
    {
     "name": "stderr",
     "output_type": "stream",
     "text": [
      "Traceback (most recent call last):\n",
      "  File \"<ipython-input-3-90c0f4c34da6>\", line 32, in getStockInfo\n",
      "    soup = BeautifulSoup(html,'html.parser')\n",
      "  File \"C:\\anaconda\\lib\\site-packages\\bs4\\__init__.py\", line 245, in __init__\n",
      "    elif len(markup) <= 256 and (\n",
      "TypeError: object of type 'NoneType' has no len()\n"
     ]
    },
    {
     "name": "stdout",
     "output_type": "stream",
     "text": [
      "当前进度：17.99%\n",
      "当前进度：18.01%\n",
      "当前进度：18.03%\n",
      "当前进度：18.05%\n",
      "当前进度：18.07%\n",
      "当前进度：18.09%\n",
      "当前进度：18.11%\n",
      "当前进度：18.13%\n",
      "当前进度：18.15%\n"
     ]
    },
    {
     "name": "stderr",
     "output_type": "stream",
     "text": [
      "Traceback (most recent call last):\n",
      "  File \"<ipython-input-3-90c0f4c34da6>\", line 36, in getStockInfo\n",
      "    name = stockInfo.find_all(attrs={'class':'bets-name'})[0]# 根据find()返回结果，继续细分\n",
      "AttributeError: 'NoneType' object has no attribute 'find_all'\n"
     ]
    },
    {
     "name": "stdout",
     "output_type": "stream",
     "text": [
      "当前进度：18.17%\n",
      "当前进度：18.19%\n",
      "当前进度：18.21%\n",
      "当前进度：18.23%\n",
      "当前进度：18.26%\n",
      "当前进度：18.28%\n",
      "当前进度：18.30%\n",
      "当前进度：18.32%\n",
      "当前进度：18.34%\n",
      "\n",
      "当前进度：18.36%\n"
     ]
    },
    {
     "name": "stderr",
     "output_type": "stream",
     "text": [
      "Traceback (most recent call last):\n",
      "  File \"<ipython-input-3-90c0f4c34da6>\", line 32, in getStockInfo\n",
      "    soup = BeautifulSoup(html,'html.parser')\n",
      "  File \"C:\\anaconda\\lib\\site-packages\\bs4\\__init__.py\", line 245, in __init__\n",
      "    elif len(markup) <= 256 and (\n",
      "TypeError: object of type 'NoneType' has no len()\n"
     ]
    },
    {
     "name": "stdout",
     "output_type": "stream",
     "text": [
      "\n",
      "\r",
      "当前进度：18.38%\n"
     ]
    },
    {
     "name": "stderr",
     "output_type": "stream",
     "text": [
      "Traceback (most recent call last):\n",
      "  File \"<ipython-input-3-90c0f4c34da6>\", line 32, in getStockInfo\n",
      "    soup = BeautifulSoup(html,'html.parser')\n",
      "  File \"C:\\anaconda\\lib\\site-packages\\bs4\\__init__.py\", line 245, in __init__\n",
      "    elif len(markup) <= 256 and (\n",
      "TypeError: object of type 'NoneType' has no len()\n"
     ]
    },
    {
     "name": "stdout",
     "output_type": "stream",
     "text": [
      "当前进度：18.40%\n",
      "当前进度：18.42%\n",
      "\n",
      "当前进度：18.44%\n"
     ]
    },
    {
     "name": "stderr",
     "output_type": "stream",
     "text": [
      "Traceback (most recent call last):\n",
      "  File \"<ipython-input-3-90c0f4c34da6>\", line 32, in getStockInfo\n",
      "    soup = BeautifulSoup(html,'html.parser')\n",
      "  File \"C:\\anaconda\\lib\\site-packages\\bs4\\__init__.py\", line 245, in __init__\n",
      "    elif len(markup) <= 256 and (\n",
      "TypeError: object of type 'NoneType' has no len()\n"
     ]
    },
    {
     "name": "stdout",
     "output_type": "stream",
     "text": [
      "当前进度：18.46%\n",
      "当前进度：18.48%\n",
      "当前进度：18.50%\n",
      "当前进度：18.52%\n",
      "当前进度：18.54%\n",
      "当前进度：18.57%\n",
      "当前进度：18.59%\n",
      "当前进度：18.61%\n",
      "当前进度：18.63%\n",
      "\n",
      "当前进度：18.65%\n"
     ]
    },
    {
     "name": "stderr",
     "output_type": "stream",
     "text": [
      "Traceback (most recent call last):\n",
      "  File \"<ipython-input-3-90c0f4c34da6>\", line 32, in getStockInfo\n",
      "    soup = BeautifulSoup(html,'html.parser')\n",
      "  File \"C:\\anaconda\\lib\\site-packages\\bs4\\__init__.py\", line 245, in __init__\n",
      "    elif len(markup) <= 256 and (\n",
      "TypeError: object of type 'NoneType' has no len()\n"
     ]
    },
    {
     "name": "stdout",
     "output_type": "stream",
     "text": [
      "当前进度：18.67%\n",
      "当前进度：18.69%\n",
      "当前进度：18.71%\n",
      "当前进度：18.73%\n",
      "当前进度：18.75%\n",
      "\n",
      "当前进度：18.77%\n"
     ]
    },
    {
     "name": "stderr",
     "output_type": "stream",
     "text": [
      "Traceback (most recent call last):\n",
      "  File \"<ipython-input-3-90c0f4c34da6>\", line 32, in getStockInfo\n",
      "    soup = BeautifulSoup(html,'html.parser')\n",
      "  File \"C:\\anaconda\\lib\\site-packages\\bs4\\__init__.py\", line 245, in __init__\n",
      "    elif len(markup) <= 256 and (\n",
      "TypeError: object of type 'NoneType' has no len()\n"
     ]
    },
    {
     "name": "stdout",
     "output_type": "stream",
     "text": [
      "当前进度：18.79%\n",
      "当前进度：18.81%\n",
      "\n",
      "当前进度：18.83%\n"
     ]
    },
    {
     "name": "stderr",
     "output_type": "stream",
     "text": [
      "Traceback (most recent call last):\n",
      "  File \"<ipython-input-3-90c0f4c34da6>\", line 32, in getStockInfo\n",
      "    soup = BeautifulSoup(html,'html.parser')\n",
      "  File \"C:\\anaconda\\lib\\site-packages\\bs4\\__init__.py\", line 245, in __init__\n",
      "    elif len(markup) <= 256 and (\n",
      "TypeError: object of type 'NoneType' has no len()\n"
     ]
    },
    {
     "name": "stdout",
     "output_type": "stream",
     "text": [
      "当前进度：18.85%\n",
      "当前进度：18.88%\n",
      "当前进度：18.90%\n",
      "当前进度：18.92%\n",
      "当前进度：18.94%\n",
      "当前进度：18.96%\n",
      "当前进度：18.98%\n",
      "当前进度：19.00%\n",
      "当前进度：19.02%\n",
      "当前进度：19.04%\n",
      "当前进度：19.06%\n",
      "当前进度：19.08%\n",
      "当前进度：19.10%\n",
      "当前进度：19.12%\n",
      "当前进度：19.14%\n"
     ]
    },
    {
     "name": "stderr",
     "output_type": "stream",
     "text": [
      "Traceback (most recent call last):\n",
      "  File \"<ipython-input-3-90c0f4c34da6>\", line 36, in getStockInfo\n",
      "    name = stockInfo.find_all(attrs={'class':'bets-name'})[0]# 根据find()返回结果，继续细分\n",
      "AttributeError: 'NoneType' object has no attribute 'find_all'\n"
     ]
    },
    {
     "name": "stdout",
     "output_type": "stream",
     "text": [
      "当前进度：19.16%\n",
      "\n",
      "当前进度：19.19%\n"
     ]
    },
    {
     "name": "stderr",
     "output_type": "stream",
     "text": [
      "Traceback (most recent call last):\n",
      "  File \"<ipython-input-3-90c0f4c34da6>\", line 32, in getStockInfo\n",
      "    soup = BeautifulSoup(html,'html.parser')\n",
      "  File \"C:\\anaconda\\lib\\site-packages\\bs4\\__init__.py\", line 245, in __init__\n",
      "    elif len(markup) <= 256 and (\n",
      "TypeError: object of type 'NoneType' has no len()\n"
     ]
    },
    {
     "name": "stdout",
     "output_type": "stream",
     "text": [
      "当前进度：19.21%\n",
      "当前进度：19.23%\n",
      "当前进度：19.25%\n",
      "当前进度：19.27%\n",
      "当前进度：19.29%\n",
      "\n",
      "当前进度：19.31%\n"
     ]
    },
    {
     "name": "stderr",
     "output_type": "stream",
     "text": [
      "Traceback (most recent call last):\n",
      "  File \"<ipython-input-3-90c0f4c34da6>\", line 32, in getStockInfo\n",
      "    soup = BeautifulSoup(html,'html.parser')\n",
      "  File \"C:\\anaconda\\lib\\site-packages\\bs4\\__init__.py\", line 245, in __init__\n",
      "    elif len(markup) <= 256 and (\n",
      "TypeError: object of type 'NoneType' has no len()\n"
     ]
    },
    {
     "name": "stdout",
     "output_type": "stream",
     "text": [
      "当前进度：19.33%\n",
      "当前进度：19.35%\n",
      "当前进度：19.37%\n",
      "当前进度：19.39%\n",
      "当前进度：19.41%\n",
      "当前进度：19.43%\n",
      "当前进度：19.45%\n",
      "当前进度：19.47%\n",
      "当前进度：19.50%\n",
      "当前进度：19.52%\n",
      "当前进度：19.54%\n",
      "当前进度：19.56%\n",
      "当前进度：19.58%\n",
      "\n",
      "当前进度：19.60%\n"
     ]
    },
    {
     "name": "stderr",
     "output_type": "stream",
     "text": [
      "Traceback (most recent call last):\n",
      "  File \"<ipython-input-3-90c0f4c34da6>\", line 32, in getStockInfo\n",
      "    soup = BeautifulSoup(html,'html.parser')\n",
      "  File \"C:\\anaconda\\lib\\site-packages\\bs4\\__init__.py\", line 245, in __init__\n",
      "    elif len(markup) <= 256 and (\n",
      "TypeError: object of type 'NoneType' has no len()\n"
     ]
    },
    {
     "name": "stdout",
     "output_type": "stream",
     "text": [
      "\n",
      "\r",
      "当前进度：19.62%\n"
     ]
    },
    {
     "name": "stderr",
     "output_type": "stream",
     "text": [
      "Traceback (most recent call last):\n",
      "  File \"<ipython-input-3-90c0f4c34da6>\", line 32, in getStockInfo\n",
      "    soup = BeautifulSoup(html,'html.parser')\n",
      "  File \"C:\\anaconda\\lib\\site-packages\\bs4\\__init__.py\", line 245, in __init__\n",
      "    elif len(markup) <= 256 and (\n",
      "TypeError: object of type 'NoneType' has no len()\n"
     ]
    },
    {
     "name": "stdout",
     "output_type": "stream",
     "text": [
      "当前进度：19.64%\n",
      "\n",
      "当前进度：19.66%\n"
     ]
    },
    {
     "name": "stderr",
     "output_type": "stream",
     "text": [
      "Traceback (most recent call last):\n",
      "  File \"<ipython-input-3-90c0f4c34da6>\", line 32, in getStockInfo\n",
      "    soup = BeautifulSoup(html,'html.parser')\n",
      "  File \"C:\\anaconda\\lib\\site-packages\\bs4\\__init__.py\", line 245, in __init__\n",
      "    elif len(markup) <= 256 and (\n",
      "TypeError: object of type 'NoneType' has no len()\n"
     ]
    },
    {
     "name": "stdout",
     "output_type": "stream",
     "text": [
      "\r",
      "当前进度：19.68%\n"
     ]
    }
   ],
   "source": [
    "# 看看readme.md文件还在否\n",
    "def getHTMLText(url,code='utf-8'):\n",
    "    try:\n",
    "        html = req.get(url,timeout=30,headers = {'user-agent':'Mozilla/5.0 '})\n",
    "        html.raise_for_status()\n",
    "        html.encoding = code # 每次根据网页内容来识别编码，解析整个网页，消耗较大资源，这次默认以utf8来编码\n",
    "        return html.text# 一般返回访问网页内容的字符串形式\n",
    "    except:\n",
    "        print('')\n",
    "        \n",
    "        \n",
    "def getStocklist(slist,StockUrl):# 批量获取股票代码，为访问股市通的个股准备\n",
    "    html = getHTMLText(StockUrl,'gb2313')\n",
    "    soup = BeautifulSoup(html,'html.parser')\n",
    "    a = soup.find_all('a')\n",
    "    for i in a:\n",
    "        try:\n",
    "            href = i.attrs['href']# bs4库的对象有attrs内置方法，可返回指定属性的值\n",
    "            slist.append(re.findall(r'[s][hz]\\d{6}',href)[0])# re库正则表达式匹配，返回列表，列表元素是符合匹配的字符\n",
    "        except:\n",
    "            continue\n",
    "    \n",
    "    \n",
    "def getStockInfo(slist,InfoUrl,fpath):\n",
    "    count = 0\n",
    "    for stock in slist:\n",
    "        url = InfoUrl+stock+'.html'\n",
    "        html = getHTMLText(url)\n",
    "        try:\n",
    "            if html=='':\n",
    "                continue\n",
    "            infoDict = {}\n",
    "            soup = BeautifulSoup(html,'html.parser')\n",
    "            stockInfo = soup.find('div',attrs={'class':'stock-bets'})# 唯一的区别是 find_all() 方法的返回结果是值包含一个元素的列表,\n",
    "            # 而 find() 方法直接返回结果（bs4.element.Tag，bs4的实例对象）.且find()用于仅有一个独特标签的检索\n",
    " \n",
    "            name = stockInfo.find_all(attrs={'class':'bets-name'})[0]# 根据find()返回结果，继续细分\n",
    "            infoDict.update({'股票名称':name.text.split()[0]})#  .text内置方法，以字符串形式返回find_all()结果\n",
    "            \n",
    "            keyList = stockInfo.find_all('dt')# find_all()，返回bs4实例对象的迭代器\n",
    "            valueList = stockInfo.find_all('dd')\n",
    "\n",
    "            for i in range(len(keyList)):\n",
    "                key = keyList[i].text\n",
    "                val = valueList[i].text\n",
    "                infoDict[key] = val\n",
    "            with open(fpath,'a',encoding='utf8') as f:\n",
    "                f.write(str(infoDict) + '\\n')\n",
    "                count +=1\n",
    "                print('\\r当前进度：{:.2f}%'.format(count*100/len(slist),end=''))\n",
    "           \n",
    "        except:\n",
    "            traceback.print_exc()# traceback调试程序的模块，打印异常\n",
    "            count +=1\n",
    "            print('\\r当前进度：{:.2f}%'.format(count*100/len(slist),end=''))            \n",
    "            continue\n",
    "            \n",
    "def admin():\n",
    "    ListUrl = 'http://quote.eastmoney.com/stocklist.html'\n",
    "    InfoUrl = 'https://gupiao.baidu.com/stock/'# 需要拼接的url，后面记得加上/\n",
    "    fpath = 'd://BaiDuSharesInfo.txt'\n",
    "    slist = []\n",
    "    getStocklist(slist,ListUrl)\n",
    "    getStockInfo(slist,InfoUrl,fpath)\n",
    "    \n",
    "if __name__=='__main__':\n",
    "    admin()"
   ]
  },
  {
   "cell_type": "code",
   "execution_count": null,
   "metadata": {},
   "outputs": [],
   "source": []
  }
 ],
 "metadata": {
  "kernelspec": {
   "display_name": "Python 3",
   "language": "python",
   "name": "python3"
  },
  "language_info": {
   "codemirror_mode": {
    "name": "ipython",
    "version": 3
   },
   "file_extension": ".py",
   "mimetype": "text/x-python",
   "name": "python",
   "nbconvert_exporter": "python",
   "pygments_lexer": "ipython3",
   "version": "3.7.0"
  }
 },
 "nbformat": 4,
 "nbformat_minor": 2
}
