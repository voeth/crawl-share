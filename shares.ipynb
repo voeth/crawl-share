{
 "cells": [
  {
   "cell_type": "code",
   "execution_count": null,
   "metadata": {},
   "outputs": [],
   "source": [
    "import requests\n",
    "from bs4 import BeautifulSoup\n",
    "import traceback\n",
    "import re"
   ]
  },
  {
   "cell_type": "code",
   "execution_count": null,
   "metadata": {},
   "outputs": [],
   "source": [
    "def getHTMLText(url):\n",
    "    pass\n",
    "\n",
    "def getStocklist(lst,StockUrl):\n",
    "    pass\n",
    "\n",
    "def getStockInfo(lst,StockUrl,fpath):\n",
    "    pass\n",
    "\n",
    "def admin():\n",
    "    ListUrl = 'http://quote.eastmoney.com/stocklist.html'\n",
    "    InfoUrl = 'https://gupiao.baidu.com/stock'\n",
    "    fpath = 'd://BaiDuSharesInfo.txt'\n",
    "    slist = []"
   ]
  }
 ],
 "metadata": {
  "kernelspec": {
   "display_name": "Python 3",
   "language": "python",
   "name": "python3"
  },
  "language_info": {
   "codemirror_mode": {
    "name": "ipython",
    "version": 3
   },
   "file_extension": ".py",
   "mimetype": "text/x-python",
   "name": "python",
   "nbconvert_exporter": "python",
   "pygments_lexer": "ipython3",
   "version": "3.7.0"
  }
 },
 "nbformat": 4,
 "nbformat_minor": 2
}
